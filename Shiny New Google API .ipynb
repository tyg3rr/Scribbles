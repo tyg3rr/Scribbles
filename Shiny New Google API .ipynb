{
 "cells": [
  {
   "cell_type": "code",
   "execution_count": 1,
   "metadata": {},
   "outputs": [],
   "source": [
    "import pandas as pd\n",
    "import seaborn as sns\n",
    "from datetime import datetime\n",
    "import googleapiclient.discovery\n",
    "import configparser\n",
    "cfg = configparser.ConfigParser()\n",
    "cfg.read(\"secrets.ini\")\n",
    "my_key=cfg.get(\"default\", \"gtrends_apikey\")"
   ]
  },
  {
   "cell_type": "code",
   "execution_count": 14,
   "metadata": {},
   "outputs": [],
   "source": [
    "SERVER = 'https://trends.googleapis.com'\n",
    "VERSION = 'v1beta'\n",
    "DISCOVERY_URL_SUFFIX = '/$discovery/rest?version=' + VERSION\n",
    "DISCOVERY_URL = SERVER + DISCOVERY_URL_SUFFIX"
   ]
  },
  {
   "cell_type": "code",
   "execution_count": 53,
   "metadata": {},
   "outputs": [],
   "source": [
    "service = googleapiclient.discovery.build('trends',VERSION,developerKey=my_key\n",
    "                                         , discoveryServiceUrl=DISCOVERY_URL)"
   ]
  },
  {
   "cell_type": "code",
   "execution_count": 16,
   "metadata": {},
   "outputs": [
    {
     "data": {
      "text/plain": [
       "{'lines': [{'term': 'apple',\n",
       "   'points': [{'value': 20, 'date': '2004-01-01'},\n",
       "    {'value': 18, 'date': '2004-02-01'},\n",
       "    {'value': 17, 'date': '2004-03-01'},\n",
       "    {'value': 18, 'date': '2004-04-01'},\n",
       "    {'value': 17, 'date': '2004-05-01'},\n",
       "    {'value': 19, 'date': '2004-06-01'},\n",
       "    {'value': 20, 'date': '2004-07-01'},\n",
       "    {'value': 20, 'date': '2004-08-01'},\n",
       "    {'value': 22, 'date': '2004-09-01'},\n",
       "    {'value': 24, 'date': '2004-10-01'},\n",
       "    {'value': 22, 'date': '2004-11-01'},\n",
       "    {'value': 23, 'date': '2004-12-01'},\n",
       "    {'value': 28, 'date': '2005-01-01'},\n",
       "    {'value': 24, 'date': '2005-02-01'},\n",
       "    {'value': 23, 'date': '2005-03-01'},\n",
       "    {'value': 22, 'date': '2005-04-01'},\n",
       "    {'value': 23, 'date': '2005-05-01'},\n",
       "    {'value': 23, 'date': '2005-06-01'},\n",
       "    {'value': 22, 'date': '2005-07-01'},\n",
       "    {'value': 24, 'date': '2005-08-01'},\n",
       "    {'value': 29, 'date': '2005-09-01'},\n",
       "    {'value': 30, 'date': '2005-10-01'},\n",
       "    {'value': 27, 'date': '2005-11-01'},\n",
       "    {'value': 29, 'date': '2005-12-01'},\n",
       "    {'value': 27, 'date': '2006-01-01'},\n",
       "    {'value': 23, 'date': '2006-02-01'},\n",
       "    {'value': 22, 'date': '2006-03-01'},\n",
       "    {'value': 22, 'date': '2006-04-01'},\n",
       "    {'value': 22, 'date': '2006-05-01'},\n",
       "    {'value': 21, 'date': '2006-06-01'},\n",
       "    {'value': 23, 'date': '2006-07-01'},\n",
       "    {'value': 25, 'date': '2006-08-01'},\n",
       "    {'value': 31, 'date': '2006-09-01'},\n",
       "    {'value': 29, 'date': '2006-10-01'},\n",
       "    {'value': 28, 'date': '2006-11-01'},\n",
       "    {'value': 28, 'date': '2006-12-01'},\n",
       "    {'value': 32, 'date': '2007-01-01'},\n",
       "    {'value': 25, 'date': '2007-02-01'},\n",
       "    {'value': 24, 'date': '2007-03-01'},\n",
       "    {'value': 23, 'date': '2007-04-01'},\n",
       "    {'value': 22, 'date': '2007-05-01'},\n",
       "    {'value': 25, 'date': '2007-06-01'},\n",
       "    {'value': 26, 'date': '2007-07-01'},\n",
       "    {'value': 25, 'date': '2007-08-01'},\n",
       "    {'value': 33, 'date': '2007-09-01'},\n",
       "    {'value': 32, 'date': '2007-10-01'},\n",
       "    {'value': 32, 'date': '2007-11-01'},\n",
       "    {'value': 33, 'date': '2007-12-01'},\n",
       "    {'value': 31, 'date': '2008-01-01'},\n",
       "    {'value': 29, 'date': '2008-02-01'},\n",
       "    {'value': 28, 'date': '2008-03-01'},\n",
       "    {'value': 26, 'date': '2008-04-01'},\n",
       "    {'value': 25, 'date': '2008-05-01'},\n",
       "    {'value': 28, 'date': '2008-06-01'},\n",
       "    {'value': 31, 'date': '2008-07-01'},\n",
       "    {'value': 29, 'date': '2008-08-01'},\n",
       "    {'value': 32, 'date': '2008-09-01'},\n",
       "    {'value': 32, 'date': '2008-10-01'},\n",
       "    {'value': 30, 'date': '2008-11-01'},\n",
       "    {'value': 32, 'date': '2008-12-01'},\n",
       "    {'value': 28, 'date': '2009-01-01'},\n",
       "    {'value': 25, 'date': '2009-02-01'},\n",
       "    {'value': 26, 'date': '2009-03-01'},\n",
       "    {'value': 24, 'date': '2009-04-01'},\n",
       "    {'value': 23, 'date': '2009-05-01'},\n",
       "    {'value': 29, 'date': '2009-06-01'},\n",
       "    {'value': 26, 'date': '2009-07-01'},\n",
       "    {'value': 27, 'date': '2009-08-01'},\n",
       "    {'value': 31, 'date': '2009-09-01'},\n",
       "    {'value': 32, 'date': '2009-10-01'},\n",
       "    {'value': 32, 'date': '2009-11-01'},\n",
       "    {'value': 31, 'date': '2009-12-01'},\n",
       "    {'value': 38, 'date': '2010-01-01'},\n",
       "    {'value': 27, 'date': '2010-02-01'},\n",
       "    {'value': 26, 'date': '2010-03-01'},\n",
       "    {'value': 31, 'date': '2010-04-01'},\n",
       "    {'value': 29, 'date': '2010-05-01'},\n",
       "    {'value': 37, 'date': '2010-06-01'},\n",
       "    {'value': 33, 'date': '2010-07-01'},\n",
       "    {'value': 32, 'date': '2010-08-01'},\n",
       "    {'value': 39, 'date': '2010-09-01'},\n",
       "    {'value': 38, 'date': '2010-10-01'},\n",
       "    {'value': 39, 'date': '2010-11-01'},\n",
       "    {'value': 38, 'date': '2010-12-01'},\n",
       "    {'value': 36, 'date': '2011-01-01'},\n",
       "    {'value': 31, 'date': '2011-02-01'},\n",
       "    {'value': 39, 'date': '2011-03-01'},\n",
       "    {'value': 34, 'date': '2011-04-01'},\n",
       "    {'value': 34, 'date': '2011-05-01'},\n",
       "    {'value': 35, 'date': '2011-06-01'},\n",
       "    {'value': 36, 'date': '2011-07-01'},\n",
       "    {'value': 38, 'date': '2011-08-01'},\n",
       "    {'value': 38, 'date': '2011-09-01'},\n",
       "    {'value': 69, 'date': '2011-10-01'},\n",
       "    {'value': 46, 'date': '2011-11-01'},\n",
       "    {'value': 47, 'date': '2011-12-01'},\n",
       "    {'value': 41, 'date': '2012-01-01'},\n",
       "    {'value': 34, 'date': '2012-02-01'},\n",
       "    {'value': 45, 'date': '2012-03-01'},\n",
       "    {'value': 35, 'date': '2012-04-01'},\n",
       "    {'value': 34, 'date': '2012-05-01'},\n",
       "    {'value': 38, 'date': '2012-06-01'},\n",
       "    {'value': 36, 'date': '2012-07-01'},\n",
       "    {'value': 38, 'date': '2012-08-01'},\n",
       "    {'value': 66, 'date': '2012-09-01'},\n",
       "    {'value': 52, 'date': '2012-10-01'},\n",
       "    {'value': 48, 'date': '2012-11-01'},\n",
       "    {'value': 47, 'date': '2012-12-01'},\n",
       "    {'value': 39, 'date': '2013-01-01'},\n",
       "    {'value': 37, 'date': '2013-02-01'},\n",
       "    {'value': 34, 'date': '2013-03-01'},\n",
       "    {'value': 32, 'date': '2013-04-01'},\n",
       "    {'value': 30, 'date': '2013-05-01'},\n",
       "    {'value': 36, 'date': '2013-06-01'},\n",
       "    {'value': 32, 'date': '2013-07-01'},\n",
       "    {'value': 36, 'date': '2013-08-01'},\n",
       "    {'value': 53, 'date': '2013-09-01'},\n",
       "    {'value': 45, 'date': '2013-10-01'},\n",
       "    {'value': 43, 'date': '2013-11-01'},\n",
       "    {'value': 42, 'date': '2013-12-01'},\n",
       "    {'value': 36, 'date': '2014-01-01'},\n",
       "    {'value': 34, 'date': '2014-02-01'},\n",
       "    {'value': 31, 'date': '2014-03-01'},\n",
       "    {'value': 30, 'date': '2014-04-01'},\n",
       "    {'value': 30, 'date': '2014-05-01'},\n",
       "    {'value': 31, 'date': '2014-06-01'},\n",
       "    {'value': 30, 'date': '2014-07-01'},\n",
       "    {'value': 33, 'date': '2014-08-01'},\n",
       "    {'value': 63, 'date': '2014-09-01'},\n",
       "    {'value': 47, 'date': '2014-10-01'},\n",
       "    {'value': 41, 'date': '2014-11-01'},\n",
       "    {'value': 40, 'date': '2014-12-01'},\n",
       "    {'value': 35, 'date': '2015-01-01'},\n",
       "    {'value': 34, 'date': '2015-02-01'},\n",
       "    {'value': 41, 'date': '2015-03-01'},\n",
       "    {'value': 37, 'date': '2015-04-01'},\n",
       "    {'value': 34, 'date': '2015-05-01'},\n",
       "    {'value': 37, 'date': '2015-06-01'},\n",
       "    {'value': 38, 'date': '2015-07-01'},\n",
       "    {'value': 37, 'date': '2015-08-01'},\n",
       "    {'value': 52, 'date': '2015-09-01'},\n",
       "    {'value': 45, 'date': '2015-10-01'},\n",
       "    {'value': 42, 'date': '2015-11-01'},\n",
       "    {'value': 41, 'date': '2015-12-01'},\n",
       "    {'value': 37, 'date': '2016-01-01'},\n",
       "    {'value': 33, 'date': '2016-02-01'},\n",
       "    {'value': 36, 'date': '2016-03-01'},\n",
       "    {'value': 34, 'date': '2016-04-01'},\n",
       "    {'value': 34, 'date': '2016-05-01'},\n",
       "    {'value': 32, 'date': '2016-06-01'},\n",
       "    {'value': 33, 'date': '2016-07-01'},\n",
       "    {'value': 33, 'date': '2016-08-01'},\n",
       "    {'value': 53, 'date': '2016-09-01'},\n",
       "    {'value': 48, 'date': '2016-10-01'},\n",
       "    {'value': 44, 'date': '2016-11-01'},\n",
       "    {'value': 41, 'date': '2016-12-01'},\n",
       "    {'value': 38, 'date': '2017-01-01'},\n",
       "    {'value': 34, 'date': '2017-02-01'},\n",
       "    {'value': 35, 'date': '2017-03-01'},\n",
       "    {'value': 34, 'date': '2017-04-01'},\n",
       "    {'value': 32, 'date': '2017-05-01'},\n",
       "    {'value': 35, 'date': '2017-06-01'},\n",
       "    {'value': 36, 'date': '2017-07-01'},\n",
       "    {'value': 35, 'date': '2017-08-01'},\n",
       "    {'value': 51, 'date': '2017-09-01'},\n",
       "    {'value': 45, 'date': '2017-10-01'},\n",
       "    {'value': 49, 'date': '2017-11-01'},\n",
       "    {'value': 48, 'date': '2017-12-01'},\n",
       "    {'value': 40, 'date': '2018-01-01'},\n",
       "    {'value': 38, 'date': '2018-02-01'},\n",
       "    {'value': 36, 'date': '2018-03-01'},\n",
       "    {'value': 35, 'date': '2018-04-01'},\n",
       "    {'value': 34, 'date': '2018-05-01'},\n",
       "    {'value': 35, 'date': '2018-06-01'},\n",
       "    {'value': 35, 'date': '2018-07-01'},\n",
       "    {'value': 37, 'date': '2018-08-01'},\n",
       "    {'value': 52, 'date': '2018-09-01'},\n",
       "    {'value': 43, 'date': '2018-10-01'},\n",
       "    {'value': 48, 'date': '2018-11-01'},\n",
       "    {'value': 45, 'date': '2018-12-01'},\n",
       "    {'value': 38, 'date': '2019-01-01'},\n",
       "    {'value': 35, 'date': '2019-02-01'},\n",
       "    {'value': 36, 'date': '2019-03-01'},\n",
       "    {'value': 34, 'date': '2019-04-01'},\n",
       "    {'value': 33, 'date': '2019-05-01'},\n",
       "    {'value': 36, 'date': '2019-06-01'},\n",
       "    {'value': 35, 'date': '2019-07-01'},\n",
       "    {'value': 42, 'date': '2019-08-01'},\n",
       "    {'value': 100, 'date': '2019-09-01'},\n",
       "    {'value': 45, 'date': '2019-10-01'},\n",
       "    {'value': 49, 'date': '2019-11-01'},\n",
       "    {'value': 48, 'date': '2019-12-01'},\n",
       "    {'value': 41, 'date': '2020-01-01'},\n",
       "    {'value': 36, 'date': '2020-02-01'},\n",
       "    {'value': 36, 'date': '2020-03-01'},\n",
       "    {'value': 42, 'date': '2020-04-01'},\n",
       "    {'value': 41, 'date': '2020-05-01'},\n",
       "    {'value': 41, 'date': '2020-06-01'},\n",
       "    {'value': 42, 'date': '2020-07-01'},\n",
       "    {'value': 45, 'date': '2020-08-01'},\n",
       "    {'value': 53, 'date': '2020-09-01'},\n",
       "    {'value': 51, 'date': '2020-10-01'},\n",
       "    {'value': 49, 'date': '2020-11-01'},\n",
       "    {'value': 50, 'date': '2020-12-01'},\n",
       "    {'value': 40, 'date': '2021-01-01'},\n",
       "    {'value': 39, 'date': '2021-02-01'},\n",
       "    {'value': 38, 'date': '2021-03-01'},\n",
       "    {'value': 37, 'date': '2021-04-01'},\n",
       "    {'value': 38, 'date': '2021-05-01'},\n",
       "    {'value': 38, 'date': '2021-06-01'},\n",
       "    {'value': 38, 'date': '2021-07-01'},\n",
       "    {'value': 40, 'date': '2021-08-01'},\n",
       "    {'value': 49, 'date': '2021-09-01'},\n",
       "    {'value': 48, 'date': '2021-10-01'},\n",
       "    {'value': 49, 'date': '2021-11-01'},\n",
       "    {'value': 48, 'date': '2021-12-01'},\n",
       "    {'value': 50, 'date': '2022-01-01'},\n",
       "    {'value': 40, 'date': '2022-02-01'},\n",
       "    {'value': 41, 'date': '2022-03-01'},\n",
       "    {'value': 40, 'date': '2022-04-01'},\n",
       "    {'value': 39, 'date': '2022-05-01'},\n",
       "    {'value': 42, 'date': '2022-06-01'},\n",
       "    {'value': 44, 'date': '2022-07-01'},\n",
       "    {'value': 44, 'date': '2022-08-01'},\n",
       "    {'value': 55, 'date': '2022-09-01'},\n",
       "    {'value': 47, 'date': '2022-10-01'},\n",
       "    {'value': 48, 'date': '2022-11-01'},\n",
       "    {'value': 46, 'date': '2022-12-01'},\n",
       "    {'value': 44, 'date': '2023-01-01'},\n",
       "    {'value': 42, 'date': '2023-02-01'},\n",
       "    {'value': 37, 'date': '2023-03-01'},\n",
       "    {'value': 39, 'date': '2023-04-01'},\n",
       "    {'value': 37, 'date': '2023-05-01'},\n",
       "    {'value': 44, 'date': '2023-06-01'},\n",
       "    {'value': 42, 'date': '2023-07-01'},\n",
       "    {'value': 41, 'date': '2023-08-01'},\n",
       "    {'value': 55, 'date': '2023-09-01'}]}]}"
      ]
     },
     "execution_count": 16,
     "metadata": {},
     "output_type": "execute_result"
    }
   ],
   "source": [
    "service.getGraph(terms='apple').execute()"
   ]
  },
  {
   "cell_type": "code",
   "execution_count": 26,
   "metadata": {},
   "outputs": [],
   "source": [
    "df = pd.DataFrame(service.getGraph(terms='apple').execute())"
   ]
  },
  {
   "cell_type": "code",
   "execution_count": 27,
   "metadata": {},
   "outputs": [
    {
     "data": {
      "text/html": [
       "<div>\n",
       "<style scoped>\n",
       "    .dataframe tbody tr th:only-of-type {\n",
       "        vertical-align: middle;\n",
       "    }\n",
       "\n",
       "    .dataframe tbody tr th {\n",
       "        vertical-align: top;\n",
       "    }\n",
       "\n",
       "    .dataframe thead th {\n",
       "        text-align: right;\n",
       "    }\n",
       "</style>\n",
       "<table border=\"1\" class=\"dataframe\">\n",
       "  <thead>\n",
       "    <tr style=\"text-align: right;\">\n",
       "      <th></th>\n",
       "      <th>lines</th>\n",
       "    </tr>\n",
       "  </thead>\n",
       "  <tbody>\n",
       "    <tr>\n",
       "      <th>0</th>\n",
       "      <td>{'term': 'apple', 'points': [{'value': 20, 'da...</td>\n",
       "    </tr>\n",
       "  </tbody>\n",
       "</table>\n",
       "</div>"
      ],
      "text/plain": [
       "                                               lines\n",
       "0  {'term': 'apple', 'points': [{'value': 20, 'da..."
      ]
     },
     "execution_count": 27,
     "metadata": {},
     "output_type": "execute_result"
    }
   ],
   "source": [
    "df.head()"
   ]
  },
  {
   "cell_type": "code",
   "execution_count": 28,
   "metadata": {},
   "outputs": [
    {
     "data": {
      "text/plain": [
       "dict"
      ]
     },
     "execution_count": 28,
     "metadata": {},
     "output_type": "execute_result"
    }
   ],
   "source": [
    "type(service.getGraph(terms='apple').execute())"
   ]
  },
  {
   "cell_type": "code",
   "execution_count": 40,
   "metadata": {},
   "outputs": [],
   "source": [
    "res=service.getGraph(terms='apple').execute()"
   ]
  },
  {
   "cell_type": "code",
   "execution_count": 43,
   "metadata": {},
   "outputs": [],
   "source": [
    "df = pd.DataFrame(res['lines'][0]['points'])"
   ]
  },
  {
   "cell_type": "code",
   "execution_count": 44,
   "metadata": {},
   "outputs": [
    {
     "data": {
      "text/html": [
       "<div>\n",
       "<style scoped>\n",
       "    .dataframe tbody tr th:only-of-type {\n",
       "        vertical-align: middle;\n",
       "    }\n",
       "\n",
       "    .dataframe tbody tr th {\n",
       "        vertical-align: top;\n",
       "    }\n",
       "\n",
       "    .dataframe thead th {\n",
       "        text-align: right;\n",
       "    }\n",
       "</style>\n",
       "<table border=\"1\" class=\"dataframe\">\n",
       "  <thead>\n",
       "    <tr style=\"text-align: right;\">\n",
       "      <th></th>\n",
       "      <th>value</th>\n",
       "      <th>date</th>\n",
       "    </tr>\n",
       "  </thead>\n",
       "  <tbody>\n",
       "    <tr>\n",
       "      <th>0</th>\n",
       "      <td>20</td>\n",
       "      <td>2004-01-01</td>\n",
       "    </tr>\n",
       "    <tr>\n",
       "      <th>1</th>\n",
       "      <td>18</td>\n",
       "      <td>2004-02-01</td>\n",
       "    </tr>\n",
       "    <tr>\n",
       "      <th>2</th>\n",
       "      <td>17</td>\n",
       "      <td>2004-03-01</td>\n",
       "    </tr>\n",
       "    <tr>\n",
       "      <th>3</th>\n",
       "      <td>18</td>\n",
       "      <td>2004-04-01</td>\n",
       "    </tr>\n",
       "    <tr>\n",
       "      <th>4</th>\n",
       "      <td>17</td>\n",
       "      <td>2004-05-01</td>\n",
       "    </tr>\n",
       "  </tbody>\n",
       "</table>\n",
       "</div>"
      ],
      "text/plain": [
       "   value        date\n",
       "0     20  2004-01-01\n",
       "1     18  2004-02-01\n",
       "2     17  2004-03-01\n",
       "3     18  2004-04-01\n",
       "4     17  2004-05-01"
      ]
     },
     "execution_count": 44,
     "metadata": {},
     "output_type": "execute_result"
    }
   ],
   "source": [
    "df.head()"
   ]
  },
  {
   "cell_type": "code",
   "execution_count": 54,
   "metadata": {},
   "outputs": [
    {
     "data": {
      "text/plain": [
       "<AxesSubplot: >"
      ]
     },
     "execution_count": 54,
     "metadata": {},
     "output_type": "execute_result"
    },
    {
     "data": {
      "image/png": "[encoded data removed]",
      "text/plain": [
       "<Figure size 640x480 with 1 Axes>"
      ]
     },
     "metadata": {},
     "output_type": "display_data"
    }
   ],
   "source": [
    "sns.lineplot(df)"
   ]
  },
  {
   "cell_type": "code",
   "execution_count": 55,
   "metadata": {},
   "outputs": [
    {
     "data": {
      "text/plain": [
       "Index(['value', 'date'], dtype='object')"
      ]
     },
     "execution_count": 55,
     "metadata": {},
     "output_type": "execute_result"
    }
   ],
   "source": [
    "df.columns"
   ]
  },
  {
   "cell_type": "code",
   "execution_count": 58,
   "metadata": {},
   "outputs": [],
   "source": [
    "df['date'] = pd.to_datetime(df['date'])"
   ]
  },
  {
   "cell_type": "code",
   "execution_count": 60,
   "metadata": {},
   "outputs": [
    {
     "data": {
      "text/plain": [
       "<AxesSubplot: xlabel='date', ylabel='value'>"
      ]
     },
     "execution_count": 60,
     "metadata": {},
     "output_type": "execute_result"
    },
    {
     "data": {
      "image/png": "[encoded data removed]",
      "text/plain": [
       "<Figure size 640x480 with 1 Axes>"
      ]
     },
     "metadata": {},
     "output_type": "display_data"
    }
   ],
   "source": [
    "sns.lineplot(x=df['date'],y=df['value'])"
   ]
  },
  {
   "cell_type": "code",
   "execution_count": null,
   "metadata": {},
   "outputs": [],
   "source": []
  }
 ],
 "metadata": {
  "kernelspec": {
   "display_name": "Python 3",
   "language": "python",
   "name": "python3"
  },
  "language_info": {
   "codemirror_mode": {
    "name": "ipython",
    "version": 3
   },
   "file_extension": ".py",
   "mimetype": "text/x-python",
   "name": "python",
   "nbconvert_exporter": "python",
   "pygments_lexer": "ipython3",
   "version": "3.11.5"
  },
  "orig_nbformat": 4
 },
 "nbformat": 4,
 "nbformat_minor": 2
}
