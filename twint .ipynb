{
 "cells": [
  {
   "cell_type": "code",
   "execution_count": 11,
   "metadata": {},
   "outputs": [],
   "source": [
    "import time\n",
    "from selenium import webdriver\n",
    "from selenium.webdriver.common.by import By\n",
    "from selenium.webdriver.common.keys import Keys\n",
    "from selenium.webdriver.support.ui import WebDriverWait\n",
    "from selenium.webdriver.chrome.options import Options\n",
    "from selenium.webdriver import ActionChains\n",
    "from selenium.common.exceptions import StaleElementReferenceException\n",
    "from selenium.common.exceptions import TimeoutException\n",
    "from selenium.webdriver.support import expected_conditions as EC\n",
    "import pandas as pd\n",
    "import os\n",
    "import openpyxl\n",
    "import configparser"
   ]
  },
  {
   "cell_type": "code",
   "execution_count": 12,
   "metadata": {},
   "outputs": [],
   "source": [
    "cfg = configparser.ConfigParser()\n",
    "cfg.read(\"secrets.ini\")\n",
    "email=cfg.get(\"default\", \"twitter_email\")\n",
    "password=cfg.get('default', 'twitter_password')"
   ]
  },
  {
   "cell_type": "code",
   "execution_count": 7,
   "metadata": {},
   "outputs": [],
   "source": [
    "options = Options()\n",
    "options.add_experimental_option(\"detach\", True)\n",
    "options.add_experimental_option(\"excludeSwitches\", [\"enable-automation\"])\n",
    "options.add_experimental_option('useAutomationExtension', False)\n",
    "options.add_argument(\"--disable-blink-features=AutomationControlled\")\n",
    "options.add_argument(\"window_size=1280,800\")\n",
    "options.add_argument(\"--disable-popup-blocking\")\n",
    "options.add_argument(\"--disable-save-password-bubble\")"
   ]
  },
  {
   "cell_type": "code",
   "execution_count": 8,
   "metadata": {},
   "outputs": [],
   "source": [
    "def save_to_excel(data, filename):\n",
    "    if os.path.exists(filename):\n",
    "        df_existing = pd.read_excel(filename, engine='openpyxl')\n",
    "        df_new = pd.DataFrame(data, columns=[\"Tweets\"])\n",
    "        df_combined = pd.concat([df_existing, df_new], ignore_index=True)\n",
    "        df_combined.to_excel(filename, index=False, engine='openpyxl')\n",
    "    else:\n",
    "        df = pd.DataFrame(data, columns=[\"Tweets\"])\n",
    "        df.to_excel(filename, index=False, engine='openpyxl')"
   ]
  },
  {
   "cell_type": "code",
   "execution_count": 69,
   "metadata": {},
   "outputs": [],
   "source": [
    "driver = webdriver.Chrome(options=options)\n",
    "#driver.get(\"https://accounts.google.com/v3/signin/identifier?hl=en_GB&ifkv=AXo7B7VGP4Y_gNfwPri72zV40Ii9kmgYbvLRXoOhOeBNkeBYcMPcPOX_Aolo1vK16FetaA4URMIfUA&flowName=GlifWebSignIn&flowEntry=ServiceLogin&dsh=S-1140670556%3A1692882589574310\")\n",
    "driver.get('https://twitter.com/')"
   ]
  },
  {
   "cell_type": "code",
   "execution_count": 70,
   "metadata": {},
   "outputs": [],
   "source": [
    "driver.find_element(By.XPATH,'//*[@id=\"react-root\"]/div/div/div[2]/main/div/div/div[1]/div/div/div[3]/div[5]/a').click()"
   ]
  },
  {
   "cell_type": "code",
   "execution_count": 68,
   "metadata": {},
   "outputs": [],
   "source": [
    "driver.find_element(By.XPATH,\n",
    "'//*[@id=\"react-root\"]/div/div/div/main/div/div/div/div[2]/div[2]/div/div[5]/label/div/div[2]/div'\n",
    ").click()\n",
    "driver.find_element(By.XPATH,\n",
    "'//*[@id=\"react-root\"]/div/div/div/main/div/div/div/div[2]/div[2]/div/div[5]/label/div/div[2]/div/input'\n",
    ").send_keys(email)\n",
    "time.sleep(3)\n",
    "driver.find_element(By.XPATH,'//*[@id=\"react-root\"]/div/div/div/main/div/div/div/div[2]/div[2]/div/div[6]').click()"
   ]
  },
  {
   "cell_type": "code",
   "execution_count": 54,
   "metadata": {},
   "outputs": [],
   "source": [
    "driver.find_element(By.XPATH,'//*[@id=\"react-root\"]/div/div/div/main/div/div/div/div[2]/div[2]/div[1]/div/div/div/div[3]/div/label/div/div[2]/div[1]/input').send_keys(password)"
   ]
  },
  {
   "cell_type": "code",
   "execution_count": 56,
   "metadata": {},
   "outputs": [
    {
     "ename": "ElementNotInteractableException",
     "evalue": "Message: element not interactable\n  (Session info: chrome=116.0.5845.188)\nStacktrace:\n\tGetHandleVerifier [0x00007FF6E38052A2+57122]\n\t(No symbol) [0x00007FF6E377EA92]\n\t(No symbol) [0x00007FF6E364E25D]\n\t(No symbol) [0x00007FF6E3688E97]\n\t(No symbol) [0x00007FF6E367F25F]\n\t(No symbol) [0x00007FF6E36A6FDA]\n\t(No symbol) [0x00007FF6E367EB76]\n\t(No symbol) [0x00007FF6E36A71F0]\n\t(No symbol) [0x00007FF6E36BEB82]\n\t(No symbol) [0x00007FF6E36A6DB3]\n\t(No symbol) [0x00007FF6E367D2B1]\n\t(No symbol) [0x00007FF6E367E494]\n\tGetHandleVerifier [0x00007FF6E3AAEF82+2849794]\n\tGetHandleVerifier [0x00007FF6E3B01D24+3189156]\n\tGetHandleVerifier [0x00007FF6E3AFACAF+3160367]\n\tGetHandleVerifier [0x00007FF6E3896D06+653702]\n\t(No symbol) [0x00007FF6E378A208]\n\t(No symbol) [0x00007FF6E37862C4]\n\t(No symbol) [0x00007FF6E37863F6]\n\t(No symbol) [0x00007FF6E37767A3]\n\tBaseThreadInitThunk [0x00007FFE7FB6257D+29]\n\tRtlUserThreadStart [0x00007FFE8040AA68+40]\n",
     "output_type": "error",
     "traceback": [
      "\u001b[1;31m---------------------------------------------------------------------------\u001b[0m",
      "\u001b[1;31mElementNotInteractableException\u001b[0m           Traceback (most recent call last)",
      "\u001b[1;32mc:\\Users\\ljens\\OneDrive\\Documents\\MSU MPH\\capstone\\Thesis-Scribbles\\twint .ipynb Cell 8\u001b[0m line \u001b[0;36m1\n\u001b[1;32m----> <a href='vscode-notebook-cell:/c%3A/Users/ljens/OneDrive/Documents/MSU%20MPH/capstone/Thesis-Scribbles/twint%20.ipynb#X22sZmlsZQ%3D%3D?line=0'>1</a>\u001b[0m driver\u001b[39m.\u001b[39;49mfind_element(By\u001b[39m.\u001b[39;49mXPATH,\u001b[39m'\u001b[39;49m\u001b[39m//*[@id=\u001b[39;49m\u001b[39m\"\u001b[39;49m\u001b[39mreact-root\u001b[39;49m\u001b[39m\"\u001b[39;49m\u001b[39m]/div/div/div/main/div/div/div/div[2]/div[2]/div[3]/div/div/div[1]/div/div/div\u001b[39;49m\u001b[39m'\u001b[39;49m)\u001b[39m.\u001b[39;49mclick()\n",
      "File \u001b[1;32mc:\\Users\\ljens\\scoop\\apps\\python\\current\\Lib\\site-packages\\selenium\\webdriver\\remote\\webelement.py:93\u001b[0m, in \u001b[0;36mWebElement.click\u001b[1;34m(self)\u001b[0m\n\u001b[0;32m     91\u001b[0m \u001b[39mdef\u001b[39;00m \u001b[39mclick\u001b[39m(\u001b[39mself\u001b[39m) \u001b[39m-\u001b[39m\u001b[39m>\u001b[39m \u001b[39mNone\u001b[39;00m:\n\u001b[0;32m     92\u001b[0m \u001b[39m    \u001b[39m\u001b[39m\"\"\"Clicks the element.\"\"\"\u001b[39;00m\n\u001b[1;32m---> 93\u001b[0m     \u001b[39mself\u001b[39;49m\u001b[39m.\u001b[39;49m_execute(Command\u001b[39m.\u001b[39;49mCLICK_ELEMENT)\n",
      "File \u001b[1;32mc:\\Users\\ljens\\scoop\\apps\\python\\current\\Lib\\site-packages\\selenium\\webdriver\\remote\\webelement.py:394\u001b[0m, in \u001b[0;36mWebElement._execute\u001b[1;34m(self, command, params)\u001b[0m\n\u001b[0;32m    392\u001b[0m     params \u001b[39m=\u001b[39m {}\n\u001b[0;32m    393\u001b[0m params[\u001b[39m\"\u001b[39m\u001b[39mid\u001b[39m\u001b[39m\"\u001b[39m] \u001b[39m=\u001b[39m \u001b[39mself\u001b[39m\u001b[39m.\u001b[39m_id\n\u001b[1;32m--> 394\u001b[0m \u001b[39mreturn\u001b[39;00m \u001b[39mself\u001b[39;49m\u001b[39m.\u001b[39;49m_parent\u001b[39m.\u001b[39;49mexecute(command, params)\n",
      "File \u001b[1;32mc:\\Users\\ljens\\scoop\\apps\\python\\current\\Lib\\site-packages\\selenium\\webdriver\\remote\\webdriver.py:344\u001b[0m, in \u001b[0;36mWebDriver.execute\u001b[1;34m(self, driver_command, params)\u001b[0m\n\u001b[0;32m    342\u001b[0m response \u001b[39m=\u001b[39m \u001b[39mself\u001b[39m\u001b[39m.\u001b[39mcommand_executor\u001b[39m.\u001b[39mexecute(driver_command, params)\n\u001b[0;32m    343\u001b[0m \u001b[39mif\u001b[39;00m response:\n\u001b[1;32m--> 344\u001b[0m     \u001b[39mself\u001b[39;49m\u001b[39m.\u001b[39;49merror_handler\u001b[39m.\u001b[39;49mcheck_response(response)\n\u001b[0;32m    345\u001b[0m     response[\u001b[39m\"\u001b[39m\u001b[39mvalue\u001b[39m\u001b[39m\"\u001b[39m] \u001b[39m=\u001b[39m \u001b[39mself\u001b[39m\u001b[39m.\u001b[39m_unwrap_value(response\u001b[39m.\u001b[39mget(\u001b[39m\"\u001b[39m\u001b[39mvalue\u001b[39m\u001b[39m\"\u001b[39m, \u001b[39mNone\u001b[39;00m))\n\u001b[0;32m    346\u001b[0m     \u001b[39mreturn\u001b[39;00m response\n",
      "File \u001b[1;32mc:\\Users\\ljens\\scoop\\apps\\python\\current\\Lib\\site-packages\\selenium\\webdriver\\remote\\errorhandler.py:229\u001b[0m, in \u001b[0;36mErrorHandler.check_response\u001b[1;34m(self, response)\u001b[0m\n\u001b[0;32m    227\u001b[0m         alert_text \u001b[39m=\u001b[39m value[\u001b[39m\"\u001b[39m\u001b[39malert\u001b[39m\u001b[39m\"\u001b[39m]\u001b[39m.\u001b[39mget(\u001b[39m\"\u001b[39m\u001b[39mtext\u001b[39m\u001b[39m\"\u001b[39m)\n\u001b[0;32m    228\u001b[0m     \u001b[39mraise\u001b[39;00m exception_class(message, screen, stacktrace, alert_text)  \u001b[39m# type: ignore[call-arg]  # mypy is not smart enough here\u001b[39;00m\n\u001b[1;32m--> 229\u001b[0m \u001b[39mraise\u001b[39;00m exception_class(message, screen, stacktrace)\n",
      "\u001b[1;31mElementNotInteractableException\u001b[0m: Message: element not interactable\n  (Session info: chrome=116.0.5845.188)\nStacktrace:\n\tGetHandleVerifier [0x00007FF6E38052A2+57122]\n\t(No symbol) [0x00007FF6E377EA92]\n\t(No symbol) [0x00007FF6E364E25D]\n\t(No symbol) [0x00007FF6E3688E97]\n\t(No symbol) [0x00007FF6E367F25F]\n\t(No symbol) [0x00007FF6E36A6FDA]\n\t(No symbol) [0x00007FF6E367EB76]\n\t(No symbol) [0x00007FF6E36A71F0]\n\t(No symbol) [0x00007FF6E36BEB82]\n\t(No symbol) [0x00007FF6E36A6DB3]\n\t(No symbol) [0x00007FF6E367D2B1]\n\t(No symbol) [0x00007FF6E367E494]\n\tGetHandleVerifier [0x00007FF6E3AAEF82+2849794]\n\tGetHandleVerifier [0x00007FF6E3B01D24+3189156]\n\tGetHandleVerifier [0x00007FF6E3AFACAF+3160367]\n\tGetHandleVerifier [0x00007FF6E3896D06+653702]\n\t(No symbol) [0x00007FF6E378A208]\n\t(No symbol) [0x00007FF6E37862C4]\n\t(No symbol) [0x00007FF6E37863F6]\n\t(No symbol) [0x00007FF6E37767A3]\n\tBaseThreadInitThunk [0x00007FFE7FB6257D+29]\n\tRtlUserThreadStart [0x00007FFE8040AA68+40]\n"
     ]
    }
   ],
   "source": [
    "driver.find_element(By.XPATH,'//*[@id=\"react-root\"]/div/div/div/main/div/div/div/div[2]/div[2]/div[3]/div/div/div[1]/div/div/div').click()"
   ]
  },
  {
   "cell_type": "code",
   "execution_count": null,
   "metadata": {},
   "outputs": [],
   "source": []
  }
 ],
 "metadata": {
  "kernelspec": {
   "display_name": "Python 3",
   "language": "python",
   "name": "python3"
  },
  "language_info": {
   "codemirror_mode": {
    "name": "ipython",
    "version": 3
   },
   "file_extension": ".py",
   "mimetype": "text/x-python",
   "name": "python",
   "nbconvert_exporter": "python",
   "pygments_lexer": "ipython3",
   "version": "3.11.5"
  },
  "orig_nbformat": 4
 },
 "nbformat": 4,
 "nbformat_minor": 2
}
