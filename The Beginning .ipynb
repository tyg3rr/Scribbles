{
 "cells": [
  {
   "cell_type": "markdown",
   "metadata": {},
   "source": [
    "<h1> MPH Thesis Scribbles </h1>\n",
    "<h2> The Beginning </h2>"
   ]
  },
  {
   "cell_type": "markdown",
   "metadata": {},
   "source": [
    "---"
   ]
  },
  {
   "cell_type": "markdown",
   "metadata": {},
   "source": [
    "I've been spending a lot of time thinking about potential thesis projects for my MPH. I am currently in my second-to-last semester, and I'm hoping to get a headstart on my capstone with my coursework for my advanced biostats course and my public health research methods course. \n",
    "\n",
    "I am considering doing another disease incidence modeling project. I have some experience building predictive models for Lyme Disease, using climatic variables as parameters. My applied practice experience increased my interest in applied public health practice at the state and local level, however, so I don't want to do another ecological study like the Lyme project. \n",
    "\n",
    "So, I'm interested in creating a model to forecast and nowcast respiratory disease incidence in Kent County. I want to explore the impact of weather and climate on respiratory diseases, and I also want to include other parameters associated with respiratory disease increasing in the community. \n",
    "\n",
    "As a particular example, I want to explore the relationship between Google search queries and respiratory disease. I hypothesize that search terms related to cold&flu symptoms should spike 1-2 weeks before ILI incidence spikes. To explore my hypothesis, I will do some exploratory data analysis and visualization\n",
    "\n",
    "This tutorial uses Pytrends to exploit Google Trends search term data from within the Grand Rapids metro area. I will leverage this data alongside my already existing Kent County ILI incidence data from my practicum to examine the relations between specific search terms and ILI incidence"
   ]
  },
  {
   "cell_type": "markdown",
   "metadata": {},
   "source": [
    "---"
   ]
  },
  {
   "cell_type": "markdown",
   "metadata": {},
   "source": [
    "This tutorial leverages the python module Pytrends to fetch Google search term history in the Grand Rapids metro area. Pytrends is a 'psuedo-API' for the Google Trends project, and there is a significant learning curve for API calling. Go [here](https://lazarinastoy.com/the-ultimate-guide-to-pytrends-google-trends-api-with-python/) to learn more about Pytrends and how to use it"
   ]
  },
  {
   "cell_type": "markdown",
   "metadata": {},
   "source": [
    "Let's get started by importing the modules we will be using."
   ]
  },
  {
   "cell_type": "code",
   "execution_count": 1,
   "metadata": {},
   "outputs": [],
   "source": [
    "import pandas as pd\n",
    "from pytrends.request import TrendReq\n",
    "import plotly.express as px\n",
    "from datetime import datetime\n",
    "from sklearn.preprocessing import StandardScaler\n",
    "import numpy as np\n",
    "\n",
    "pytrends = TrendReq(hl='en-US', tz=360)"
   ]
  },
  {
   "cell_type": "markdown",
   "metadata": {},
   "source": [
    "To call the Google Trends API, we must give Google information about which search term history we want, from which time period, and from where. Specifying location and timeframe is vital for the reliability of the data because Google normalizes and scales the data based on population size. \n",
    "\n",
    "Our specified search terms, location, and time period will be the 'payload' of our data request. To build the payload effectively, we must specify these terms in a format that Google will understand.\n",
    "\n",
    "Google expects to see the 2-character alpha geocode for both country and state; US-MI. To drill down to the city level we use DMA codes. The DMA code for Grand Rapids-Kalamazoo-Battle Creek is 563, so altogether, the location code is geo = US-MI-563"
   ]
  },
  {
   "cell_type": "code",
   "execution_count": 2,
   "metadata": {},
   "outputs": [],
   "source": [
    "geo = 'US-MI-563'"
   ]
  },
  {
   "cell_type": "markdown",
   "metadata": {},
   "source": [
    "There are a few ways to specify your timeframe of interest. The default is the last 5 years, 'today 5-y', following the Current Time Minus Time Pattern. To specify by month, 'today #-m', by day, 'today #-d', and by hour, 'today #-h'\n",
    "\n",
    "Another option is to specify a date range in the format 'yyyy-mm-dd yyy-mm-dd'\n",
    "\n",
    "To see ten years of data, we will specify timeframe = '2012-01-01 2023-07-01'"
   ]
  },
  {
   "cell_type": "code",
   "execution_count": 3,
   "metadata": {},
   "outputs": [],
   "source": [
    "timeframe = '2012-01-01 2023-07-01'"
   ]
  },
  {
   "cell_type": "markdown",
   "metadata": {},
   "source": [
    "Optionally, we may specify a search term category to narrow our results. The default category cat = 0, and the rest of the category codes can be found [here](https://github.com/pat310/google-trends-api/wiki/Google-Trends-Categories)\n",
    "\n",
    "The category code for 'Health Conditions' is cat = 419"
   ]
  },
  {
   "cell_type": "code",
   "execution_count": 4,
   "metadata": {},
   "outputs": [],
   "source": [
    "cat = 419"
   ]
  },
  {
   "cell_type": "markdown",
   "metadata": {},
   "source": [
    "Unfortunately, Google limits the number of search terms we may include in our request to 5. We are interested in terms related to respiratory illness, so we will check the following:"
   ]
  },
  {
   "cell_type": "code",
   "execution_count": 5,
   "metadata": {},
   "outputs": [],
   "source": [
    "kwords = [\n",
    "          #'flu',\n",
    "          #'fever',\n",
    "          #'sore throat',\n",
    "            'cough',\n",
    "            'cold',\n",
    "          #'symptoms',\n",
    "          #'chills',\n",
    "          ]"
   ]
  },
  {
   "cell_type": "markdown",
   "metadata": {},
   "source": [
    "Now we're ready to build our request payload. We'll do the request, then save its output into a dataframe"
   ]
  },
  {
   "cell_type": "code",
   "execution_count": 6,
   "metadata": {},
   "outputs": [],
   "source": [
    "pytrends.build_payload(kwords, cat=cat, timeframe=timeframe, geo=geo)\n",
    "data = pytrends.interest_over_time().reset_index().rename(columns={'date':'Date'})"
   ]
  },
  {
   "cell_type": "markdown",
   "metadata": {},
   "source": [
    "Next we extract and preprocess Kent County Influenza-Like Illness incidence data. We use sklearn's StandardScaler to center each variable around their respective means, then combine all variables into a single dataframe. "
   ]
  },
  {
   "cell_type": "code",
   "execution_count": 7,
   "metadata": {},
   "outputs": [],
   "source": [
    "dd = pd.read_csv(\"C:\\\\Users\\\\ljens\\\\OneDrive\\\\Documents\\\\MSU MPH\\\\Practicum\\\\older dates\\\\data.csv\")\n",
    "flu = dd.loc[dd['Disease Group'] == 'InfluenzaInfluenzaInfluenzaInfluenza']\n",
    "flu = flu[['Time','Count']]\n",
    "flu['Time'] = pd.to_datetime(flu['Time'])\n",
    "flu['Count'] = flu['Count'].astype('int')\n",
    "flu['flu'] = StandardScaler().fit(np.array(flu['Count']).reshape(-1,1)).transform(np.array(flu['Count']).reshape(-1,1))\n",
    "flu.rename(columns={'Time':'Date'},inplace=True)\n",
    "flu.set_index('Date',inplace=True)\n",
    "flu = flu.drop(columns=['Count'])"
   ]
  },
  {
   "cell_type": "code",
   "execution_count": 8,
   "metadata": {},
   "outputs": [],
   "source": [
    "df = pd.DataFrame()\n",
    "df['Date'] = data['Date']\n",
    "df['cough'] = StandardScaler().fit(np.array(data['cough']).reshape(-1,1)).transform(np.array(data['cough']).reshape(-1,1))\n",
    "df['cold'] = StandardScaler().fit(np.array(data['cold']).reshape(-1,1)).transform(np.array(data['cold']).reshape(-1,1))\n",
    "df = df.set_index('Date').join(flu).reset_index()"
   ]
  },
  {
   "cell_type": "markdown",
   "metadata": {},
   "source": [
    "Let's take a look at our data so far"
   ]
  },
  {
   "cell_type": "code",
   "execution_count": 9,
   "metadata": {},
   "outputs": [
    {
     "data": {
      "text/html": [
       "<div>\n",
       "<style scoped>\n",
       "    .dataframe tbody tr th:only-of-type {\n",
       "        vertical-align: middle;\n",
       "    }\n",
       "\n",
       "    .dataframe tbody tr th {\n",
       "        vertical-align: top;\n",
       "    }\n",
       "\n",
       "    .dataframe thead th {\n",
       "        text-align: right;\n",
       "    }\n",
       "</style>\n",
       "<table border=\"1\" class=\"dataframe\">\n",
       "  <thead>\n",
       "    <tr style=\"text-align: right;\">\n",
       "      <th></th>\n",
       "      <th>Date</th>\n",
       "      <th>cough</th>\n",
       "      <th>cold</th>\n",
       "      <th>flu</th>\n",
       "    </tr>\n",
       "  </thead>\n",
       "  <tbody>\n",
       "    <tr>\n",
       "      <th>0</th>\n",
       "      <td>2012-01-01</td>\n",
       "      <td>-0.631781</td>\n",
       "      <td>0.011697</td>\n",
       "      <td>1.209774</td>\n",
       "    </tr>\n",
       "    <tr>\n",
       "      <th>1</th>\n",
       "      <td>2012-02-01</td>\n",
       "      <td>-0.573469</td>\n",
       "      <td>-0.300974</td>\n",
       "      <td>1.369333</td>\n",
       "    </tr>\n",
       "    <tr>\n",
       "      <th>2</th>\n",
       "      <td>2012-03-01</td>\n",
       "      <td>-0.690093</td>\n",
       "      <td>-0.863781</td>\n",
       "      <td>2.298753</td>\n",
       "    </tr>\n",
       "    <tr>\n",
       "      <th>3</th>\n",
       "      <td>2012-04-01</td>\n",
       "      <td>-0.631781</td>\n",
       "      <td>-0.738713</td>\n",
       "      <td>0.542561</td>\n",
       "    </tr>\n",
       "    <tr>\n",
       "      <th>4</th>\n",
       "      <td>2012-05-01</td>\n",
       "      <td>-0.398534</td>\n",
       "      <td>-0.738713</td>\n",
       "      <td>0.106480</td>\n",
       "    </tr>\n",
       "  </tbody>\n",
       "</table>\n",
       "</div>"
      ],
      "text/plain": [
       "        Date     cough      cold       flu\n",
       "0 2012-01-01 -0.631781  0.011697  1.209774\n",
       "1 2012-02-01 -0.573469 -0.300974  1.369333\n",
       "2 2012-03-01 -0.690093 -0.863781  2.298753\n",
       "3 2012-04-01 -0.631781 -0.738713  0.542561\n",
       "4 2012-05-01 -0.398534 -0.738713  0.106480"
      ]
     },
     "execution_count": 9,
     "metadata": {},
     "output_type": "execute_result"
    }
   ],
   "source": [
    "df.head()"
   ]
  },
  {
   "cell_type": "markdown",
   "metadata": {},
   "source": [
    "So far, so good. To explore and compare our variables, we want to create a line graph with each variable as a unique series. But first, we must transform the data into long-form by unpivoting the dataframe. Fortunately, pandas' melt() method makes pivoting and unpivoting data super easy."
   ]
  },
  {
   "cell_type": "code",
   "execution_count": 10,
   "metadata": {},
   "outputs": [],
   "source": [
    "df = pd.melt(df, id_vars='Date', value_vars=['cough','cold','flu'], value_name='Normalized Hits',var_name='Variables')"
   ]
  },
  {
   "cell_type": "code",
   "execution_count": 11,
   "metadata": {},
   "outputs": [
    {
     "data": {
      "text/html": [
       "<div>\n",
       "<style scoped>\n",
       "    .dataframe tbody tr th:only-of-type {\n",
       "        vertical-align: middle;\n",
       "    }\n",
       "\n",
       "    .dataframe tbody tr th {\n",
       "        vertical-align: top;\n",
       "    }\n",
       "\n",
       "    .dataframe thead th {\n",
       "        text-align: right;\n",
       "    }\n",
       "</style>\n",
       "<table border=\"1\" class=\"dataframe\">\n",
       "  <thead>\n",
       "    <tr style=\"text-align: right;\">\n",
       "      <th></th>\n",
       "      <th>Date</th>\n",
       "      <th>Variables</th>\n",
       "      <th>Normalized Hits</th>\n",
       "    </tr>\n",
       "  </thead>\n",
       "  <tbody>\n",
       "    <tr>\n",
       "      <th>0</th>\n",
       "      <td>2012-01-01</td>\n",
       "      <td>cough</td>\n",
       "      <td>-0.631781</td>\n",
       "    </tr>\n",
       "    <tr>\n",
       "      <th>1</th>\n",
       "      <td>2012-02-01</td>\n",
       "      <td>cough</td>\n",
       "      <td>-0.573469</td>\n",
       "    </tr>\n",
       "    <tr>\n",
       "      <th>2</th>\n",
       "      <td>2012-03-01</td>\n",
       "      <td>cough</td>\n",
       "      <td>-0.690093</td>\n",
       "    </tr>\n",
       "    <tr>\n",
       "      <th>3</th>\n",
       "      <td>2012-04-01</td>\n",
       "      <td>cough</td>\n",
       "      <td>-0.631781</td>\n",
       "    </tr>\n",
       "    <tr>\n",
       "      <th>4</th>\n",
       "      <td>2012-05-01</td>\n",
       "      <td>cough</td>\n",
       "      <td>-0.398534</td>\n",
       "    </tr>\n",
       "  </tbody>\n",
       "</table>\n",
       "</div>"
      ],
      "text/plain": [
       "        Date Variables  Normalized Hits\n",
       "0 2012-01-01     cough        -0.631781\n",
       "1 2012-02-01     cough        -0.573469\n",
       "2 2012-03-01     cough        -0.690093\n",
       "3 2012-04-01     cough        -0.631781\n",
       "4 2012-05-01     cough        -0.398534"
      ]
     },
     "execution_count": 11,
     "metadata": {},
     "output_type": "execute_result"
    }
   ],
   "source": [
    "df.head()"
   ]
  },
  {
   "cell_type": "markdown",
   "metadata": {},
   "source": [
    "Last but not least, let's plot our data"
   ]
  },
  {
   "cell_type": "code",
   "execution_count": 19,
   "metadata": {},
   "outputs": [
    {
     "data": {
      "image/svg+xml": [
       "<svg class=\"main-svg\" xmlns=\"http://www.w3.org/2000/svg\" xmlns:xlink=\"http://www.w3.org/1999/xlink\" width=\"1200\" height=\"400\" style=\"\" viewBox=\"0 0 1200 400\"><rect x=\"0\" y=\"0\" width=\"1200\" height=\"400\" style=\"fill: rgb(255, 255, 255); fill-opacity: 1;\"/><defs id=\"defs-4f9447\"><g class=\"clips\"><clipPath id=\"clip4f9447xyplot\" class=\"plotclip\"><rect width=\"1006\" height=\"260\"/></clipPath><clipPath class=\"axesclip\" id=\"clip4f9447x\"><rect x=\"80\" y=\"0\" width=\"1006\" height=\"400\"/></clipPath><clipPath class=\"axesclip\" id=\"clip4f9447y\"><rect x=\"0\" y=\"60\" width=\"1200\" height=\"260\"/></clipPath><clipPath class=\"axesclip\" id=\"clip4f9447xy\"><rect x=\"80\" y=\"60\" width=\"1006\" height=\"260\"/></clipPath></g><g class=\"gradients\"/><g class=\"patterns\"/></defs><g class=\"bglayer\"><rect class=\"bg\" x=\"80\" y=\"60\" width=\"1006\" height=\"260\" style=\"fill: rgb(229, 236, 246); fill-opacity: 1; stroke-width: 0;\"/></g><g class=\"layer-below\"><g class=\"imagelayer\"/><g class=\"shapelayer\"/></g><g class=\"cartesianlayer\"><g class=\"subplot xy\"><g class=\"layer-subplot\"><g class=\"shapelayer\"/><g class=\"imagelayer\"/></g><g class=\"minor-gridlayer\"><g class=\"x\"/><g class=\"y\"/></g><g class=\"gridlayer\"><g class=\"x\"><path class=\"xgrid crisp\" transform=\"translate(255.13,0)\" d=\"M0,60v260\" style=\"stroke: rgb(255, 255, 255); stroke-opacity: 1; stroke-width: 1px;\"/><path class=\"xgrid crisp\" transform=\"translate(430.03,0)\" d=\"M0,60v260\" style=\"stroke: rgb(255, 255, 255); stroke-opacity: 1; stroke-width: 1px;\"/><path class=\"xgrid crisp\" transform=\"translate(605.16,0)\" d=\"M0,60v260\" style=\"stroke: rgb(255, 255, 255); stroke-opacity: 1; stroke-width: 1px;\"/><path class=\"xgrid crisp\" transform=\"translate(780.06,0)\" d=\"M0,60v260\" style=\"stroke: rgb(255, 255, 255); stroke-opacity: 1; stroke-width: 1px;\"/><path class=\"xgrid crisp\" transform=\"translate(955.19,0)\" d=\"M0,60v260\" style=\"stroke: rgb(255, 255, 255); stroke-opacity: 1; stroke-width: 1px;\"/></g><g class=\"y\"><path class=\"ygrid crisp\" transform=\"translate(0,307.48)\" d=\"M80,0h1006\" style=\"stroke: rgb(255, 255, 255); stroke-opacity: 1; stroke-width: 1px;\"/><path class=\"ygrid crisp\" transform=\"translate(0,262.53)\" d=\"M80,0h1006\" style=\"stroke: rgb(255, 255, 255); stroke-opacity: 1; stroke-width: 1px;\"/><path class=\"ygrid crisp\" transform=\"translate(0,172.64)\" d=\"M80,0h1006\" style=\"stroke: rgb(255, 255, 255); stroke-opacity: 1; stroke-width: 1px;\"/><path class=\"ygrid crisp\" transform=\"translate(0,127.69)\" d=\"M80,0h1006\" style=\"stroke: rgb(255, 255, 255); stroke-opacity: 1; stroke-width: 1px;\"/><path class=\"ygrid crisp\" transform=\"translate(0,82.74)\" d=\"M80,0h1006\" style=\"stroke: rgb(255, 255, 255); stroke-opacity: 1; stroke-width: 1px;\"/></g></g><g class=\"zerolinelayer\"><path class=\"yzl zl crisp\" transform=\"translate(0,217.58)\" d=\"M80,0h1006\" style=\"stroke: rgb(255, 255, 255); stroke-opacity: 1; stroke-width: 2px;\"/></g><path class=\"xlines-below\"/><path class=\"ylines-below\"/><g class=\"overlines-below\"/><g class=\"xaxislayer-below\"/><g class=\"yaxislayer-below\"/><g class=\"overaxes-below\"/><g class=\"plot\" transform=\"translate(80,60)\" clip-path=\"url(#clip4f9447xyplot)\"><g class=\"scatterlayer mlayer\"><g class=\"trace scatter trace886c68\" style=\"stroke-miterlimit: 2; opacity: 1;\"><g class=\"fills\"/><g class=\"errorbars\"/><g class=\"lines\"><path class=\"js-line\" d=\"M0,185.98L7.43,183.36L14.37,188.6L21.8,185.98L28.99,175.5L36.42,188.6L43.6,199.08L51.03,201.71L58.46,196.46L65.65,204.33L73.07,175.5L80.26,180.74L87.69,141.42L95.11,185.98L101.82,196.46L116.44,201.71L123.86,227.91L131.05,214.81L138.48,217.43L145.9,193.84L153.09,180.74L160.52,157.15L167.71,149.29L175.13,170.25L182.56,193.84L189.27,199.08L196.7,199.08L203.88,222.67L211.31,206.95L218.5,233.16L225.92,204.33L233.35,196.46L240.54,191.22L247.97,159.77L255.15,89.01L262.58,136.18L270.01,136.18L284.14,193.84L291.33,193.84L298.76,199.08L305.94,217.43L313.37,193.84L320.8,199.08L327.99,165.01L335.41,149.29L342.6,125.7L350.03,154.53L357.45,146.67L357.45,146.67L364.4,149.29L371.83,178.12L379.02,172.88L386.44,188.6L386.44,188.6L393.63,222.67L401.06,230.54L408.49,167.63L415.67,141.42L415.67,141.42L423.1,157.15L430.29,125.7L430.29,125.7L437.71,130.94L445.14,102.11L451.85,136.18L459.28,167.63L466.46,175.5L473.89,206.95L481.08,209.57L488.51,199.08L495.93,165.01L503.12,162.39L510.55,123.08L517.73,123.08L525.16,73.28L532.59,109.97L532.59,109.97L539.3,125.7L546.72,170.25L553.91,193.84L561.34,170.25L561.34,170.25L568.53,193.84L575.95,212.19L575.95,212.19L583.38,167.63L590.57,146.67L590.57,146.67L597.99,133.56L605.18,89.01L605.18,89.01L612.61,146.67L620.04,146.67L626.74,128.32L634.17,125.7L641.36,112.59L648.78,178.12L655.97,178.12L663.4,191.22L670.83,154.53L678.01,128.32L685.44,123.08L692.63,62.8L700.06,94.25L707.48,104.73L714.43,28.73L721.86,138.8L729.04,191.22L736.47,233.16L743.66,199.08L751.09,188.6L758.51,185.98L765.7,146.67L773.13,146.67L780.31,165.01L787.74,201.71L795.17,204.33L801.88,183.36L809.3,157.15L816.49,151.91L823.92,165.01L831.11,154.53L838.53,146.67L845.96,107.35L853.15,78.52L860.57,33.97L867.76,39.21L875.19,86.39L882.62,117.84L889.32,102.11L896.75,141.42L903.94,117.84L911.37,146.67L918.55,167.63L925.98,151.91L933.41,96.87L940.59,83.76L948.02,41.83L955.21,13L962.64,99.49L970.06,136.18L976.77,109.97L984.2,112.59L991.39,123.08L998.81,162.39L1006,178.12\" style=\"vector-effect: none; fill: none; stroke: rgb(99, 110, 250); stroke-opacity: 1; stroke-width: 2px; opacity: 1;\"/></g><g class=\"points\"/><g class=\"text\"/></g><g class=\"trace scatter traced7576c\" style=\"stroke-miterlimit: 2; opacity: 1;\"><g class=\"fills\"/><g class=\"errorbars\"/><g class=\"lines\"><path class=\"js-line\" d=\"M0,157.06L7.43,171.11L14.37,196.41L21.8,190.79L28.99,190.79L36.42,247L43.6,227.33L58.46,176.73L65.65,179.54L73.07,173.92L80.26,151.44L87.69,162.68L95.11,179.54L101.82,176.73L109.25,185.16L116.44,199.22L123.86,218.89L131.05,210.46L138.48,230.14L145.9,154.25L153.09,168.3L167.71,173.92L175.13,92.41L182.56,187.98L189.27,154.25L196.7,179.54L203.88,207.65L211.31,216.08L218.5,241.38L225.92,193.6L233.35,154.25L240.54,173.92L247.97,143L255.15,148.63L262.58,109.28L270.01,140.19L276.72,145.82L284.14,165.49L291.33,199.22L305.94,210.46L313.37,218.89L320.8,204.84L327.99,187.98L335.41,159.87L342.6,137.38L350.03,128.95L350.03,128.95L357.45,143L364.4,162.68L371.83,179.54L379.02,210.46L379.02,210.46L386.44,204.84L393.63,210.46L393.63,210.46L401.06,210.46L408.49,159.87L408.49,159.87L415.67,159.87L423.1,162.68L430.29,117.71L437.71,109.28L445.14,67.12L451.85,128.95L459.28,173.92L466.46,196.41L473.89,216.08L481.08,193.6L488.51,196.41L495.93,145.82L503.12,154.25L510.55,106.47L517.73,106.47L525.16,50.25L525.16,50.25L532.59,103.65L539.3,131.76L539.3,131.76L546.72,157.06L553.91,165.49L561.34,202.03L568.53,207.65L575.95,202.03L590.57,123.33L590.57,123.33L597.99,112.09L605.18,95.22L605.18,95.22L612.61,75.55L620.04,123.33L626.74,106.47L634.17,154.25L641.36,159.87L648.78,190.79L655.97,199.22L663.4,202.03L670.83,145.82L678.01,137.38L685.44,120.52L692.63,69.93L700.06,75.55L707.48,103.65L714.43,39.01L721.86,182.35L729.04,207.65L736.47,230.14L743.66,190.79L751.09,199.22L758.51,173.92L765.7,143L773.13,134.57L780.31,165.49L787.74,176.73L795.17,145.82L801.88,171.11L809.3,151.44L816.49,162.68L823.92,159.87L831.11,173.92L838.53,151.44L845.96,117.71L853.15,95.22L860.57,39.01L867.76,61.49L875.19,41.82L882.62,137.38L889.32,117.71L896.75,140.19L903.94,157.06L918.55,196.41L925.98,182.35L933.41,143L940.59,89.6L948.02,92.41L955.21,30.58L962.64,128.95L970.06,103.65L976.77,134.57L984.2,157.06L991.39,143L998.81,168.3L1006,199.22\" style=\"vector-effect: none; fill: none; stroke: rgb(239, 85, 59); stroke-opacity: 1; stroke-width: 2px; opacity: 1;\"/></g><g class=\"points\"/><g class=\"text\"/></g><g class=\"trace scatter tracef5a1ba\" style=\"stroke-miterlimit: 2; opacity: 1;\"><g class=\"fills\"/><g class=\"errorbars\"/><g class=\"lines\"><path class=\"js-line\" d=\"M0,103.21L7.43,96.04L14.37,54.26L21.8,133.2L28.99,152.8L36.42,170.47L43.6,206.73L51.03,206.48L58.46,161.46L65.65,151.17L73.07,100.87L80.26,82.18L87.69,72.26L95.11,79.06L101.82,59.08L109.25,145.48L116.44,150.52L123.86,196.17L131.05,206.64L138.48,206.29L145.9,184.95L153.09,129.95L160.52,114.19L167.71,145.91L175.13,117.79L182.56,122.76L189.27,120.13L196.7,161.62L203.88,141L211.31,200.9L218.5,206.59L225.92,206.62L233.35,142.06L240.54,117.58L247.97,135.61L255.15,92.9L262.58,90.86L270.01,115.03L276.72,99.72L284.14,158.07L291.33,144.32L298.76,200.54L305.94,206.62L313.37,206.53L320.8,167.97L327.99,118.31L335.41,133.57L342.6,147.16L350.03,118.62L364.4,98.53L364.4,98.53L371.83,142.03L379.02,153.6L379.02,153.6L386.44,193.69L393.63,206.48L393.63,206.48L401.06,204.99L408.49,158.71L408.49,158.71L415.67,124.68L423.1,142.63L423.1,142.63L430.29,132.81L437.71,115.37L445.14,45.93L451.85,52.85L459.28,162.31L466.46,150.32L473.89,193.96L481.08,206.8L488.51,205.9L495.93,156.63L503.12,150.04L510.55,135.25L517.73,124.74L532.59,49.23L532.59,49.23L539.3,85.26L546.72,165.93L546.72,165.93L553.91,158.16L561.34,196.71L568.53,206.22L575.95,201.15L583.38,157.52L590.57,144.28L597.99,136.85L612.61,162.62L620.04,178.28L626.74,87.3L634.17,162.37L641.36,142.71L648.78,202.81L655.97,206.72L663.4,201.34L670.83,149.71L678.01,138.45L685.44,107.37L692.63,119.92L700.06,60.1L707.48,103.11L714.43,201.07L721.86,206.91L860.57,206.62L867.76,204.55L875.19,206.14L882.62,205.51L889.32,203.27L896.75,204.27L911.37,206.77L918.55,206.86L925.98,206.91L933.41,142.19L940.59,144.97L948.02,149.58L955.21,140.24L962.64,174.96L970.06,170.01L976.77,166.64L984.2,186.85L991.39,182.94L998.81,197.93L1006,206.78\" style=\"vector-effect: none; fill: none; stroke: rgb(0, 204, 150); stroke-opacity: 1; stroke-width: 2px; opacity: 1;\"/></g><g class=\"points\"/><g class=\"text\"/></g></g></g><g class=\"overplot\"/><path class=\"xlines-above crisp\" d=\"M0,0\" style=\"fill: none;\"/><path class=\"ylines-above crisp\" d=\"M0,0\" style=\"fill: none;\"/><g class=\"overlines-above\"/><g class=\"xaxislayer-above\"><g class=\"xtick\"><text text-anchor=\"middle\" x=\"0\" y=\"333\" transform=\"translate(80,0)\" style=\"font-family: 'Open Sans', verdana, arial, sans-serif; font-size: 12px; fill: rgb(42, 63, 95); fill-opacity: 1; white-space: pre; opacity: 1;\">2012</text></g><g class=\"xtick\"><text text-anchor=\"middle\" x=\"0\" y=\"333\" style=\"font-family: 'Open Sans', verdana, arial, sans-serif; font-size: 12px; fill: rgb(42, 63, 95); fill-opacity: 1; white-space: pre; opacity: 1;\" transform=\"translate(255.13,0)\">2014</text></g><g class=\"xtick\"><text text-anchor=\"middle\" x=\"0\" y=\"333\" style=\"font-family: 'Open Sans', verdana, arial, sans-serif; font-size: 12px; fill: rgb(42, 63, 95); fill-opacity: 1; white-space: pre; opacity: 1;\" transform=\"translate(430.03,0)\">2016</text></g><g class=\"xtick\"><text text-anchor=\"middle\" x=\"0\" y=\"333\" style=\"font-family: 'Open Sans', verdana, arial, sans-serif; font-size: 12px; fill: rgb(42, 63, 95); fill-opacity: 1; white-space: pre; opacity: 1;\" transform=\"translate(605.16,0)\">2018</text></g><g class=\"xtick\"><text text-anchor=\"middle\" x=\"0\" y=\"333\" style=\"font-family: 'Open Sans', verdana, arial, sans-serif; font-size: 12px; fill: rgb(42, 63, 95); fill-opacity: 1; white-space: pre; opacity: 1;\" transform=\"translate(780.06,0)\">2020</text></g><g class=\"xtick\"><text text-anchor=\"middle\" x=\"0\" y=\"333\" style=\"font-family: 'Open Sans', verdana, arial, sans-serif; font-size: 12px; fill: rgb(42, 63, 95); fill-opacity: 1; white-space: pre; opacity: 1;\" transform=\"translate(955.19,0)\">2022</text></g></g><g class=\"yaxislayer-above\"><g class=\"ytick\"><text text-anchor=\"end\" x=\"79\" y=\"4.199999999999999\" transform=\"translate(0,307.48)\" style=\"font-family: 'Open Sans', verdana, arial, sans-serif; font-size: 12px; fill: rgb(42, 63, 95); fill-opacity: 1; white-space: pre; opacity: 1;\">−2</text></g><g class=\"ytick\"><text text-anchor=\"end\" x=\"79\" y=\"4.199999999999999\" style=\"font-family: 'Open Sans', verdana, arial, sans-serif; font-size: 12px; fill: rgb(42, 63, 95); fill-opacity: 1; white-space: pre; opacity: 1;\" transform=\"translate(0,262.53)\">−1</text></g><g class=\"ytick\"><text text-anchor=\"end\" x=\"79\" y=\"4.199999999999999\" style=\"font-family: 'Open Sans', verdana, arial, sans-serif; font-size: 12px; fill: rgb(42, 63, 95); fill-opacity: 1; white-space: pre; opacity: 1;\" transform=\"translate(0,217.58)\">0</text></g><g class=\"ytick\"><text text-anchor=\"end\" x=\"79\" y=\"4.199999999999999\" style=\"font-family: 'Open Sans', verdana, arial, sans-serif; font-size: 12px; fill: rgb(42, 63, 95); fill-opacity: 1; white-space: pre; opacity: 1;\" transform=\"translate(0,172.64)\">1</text></g><g class=\"ytick\"><text text-anchor=\"end\" x=\"79\" y=\"4.199999999999999\" style=\"font-family: 'Open Sans', verdana, arial, sans-serif; font-size: 12px; fill: rgb(42, 63, 95); fill-opacity: 1; white-space: pre; opacity: 1;\" transform=\"translate(0,127.69)\">2</text></g><g class=\"ytick\"><text text-anchor=\"end\" x=\"79\" y=\"4.199999999999999\" style=\"font-family: 'Open Sans', verdana, arial, sans-serif; font-size: 12px; fill: rgb(42, 63, 95); fill-opacity: 1; white-space: pre; opacity: 1;\" transform=\"translate(0,82.74)\">3</text></g></g><g class=\"overaxes-above\"/></g></g><g class=\"polarlayer\"/><g class=\"smithlayer\"/><g class=\"ternarylayer\"/><g class=\"geolayer\"/><g class=\"funnelarealayer\"/><g class=\"pielayer\"/><g class=\"iciclelayer\"/><g class=\"treemaplayer\"/><g class=\"sunburstlayer\"/><g class=\"glimages\"/><defs id=\"topdefs-4f9447\"><g class=\"clips\"/><clipPath id=\"legend4f9447\"><rect width=\"82\" height=\"86\" x=\"0\" y=\"0\"/></clipPath></defs><g class=\"layer-above\"><g class=\"imagelayer\"/><g class=\"shapelayer\"/></g><g class=\"infolayer\"><g class=\"legend\" pointer-events=\"all\" transform=\"translate(1106.1200000000001,60)\"><rect class=\"bg\" shape-rendering=\"crispEdges\" width=\"82\" height=\"86\" x=\"0\" y=\"0\" style=\"stroke: rgb(68, 68, 68); stroke-opacity: 1; fill: rgb(255, 255, 255); fill-opacity: 1; stroke-width: 0px;\"/><g class=\"scrollbox\" transform=\"\" clip-path=\"url(#legend4f9447)\"><text class=\"legendtitletext\" text-anchor=\"start\" x=\"2\" y=\"18.2\" style=\"font-family: 'Open Sans', verdana, arial, sans-serif; font-size: 14px; fill: rgb(42, 63, 95); fill-opacity: 1; white-space: pre;\">Variables</text><g class=\"groups\" transform=\"\"><g class=\"traces\" transform=\"translate(0,32.7)\" style=\"opacity: 1;\"><text class=\"legendtext\" text-anchor=\"start\" x=\"40\" y=\"4.680000000000001\" style=\"font-family: 'Open Sans', verdana, arial, sans-serif; font-size: 12px; fill: rgb(42, 63, 95); fill-opacity: 1; white-space: pre;\">cough</text><g class=\"layers\" style=\"opacity: 1;\"><g class=\"legendfill\"/><g class=\"legendlines\"><path class=\"js-line\" d=\"M5,0h30\" style=\"fill: none; stroke: rgb(99, 110, 250); stroke-opacity: 1; stroke-width: 2px;\"/></g><g class=\"legendsymbols\"><g class=\"legendpoints\"/></g></g><rect class=\"legendtoggle\" x=\"0\" y=\"-9.5\" width=\"76.203125\" height=\"19\" style=\"fill: rgb(0, 0, 0); fill-opacity: 0;\"/></g></g><g class=\"groups\" transform=\"\"><g class=\"traces\" transform=\"translate(0,51.7)\" style=\"opacity: 1;\"><text class=\"legendtext\" text-anchor=\"start\" x=\"40\" y=\"4.680000000000001\" style=\"font-family: 'Open Sans', verdana, arial, sans-serif; font-size: 12px; fill: rgb(42, 63, 95); fill-opacity: 1; white-space: pre;\">cold</text><g class=\"layers\" style=\"opacity: 1;\"><g class=\"legendfill\"/><g class=\"legendlines\"><path class=\"js-line\" d=\"M5,0h30\" style=\"fill: none; stroke: rgb(239, 85, 59); stroke-opacity: 1; stroke-width: 2px;\"/></g><g class=\"legendsymbols\"><g class=\"legendpoints\"/></g></g><rect class=\"legendtoggle\" x=\"0\" y=\"-9.5\" width=\"76.203125\" height=\"19\" style=\"fill: rgb(0, 0, 0); fill-opacity: 0;\"/></g></g><g class=\"groups\" transform=\"\"><g class=\"traces\" transform=\"translate(0,70.7)\" style=\"opacity: 1;\"><text class=\"legendtext\" text-anchor=\"start\" x=\"40\" y=\"4.680000000000001\" style=\"font-family: 'Open Sans', verdana, arial, sans-serif; font-size: 12px; fill: rgb(42, 63, 95); fill-opacity: 1; white-space: pre;\">flu</text><g class=\"layers\" style=\"opacity: 1;\"><g class=\"legendfill\"/><g class=\"legendlines\"><path class=\"js-line\" d=\"M5,0h30\" style=\"fill: none; stroke: rgb(0, 204, 150); stroke-opacity: 1; stroke-width: 2px;\"/></g><g class=\"legendsymbols\"><g class=\"legendpoints\"/></g></g><rect class=\"legendtoggle\" x=\"0\" y=\"-9.5\" width=\"76.203125\" height=\"19\" style=\"fill: rgb(0, 0, 0); fill-opacity: 0;\"/></g></g></g><rect class=\"scrollbar\" rx=\"20\" ry=\"3\" width=\"0\" height=\"0\" x=\"0\" y=\"0\" style=\"fill: rgb(128, 139, 164); fill-opacity: 1;\"/></g><g class=\"g-gtitle\"/><g class=\"g-xtitle\"><text class=\"xtitle\" x=\"583\" y=\"360.3\" text-anchor=\"middle\" style=\"font-family: 'Open Sans', verdana, arial, sans-serif; font-size: 14px; fill: rgb(42, 63, 95); opacity: 1; font-weight: normal; white-space: pre;\">Date</text></g><g class=\"g-ytitle\"><text class=\"ytitle\" transform=\"rotate(-90,37.246875,190)\" x=\"37.246875\" y=\"190\" text-anchor=\"middle\" style=\"font-family: 'Open Sans', verdana, arial, sans-serif; font-size: 14px; fill: rgb(42, 63, 95); opacity: 1; font-weight: normal; white-space: pre;\">Normalized Hits</text></g></g></svg>"
      ]
     },
     "metadata": {},
     "output_type": "display_data"
    }
   ],
   "source": [
    "fig = px.line(df, x='Date',y='Normalized Hits',color='Variables', width=1200, height=400)\n",
    "fig.show('svg')"
   ]
  },
  {
   "cell_type": "markdown",
   "metadata": {},
   "source": [
    "There's a few things to note before we try to make any inferences from this graph. ILI went under-reported during the beginning stages of COVID - this is seen with the flatline on the right. These will pull the mean ILI incidence downward; t. hey should really be censured entirely. \n",
    "\n",
    "Additionally, flu spikes in 2013 and 2018, likely due to H1N1 epidemics. I don't suspect that these spikes will have a detrimental skewing effect on flu data.\n",
    "\n",
    "Lastly, the rise and fall of google searches for 'cough' and/or 'cold' seems be be growing over time. This might be a result of increasing internet us over time.\n",
    "\n",
    "With these points in mind, it doesn't seem that the google searches are preceeding spikes in flu incidence. It might be that they truly have no predictive value for flu, or perhaps the rate of change in google searches would be better predictors of impending flu spikes. More analysis is required. "
   ]
  }
 ],
 "metadata": {
  "kernelspec": {
   "display_name": ".venv",
   "language": "python",
   "name": "python3"
  },
  "language_info": {
   "codemirror_mode": {
    "name": "ipython",
    "version": 3
   },
   "file_extension": ".py",
   "mimetype": "text/x-python",
   "name": "python",
   "nbconvert_exporter": "python",
   "pygments_lexer": "ipython3",
   "version": "3.11.4"
  },
  "orig_nbformat": 4
 },
 "nbformat": 4,
 "nbformat_minor": 2
}
