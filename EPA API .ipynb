{
 "cells": [
  {
   "cell_type": "code",
   "execution_count": 1,
   "metadata": {},
   "outputs": [],
   "source": [
    "import pandas as pd\n",
    "import requests\n",
    "import json\n",
    "import openpyxl\n",
    "import configparser\n",
    "cfg = configparser.ConfigParser()\n",
    "cfg.read(\"secrets.ini\")\n",
    "my_key=cfg.get(\"default\", \"epa_apikey\")\n",
    "my_email=cfg.get('default','epa_email')"
   ]
  },
  {
   "cell_type": "code",
   "execution_count": 7,
   "metadata": {},
   "outputs": [],
   "source": [
    "import requests\n",
    "import urllib3\n",
    "import ssl\n",
    "\n",
    "\n",
    "class CustomHttpAdapter (requests.adapters.HTTPAdapter):\n",
    "    # \"Transport adapter\" that allows us to use custom ssl_context.\n",
    "\n",
    "    def __init__(self, ssl_context=None, **kwargs):\n",
    "        self.ssl_context = ssl_context\n",
    "        super().__init__(**kwargs)\n",
    "\n",
    "    def init_poolmanager(self, connections, maxsize, block=False):\n",
    "        self.poolmanager = urllib3.poolmanager.PoolManager(\n",
    "            num_pools=connections, maxsize=maxsize,\n",
    "            block=block, ssl_context=self.ssl_context)\n",
    "\n",
    "\n",
    "def get_legacy_session():\n",
    "    ctx = ssl.create_default_context(ssl.Purpose.SERVER_AUTH)\n",
    "    ctx.options |= 0x4  # OP_LEGACY_SERVER_CONNECT\n",
    "    session = requests.session()\n",
    "    session.mount('https://', CustomHttpAdapter(ctx))\n",
    "    return session"
   ]
  },
  {
   "cell_type": "code",
   "execution_count": 11,
   "metadata": {},
   "outputs": [],
   "source": [
    "with (get_legacy_session()) as s: \n",
    "    response = s.get(\"https://aqs.epa.gov/data/api/signup?email=jensenl7@msu.edu\")"
   ]
  },
  {
   "cell_type": "code",
   "execution_count": 12,
   "metadata": {},
   "outputs": [
    {
     "data": {
      "text/plain": [
       "200"
      ]
     },
     "execution_count": 12,
     "metadata": {},
     "output_type": "execute_result"
    }
   ],
   "source": [
    "response.status_code"
   ]
  },
  {
   "cell_type": "code",
   "execution_count": 13,
   "metadata": {},
   "outputs": [
    {
     "data": {
      "text/plain": [
       "{'Header': [{'status': 'Success',\n",
       "   'request_time': '2023-09-14T14:22:32-04:00',\n",
       "   'url': 'https://aqs.epa.gov/data/api/signup?email=jensenl7@msu.edu'}],\n",
       " 'Data': ['You should receive a registration confirmation email with a link for confirming your email shortly.']}"
      ]
     },
     "execution_count": 13,
     "metadata": {},
     "output_type": "execute_result"
    }
   ],
   "source": [
    "response.json()"
   ]
  },
  {
   "cell_type": "code",
   "execution_count": 32,
   "metadata": {},
   "outputs": [],
   "source": [
    "params = {\n",
    "    \"email\" : my_email,\n",
    "    \"key\"   : my_key,\n",
    "    \"state\" : 26,   # Michigan code\n",
    "    #\"county\": '081', # Kent County code\n",
    "}"
   ]
  },
  {
   "cell_type": "code",
   "execution_count": 33,
   "metadata": {},
   "outputs": [],
   "source": [
    "response = get_legacy_session().get(\"https://aqs.epa.gov/data/api/list/countiesByState\", params=params)"
   ]
  },
  {
   "cell_type": "code",
   "execution_count": 34,
   "metadata": {},
   "outputs": [
    {
     "data": {
      "text/plain": [
       "200"
      ]
     },
     "execution_count": 34,
     "metadata": {},
     "output_type": "execute_result"
    }
   ],
   "source": [
    "response.status_code"
   ]
  },
  {
   "cell_type": "code",
   "execution_count": 58,
   "metadata": {},
   "outputs": [],
   "source": [
    "params = {\n",
    "    \"email\" : my_email,\n",
    "    \"key\"   : my_key,\n",
    "    \"state\" : 26,   # Michigan code\n",
    "    #\"county\": '081', # Kent County code\n",
    "    \n",
    "}"
   ]
  },
  {
   "cell_type": "code",
   "execution_count": 86,
   "metadata": {},
   "outputs": [],
   "source": [
    "response = get_legacy_session().get(\"https://aqs.epa.gov/data/api/list/parametersByClass?\", params = {'email':my_email,'key':my_key,'pc':'AQI POLLUTANTS'})"
   ]
  },
  {
   "cell_type": "code",
   "execution_count": 88,
   "metadata": {},
   "outputs": [],
   "source": [
    "param_codes_df = pd.DataFrame(response.json()['Data']).set_index('value_represented')"
   ]
  },
  {
   "cell_type": "code",
   "execution_count": 89,
   "metadata": {},
   "outputs": [
    {
     "data": {
      "text/html": [
       "<div>\n",
       "<style scoped>\n",
       "    .dataframe tbody tr th:only-of-type {\n",
       "        vertical-align: middle;\n",
       "    }\n",
       "\n",
       "    .dataframe tbody tr th {\n",
       "        vertical-align: top;\n",
       "    }\n",
       "\n",
       "    .dataframe thead th {\n",
       "        text-align: right;\n",
       "    }\n",
       "</style>\n",
       "<table border=\"1\" class=\"dataframe\">\n",
       "  <thead>\n",
       "    <tr style=\"text-align: right;\">\n",
       "      <th></th>\n",
       "      <th>code</th>\n",
       "    </tr>\n",
       "    <tr>\n",
       "      <th>value_represented</th>\n",
       "      <th></th>\n",
       "    </tr>\n",
       "  </thead>\n",
       "  <tbody>\n",
       "    <tr>\n",
       "      <th>Carbon monoxide</th>\n",
       "      <td>42101</td>\n",
       "    </tr>\n",
       "    <tr>\n",
       "      <th>Sulfur dioxide</th>\n",
       "      <td>42401</td>\n",
       "    </tr>\n",
       "    <tr>\n",
       "      <th>Nitrogen dioxide (NO2)</th>\n",
       "      <td>42602</td>\n",
       "    </tr>\n",
       "    <tr>\n",
       "      <th>Ozone</th>\n",
       "      <td>44201</td>\n",
       "    </tr>\n",
       "    <tr>\n",
       "      <th>PM10 Total 0-10um STP</th>\n",
       "      <td>81102</td>\n",
       "    </tr>\n",
       "  </tbody>\n",
       "</table>\n",
       "</div>"
      ],
      "text/plain": [
       "                         code\n",
       "value_represented            \n",
       "Carbon monoxide         42101\n",
       "Sulfur dioxide          42401\n",
       "Nitrogen dioxide (NO2)  42602\n",
       "Ozone                   44201\n",
       "PM10 Total 0-10um STP   81102"
      ]
     },
     "execution_count": 89,
     "metadata": {},
     "output_type": "execute_result"
    }
   ],
   "source": [
    "param_codes_df.head()"
   ]
  },
  {
   "cell_type": "code",
   "execution_count": 90,
   "metadata": {},
   "outputs": [
    {
     "data": {
      "text/plain": [
       "Index(['Carbon monoxide', 'Sulfur dioxide', 'Nitrogen dioxide (NO2)', 'Ozone',\n",
       "       'PM10 Total 0-10um STP', 'PM2.5 - Local Conditions',\n",
       "       'Acceptable PM2.5 AQI & Speciation Mass'],\n",
       "      dtype='object', name='value_represented')"
      ]
     },
     "execution_count": 90,
     "metadata": {},
     "output_type": "execute_result"
    }
   ],
   "source": [
    "param_codes_df.index"
   ]
  },
  {
   "cell_type": "code",
   "execution_count": 74,
   "metadata": {},
   "outputs": [
    {
     "data": {
      "text/plain": [
       "'VOC'"
      ]
     },
     "execution_count": 74,
     "metadata": {},
     "output_type": "execute_result"
    }
   ],
   "source": [
    "param_codes_df.loc['Volatile organic compounds'][0]"
   ]
  },
  {
   "cell_type": "code",
   "execution_count": 109,
   "metadata": {},
   "outputs": [],
   "source": [
    "params = {\n",
    "    \"email\" : my_email,\n",
    "    \"key\"   : my_key,\n",
    "    \"state\" : 26,   # Michigan code\n",
    "    \"county\": '081', # Kent County code\n",
    "    \"bdate\" : 20220101,\n",
    "    \"edate\" : 20220601,\n",
    "    \"param\" : param_codes_df.loc['Sulfur dioxide'][0],\n",
    "    \n",
    "}"
   ]
  },
  {
   "cell_type": "code",
   "execution_count": 110,
   "metadata": {},
   "outputs": [],
   "source": [
    "response = get_legacy_session().get(\"https://aqs.epa.gov/data/api/transactionsSample/byCounty\",params=params)"
   ]
  },
  {
   "cell_type": "code",
   "execution_count": 112,
   "metadata": {},
   "outputs": [],
   "source": [
    "response  = get_legacy_session().get(\"https://aqs.epa.gov/data/api/dailyData/byCounty?\",params=params)"
   ]
  },
  {
   "cell_type": "code",
   "execution_count": 113,
   "metadata": {},
   "outputs": [
    {
     "data": {
      "text/plain": [
       "Index(['state_code', 'county_code', 'site_number', 'parameter_code', 'poc',\n",
       "       'latitude', 'longitude', 'datum', 'parameter', 'sample_duration_code',\n",
       "       'sample_duration', 'pollutant_standard', 'date_local',\n",
       "       'units_of_measure', 'event_type', 'observation_count',\n",
       "       'observation_percent', 'validity_indicator', 'arithmetic_mean',\n",
       "       'first_max_value', 'first_max_hour', 'aqi', 'method_code', 'method',\n",
       "       'local_site_name', 'site_address', 'state', 'county', 'city',\n",
       "       'cbsa_code', 'cbsa', 'date_of_last_change'],\n",
       "      dtype='object')"
      ]
     },
     "execution_count": 113,
     "metadata": {},
     "output_type": "execute_result"
    }
   ],
   "source": [
    "pd.DataFrame(response.json()['Data']).columns"
   ]
  },
  {
   "cell_type": "code",
   "execution_count": 114,
   "metadata": {},
   "outputs": [],
   "source": [
    "pd.DataFrame(response.json()['Data']).to_excel('b.xlsx')"
   ]
  },
  {
   "cell_type": "code",
   "execution_count": null,
   "metadata": {},
   "outputs": [],
   "source": []
  }
 ],
 "metadata": {
  "kernelspec": {
   "display_name": "Python 3",
   "language": "python",
   "name": "python3"
  },
  "language_info": {
   "codemirror_mode": {
    "name": "ipython",
    "version": 3
   },
   "file_extension": ".py",
   "mimetype": "text/x-python",
   "name": "python",
   "nbconvert_exporter": "python",
   "pygments_lexer": "ipython3",
   "version": "3.11.5"
  },
  "orig_nbformat": 4
 },
 "nbformat": 4,
 "nbformat_minor": 2
}
