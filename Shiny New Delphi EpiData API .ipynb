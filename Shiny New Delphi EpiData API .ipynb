{
 "cells": [
  {
   "cell_type": "markdown",
   "metadata": {},
   "source": [
    "# Sadly not as helpful as I'd hoped"
   ]
  },
  {
   "cell_type": "code",
   "execution_count": 1,
   "metadata": {},
   "outputs": [],
   "source": [
    "import pandas as pd\n",
    "import seaborn as sns\n",
    "from datetime import datetime\n",
    "import configparser\n",
    "cfg = configparser.ConfigParser()\n",
    "cfg.read(\"secrets.ini\")\n",
    "my_key=cfg.get(\"default\", \"delphi_epidata_apikey\")"
   ]
  },
  {
   "cell_type": "code",
   "execution_count": 2,
   "metadata": {},
   "outputs": [],
   "source": [
    "from delphi_epidata import Epidata"
   ]
  },
  {
   "cell_type": "code",
   "execution_count": 3,
   "metadata": {},
   "outputs": [],
   "source": [
    "Epidata.BASE_URL = \"https://api.covidcast.cmu.edu/epidata/api.php\""
   ]
  },
  {
   "cell_type": "code",
   "execution_count": 4,
   "metadata": {},
   "outputs": [],
   "source": [
    "Epidata.auth = ('epidata',my_key)"
   ]
  },
  {
   "cell_type": "code",
   "execution_count": 5,
   "metadata": {},
   "outputs": [],
   "source": [
    "import covidcast as cc"
   ]
  },
  {
   "cell_type": "code",
   "execution_count": 6,
   "metadata": {},
   "outputs": [],
   "source": [
    "cc.covidcast.use_api_key(my_key)"
   ]
  },
  {
   "cell_type": "code",
   "execution_count": 7,
   "metadata": {},
   "outputs": [],
   "source": [
    "from epiweeks import Week"
   ]
  },
  {
   "cell_type": "code",
   "execution_count": 32,
   "metadata": {},
   "outputs": [],
   "source": [
    "res = Epidata.flusurv(['US-MI-563'], [201949])"
   ]
  },
  {
   "cell_type": "code",
   "execution_count": 34,
   "metadata": {},
   "outputs": [
    {
     "data": {
      "text/plain": [
       "{'result': -2, 'message': 'no results'}"
      ]
     },
     "execution_count": 34,
     "metadata": {},
     "output_type": "execute_result"
    }
   ],
   "source": [
    "res"
   ]
  },
  {
   "cell_type": "code",
   "execution_count": 40,
   "metadata": {},
   "outputs": [
    {
     "ename": "KeyError",
     "evalue": "'epidata'",
     "output_type": "error",
     "traceback": [
      "\u001b[1;31m---------------------------------------------------------------------------\u001b[0m",
      "\u001b[1;31mKeyError\u001b[0m                                  Traceback (most recent call last)",
      "\u001b[1;32mc:\\Users\\ljens\\OneDrive\\Documents\\MSU MPH\\capstone\\Thesis-Scribbles\\Shiny New Delphi EpiData API .ipynb Cell 12\u001b[0m line \u001b[0;36m2\n\u001b[0;32m      <a href='vscode-notebook-cell:/c%3A/Users/ljens/OneDrive/Documents/MSU%20MPH/capstone/Thesis-Scribbles/Shiny%20New%20Delphi%20EpiData%20API%20.ipynb#X15sZmlsZQ%3D%3D?line=0'>1</a>\u001b[0m res \u001b[39m=\u001b[39m Epidata\u001b[39m.\u001b[39msensors([\u001b[39m'\u001b[39m\u001b[39mnat\u001b[39m\u001b[39m'\u001b[39m], [\u001b[39m'\u001b[39m\u001b[39msar3\u001b[39m\u001b[39m'\u001b[39m], locations\u001b[39m=\u001b[39m[\u001b[39m'\u001b[39m\u001b[39mmi\u001b[39m\u001b[39m'\u001b[39m], epiweeks\u001b[39m=\u001b[39m [\u001b[39m201949\u001b[39m, Epidata\u001b[39m.\u001b[39mrange(\u001b[39m202001\u001b[39m, \u001b[39m202010\u001b[39m)])\n\u001b[1;32m----> <a href='vscode-notebook-cell:/c%3A/Users/ljens/OneDrive/Documents/MSU%20MPH/capstone/Thesis-Scribbles/Shiny%20New%20Delphi%20EpiData%20API%20.ipynb#X15sZmlsZQ%3D%3D?line=1'>2</a>\u001b[0m \u001b[39mprint\u001b[39m(res[\u001b[39m'\u001b[39m\u001b[39mresult\u001b[39m\u001b[39m'\u001b[39m], res[\u001b[39m'\u001b[39m\u001b[39mmessage\u001b[39m\u001b[39m'\u001b[39m], \u001b[39mlen\u001b[39m(res[\u001b[39m'\u001b[39;49m\u001b[39mepidata\u001b[39;49m\u001b[39m'\u001b[39;49m]))\n",
      "\u001b[1;31mKeyError\u001b[0m: 'epidata'"
     ]
    }
   ],
   "source": [
    "res = Epidata.sensors(['nat'], ['sar3'], locations=['mi'], epiweeks= [201949, Epidata.range(202001, 202010)])\n",
    "print(res['result'], res['message'], len(res['epidata']))"
   ]
  },
  {
   "cell_type": "code",
   "execution_count": null,
   "metadata": {},
   "outputs": [],
   "source": [
    "Epidata.range()"
   ]
  }
 ],
 "metadata": {
  "kernelspec": {
   "display_name": "Python 3",
   "language": "python",
   "name": "python3"
  },
  "language_info": {
   "codemirror_mode": {
    "name": "ipython",
    "version": 3
   },
   "file_extension": ".py",
   "mimetype": "text/x-python",
   "name": "python",
   "nbconvert_exporter": "python",
   "pygments_lexer": "ipython3",
   "version": "3.11.5"
  },
  "orig_nbformat": 4
 },
 "nbformat": 4,
 "nbformat_minor": 2
}
