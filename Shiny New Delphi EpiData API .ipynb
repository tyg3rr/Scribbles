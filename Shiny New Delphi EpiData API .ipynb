{
 "cells": [
  {
   "cell_type": "markdown",
   "metadata": {},
   "source": [
    "# Sadly not as helpful as I'd hoped"
   ]
  },
  {
   "cell_type": "code",
   "execution_count": 1,
   "metadata": {},
   "outputs": [],
   "source": [
    "import pandas as pd\n",
    "import seaborn as sns\n",
    "from datetime import datetime\n",
    "import configparser\n",
    "cfg = configparser.ConfigParser()\n",
    "cfg.read(\"secrets.ini\")\n",
    "my_key=cfg.get(\"default\", \"delphi_epidata_apikey\")"
   ]
  },
  {
   "cell_type": "code",
   "execution_count": 2,
   "metadata": {},
   "outputs": [],
   "source": [
    "from delphi_epidata import Epidata"
   ]
  },
  {
   "cell_type": "code",
   "execution_count": 3,
   "metadata": {},
   "outputs": [],
   "source": [
    "Epidata.BASE_URL = \"https://api.covidcast.cmu.edu/epidata/api.php\""
   ]
  },
  {
   "cell_type": "code",
   "execution_count": 4,
   "metadata": {},
   "outputs": [],
   "source": [
    "Epidata.auth = ('epidata',my_key)"
   ]
  },
  {
   "cell_type": "code",
   "execution_count": 5,
   "metadata": {},
   "outputs": [],
   "source": [
    "import covidcast as cc"
   ]
  },
  {
   "cell_type": "code",
   "execution_count": 6,
   "metadata": {},
   "outputs": [],
   "source": [
    "cc.covidcast.use_api_key(my_key)"
   ]
  },
  {
   "cell_type": "code",
   "execution_count": 7,
   "metadata": {},
   "outputs": [],
   "source": [
    "from epiweeks import Week"
   ]
  },
  {
   "cell_type": "code",
   "execution_count": 8,
   "metadata": {},
   "outputs": [
    {
     "name": "stdout",
     "output_type": "stream",
     "text": [
      "Help on class Epidata in module delphi_epidata.delphi_epidata:\n",
      "\n",
      "class Epidata(builtins.object)\n",
      " |  An interface to DELPHI's Epidata API.\n",
      " |  \n",
      " |  Static methods defined here:\n",
      " |  \n",
      " |  async_epidata(param_list, batch_size=50)\n",
      " |      Make asynchronous Epidata calls for a list of parameters.\n",
      " |  \n",
      " |  cdc(auth, epiweeks, locations)\n",
      " |      Fetch CDC page hits.\n",
      " |  \n",
      " |  check(resp)\n",
      " |      Raise an Exception on error, otherwise return epidata.\n",
      " |  \n",
      " |  covid_hosp(states, dates, issues=None, as_of=None)\n",
      " |      Fetch COVID hospitalization data.\n",
      " |  \n",
      " |  covid_hosp_facility(hospital_pks, collection_weeks, publication_dates=None)\n",
      " |      Fetch COVID hospitalization data for specific facilities.\n",
      " |  \n",
      " |  covid_hosp_facility_lookup(state=None, ccn=None, city=None, zip=None, fips_code=None)\n",
      " |      Lookup COVID hospitalization facility identifiers.\n",
      " |  \n",
      " |  covidcast(data_source, signals, time_type, geo_type, time_values, geo_value, as_of=None, issues=None, lag=None, **kwargs)\n",
      " |      Fetch Delphi's COVID-19 Surveillance Streams\n",
      " |  \n",
      " |  covidcast_meta()\n",
      " |      Fetch Delphi's COVID-19 Surveillance Streams metadata\n",
      " |  \n",
      " |  covidcast_nowcast(data_source, signals, sensor_names, time_type, geo_type, time_values, geo_value, as_of=None, issues=None, lag=None, **kwargs)\n",
      " |      Fetch Delphi's COVID-19 Nowcast sensors\n",
      " |  \n",
      " |  delphi(system, epiweek)\n",
      " |      Fetch Delphi's forecast.\n",
      " |  \n",
      " |  dengue_nowcast(locations, epiweeks)\n",
      " |      Fetch Delphi's dengue nowcast.\n",
      " |  \n",
      " |  dengue_sensors(auth, names, locations, epiweeks)\n",
      " |      Fetch Delphi's digital surveillance sensors.\n",
      " |  \n",
      " |  ecdc_ili(regions, epiweeks, issues=None, lag=None)\n",
      " |      Fetch ECDC ILI data.\n",
      " |  \n",
      " |  flusurv(locations, epiweeks, issues=None, lag=None)\n",
      " |      Fetch FluSurv data.\n",
      " |  \n",
      " |  fluview(regions, epiweeks, issues=None, lag=None, auth=None)\n",
      " |      Fetch FluView data.\n",
      " |  \n",
      " |  fluview_clinical(regions, epiweeks, issues=None, lag=None)\n",
      " |      Fetch FluView clinical data.\n",
      " |  \n",
      " |  fluview_meta()\n",
      " |      Fetch FluView metadata.\n",
      " |  \n",
      " |  gft(locations, epiweeks)\n",
      " |      Fetch Google Flu Trends data.\n",
      " |  \n",
      " |  ght(auth, locations, epiweeks, query)\n",
      " |      Fetch Google Health Trends data.\n",
      " |  \n",
      " |  kcdc_ili(regions, epiweeks, issues=None, lag=None)\n",
      " |      Fetch KCDC ILI data.\n",
      " |  \n",
      " |  meta()\n",
      " |      Fetch API metadata.\n",
      " |  \n",
      " |  meta_norostat(auth)\n",
      " |      Fetch NoroSTAT metadata.\n",
      " |  \n",
      " |  nidss_dengue(locations, epiweeks)\n",
      " |      Fetch NIDSS dengue data.\n",
      " |  \n",
      " |  nidss_flu(regions, epiweeks, issues=None, lag=None)\n",
      " |      Fetch NIDSS flu data.\n",
      " |  \n",
      " |  norostat(auth, location, epiweeks)\n",
      " |      Fetch NoroSTAT data (point data, no min/max).\n",
      " |  \n",
      " |  nowcast(locations, epiweeks)\n",
      " |      Fetch Delphi's wILI nowcast.\n",
      " |  \n",
      " |  paho_dengue(regions, epiweeks, issues=None, lag=None)\n",
      " |      Fetch PAHO Dengue data.\n",
      " |  \n",
      " |  quidel(auth, epiweeks, locations)\n",
      " |      Fetch Quidel data.\n",
      " |  \n",
      " |  range(from_, to_)\n",
      " |      Build a `range` object (ex: dates/epiweeks).\n",
      " |  \n",
      " |  sensors(auth, names, locations, epiweeks)\n",
      " |      Fetch Delphi's digital surveillance sensors.\n",
      " |  \n",
      " |  twitter(auth, locations, dates=None, epiweeks=None)\n",
      " |      Fetch HealthTweets data.\n",
      " |  \n",
      " |  wiki(articles, dates=None, epiweeks=None, hours=None, language='en')\n",
      " |      Fetch Wikipedia access data.\n",
      " |  \n",
      " |  ----------------------------------------------------------------------\n",
      " |  Data descriptors defined here:\n",
      " |  \n",
      " |  __dict__\n",
      " |      dictionary for instance variables (if defined)\n",
      " |  \n",
      " |  __weakref__\n",
      " |      list of weak references to the object (if defined)\n",
      " |  \n",
      " |  ----------------------------------------------------------------------\n",
      " |  Data and other attributes defined here:\n",
      " |  \n",
      " |  BASE_URL = 'https://api.covidcast.cmu.edu/epidata/api.php'\n",
      " |  \n",
      " |  auth = ('epidata', '751af2a8e1b17')\n",
      " |  \n",
      " |  client_version = '4.1.9'\n",
      "\n"
     ]
    }
   ],
   "source": [
    "help(Epidata)"
   ]
  },
  {
   "cell_type": "code",
   "execution_count": 32,
   "metadata": {},
   "outputs": [],
   "source": [
    "res = Epidata.flusurv(['US-MI-563'], [201949])"
   ]
  },
  {
   "cell_type": "code",
   "execution_count": 34,
   "metadata": {},
   "outputs": [
    {
     "data": {
      "text/plain": [
       "{'result': -2, 'message': 'no results'}"
      ]
     },
     "execution_count": 34,
     "metadata": {},
     "output_type": "execute_result"
    }
   ],
   "source": [
    "res"
   ]
  },
  {
   "cell_type": "code",
   "execution_count": 40,
   "metadata": {},
   "outputs": [
    {
     "ename": "KeyError",
     "evalue": "'epidata'",
     "output_type": "error",
     "traceback": [
      "\u001b[1;31m---------------------------------------------------------------------------\u001b[0m",
      "\u001b[1;31mKeyError\u001b[0m                                  Traceback (most recent call last)",
      "\u001b[1;32mc:\\Users\\ljens\\OneDrive\\Documents\\MSU MPH\\capstone\\Thesis-Scribbles\\Shiny New Delphi EpiData API .ipynb Cell 12\u001b[0m line \u001b[0;36m2\n\u001b[0;32m      <a href='vscode-notebook-cell:/c%3A/Users/ljens/OneDrive/Documents/MSU%20MPH/capstone/Thesis-Scribbles/Shiny%20New%20Delphi%20EpiData%20API%20.ipynb#X15sZmlsZQ%3D%3D?line=0'>1</a>\u001b[0m res \u001b[39m=\u001b[39m Epidata\u001b[39m.\u001b[39msensors([\u001b[39m'\u001b[39m\u001b[39mnat\u001b[39m\u001b[39m'\u001b[39m], [\u001b[39m'\u001b[39m\u001b[39msar3\u001b[39m\u001b[39m'\u001b[39m], locations\u001b[39m=\u001b[39m[\u001b[39m'\u001b[39m\u001b[39mmi\u001b[39m\u001b[39m'\u001b[39m], epiweeks\u001b[39m=\u001b[39m [\u001b[39m201949\u001b[39m, Epidata\u001b[39m.\u001b[39mrange(\u001b[39m202001\u001b[39m, \u001b[39m202010\u001b[39m)])\n\u001b[1;32m----> <a href='vscode-notebook-cell:/c%3A/Users/ljens/OneDrive/Documents/MSU%20MPH/capstone/Thesis-Scribbles/Shiny%20New%20Delphi%20EpiData%20API%20.ipynb#X15sZmlsZQ%3D%3D?line=1'>2</a>\u001b[0m \u001b[39mprint\u001b[39m(res[\u001b[39m'\u001b[39m\u001b[39mresult\u001b[39m\u001b[39m'\u001b[39m], res[\u001b[39m'\u001b[39m\u001b[39mmessage\u001b[39m\u001b[39m'\u001b[39m], \u001b[39mlen\u001b[39m(res[\u001b[39m'\u001b[39;49m\u001b[39mepidata\u001b[39;49m\u001b[39m'\u001b[39;49m]))\n",
      "\u001b[1;31mKeyError\u001b[0m: 'epidata'"
     ]
    }
   ],
   "source": [
    "res = Epidata.sensors(['nat'], ['sar3'], locations=['mi'], epiweeks= [201949, Epidata.range(202001, 202010)])\n",
    "print(res['result'], res['message'], len(res['epidata']))"
   ]
  },
  {
   "cell_type": "code",
   "execution_count": null,
   "metadata": {},
   "outputs": [],
   "source": [
    "Epidata.range()"
   ]
  }
 ],
 "metadata": {
  "kernelspec": {
   "display_name": "Python 3",
   "language": "python",
   "name": "python3"
  },
  "language_info": {
   "codemirror_mode": {
    "name": "ipython",
    "version": 3
   },
   "file_extension": ".py",
   "mimetype": "text/x-python",
   "name": "python",
   "nbconvert_exporter": "python",
   "pygments_lexer": "ipython3",
   "version": "3.11.5"
  },
  "orig_nbformat": 4
 },
 "nbformat": 4,
 "nbformat_minor": 2
}
