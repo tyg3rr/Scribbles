{
 "cells": [
  {
   "cell_type": "markdown",
   "metadata": {},
   "source": [
    "## added top_poll to main dataset\n",
    "did quick OLS"
   ]
  },
  {
   "cell_type": "code",
   "execution_count": 1,
   "metadata": {},
   "outputs": [],
   "source": [
    "import pandas as pd\n",
    "from datetime import datetime, date\n",
    "from epiweeks import Week\n",
    "import statsmodels.api as sm\n",
    "import numpy as np"
   ]
  },
  {
   "cell_type": "code",
   "execution_count": 2,
   "metadata": {},
   "outputs": [],
   "source": [
    "df = pd.read_csv(\"dataset by week (no outliers, median-filled) .csv\")"
   ]
  },
  {
   "cell_type": "code",
   "execution_count": 3,
   "metadata": {},
   "outputs": [
    {
     "data": {
      "text/plain": [
       "Index(['Unnamed: 0', 'epiweek', 'weekstart', 'cases', 'edvisits', 'wind',\n",
       "       'precip', 'snow', 'temp', 'aqi', 'co', 'Ozone', 'pm10', 'pm25', 'no2',\n",
       "       'flu', 'cough', 'cold', 'year', 'month_1', 'month_2', 'month_3',\n",
       "       'month_4', 'month_5', 'month_6', 'month_7', 'month_8', 'month_9',\n",
       "       'month_10', 'month_11', 'month_12', 'top_pollutant', 'month'],\n",
       "      dtype='object')"
      ]
     },
     "execution_count": 3,
     "metadata": {},
     "output_type": "execute_result"
    }
   ],
   "source": [
    "df.columns"
   ]
  },
  {
   "cell_type": "code",
   "execution_count": 4,
   "metadata": {},
   "outputs": [],
   "source": [
    "df = df.join(pd.get_dummies(df['top_pollutant'],prefix='top_poll'))"
   ]
  },
  {
   "cell_type": "code",
   "execution_count": 5,
   "metadata": {},
   "outputs": [
    {
     "data": {
      "text/plain": [
       "Index(['Unnamed: 0', 'epiweek', 'weekstart', 'cases', 'edvisits', 'wind',\n",
       "       'precip', 'snow', 'temp', 'aqi', 'co', 'Ozone', 'pm10', 'pm25', 'no2',\n",
       "       'flu', 'cough', 'cold', 'year', 'month_1', 'month_2', 'month_3',\n",
       "       'month_4', 'month_5', 'month_6', 'month_7', 'month_8', 'month_9',\n",
       "       'month_10', 'month_11', 'month_12', 'top_pollutant', 'month',\n",
       "       'top_poll_CO', 'top_poll_NO2', 'top_poll_Ozone', 'top_poll_PM2.5'],\n",
       "      dtype='object')"
      ]
     },
     "execution_count": 5,
     "metadata": {},
     "output_type": "execute_result"
    }
   ],
   "source": [
    "df.columns"
   ]
  },
  {
   "cell_type": "code",
   "execution_count": 19,
   "metadata": {},
   "outputs": [],
   "source": [
    "mod = sm.OLS(\n",
    "            endog=df['cases'], \n",
    "            exog=sm.add_constant(df[[\n",
    "                'month_1'\n",
    "                ,'month_2'\n",
    "                ,'month_3'\n",
    "                ,'month_4'\n",
    "                ,'month_5'\n",
    "                ,'month_9'\n",
    "                ,'month_10'\n",
    "                ,'month_11'\n",
    "                ,'month_12'\n",
    "                , 'top_poll_NO2'\n",
    "                ,'top_poll_Ozone'\n",
    "                ,'top_poll_PM2.5'\n",
    "                ]]) )"
   ]
  },
  {
   "cell_type": "code",
   "execution_count": 20,
   "metadata": {},
   "outputs": [
    {
     "data": {
      "text/html": [
       "<table class=\"simpletable\">\n",
       "<caption>OLS Regression Results</caption>\n",
       "<tr>\n",
       "  <th>Dep. Variable:</th>          <td>cases</td>      <th>  R-squared:         </th> <td>   0.575</td> \n",
       "</tr>\n",
       "<tr>\n",
       "  <th>Model:</th>                   <td>OLS</td>       <th>  Adj. R-squared:    </th> <td>   0.568</td> \n",
       "</tr>\n",
       "<tr>\n",
       "  <th>Method:</th>             <td>Least Squares</td>  <th>  F-statistic:       </th> <td>   84.98</td> \n",
       "</tr>\n",
       "<tr>\n",
       "  <th>Date:</th>             <td>Sat, 11 Nov 2023</td> <th>  Prob (F-statistic):</th> <td>3.13e-131</td>\n",
       "</tr>\n",
       "<tr>\n",
       "  <th>Time:</th>                 <td>16:43:51</td>     <th>  Log-Likelihood:    </th> <td> -5828.7</td> \n",
       "</tr>\n",
       "<tr>\n",
       "  <th>No. Observations:</th>      <td>   768</td>      <th>  AIC:               </th> <td>1.168e+04</td>\n",
       "</tr>\n",
       "<tr>\n",
       "  <th>Df Residuals:</th>          <td>   755</td>      <th>  BIC:               </th> <td>1.174e+04</td>\n",
       "</tr>\n",
       "<tr>\n",
       "  <th>Df Model:</th>              <td>    12</td>      <th>                     </th>     <td> </td>    \n",
       "</tr>\n",
       "<tr>\n",
       "  <th>Covariance Type:</th>      <td>nonrobust</td>    <th>                     </th>     <td> </td>    \n",
       "</tr>\n",
       "</table>\n",
       "<table class=\"simpletable\">\n",
       "<tr>\n",
       "         <td></td>           <th>coef</th>     <th>std err</th>      <th>t</th>      <th>P>|t|</th>  <th>[0.025</th>    <th>0.975]</th>  \n",
       "</tr>\n",
       "<tr>\n",
       "  <th>const</th>          <td>   -4.6329</td> <td>  206.038</td> <td>   -0.022</td> <td> 0.982</td> <td> -409.108</td> <td>  399.842</td>\n",
       "</tr>\n",
       "<tr>\n",
       "  <th>month_1</th>        <td> 1392.6371</td> <td>   75.546</td> <td>   18.434</td> <td> 0.000</td> <td> 1244.332</td> <td> 1540.942</td>\n",
       "</tr>\n",
       "<tr>\n",
       "  <th>month_2</th>        <td> 1623.0089</td> <td>   75.589</td> <td>   21.471</td> <td> 0.000</td> <td> 1474.618</td> <td> 1771.400</td>\n",
       "</tr>\n",
       "<tr>\n",
       "  <th>month_3</th>        <td> 1543.6589</td> <td>   69.077</td> <td>   22.347</td> <td> 0.000</td> <td> 1408.054</td> <td> 1679.264</td>\n",
       "</tr>\n",
       "<tr>\n",
       "  <th>month_4</th>        <td>  722.2291</td> <td>   68.051</td> <td>   10.613</td> <td> 0.000</td> <td>  588.638</td> <td>  855.820</td>\n",
       "</tr>\n",
       "<tr>\n",
       "  <th>month_5</th>        <td>  659.6595</td> <td>   68.911</td> <td>    9.573</td> <td> 0.000</td> <td>  524.380</td> <td>  794.939</td>\n",
       "</tr>\n",
       "<tr>\n",
       "  <th>month_9</th>        <td>  658.2212</td> <td>   69.381</td> <td>    9.487</td> <td> 0.000</td> <td>  522.018</td> <td>  794.424</td>\n",
       "</tr>\n",
       "<tr>\n",
       "  <th>month_10</th>       <td> 1092.3918</td> <td>   76.535</td> <td>   14.273</td> <td> 0.000</td> <td>  942.145</td> <td> 1242.639</td>\n",
       "</tr>\n",
       "<tr>\n",
       "  <th>month_11</th>       <td> 1040.1180</td> <td>   75.945</td> <td>   13.696</td> <td> 0.000</td> <td>  891.030</td> <td> 1189.206</td>\n",
       "</tr>\n",
       "<tr>\n",
       "  <th>month_12</th>       <td>  871.6418</td> <td>   74.682</td> <td>   11.671</td> <td> 0.000</td> <td>  725.033</td> <td> 1018.251</td>\n",
       "</tr>\n",
       "<tr>\n",
       "  <th>top_poll_NO2</th>   <td>  124.1830</td> <td>  221.351</td> <td>    0.561</td> <td> 0.575</td> <td> -310.353</td> <td>  558.719</td>\n",
       "</tr>\n",
       "<tr>\n",
       "  <th>top_poll_Ozone</th> <td>   59.0702</td> <td>  204.046</td> <td>    0.289</td> <td> 0.772</td> <td> -341.495</td> <td>  459.636</td>\n",
       "</tr>\n",
       "<tr>\n",
       "  <th>top_poll_PM2.5</th> <td>   45.6066</td> <td>  203.157</td> <td>    0.224</td> <td> 0.822</td> <td> -353.213</td> <td>  444.426</td>\n",
       "</tr>\n",
       "</table>\n",
       "<table class=\"simpletable\">\n",
       "<tr>\n",
       "  <th>Omnibus:</th>       <td>20.167</td> <th>  Durbin-Watson:     </th> <td>   1.093</td>\n",
       "</tr>\n",
       "<tr>\n",
       "  <th>Prob(Omnibus):</th> <td> 0.000</td> <th>  Jarque-Bera (JB):  </th> <td>  42.849</td>\n",
       "</tr>\n",
       "<tr>\n",
       "  <th>Skew:</th>          <td> 0.027</td> <th>  Prob(JB):          </th> <td>4.96e-10</td>\n",
       "</tr>\n",
       "<tr>\n",
       "  <th>Kurtosis:</th>      <td> 4.156</td> <th>  Cond. No.          </th> <td>    29.1</td>\n",
       "</tr>\n",
       "</table><br/><br/>Notes:<br/>[1] Standard Errors assume that the covariance matrix of the errors is correctly specified."
      ],
      "text/latex": [
       "\\begin{center}\n",
       "\\begin{tabular}{lclc}\n",
       "\\toprule\n",
       "\\textbf{Dep. Variable:}    &      cases       & \\textbf{  R-squared:         } &     0.575   \\\\\n",
       "\\textbf{Model:}            &       OLS        & \\textbf{  Adj. R-squared:    } &     0.568   \\\\\n",
       "\\textbf{Method:}           &  Least Squares   & \\textbf{  F-statistic:       } &     84.98   \\\\\n",
       "\\textbf{Date:}             & Sat, 11 Nov 2023 & \\textbf{  Prob (F-statistic):} & 3.13e-131   \\\\\n",
       "\\textbf{Time:}             &     16:43:51     & \\textbf{  Log-Likelihood:    } &   -5828.7   \\\\\n",
       "\\textbf{No. Observations:} &         768      & \\textbf{  AIC:               } & 1.168e+04   \\\\\n",
       "\\textbf{Df Residuals:}     &         755      & \\textbf{  BIC:               } & 1.174e+04   \\\\\n",
       "\\textbf{Df Model:}         &          12      & \\textbf{                     } &             \\\\\n",
       "\\textbf{Covariance Type:}  &    nonrobust     & \\textbf{                     } &             \\\\\n",
       "\\bottomrule\n",
       "\\end{tabular}\n",
       "\\begin{tabular}{lcccccc}\n",
       "                          & \\textbf{coef} & \\textbf{std err} & \\textbf{t} & \\textbf{P$> |$t$|$} & \\textbf{[0.025} & \\textbf{0.975]}  \\\\\n",
       "\\midrule\n",
       "\\textbf{const}            &      -4.6329  &      206.038     &    -0.022  &         0.982        &     -409.108    &      399.842     \\\\\n",
       "\\textbf{month\\_1}         &    1392.6371  &       75.546     &    18.434  &         0.000        &     1244.332    &     1540.942     \\\\\n",
       "\\textbf{month\\_2}         &    1623.0089  &       75.589     &    21.471  &         0.000        &     1474.618    &     1771.400     \\\\\n",
       "\\textbf{month\\_3}         &    1543.6589  &       69.077     &    22.347  &         0.000        &     1408.054    &     1679.264     \\\\\n",
       "\\textbf{month\\_4}         &     722.2291  &       68.051     &    10.613  &         0.000        &      588.638    &      855.820     \\\\\n",
       "\\textbf{month\\_5}         &     659.6595  &       68.911     &     9.573  &         0.000        &      524.380    &      794.939     \\\\\n",
       "\\textbf{month\\_9}         &     658.2212  &       69.381     &     9.487  &         0.000        &      522.018    &      794.424     \\\\\n",
       "\\textbf{month\\_10}        &    1092.3918  &       76.535     &    14.273  &         0.000        &      942.145    &     1242.639     \\\\\n",
       "\\textbf{month\\_11}        &    1040.1180  &       75.945     &    13.696  &         0.000        &      891.030    &     1189.206     \\\\\n",
       "\\textbf{month\\_12}        &     871.6418  &       74.682     &    11.671  &         0.000        &      725.033    &     1018.251     \\\\\n",
       "\\textbf{top\\_poll\\_NO2}   &     124.1830  &      221.351     &     0.561  &         0.575        &     -310.353    &      558.719     \\\\\n",
       "\\textbf{top\\_poll\\_Ozone} &      59.0702  &      204.046     &     0.289  &         0.772        &     -341.495    &      459.636     \\\\\n",
       "\\textbf{top\\_poll\\_PM2.5} &      45.6066  &      203.157     &     0.224  &         0.822        &     -353.213    &      444.426     \\\\\n",
       "\\bottomrule\n",
       "\\end{tabular}\n",
       "\\begin{tabular}{lclc}\n",
       "\\textbf{Omnibus:}       & 20.167 & \\textbf{  Durbin-Watson:     } &    1.093  \\\\\n",
       "\\textbf{Prob(Omnibus):} &  0.000 & \\textbf{  Jarque-Bera (JB):  } &   42.849  \\\\\n",
       "\\textbf{Skew:}          &  0.027 & \\textbf{  Prob(JB):          } & 4.96e-10  \\\\\n",
       "\\textbf{Kurtosis:}      &  4.156 & \\textbf{  Cond. No.          } &     29.1  \\\\\n",
       "\\bottomrule\n",
       "\\end{tabular}\n",
       "%\\caption{OLS Regression Results}\n",
       "\\end{center}\n",
       "\n",
       "Notes: \\newline\n",
       " [1] Standard Errors assume that the covariance matrix of the errors is correctly specified."
      ],
      "text/plain": [
       "<class 'statsmodels.iolib.summary.Summary'>\n",
       "\"\"\"\n",
       "                            OLS Regression Results                            \n",
       "==============================================================================\n",
       "Dep. Variable:                  cases   R-squared:                       0.575\n",
       "Model:                            OLS   Adj. R-squared:                  0.568\n",
       "Method:                 Least Squares   F-statistic:                     84.98\n",
       "Date:                Sat, 11 Nov 2023   Prob (F-statistic):          3.13e-131\n",
       "Time:                        16:43:51   Log-Likelihood:                -5828.7\n",
       "No. Observations:                 768   AIC:                         1.168e+04\n",
       "Df Residuals:                     755   BIC:                         1.174e+04\n",
       "Df Model:                          12                                         \n",
       "Covariance Type:            nonrobust                                         \n",
       "==================================================================================\n",
       "                     coef    std err          t      P>|t|      [0.025      0.975]\n",
       "----------------------------------------------------------------------------------\n",
       "const             -4.6329    206.038     -0.022      0.982    -409.108     399.842\n",
       "month_1         1392.6371     75.546     18.434      0.000    1244.332    1540.942\n",
       "month_2         1623.0089     75.589     21.471      0.000    1474.618    1771.400\n",
       "month_3         1543.6589     69.077     22.347      0.000    1408.054    1679.264\n",
       "month_4          722.2291     68.051     10.613      0.000     588.638     855.820\n",
       "month_5          659.6595     68.911      9.573      0.000     524.380     794.939\n",
       "month_9          658.2212     69.381      9.487      0.000     522.018     794.424\n",
       "month_10        1092.3918     76.535     14.273      0.000     942.145    1242.639\n",
       "month_11        1040.1180     75.945     13.696      0.000     891.030    1189.206\n",
       "month_12         871.6418     74.682     11.671      0.000     725.033    1018.251\n",
       "top_poll_NO2     124.1830    221.351      0.561      0.575    -310.353     558.719\n",
       "top_poll_Ozone    59.0702    204.046      0.289      0.772    -341.495     459.636\n",
       "top_poll_PM2.5    45.6066    203.157      0.224      0.822    -353.213     444.426\n",
       "==============================================================================\n",
       "Omnibus:                       20.167   Durbin-Watson:                   1.093\n",
       "Prob(Omnibus):                  0.000   Jarque-Bera (JB):               42.849\n",
       "Skew:                           0.027   Prob(JB):                     4.96e-10\n",
       "Kurtosis:                       4.156   Cond. No.                         29.1\n",
       "==============================================================================\n",
       "\n",
       "Notes:\n",
       "[1] Standard Errors assume that the covariance matrix of the errors is correctly specified.\n",
       "\"\"\""
      ]
     },
     "execution_count": 20,
     "metadata": {},
     "output_type": "execute_result"
    }
   ],
   "source": [
    "mod.fit().summary()"
   ]
  },
  {
   "cell_type": "code",
   "execution_count": null,
   "metadata": {},
   "outputs": [],
   "source": []
  }
 ],
 "metadata": {
  "kernelspec": {
   "display_name": "Python 3",
   "language": "python",
   "name": "python3"
  },
  "language_info": {
   "codemirror_mode": {
    "name": "ipython",
    "version": 3
   },
   "file_extension": ".py",
   "mimetype": "text/x-python",
   "name": "python",
   "nbconvert_exporter": "python",
   "pygments_lexer": "ipython3",
   "version": "3.11.5"
  }
 },
 "nbformat": 4,
 "nbformat_minor": 2
}
