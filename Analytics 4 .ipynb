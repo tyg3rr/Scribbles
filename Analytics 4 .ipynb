{
 "cells": [
  {
   "cell_type": "markdown",
   "metadata": {},
   "source": [
    "## created 'Top Pollutant' categorical variable, saved into 'top pollutants .csv'\n",
    "also created top pollutant x cases viz"
   ]
  },
  {
   "cell_type": "code",
   "execution_count": 1,
   "metadata": {},
   "outputs": [],
   "source": [
    "import pandas as pd\n",
    "from datetime import datetime, date\n",
    "from epiweeks import Week\n",
    "import statsmodels.api as sm\n",
    "import numpy as np"
   ]
  },
  {
   "cell_type": "code",
   "execution_count": 2,
   "metadata": {},
   "outputs": [],
   "source": [
    "df = pd.read_csv(\"dataset by week (no outliers, median-filled) .csv\")"
   ]
  },
  {
   "cell_type": "code",
   "execution_count": 3,
   "metadata": {},
   "outputs": [],
   "source": [
    "df['weekstart'] = pd.to_datetime(df['weekstart'])"
   ]
  },
  {
   "cell_type": "code",
   "execution_count": 4,
   "metadata": {},
   "outputs": [
    {
     "data": {
      "text/html": [
       "<div>\n",
       "<style scoped>\n",
       "    .dataframe tbody tr th:only-of-type {\n",
       "        vertical-align: middle;\n",
       "    }\n",
       "\n",
       "    .dataframe tbody tr th {\n",
       "        vertical-align: top;\n",
       "    }\n",
       "\n",
       "    .dataframe thead th {\n",
       "        text-align: right;\n",
       "    }\n",
       "</style>\n",
       "<table border=\"1\" class=\"dataframe\">\n",
       "  <thead>\n",
       "    <tr style=\"text-align: right;\">\n",
       "      <th></th>\n",
       "      <th>weekstart</th>\n",
       "      <th>epiweek</th>\n",
       "      <th>cases</th>\n",
       "      <th>edvisits</th>\n",
       "      <th>wind</th>\n",
       "      <th>precip</th>\n",
       "      <th>snow</th>\n",
       "      <th>temp</th>\n",
       "      <th>aqi</th>\n",
       "      <th>co</th>\n",
       "      <th>...</th>\n",
       "      <th>month_3</th>\n",
       "      <th>month_4</th>\n",
       "      <th>month_5</th>\n",
       "      <th>month_6</th>\n",
       "      <th>month_7</th>\n",
       "      <th>month_8</th>\n",
       "      <th>month_9</th>\n",
       "      <th>month_10</th>\n",
       "      <th>month_11</th>\n",
       "      <th>month_12</th>\n",
       "    </tr>\n",
       "  </thead>\n",
       "  <tbody>\n",
       "    <tr>\n",
       "      <th>0</th>\n",
       "      <td>2004-01-04</td>\n",
       "      <td>200401</td>\n",
       "      <td>599</td>\n",
       "      <td>53.0</td>\n",
       "      <td>11.0</td>\n",
       "      <td>0.11</td>\n",
       "      <td>1.80</td>\n",
       "      <td>17.0</td>\n",
       "      <td>41.0</td>\n",
       "      <td>6.0</td>\n",
       "      <td>...</td>\n",
       "      <td>0</td>\n",
       "      <td>0</td>\n",
       "      <td>0</td>\n",
       "      <td>0</td>\n",
       "      <td>0</td>\n",
       "      <td>0</td>\n",
       "      <td>0</td>\n",
       "      <td>0</td>\n",
       "      <td>0</td>\n",
       "      <td>0</td>\n",
       "    </tr>\n",
       "    <tr>\n",
       "      <th>1</th>\n",
       "      <td>2004-01-11</td>\n",
       "      <td>200402</td>\n",
       "      <td>640</td>\n",
       "      <td>53.0</td>\n",
       "      <td>12.0</td>\n",
       "      <td>0.07</td>\n",
       "      <td>0.72</td>\n",
       "      <td>23.0</td>\n",
       "      <td>56.0</td>\n",
       "      <td>5.0</td>\n",
       "      <td>...</td>\n",
       "      <td>0</td>\n",
       "      <td>0</td>\n",
       "      <td>0</td>\n",
       "      <td>0</td>\n",
       "      <td>0</td>\n",
       "      <td>0</td>\n",
       "      <td>0</td>\n",
       "      <td>0</td>\n",
       "      <td>0</td>\n",
       "      <td>0</td>\n",
       "    </tr>\n",
       "    <tr>\n",
       "      <th>2</th>\n",
       "      <td>2004-01-18</td>\n",
       "      <td>200403</td>\n",
       "      <td>399</td>\n",
       "      <td>53.0</td>\n",
       "      <td>11.0</td>\n",
       "      <td>0.04</td>\n",
       "      <td>0.50</td>\n",
       "      <td>15.0</td>\n",
       "      <td>41.0</td>\n",
       "      <td>6.0</td>\n",
       "      <td>...</td>\n",
       "      <td>0</td>\n",
       "      <td>0</td>\n",
       "      <td>0</td>\n",
       "      <td>0</td>\n",
       "      <td>0</td>\n",
       "      <td>0</td>\n",
       "      <td>0</td>\n",
       "      <td>0</td>\n",
       "      <td>0</td>\n",
       "      <td>0</td>\n",
       "    </tr>\n",
       "    <tr>\n",
       "      <th>3</th>\n",
       "      <td>2004-01-25</td>\n",
       "      <td>200404</td>\n",
       "      <td>622</td>\n",
       "      <td>53.0</td>\n",
       "      <td>12.0</td>\n",
       "      <td>0.10</td>\n",
       "      <td>1.23</td>\n",
       "      <td>13.0</td>\n",
       "      <td>37.0</td>\n",
       "      <td>6.0</td>\n",
       "      <td>...</td>\n",
       "      <td>0</td>\n",
       "      <td>0</td>\n",
       "      <td>0</td>\n",
       "      <td>0</td>\n",
       "      <td>0</td>\n",
       "      <td>0</td>\n",
       "      <td>0</td>\n",
       "      <td>0</td>\n",
       "      <td>0</td>\n",
       "      <td>0</td>\n",
       "    </tr>\n",
       "    <tr>\n",
       "      <th>4</th>\n",
       "      <td>2004-02-01</td>\n",
       "      <td>200405</td>\n",
       "      <td>552</td>\n",
       "      <td>53.0</td>\n",
       "      <td>11.0</td>\n",
       "      <td>0.07</td>\n",
       "      <td>0.69</td>\n",
       "      <td>21.0</td>\n",
       "      <td>62.0</td>\n",
       "      <td>10.0</td>\n",
       "      <td>...</td>\n",
       "      <td>0</td>\n",
       "      <td>0</td>\n",
       "      <td>0</td>\n",
       "      <td>0</td>\n",
       "      <td>0</td>\n",
       "      <td>0</td>\n",
       "      <td>0</td>\n",
       "      <td>0</td>\n",
       "      <td>0</td>\n",
       "      <td>0</td>\n",
       "    </tr>\n",
       "    <tr>\n",
       "      <th>...</th>\n",
       "      <td>...</td>\n",
       "      <td>...</td>\n",
       "      <td>...</td>\n",
       "      <td>...</td>\n",
       "      <td>...</td>\n",
       "      <td>...</td>\n",
       "      <td>...</td>\n",
       "      <td>...</td>\n",
       "      <td>...</td>\n",
       "      <td>...</td>\n",
       "      <td>...</td>\n",
       "      <td>...</td>\n",
       "      <td>...</td>\n",
       "      <td>...</td>\n",
       "      <td>...</td>\n",
       "      <td>...</td>\n",
       "      <td>...</td>\n",
       "      <td>...</td>\n",
       "      <td>...</td>\n",
       "      <td>...</td>\n",
       "      <td>...</td>\n",
       "    </tr>\n",
       "    <tr>\n",
       "      <th>763</th>\n",
       "      <td>2019-11-17</td>\n",
       "      <td>201947</td>\n",
       "      <td>1466</td>\n",
       "      <td>172.0</td>\n",
       "      <td>8.0</td>\n",
       "      <td>0.06</td>\n",
       "      <td>0.00</td>\n",
       "      <td>36.0</td>\n",
       "      <td>34.0</td>\n",
       "      <td>6.0</td>\n",
       "      <td>...</td>\n",
       "      <td>0</td>\n",
       "      <td>0</td>\n",
       "      <td>0</td>\n",
       "      <td>0</td>\n",
       "      <td>0</td>\n",
       "      <td>0</td>\n",
       "      <td>0</td>\n",
       "      <td>0</td>\n",
       "      <td>1</td>\n",
       "      <td>0</td>\n",
       "    </tr>\n",
       "    <tr>\n",
       "      <th>764</th>\n",
       "      <td>2019-11-24</td>\n",
       "      <td>201948</td>\n",
       "      <td>638</td>\n",
       "      <td>227.0</td>\n",
       "      <td>11.0</td>\n",
       "      <td>0.23</td>\n",
       "      <td>0.00</td>\n",
       "      <td>38.0</td>\n",
       "      <td>32.0</td>\n",
       "      <td>7.0</td>\n",
       "      <td>...</td>\n",
       "      <td>0</td>\n",
       "      <td>0</td>\n",
       "      <td>0</td>\n",
       "      <td>0</td>\n",
       "      <td>0</td>\n",
       "      <td>0</td>\n",
       "      <td>0</td>\n",
       "      <td>0</td>\n",
       "      <td>1</td>\n",
       "      <td>0</td>\n",
       "    </tr>\n",
       "    <tr>\n",
       "      <th>765</th>\n",
       "      <td>2019-12-01</td>\n",
       "      <td>201949</td>\n",
       "      <td>1722</td>\n",
       "      <td>248.0</td>\n",
       "      <td>9.0</td>\n",
       "      <td>0.13</td>\n",
       "      <td>0.64</td>\n",
       "      <td>33.0</td>\n",
       "      <td>26.0</td>\n",
       "      <td>8.0</td>\n",
       "      <td>...</td>\n",
       "      <td>0</td>\n",
       "      <td>0</td>\n",
       "      <td>0</td>\n",
       "      <td>0</td>\n",
       "      <td>0</td>\n",
       "      <td>0</td>\n",
       "      <td>0</td>\n",
       "      <td>0</td>\n",
       "      <td>0</td>\n",
       "      <td>1</td>\n",
       "    </tr>\n",
       "    <tr>\n",
       "      <th>766</th>\n",
       "      <td>2019-12-08</td>\n",
       "      <td>201950</td>\n",
       "      <td>2121</td>\n",
       "      <td>274.0</td>\n",
       "      <td>11.0</td>\n",
       "      <td>0.09</td>\n",
       "      <td>0.32</td>\n",
       "      <td>32.0</td>\n",
       "      <td>35.0</td>\n",
       "      <td>9.0</td>\n",
       "      <td>...</td>\n",
       "      <td>0</td>\n",
       "      <td>0</td>\n",
       "      <td>0</td>\n",
       "      <td>0</td>\n",
       "      <td>0</td>\n",
       "      <td>0</td>\n",
       "      <td>0</td>\n",
       "      <td>0</td>\n",
       "      <td>0</td>\n",
       "      <td>1</td>\n",
       "    </tr>\n",
       "    <tr>\n",
       "      <th>767</th>\n",
       "      <td>2019-12-15</td>\n",
       "      <td>201951</td>\n",
       "      <td>1638</td>\n",
       "      <td>319.0</td>\n",
       "      <td>9.0</td>\n",
       "      <td>0.02</td>\n",
       "      <td>0.46</td>\n",
       "      <td>27.0</td>\n",
       "      <td>40.0</td>\n",
       "      <td>6.0</td>\n",
       "      <td>...</td>\n",
       "      <td>0</td>\n",
       "      <td>0</td>\n",
       "      <td>0</td>\n",
       "      <td>0</td>\n",
       "      <td>0</td>\n",
       "      <td>0</td>\n",
       "      <td>0</td>\n",
       "      <td>0</td>\n",
       "      <td>0</td>\n",
       "      <td>1</td>\n",
       "    </tr>\n",
       "  </tbody>\n",
       "</table>\n",
       "<p>768 rows × 30 columns</p>\n",
       "</div>"
      ],
      "text/plain": [
       "     weekstart  epiweek  cases  edvisits  wind  precip  snow  temp   aqi  \\\n",
       "0   2004-01-04   200401    599      53.0  11.0    0.11  1.80  17.0  41.0   \n",
       "1   2004-01-11   200402    640      53.0  12.0    0.07  0.72  23.0  56.0   \n",
       "2   2004-01-18   200403    399      53.0  11.0    0.04  0.50  15.0  41.0   \n",
       "3   2004-01-25   200404    622      53.0  12.0    0.10  1.23  13.0  37.0   \n",
       "4   2004-02-01   200405    552      53.0  11.0    0.07  0.69  21.0  62.0   \n",
       "..         ...      ...    ...       ...   ...     ...   ...   ...   ...   \n",
       "763 2019-11-17   201947   1466     172.0   8.0    0.06  0.00  36.0  34.0   \n",
       "764 2019-11-24   201948    638     227.0  11.0    0.23  0.00  38.0  32.0   \n",
       "765 2019-12-01   201949   1722     248.0   9.0    0.13  0.64  33.0  26.0   \n",
       "766 2019-12-08   201950   2121     274.0  11.0    0.09  0.32  32.0  35.0   \n",
       "767 2019-12-15   201951   1638     319.0   9.0    0.02  0.46  27.0  40.0   \n",
       "\n",
       "       co  ...  month_3  month_4  month_5  month_6  month_7  month_8  month_9  \\\n",
       "0     6.0  ...        0        0        0        0        0        0        0   \n",
       "1     5.0  ...        0        0        0        0        0        0        0   \n",
       "2     6.0  ...        0        0        0        0        0        0        0   \n",
       "3     6.0  ...        0        0        0        0        0        0        0   \n",
       "4    10.0  ...        0        0        0        0        0        0        0   \n",
       "..    ...  ...      ...      ...      ...      ...      ...      ...      ...   \n",
       "763   6.0  ...        0        0        0        0        0        0        0   \n",
       "764   7.0  ...        0        0        0        0        0        0        0   \n",
       "765   8.0  ...        0        0        0        0        0        0        0   \n",
       "766   9.0  ...        0        0        0        0        0        0        0   \n",
       "767   6.0  ...        0        0        0        0        0        0        0   \n",
       "\n",
       "     month_10  month_11  month_12  \n",
       "0           0         0         0  \n",
       "1           0         0         0  \n",
       "2           0         0         0  \n",
       "3           0         0         0  \n",
       "4           0         0         0  \n",
       "..        ...       ...       ...  \n",
       "763         0         1         0  \n",
       "764         0         1         0  \n",
       "765         0         0         1  \n",
       "766         0         0         1  \n",
       "767         0         0         1  \n",
       "\n",
       "[768 rows x 30 columns]"
      ]
     },
     "execution_count": 4,
     "metadata": {},
     "output_type": "execute_result"
    }
   ],
   "source": [
    "df"
   ]
  },
  {
   "cell_type": "code",
   "execution_count": 5,
   "metadata": {},
   "outputs": [
    {
     "data": {
      "text/plain": [
       "Index(['weekstart', 'epiweek', 'cases', 'edvisits', 'wind', 'precip', 'snow',\n",
       "       'temp', 'aqi', 'co', 'Ozone', 'pm10', 'pm25', 'no2', 'flu', 'cough',\n",
       "       'cold', 'year', 'month_1', 'month_2', 'month_3', 'month_4', 'month_5',\n",
       "       'month_6', 'month_7', 'month_8', 'month_9', 'month_10', 'month_11',\n",
       "       'month_12'],\n",
       "      dtype='object')"
      ]
     },
     "execution_count": 5,
     "metadata": {},
     "output_type": "execute_result"
    }
   ],
   "source": [
    "df.columns"
   ]
  },
  {
   "cell_type": "code",
   "execution_count": 6,
   "metadata": {},
   "outputs": [
    {
     "data": {
      "text/html": [
       "<div>\n",
       "<style scoped>\n",
       "    .dataframe tbody tr th:only-of-type {\n",
       "        vertical-align: middle;\n",
       "    }\n",
       "\n",
       "    .dataframe tbody tr th {\n",
       "        vertical-align: top;\n",
       "    }\n",
       "\n",
       "    .dataframe thead th {\n",
       "        text-align: right;\n",
       "    }\n",
       "</style>\n",
       "<table border=\"1\" class=\"dataframe\">\n",
       "  <thead>\n",
       "    <tr style=\"text-align: right;\">\n",
       "      <th></th>\n",
       "      <th>weekstart</th>\n",
       "      <th>epiweek</th>\n",
       "      <th>cases</th>\n",
       "      <th>edvisits</th>\n",
       "      <th>wind</th>\n",
       "      <th>precip</th>\n",
       "      <th>snow</th>\n",
       "      <th>temp</th>\n",
       "      <th>aqi</th>\n",
       "      <th>co</th>\n",
       "      <th>...</th>\n",
       "      <th>month_3</th>\n",
       "      <th>month_4</th>\n",
       "      <th>month_5</th>\n",
       "      <th>month_6</th>\n",
       "      <th>month_7</th>\n",
       "      <th>month_8</th>\n",
       "      <th>month_9</th>\n",
       "      <th>month_10</th>\n",
       "      <th>month_11</th>\n",
       "      <th>month_12</th>\n",
       "    </tr>\n",
       "  </thead>\n",
       "  <tbody>\n",
       "    <tr>\n",
       "      <th>0</th>\n",
       "      <td>2004-01-04</td>\n",
       "      <td>200401</td>\n",
       "      <td>599</td>\n",
       "      <td>53.0</td>\n",
       "      <td>11.0</td>\n",
       "      <td>0.11</td>\n",
       "      <td>1.80</td>\n",
       "      <td>17.0</td>\n",
       "      <td>41.0</td>\n",
       "      <td>6.0</td>\n",
       "      <td>...</td>\n",
       "      <td>0</td>\n",
       "      <td>0</td>\n",
       "      <td>0</td>\n",
       "      <td>0</td>\n",
       "      <td>0</td>\n",
       "      <td>0</td>\n",
       "      <td>0</td>\n",
       "      <td>0</td>\n",
       "      <td>0</td>\n",
       "      <td>0</td>\n",
       "    </tr>\n",
       "    <tr>\n",
       "      <th>1</th>\n",
       "      <td>2004-01-11</td>\n",
       "      <td>200402</td>\n",
       "      <td>640</td>\n",
       "      <td>53.0</td>\n",
       "      <td>12.0</td>\n",
       "      <td>0.07</td>\n",
       "      <td>0.72</td>\n",
       "      <td>23.0</td>\n",
       "      <td>56.0</td>\n",
       "      <td>5.0</td>\n",
       "      <td>...</td>\n",
       "      <td>0</td>\n",
       "      <td>0</td>\n",
       "      <td>0</td>\n",
       "      <td>0</td>\n",
       "      <td>0</td>\n",
       "      <td>0</td>\n",
       "      <td>0</td>\n",
       "      <td>0</td>\n",
       "      <td>0</td>\n",
       "      <td>0</td>\n",
       "    </tr>\n",
       "    <tr>\n",
       "      <th>2</th>\n",
       "      <td>2004-01-18</td>\n",
       "      <td>200403</td>\n",
       "      <td>399</td>\n",
       "      <td>53.0</td>\n",
       "      <td>11.0</td>\n",
       "      <td>0.04</td>\n",
       "      <td>0.50</td>\n",
       "      <td>15.0</td>\n",
       "      <td>41.0</td>\n",
       "      <td>6.0</td>\n",
       "      <td>...</td>\n",
       "      <td>0</td>\n",
       "      <td>0</td>\n",
       "      <td>0</td>\n",
       "      <td>0</td>\n",
       "      <td>0</td>\n",
       "      <td>0</td>\n",
       "      <td>0</td>\n",
       "      <td>0</td>\n",
       "      <td>0</td>\n",
       "      <td>0</td>\n",
       "    </tr>\n",
       "    <tr>\n",
       "      <th>3</th>\n",
       "      <td>2004-01-25</td>\n",
       "      <td>200404</td>\n",
       "      <td>622</td>\n",
       "      <td>53.0</td>\n",
       "      <td>12.0</td>\n",
       "      <td>0.10</td>\n",
       "      <td>1.23</td>\n",
       "      <td>13.0</td>\n",
       "      <td>37.0</td>\n",
       "      <td>6.0</td>\n",
       "      <td>...</td>\n",
       "      <td>0</td>\n",
       "      <td>0</td>\n",
       "      <td>0</td>\n",
       "      <td>0</td>\n",
       "      <td>0</td>\n",
       "      <td>0</td>\n",
       "      <td>0</td>\n",
       "      <td>0</td>\n",
       "      <td>0</td>\n",
       "      <td>0</td>\n",
       "    </tr>\n",
       "    <tr>\n",
       "      <th>4</th>\n",
       "      <td>2004-02-01</td>\n",
       "      <td>200405</td>\n",
       "      <td>552</td>\n",
       "      <td>53.0</td>\n",
       "      <td>11.0</td>\n",
       "      <td>0.07</td>\n",
       "      <td>0.69</td>\n",
       "      <td>21.0</td>\n",
       "      <td>62.0</td>\n",
       "      <td>10.0</td>\n",
       "      <td>...</td>\n",
       "      <td>0</td>\n",
       "      <td>0</td>\n",
       "      <td>0</td>\n",
       "      <td>0</td>\n",
       "      <td>0</td>\n",
       "      <td>0</td>\n",
       "      <td>0</td>\n",
       "      <td>0</td>\n",
       "      <td>0</td>\n",
       "      <td>0</td>\n",
       "    </tr>\n",
       "  </tbody>\n",
       "</table>\n",
       "<p>5 rows × 30 columns</p>\n",
       "</div>"
      ],
      "text/plain": [
       "   weekstart  epiweek  cases  edvisits  wind  precip  snow  temp   aqi    co  \\\n",
       "0 2004-01-04   200401    599      53.0  11.0    0.11  1.80  17.0  41.0   6.0   \n",
       "1 2004-01-11   200402    640      53.0  12.0    0.07  0.72  23.0  56.0   5.0   \n",
       "2 2004-01-18   200403    399      53.0  11.0    0.04  0.50  15.0  41.0   6.0   \n",
       "3 2004-01-25   200404    622      53.0  12.0    0.10  1.23  13.0  37.0   6.0   \n",
       "4 2004-02-01   200405    552      53.0  11.0    0.07  0.69  21.0  62.0  10.0   \n",
       "\n",
       "   ...  month_3  month_4  month_5  month_6  month_7  month_8  month_9  \\\n",
       "0  ...        0        0        0        0        0        0        0   \n",
       "1  ...        0        0        0        0        0        0        0   \n",
       "2  ...        0        0        0        0        0        0        0   \n",
       "3  ...        0        0        0        0        0        0        0   \n",
       "4  ...        0        0        0        0        0        0        0   \n",
       "\n",
       "   month_10  month_11  month_12  \n",
       "0         0         0         0  \n",
       "1         0         0         0  \n",
       "2         0         0         0  \n",
       "3         0         0         0  \n",
       "4         0         0         0  \n",
       "\n",
       "[5 rows x 30 columns]"
      ]
     },
     "execution_count": 6,
     "metadata": {},
     "output_type": "execute_result"
    }
   ],
   "source": [
    "df.head()"
   ]
  },
  {
   "cell_type": "code",
   "execution_count": 7,
   "metadata": {},
   "outputs": [],
   "source": [
    "pollute_df = pd.read_csv('daily_aqi_data_1999_to_2023.csv')"
   ]
  },
  {
   "cell_type": "code",
   "execution_count": 8,
   "metadata": {},
   "outputs": [
    {
     "data": {
      "text/html": [
       "<div>\n",
       "<style scoped>\n",
       "    .dataframe tbody tr th:only-of-type {\n",
       "        vertical-align: middle;\n",
       "    }\n",
       "\n",
       "    .dataframe tbody tr th {\n",
       "        vertical-align: top;\n",
       "    }\n",
       "\n",
       "    .dataframe thead th {\n",
       "        text-align: right;\n",
       "    }\n",
       "</style>\n",
       "<table border=\"1\" class=\"dataframe\">\n",
       "  <thead>\n",
       "    <tr style=\"text-align: right;\">\n",
       "      <th></th>\n",
       "      <th>Unnamed: 0</th>\n",
       "      <th>index</th>\n",
       "      <th>Date</th>\n",
       "      <th>Overall AQI Value</th>\n",
       "      <th>Main Pollutant</th>\n",
       "      <th>Site Name (of Overall AQI)</th>\n",
       "      <th>Site ID (of Overall AQI)</th>\n",
       "      <th>Source (of Overall AQI)</th>\n",
       "      <th>CO</th>\n",
       "      <th>Ozone</th>\n",
       "      <th>PM10</th>\n",
       "      <th>PM25</th>\n",
       "      <th>NO2</th>\n",
       "    </tr>\n",
       "  </thead>\n",
       "  <tbody>\n",
       "    <tr>\n",
       "      <th>0</th>\n",
       "      <td>0</td>\n",
       "      <td>0</td>\n",
       "      <td>01/01/1999</td>\n",
       "      <td>8</td>\n",
       "      <td>PM10</td>\n",
       "      <td>GR-MONROE</td>\n",
       "      <td>26-081-0020</td>\n",
       "      <td>AQS</td>\n",
       "      <td>5</td>\n",
       "      <td>0</td>\n",
       "      <td>8</td>\n",
       "      <td>0</td>\n",
       "      <td>-</td>\n",
       "    </tr>\n",
       "    <tr>\n",
       "      <th>1</th>\n",
       "      <td>1</td>\n",
       "      <td>1</td>\n",
       "      <td>01/02/1999</td>\n",
       "      <td>26</td>\n",
       "      <td>PM2.5</td>\n",
       "      <td>GR-MONROE</td>\n",
       "      <td>26-081-0020</td>\n",
       "      <td>AQS</td>\n",
       "      <td>6</td>\n",
       "      <td>0</td>\n",
       "      <td>3</td>\n",
       "      <td>26</td>\n",
       "      <td>-</td>\n",
       "    </tr>\n",
       "    <tr>\n",
       "      <th>2</th>\n",
       "      <td>2</td>\n",
       "      <td>2</td>\n",
       "      <td>01/03/1999</td>\n",
       "      <td>23</td>\n",
       "      <td>PM2.5</td>\n",
       "      <td>GR-MONROE</td>\n",
       "      <td>26-081-0020</td>\n",
       "      <td>AQS</td>\n",
       "      <td>6</td>\n",
       "      <td>0</td>\n",
       "      <td>2</td>\n",
       "      <td>23</td>\n",
       "      <td>-</td>\n",
       "    </tr>\n",
       "    <tr>\n",
       "      <th>3</th>\n",
       "      <td>3</td>\n",
       "      <td>3</td>\n",
       "      <td>01/04/1999</td>\n",
       "      <td>6</td>\n",
       "      <td>CO</td>\n",
       "      <td>GR-MONROE</td>\n",
       "      <td>26-081-0020</td>\n",
       "      <td>AQS</td>\n",
       "      <td>6</td>\n",
       "      <td>0</td>\n",
       "      <td>3</td>\n",
       "      <td>0</td>\n",
       "      <td>-</td>\n",
       "    </tr>\n",
       "    <tr>\n",
       "      <th>4</th>\n",
       "      <td>4</td>\n",
       "      <td>4</td>\n",
       "      <td>01/05/1999</td>\n",
       "      <td>8</td>\n",
       "      <td>PM10</td>\n",
       "      <td>GR-MONROE</td>\n",
       "      <td>26-081-0020</td>\n",
       "      <td>AQS</td>\n",
       "      <td>7</td>\n",
       "      <td>0</td>\n",
       "      <td>8</td>\n",
       "      <td>0</td>\n",
       "      <td>-</td>\n",
       "    </tr>\n",
       "  </tbody>\n",
       "</table>\n",
       "</div>"
      ],
      "text/plain": [
       "   Unnamed: 0  index        Date  Overall AQI Value Main Pollutant  \\\n",
       "0           0      0  01/01/1999                  8           PM10   \n",
       "1           1      1  01/02/1999                 26          PM2.5   \n",
       "2           2      2  01/03/1999                 23          PM2.5   \n",
       "3           3      3  01/04/1999                  6             CO   \n",
       "4           4      4  01/05/1999                  8           PM10   \n",
       "\n",
       "  Site Name (of Overall AQI) Site ID (of Overall AQI) Source (of Overall AQI)  \\\n",
       "0                  GR-MONROE              26-081-0020                     AQS   \n",
       "1                  GR-MONROE              26-081-0020                     AQS   \n",
       "2                  GR-MONROE              26-081-0020                     AQS   \n",
       "3                  GR-MONROE              26-081-0020                     AQS   \n",
       "4                  GR-MONROE              26-081-0020                     AQS   \n",
       "\n",
       "  CO  Ozone  PM10  PM25 NO2  \n",
       "0  5      0     8     0   -  \n",
       "1  6      0     3    26   -  \n",
       "2  6      0     2    23   -  \n",
       "3  6      0     3     0   -  \n",
       "4  7      0     8     0   -  "
      ]
     },
     "execution_count": 8,
     "metadata": {},
     "output_type": "execute_result"
    }
   ],
   "source": [
    "pollute_df.head()"
   ]
  },
  {
   "cell_type": "code",
   "execution_count": 10,
   "metadata": {},
   "outputs": [],
   "source": [
    "pollute_df = pollute_df[['Date','Main Pollutant']]"
   ]
  },
  {
   "cell_type": "code",
   "execution_count": 11,
   "metadata": {},
   "outputs": [
    {
     "data": {
      "text/html": [
       "<div>\n",
       "<style scoped>\n",
       "    .dataframe tbody tr th:only-of-type {\n",
       "        vertical-align: middle;\n",
       "    }\n",
       "\n",
       "    .dataframe tbody tr th {\n",
       "        vertical-align: top;\n",
       "    }\n",
       "\n",
       "    .dataframe thead th {\n",
       "        text-align: right;\n",
       "    }\n",
       "</style>\n",
       "<table border=\"1\" class=\"dataframe\">\n",
       "  <thead>\n",
       "    <tr style=\"text-align: right;\">\n",
       "      <th></th>\n",
       "      <th>Date</th>\n",
       "      <th>Main Pollutant</th>\n",
       "    </tr>\n",
       "  </thead>\n",
       "  <tbody>\n",
       "    <tr>\n",
       "      <th>0</th>\n",
       "      <td>01/01/1999</td>\n",
       "      <td>PM10</td>\n",
       "    </tr>\n",
       "    <tr>\n",
       "      <th>1</th>\n",
       "      <td>01/02/1999</td>\n",
       "      <td>PM2.5</td>\n",
       "    </tr>\n",
       "    <tr>\n",
       "      <th>2</th>\n",
       "      <td>01/03/1999</td>\n",
       "      <td>PM2.5</td>\n",
       "    </tr>\n",
       "    <tr>\n",
       "      <th>3</th>\n",
       "      <td>01/04/1999</td>\n",
       "      <td>CO</td>\n",
       "    </tr>\n",
       "    <tr>\n",
       "      <th>4</th>\n",
       "      <td>01/05/1999</td>\n",
       "      <td>PM10</td>\n",
       "    </tr>\n",
       "  </tbody>\n",
       "</table>\n",
       "</div>"
      ],
      "text/plain": [
       "         Date Main Pollutant\n",
       "0  01/01/1999           PM10\n",
       "1  01/02/1999          PM2.5\n",
       "2  01/03/1999          PM2.5\n",
       "3  01/04/1999             CO\n",
       "4  01/05/1999           PM10"
      ]
     },
     "execution_count": 11,
     "metadata": {},
     "output_type": "execute_result"
    }
   ],
   "source": [
    "pollute_df.head()"
   ]
  },
  {
   "cell_type": "code",
   "execution_count": 17,
   "metadata": {},
   "outputs": [],
   "source": [
    "pollute_df['Date'] = pd.to_datetime(pollute_df['Date']).apply(lambda x: Week.fromdate(x))"
   ]
  },
  {
   "cell_type": "code",
   "execution_count": 18,
   "metadata": {},
   "outputs": [
    {
     "data": {
      "text/html": [
       "<div>\n",
       "<style scoped>\n",
       "    .dataframe tbody tr th:only-of-type {\n",
       "        vertical-align: middle;\n",
       "    }\n",
       "\n",
       "    .dataframe tbody tr th {\n",
       "        vertical-align: top;\n",
       "    }\n",
       "\n",
       "    .dataframe thead th {\n",
       "        text-align: right;\n",
       "    }\n",
       "</style>\n",
       "<table border=\"1\" class=\"dataframe\">\n",
       "  <thead>\n",
       "    <tr style=\"text-align: right;\">\n",
       "      <th></th>\n",
       "      <th>Date</th>\n",
       "      <th>Main Pollutant</th>\n",
       "    </tr>\n",
       "  </thead>\n",
       "  <tbody>\n",
       "    <tr>\n",
       "      <th>0</th>\n",
       "      <td>199852</td>\n",
       "      <td>PM10</td>\n",
       "    </tr>\n",
       "    <tr>\n",
       "      <th>1</th>\n",
       "      <td>199852</td>\n",
       "      <td>PM2.5</td>\n",
       "    </tr>\n",
       "    <tr>\n",
       "      <th>2</th>\n",
       "      <td>199901</td>\n",
       "      <td>PM2.5</td>\n",
       "    </tr>\n",
       "    <tr>\n",
       "      <th>3</th>\n",
       "      <td>199901</td>\n",
       "      <td>CO</td>\n",
       "    </tr>\n",
       "    <tr>\n",
       "      <th>4</th>\n",
       "      <td>199901</td>\n",
       "      <td>PM10</td>\n",
       "    </tr>\n",
       "  </tbody>\n",
       "</table>\n",
       "</div>"
      ],
      "text/plain": [
       "     Date Main Pollutant\n",
       "0  199852           PM10\n",
       "1  199852          PM2.5\n",
       "2  199901          PM2.5\n",
       "3  199901             CO\n",
       "4  199901           PM10"
      ]
     },
     "execution_count": 18,
     "metadata": {},
     "output_type": "execute_result"
    }
   ],
   "source": [
    "pollute_df.head()"
   ]
  },
  {
   "cell_type": "code",
   "execution_count": 20,
   "metadata": {},
   "outputs": [
    {
     "data": {
      "text/plain": [
       "count      8972\n",
       "unique        5\n",
       "top       Ozone\n",
       "freq       4324\n",
       "Name: Main Pollutant, dtype: object"
      ]
     },
     "execution_count": 20,
     "metadata": {},
     "output_type": "execute_result"
    }
   ],
   "source": [
    "pollute_df['Main Pollutant'].mode()"
   ]
  },
  {
   "cell_type": "code",
   "execution_count": 27,
   "metadata": {},
   "outputs": [
    {
     "data": {
      "text/html": [
       "<div>\n",
       "<style scoped>\n",
       "    .dataframe tbody tr th:only-of-type {\n",
       "        vertical-align: middle;\n",
       "    }\n",
       "\n",
       "    .dataframe tbody tr th {\n",
       "        vertical-align: top;\n",
       "    }\n",
       "\n",
       "    .dataframe thead th {\n",
       "        text-align: right;\n",
       "    }\n",
       "</style>\n",
       "<table border=\"1\" class=\"dataframe\">\n",
       "  <thead>\n",
       "    <tr style=\"text-align: right;\">\n",
       "      <th></th>\n",
       "      <th>count</th>\n",
       "      <th>unique</th>\n",
       "      <th>top</th>\n",
       "      <th>freq</th>\n",
       "    </tr>\n",
       "    <tr>\n",
       "      <th>Date</th>\n",
       "      <th></th>\n",
       "      <th></th>\n",
       "      <th></th>\n",
       "      <th></th>\n",
       "    </tr>\n",
       "  </thead>\n",
       "  <tbody>\n",
       "    <tr>\n",
       "      <th>199852</th>\n",
       "      <td>2</td>\n",
       "      <td>2</td>\n",
       "      <td>PM10</td>\n",
       "      <td>1</td>\n",
       "    </tr>\n",
       "    <tr>\n",
       "      <th>199901</th>\n",
       "      <td>7</td>\n",
       "      <td>3</td>\n",
       "      <td>PM2.5</td>\n",
       "      <td>4</td>\n",
       "    </tr>\n",
       "    <tr>\n",
       "      <th>199902</th>\n",
       "      <td>7</td>\n",
       "      <td>2</td>\n",
       "      <td>PM2.5</td>\n",
       "      <td>6</td>\n",
       "    </tr>\n",
       "    <tr>\n",
       "      <th>199903</th>\n",
       "      <td>7</td>\n",
       "      <td>1</td>\n",
       "      <td>PM2.5</td>\n",
       "      <td>7</td>\n",
       "    </tr>\n",
       "    <tr>\n",
       "      <th>199904</th>\n",
       "      <td>7</td>\n",
       "      <td>1</td>\n",
       "      <td>PM2.5</td>\n",
       "      <td>7</td>\n",
       "    </tr>\n",
       "    <tr>\n",
       "      <th>...</th>\n",
       "      <td>...</td>\n",
       "      <td>...</td>\n",
       "      <td>...</td>\n",
       "      <td>...</td>\n",
       "    </tr>\n",
       "    <tr>\n",
       "      <th>202333</th>\n",
       "      <td>7</td>\n",
       "      <td>2</td>\n",
       "      <td>PM2.5</td>\n",
       "      <td>4</td>\n",
       "    </tr>\n",
       "    <tr>\n",
       "      <th>202334</th>\n",
       "      <td>7</td>\n",
       "      <td>2</td>\n",
       "      <td>PM2.5</td>\n",
       "      <td>4</td>\n",
       "    </tr>\n",
       "    <tr>\n",
       "      <th>202335</th>\n",
       "      <td>7</td>\n",
       "      <td>2</td>\n",
       "      <td>Ozone</td>\n",
       "      <td>5</td>\n",
       "    </tr>\n",
       "    <tr>\n",
       "      <th>202336</th>\n",
       "      <td>7</td>\n",
       "      <td>2</td>\n",
       "      <td>Ozone</td>\n",
       "      <td>4</td>\n",
       "    </tr>\n",
       "    <tr>\n",
       "      <th>202337</th>\n",
       "      <td>4</td>\n",
       "      <td>2</td>\n",
       "      <td>PM2.5</td>\n",
       "      <td>2</td>\n",
       "    </tr>\n",
       "  </tbody>\n",
       "</table>\n",
       "<p>1290 rows × 4 columns</p>\n",
       "</div>"
      ],
      "text/plain": [
       "       count unique    top freq\n",
       "Date                           \n",
       "199852     2      2   PM10    1\n",
       "199901     7      3  PM2.5    4\n",
       "199902     7      2  PM2.5    6\n",
       "199903     7      1  PM2.5    7\n",
       "199904     7      1  PM2.5    7\n",
       "...      ...    ...    ...  ...\n",
       "202333     7      2  PM2.5    4\n",
       "202334     7      2  PM2.5    4\n",
       "202335     7      2  Ozone    5\n",
       "202336     7      2  Ozone    4\n",
       "202337     4      2  PM2.5    2\n",
       "\n",
       "[1290 rows x 4 columns]"
      ]
     },
     "execution_count": 27,
     "metadata": {},
     "output_type": "execute_result"
    }
   ],
   "source": [
    "pollute_df.groupby('Date')['Main Pollutant'].describe()"
   ]
  },
  {
   "cell_type": "code",
   "execution_count": 30,
   "metadata": {},
   "outputs": [],
   "source": [
    "tbl = pollute_df.groupby('Date')['Main Pollutant'].describe()"
   ]
  },
  {
   "cell_type": "code",
   "execution_count": 31,
   "metadata": {},
   "outputs": [
    {
     "data": {
      "text/html": [
       "<div>\n",
       "<style scoped>\n",
       "    .dataframe tbody tr th:only-of-type {\n",
       "        vertical-align: middle;\n",
       "    }\n",
       "\n",
       "    .dataframe tbody tr th {\n",
       "        vertical-align: top;\n",
       "    }\n",
       "\n",
       "    .dataframe thead th {\n",
       "        text-align: right;\n",
       "    }\n",
       "</style>\n",
       "<table border=\"1\" class=\"dataframe\">\n",
       "  <thead>\n",
       "    <tr style=\"text-align: right;\">\n",
       "      <th></th>\n",
       "      <th>count</th>\n",
       "      <th>unique</th>\n",
       "      <th>top</th>\n",
       "      <th>freq</th>\n",
       "    </tr>\n",
       "    <tr>\n",
       "      <th>Date</th>\n",
       "      <th></th>\n",
       "      <th></th>\n",
       "      <th></th>\n",
       "      <th></th>\n",
       "    </tr>\n",
       "  </thead>\n",
       "  <tbody>\n",
       "    <tr>\n",
       "      <th>199852</th>\n",
       "      <td>2</td>\n",
       "      <td>2</td>\n",
       "      <td>PM10</td>\n",
       "      <td>1</td>\n",
       "    </tr>\n",
       "    <tr>\n",
       "      <th>199901</th>\n",
       "      <td>7</td>\n",
       "      <td>3</td>\n",
       "      <td>PM2.5</td>\n",
       "      <td>4</td>\n",
       "    </tr>\n",
       "    <tr>\n",
       "      <th>199902</th>\n",
       "      <td>7</td>\n",
       "      <td>2</td>\n",
       "      <td>PM2.5</td>\n",
       "      <td>6</td>\n",
       "    </tr>\n",
       "    <tr>\n",
       "      <th>199903</th>\n",
       "      <td>7</td>\n",
       "      <td>1</td>\n",
       "      <td>PM2.5</td>\n",
       "      <td>7</td>\n",
       "    </tr>\n",
       "    <tr>\n",
       "      <th>199904</th>\n",
       "      <td>7</td>\n",
       "      <td>1</td>\n",
       "      <td>PM2.5</td>\n",
       "      <td>7</td>\n",
       "    </tr>\n",
       "    <tr>\n",
       "      <th>...</th>\n",
       "      <td>...</td>\n",
       "      <td>...</td>\n",
       "      <td>...</td>\n",
       "      <td>...</td>\n",
       "    </tr>\n",
       "    <tr>\n",
       "      <th>202333</th>\n",
       "      <td>7</td>\n",
       "      <td>2</td>\n",
       "      <td>PM2.5</td>\n",
       "      <td>4</td>\n",
       "    </tr>\n",
       "    <tr>\n",
       "      <th>202334</th>\n",
       "      <td>7</td>\n",
       "      <td>2</td>\n",
       "      <td>PM2.5</td>\n",
       "      <td>4</td>\n",
       "    </tr>\n",
       "    <tr>\n",
       "      <th>202335</th>\n",
       "      <td>7</td>\n",
       "      <td>2</td>\n",
       "      <td>Ozone</td>\n",
       "      <td>5</td>\n",
       "    </tr>\n",
       "    <tr>\n",
       "      <th>202336</th>\n",
       "      <td>7</td>\n",
       "      <td>2</td>\n",
       "      <td>Ozone</td>\n",
       "      <td>4</td>\n",
       "    </tr>\n",
       "    <tr>\n",
       "      <th>202337</th>\n",
       "      <td>4</td>\n",
       "      <td>2</td>\n",
       "      <td>PM2.5</td>\n",
       "      <td>2</td>\n",
       "    </tr>\n",
       "  </tbody>\n",
       "</table>\n",
       "<p>1290 rows × 4 columns</p>\n",
       "</div>"
      ],
      "text/plain": [
       "       count unique    top freq\n",
       "Date                           \n",
       "199852     2      2   PM10    1\n",
       "199901     7      3  PM2.5    4\n",
       "199902     7      2  PM2.5    6\n",
       "199903     7      1  PM2.5    7\n",
       "199904     7      1  PM2.5    7\n",
       "...      ...    ...    ...  ...\n",
       "202333     7      2  PM2.5    4\n",
       "202334     7      2  PM2.5    4\n",
       "202335     7      2  Ozone    5\n",
       "202336     7      2  Ozone    4\n",
       "202337     4      2  PM2.5    2\n",
       "\n",
       "[1290 rows x 4 columns]"
      ]
     },
     "execution_count": 31,
     "metadata": {},
     "output_type": "execute_result"
    }
   ],
   "source": [
    "tbl"
   ]
  },
  {
   "cell_type": "code",
   "execution_count": 34,
   "metadata": {},
   "outputs": [],
   "source": [
    "tbl = tbl.reset_index().rename(columns={'Date':'epiweek'})"
   ]
  },
  {
   "cell_type": "code",
   "execution_count": 35,
   "metadata": {},
   "outputs": [
    {
     "data": {
      "text/html": [
       "<div>\n",
       "<style scoped>\n",
       "    .dataframe tbody tr th:only-of-type {\n",
       "        vertical-align: middle;\n",
       "    }\n",
       "\n",
       "    .dataframe tbody tr th {\n",
       "        vertical-align: top;\n",
       "    }\n",
       "\n",
       "    .dataframe thead th {\n",
       "        text-align: right;\n",
       "    }\n",
       "</style>\n",
       "<table border=\"1\" class=\"dataframe\">\n",
       "  <thead>\n",
       "    <tr style=\"text-align: right;\">\n",
       "      <th></th>\n",
       "      <th>epiweek</th>\n",
       "      <th>count</th>\n",
       "      <th>unique</th>\n",
       "      <th>top</th>\n",
       "      <th>freq</th>\n",
       "    </tr>\n",
       "  </thead>\n",
       "  <tbody>\n",
       "    <tr>\n",
       "      <th>0</th>\n",
       "      <td>199852</td>\n",
       "      <td>2</td>\n",
       "      <td>2</td>\n",
       "      <td>PM10</td>\n",
       "      <td>1</td>\n",
       "    </tr>\n",
       "    <tr>\n",
       "      <th>1</th>\n",
       "      <td>199901</td>\n",
       "      <td>7</td>\n",
       "      <td>3</td>\n",
       "      <td>PM2.5</td>\n",
       "      <td>4</td>\n",
       "    </tr>\n",
       "    <tr>\n",
       "      <th>2</th>\n",
       "      <td>199902</td>\n",
       "      <td>7</td>\n",
       "      <td>2</td>\n",
       "      <td>PM2.5</td>\n",
       "      <td>6</td>\n",
       "    </tr>\n",
       "    <tr>\n",
       "      <th>3</th>\n",
       "      <td>199903</td>\n",
       "      <td>7</td>\n",
       "      <td>1</td>\n",
       "      <td>PM2.5</td>\n",
       "      <td>7</td>\n",
       "    </tr>\n",
       "    <tr>\n",
       "      <th>4</th>\n",
       "      <td>199904</td>\n",
       "      <td>7</td>\n",
       "      <td>1</td>\n",
       "      <td>PM2.5</td>\n",
       "      <td>7</td>\n",
       "    </tr>\n",
       "    <tr>\n",
       "      <th>...</th>\n",
       "      <td>...</td>\n",
       "      <td>...</td>\n",
       "      <td>...</td>\n",
       "      <td>...</td>\n",
       "      <td>...</td>\n",
       "    </tr>\n",
       "    <tr>\n",
       "      <th>1285</th>\n",
       "      <td>202333</td>\n",
       "      <td>7</td>\n",
       "      <td>2</td>\n",
       "      <td>PM2.5</td>\n",
       "      <td>4</td>\n",
       "    </tr>\n",
       "    <tr>\n",
       "      <th>1286</th>\n",
       "      <td>202334</td>\n",
       "      <td>7</td>\n",
       "      <td>2</td>\n",
       "      <td>PM2.5</td>\n",
       "      <td>4</td>\n",
       "    </tr>\n",
       "    <tr>\n",
       "      <th>1287</th>\n",
       "      <td>202335</td>\n",
       "      <td>7</td>\n",
       "      <td>2</td>\n",
       "      <td>Ozone</td>\n",
       "      <td>5</td>\n",
       "    </tr>\n",
       "    <tr>\n",
       "      <th>1288</th>\n",
       "      <td>202336</td>\n",
       "      <td>7</td>\n",
       "      <td>2</td>\n",
       "      <td>Ozone</td>\n",
       "      <td>4</td>\n",
       "    </tr>\n",
       "    <tr>\n",
       "      <th>1289</th>\n",
       "      <td>202337</td>\n",
       "      <td>4</td>\n",
       "      <td>2</td>\n",
       "      <td>PM2.5</td>\n",
       "      <td>2</td>\n",
       "    </tr>\n",
       "  </tbody>\n",
       "</table>\n",
       "<p>1290 rows × 5 columns</p>\n",
       "</div>"
      ],
      "text/plain": [
       "     epiweek count unique    top freq\n",
       "0     199852     2      2   PM10    1\n",
       "1     199901     7      3  PM2.5    4\n",
       "2     199902     7      2  PM2.5    6\n",
       "3     199903     7      1  PM2.5    7\n",
       "4     199904     7      1  PM2.5    7\n",
       "...      ...   ...    ...    ...  ...\n",
       "1285  202333     7      2  PM2.5    4\n",
       "1286  202334     7      2  PM2.5    4\n",
       "1287  202335     7      2  Ozone    5\n",
       "1288  202336     7      2  Ozone    4\n",
       "1289  202337     4      2  PM2.5    2\n",
       "\n",
       "[1290 rows x 5 columns]"
      ]
     },
     "execution_count": 35,
     "metadata": {},
     "output_type": "execute_result"
    }
   ],
   "source": [
    "tbl"
   ]
  },
  {
   "cell_type": "code",
   "execution_count": 41,
   "metadata": {},
   "outputs": [],
   "source": [
    "df['epiweek'] = df['epiweek'].apply(lambda x: Week.fromstring(str(x)))"
   ]
  },
  {
   "cell_type": "code",
   "execution_count": 43,
   "metadata": {},
   "outputs": [],
   "source": [
    "df = df.set_index('epiweek').join(tbl.set_index('epiweek')['top'], how='left').reset_index()"
   ]
  },
  {
   "cell_type": "code",
   "execution_count": 44,
   "metadata": {},
   "outputs": [
    {
     "data": {
      "text/html": [
       "<div>\n",
       "<style scoped>\n",
       "    .dataframe tbody tr th:only-of-type {\n",
       "        vertical-align: middle;\n",
       "    }\n",
       "\n",
       "    .dataframe tbody tr th {\n",
       "        vertical-align: top;\n",
       "    }\n",
       "\n",
       "    .dataframe thead th {\n",
       "        text-align: right;\n",
       "    }\n",
       "</style>\n",
       "<table border=\"1\" class=\"dataframe\">\n",
       "  <thead>\n",
       "    <tr style=\"text-align: right;\">\n",
       "      <th></th>\n",
       "      <th>epiweek</th>\n",
       "      <th>weekstart</th>\n",
       "      <th>cases</th>\n",
       "      <th>edvisits</th>\n",
       "      <th>wind</th>\n",
       "      <th>precip</th>\n",
       "      <th>snow</th>\n",
       "      <th>temp</th>\n",
       "      <th>aqi</th>\n",
       "      <th>co</th>\n",
       "      <th>...</th>\n",
       "      <th>month_4</th>\n",
       "      <th>month_5</th>\n",
       "      <th>month_6</th>\n",
       "      <th>month_7</th>\n",
       "      <th>month_8</th>\n",
       "      <th>month_9</th>\n",
       "      <th>month_10</th>\n",
       "      <th>month_11</th>\n",
       "      <th>month_12</th>\n",
       "      <th>top</th>\n",
       "    </tr>\n",
       "  </thead>\n",
       "  <tbody>\n",
       "    <tr>\n",
       "      <th>0</th>\n",
       "      <td>200401</td>\n",
       "      <td>2004-01-04</td>\n",
       "      <td>599</td>\n",
       "      <td>53.0</td>\n",
       "      <td>11.0</td>\n",
       "      <td>0.11</td>\n",
       "      <td>1.80</td>\n",
       "      <td>17.0</td>\n",
       "      <td>41.0</td>\n",
       "      <td>6.0</td>\n",
       "      <td>...</td>\n",
       "      <td>0</td>\n",
       "      <td>0</td>\n",
       "      <td>0</td>\n",
       "      <td>0</td>\n",
       "      <td>0</td>\n",
       "      <td>0</td>\n",
       "      <td>0</td>\n",
       "      <td>0</td>\n",
       "      <td>0</td>\n",
       "      <td>PM2.5</td>\n",
       "    </tr>\n",
       "    <tr>\n",
       "      <th>1</th>\n",
       "      <td>200402</td>\n",
       "      <td>2004-01-11</td>\n",
       "      <td>640</td>\n",
       "      <td>53.0</td>\n",
       "      <td>12.0</td>\n",
       "      <td>0.07</td>\n",
       "      <td>0.72</td>\n",
       "      <td>23.0</td>\n",
       "      <td>56.0</td>\n",
       "      <td>5.0</td>\n",
       "      <td>...</td>\n",
       "      <td>0</td>\n",
       "      <td>0</td>\n",
       "      <td>0</td>\n",
       "      <td>0</td>\n",
       "      <td>0</td>\n",
       "      <td>0</td>\n",
       "      <td>0</td>\n",
       "      <td>0</td>\n",
       "      <td>0</td>\n",
       "      <td>PM2.5</td>\n",
       "    </tr>\n",
       "    <tr>\n",
       "      <th>2</th>\n",
       "      <td>200403</td>\n",
       "      <td>2004-01-18</td>\n",
       "      <td>399</td>\n",
       "      <td>53.0</td>\n",
       "      <td>11.0</td>\n",
       "      <td>0.04</td>\n",
       "      <td>0.50</td>\n",
       "      <td>15.0</td>\n",
       "      <td>41.0</td>\n",
       "      <td>6.0</td>\n",
       "      <td>...</td>\n",
       "      <td>0</td>\n",
       "      <td>0</td>\n",
       "      <td>0</td>\n",
       "      <td>0</td>\n",
       "      <td>0</td>\n",
       "      <td>0</td>\n",
       "      <td>0</td>\n",
       "      <td>0</td>\n",
       "      <td>0</td>\n",
       "      <td>PM2.5</td>\n",
       "    </tr>\n",
       "    <tr>\n",
       "      <th>3</th>\n",
       "      <td>200404</td>\n",
       "      <td>2004-01-25</td>\n",
       "      <td>622</td>\n",
       "      <td>53.0</td>\n",
       "      <td>12.0</td>\n",
       "      <td>0.10</td>\n",
       "      <td>1.23</td>\n",
       "      <td>13.0</td>\n",
       "      <td>37.0</td>\n",
       "      <td>6.0</td>\n",
       "      <td>...</td>\n",
       "      <td>0</td>\n",
       "      <td>0</td>\n",
       "      <td>0</td>\n",
       "      <td>0</td>\n",
       "      <td>0</td>\n",
       "      <td>0</td>\n",
       "      <td>0</td>\n",
       "      <td>0</td>\n",
       "      <td>0</td>\n",
       "      <td>NO2</td>\n",
       "    </tr>\n",
       "    <tr>\n",
       "      <th>4</th>\n",
       "      <td>200405</td>\n",
       "      <td>2004-02-01</td>\n",
       "      <td>552</td>\n",
       "      <td>53.0</td>\n",
       "      <td>11.0</td>\n",
       "      <td>0.07</td>\n",
       "      <td>0.69</td>\n",
       "      <td>21.0</td>\n",
       "      <td>62.0</td>\n",
       "      <td>10.0</td>\n",
       "      <td>...</td>\n",
       "      <td>0</td>\n",
       "      <td>0</td>\n",
       "      <td>0</td>\n",
       "      <td>0</td>\n",
       "      <td>0</td>\n",
       "      <td>0</td>\n",
       "      <td>0</td>\n",
       "      <td>0</td>\n",
       "      <td>0</td>\n",
       "      <td>PM2.5</td>\n",
       "    </tr>\n",
       "  </tbody>\n",
       "</table>\n",
       "<p>5 rows × 31 columns</p>\n",
       "</div>"
      ],
      "text/plain": [
       "  epiweek  weekstart  cases  edvisits  wind  precip  snow  temp   aqi    co  \\\n",
       "0  200401 2004-01-04    599      53.0  11.0    0.11  1.80  17.0  41.0   6.0   \n",
       "1  200402 2004-01-11    640      53.0  12.0    0.07  0.72  23.0  56.0   5.0   \n",
       "2  200403 2004-01-18    399      53.0  11.0    0.04  0.50  15.0  41.0   6.0   \n",
       "3  200404 2004-01-25    622      53.0  12.0    0.10  1.23  13.0  37.0   6.0   \n",
       "4  200405 2004-02-01    552      53.0  11.0    0.07  0.69  21.0  62.0  10.0   \n",
       "\n",
       "   ...  month_4  month_5  month_6  month_7  month_8  month_9  month_10  \\\n",
       "0  ...        0        0        0        0        0        0         0   \n",
       "1  ...        0        0        0        0        0        0         0   \n",
       "2  ...        0        0        0        0        0        0         0   \n",
       "3  ...        0        0        0        0        0        0         0   \n",
       "4  ...        0        0        0        0        0        0         0   \n",
       "\n",
       "   month_11  month_12    top  \n",
       "0         0         0  PM2.5  \n",
       "1         0         0  PM2.5  \n",
       "2         0         0  PM2.5  \n",
       "3         0         0    NO2  \n",
       "4         0         0  PM2.5  \n",
       "\n",
       "[5 rows x 31 columns]"
      ]
     },
     "execution_count": 44,
     "metadata": {},
     "output_type": "execute_result"
    }
   ],
   "source": [
    "df.head()"
   ]
  },
  {
   "cell_type": "code",
   "execution_count": 45,
   "metadata": {},
   "outputs": [],
   "source": [
    "df.rename(columns={'top':'top_pollutant'},inplace=True)"
   ]
  },
  {
   "cell_type": "code",
   "execution_count": 46,
   "metadata": {},
   "outputs": [
    {
     "data": {
      "text/html": [
       "<div>\n",
       "<style scoped>\n",
       "    .dataframe tbody tr th:only-of-type {\n",
       "        vertical-align: middle;\n",
       "    }\n",
       "\n",
       "    .dataframe tbody tr th {\n",
       "        vertical-align: top;\n",
       "    }\n",
       "\n",
       "    .dataframe thead th {\n",
       "        text-align: right;\n",
       "    }\n",
       "</style>\n",
       "<table border=\"1\" class=\"dataframe\">\n",
       "  <thead>\n",
       "    <tr style=\"text-align: right;\">\n",
       "      <th></th>\n",
       "      <th>epiweek</th>\n",
       "      <th>weekstart</th>\n",
       "      <th>cases</th>\n",
       "      <th>edvisits</th>\n",
       "      <th>wind</th>\n",
       "      <th>precip</th>\n",
       "      <th>snow</th>\n",
       "      <th>temp</th>\n",
       "      <th>aqi</th>\n",
       "      <th>co</th>\n",
       "      <th>...</th>\n",
       "      <th>month_4</th>\n",
       "      <th>month_5</th>\n",
       "      <th>month_6</th>\n",
       "      <th>month_7</th>\n",
       "      <th>month_8</th>\n",
       "      <th>month_9</th>\n",
       "      <th>month_10</th>\n",
       "      <th>month_11</th>\n",
       "      <th>month_12</th>\n",
       "      <th>top_pollutant</th>\n",
       "    </tr>\n",
       "  </thead>\n",
       "  <tbody>\n",
       "    <tr>\n",
       "      <th>0</th>\n",
       "      <td>200401</td>\n",
       "      <td>2004-01-04</td>\n",
       "      <td>599</td>\n",
       "      <td>53.0</td>\n",
       "      <td>11.0</td>\n",
       "      <td>0.11</td>\n",
       "      <td>1.80</td>\n",
       "      <td>17.0</td>\n",
       "      <td>41.0</td>\n",
       "      <td>6.0</td>\n",
       "      <td>...</td>\n",
       "      <td>0</td>\n",
       "      <td>0</td>\n",
       "      <td>0</td>\n",
       "      <td>0</td>\n",
       "      <td>0</td>\n",
       "      <td>0</td>\n",
       "      <td>0</td>\n",
       "      <td>0</td>\n",
       "      <td>0</td>\n",
       "      <td>PM2.5</td>\n",
       "    </tr>\n",
       "    <tr>\n",
       "      <th>1</th>\n",
       "      <td>200402</td>\n",
       "      <td>2004-01-11</td>\n",
       "      <td>640</td>\n",
       "      <td>53.0</td>\n",
       "      <td>12.0</td>\n",
       "      <td>0.07</td>\n",
       "      <td>0.72</td>\n",
       "      <td>23.0</td>\n",
       "      <td>56.0</td>\n",
       "      <td>5.0</td>\n",
       "      <td>...</td>\n",
       "      <td>0</td>\n",
       "      <td>0</td>\n",
       "      <td>0</td>\n",
       "      <td>0</td>\n",
       "      <td>0</td>\n",
       "      <td>0</td>\n",
       "      <td>0</td>\n",
       "      <td>0</td>\n",
       "      <td>0</td>\n",
       "      <td>PM2.5</td>\n",
       "    </tr>\n",
       "    <tr>\n",
       "      <th>2</th>\n",
       "      <td>200403</td>\n",
       "      <td>2004-01-18</td>\n",
       "      <td>399</td>\n",
       "      <td>53.0</td>\n",
       "      <td>11.0</td>\n",
       "      <td>0.04</td>\n",
       "      <td>0.50</td>\n",
       "      <td>15.0</td>\n",
       "      <td>41.0</td>\n",
       "      <td>6.0</td>\n",
       "      <td>...</td>\n",
       "      <td>0</td>\n",
       "      <td>0</td>\n",
       "      <td>0</td>\n",
       "      <td>0</td>\n",
       "      <td>0</td>\n",
       "      <td>0</td>\n",
       "      <td>0</td>\n",
       "      <td>0</td>\n",
       "      <td>0</td>\n",
       "      <td>PM2.5</td>\n",
       "    </tr>\n",
       "    <tr>\n",
       "      <th>3</th>\n",
       "      <td>200404</td>\n",
       "      <td>2004-01-25</td>\n",
       "      <td>622</td>\n",
       "      <td>53.0</td>\n",
       "      <td>12.0</td>\n",
       "      <td>0.10</td>\n",
       "      <td>1.23</td>\n",
       "      <td>13.0</td>\n",
       "      <td>37.0</td>\n",
       "      <td>6.0</td>\n",
       "      <td>...</td>\n",
       "      <td>0</td>\n",
       "      <td>0</td>\n",
       "      <td>0</td>\n",
       "      <td>0</td>\n",
       "      <td>0</td>\n",
       "      <td>0</td>\n",
       "      <td>0</td>\n",
       "      <td>0</td>\n",
       "      <td>0</td>\n",
       "      <td>NO2</td>\n",
       "    </tr>\n",
       "    <tr>\n",
       "      <th>4</th>\n",
       "      <td>200405</td>\n",
       "      <td>2004-02-01</td>\n",
       "      <td>552</td>\n",
       "      <td>53.0</td>\n",
       "      <td>11.0</td>\n",
       "      <td>0.07</td>\n",
       "      <td>0.69</td>\n",
       "      <td>21.0</td>\n",
       "      <td>62.0</td>\n",
       "      <td>10.0</td>\n",
       "      <td>...</td>\n",
       "      <td>0</td>\n",
       "      <td>0</td>\n",
       "      <td>0</td>\n",
       "      <td>0</td>\n",
       "      <td>0</td>\n",
       "      <td>0</td>\n",
       "      <td>0</td>\n",
       "      <td>0</td>\n",
       "      <td>0</td>\n",
       "      <td>PM2.5</td>\n",
       "    </tr>\n",
       "  </tbody>\n",
       "</table>\n",
       "<p>5 rows × 31 columns</p>\n",
       "</div>"
      ],
      "text/plain": [
       "  epiweek  weekstart  cases  edvisits  wind  precip  snow  temp   aqi    co  \\\n",
       "0  200401 2004-01-04    599      53.0  11.0    0.11  1.80  17.0  41.0   6.0   \n",
       "1  200402 2004-01-11    640      53.0  12.0    0.07  0.72  23.0  56.0   5.0   \n",
       "2  200403 2004-01-18    399      53.0  11.0    0.04  0.50  15.0  41.0   6.0   \n",
       "3  200404 2004-01-25    622      53.0  12.0    0.10  1.23  13.0  37.0   6.0   \n",
       "4  200405 2004-02-01    552      53.0  11.0    0.07  0.69  21.0  62.0  10.0   \n",
       "\n",
       "   ...  month_4  month_5  month_6  month_7  month_8  month_9  month_10  \\\n",
       "0  ...        0        0        0        0        0        0         0   \n",
       "1  ...        0        0        0        0        0        0         0   \n",
       "2  ...        0        0        0        0        0        0         0   \n",
       "3  ...        0        0        0        0        0        0         0   \n",
       "4  ...        0        0        0        0        0        0         0   \n",
       "\n",
       "   month_11  month_12  top_pollutant  \n",
       "0         0         0          PM2.5  \n",
       "1         0         0          PM2.5  \n",
       "2         0         0          PM2.5  \n",
       "3         0         0            NO2  \n",
       "4         0         0          PM2.5  \n",
       "\n",
       "[5 rows x 31 columns]"
      ]
     },
     "execution_count": 46,
     "metadata": {},
     "output_type": "execute_result"
    }
   ],
   "source": [
    "df.head()"
   ]
  },
  {
   "cell_type": "code",
   "execution_count": 47,
   "metadata": {},
   "outputs": [],
   "source": [
    "df.to_csv(\"dataset by week (no outliers, median-filled) .csv\")"
   ]
  },
  {
   "cell_type": "code",
   "execution_count": 55,
   "metadata": {},
   "outputs": [],
   "source": [
    "import plotly.express as px\n",
    "import plotly.graph_objects as go"
   ]
  },
  {
   "cell_type": "code",
   "execution_count": 50,
   "metadata": {},
   "outputs": [
    {
     "data": {
      "text/html": [
       "<div>\n",
       "<style scoped>\n",
       "    .dataframe tbody tr th:only-of-type {\n",
       "        vertical-align: middle;\n",
       "    }\n",
       "\n",
       "    .dataframe tbody tr th {\n",
       "        vertical-align: top;\n",
       "    }\n",
       "\n",
       "    .dataframe thead th {\n",
       "        text-align: right;\n",
       "    }\n",
       "</style>\n",
       "<table border=\"1\" class=\"dataframe\">\n",
       "  <thead>\n",
       "    <tr style=\"text-align: right;\">\n",
       "      <th></th>\n",
       "      <th>cases</th>\n",
       "      <th>top_pollutant</th>\n",
       "    </tr>\n",
       "    <tr>\n",
       "      <th>weekstart</th>\n",
       "      <th></th>\n",
       "      <th></th>\n",
       "    </tr>\n",
       "  </thead>\n",
       "  <tbody>\n",
       "    <tr>\n",
       "      <th>2004-01-04</th>\n",
       "      <td>599</td>\n",
       "      <td>PM2.5</td>\n",
       "    </tr>\n",
       "    <tr>\n",
       "      <th>2004-01-11</th>\n",
       "      <td>640</td>\n",
       "      <td>PM2.5</td>\n",
       "    </tr>\n",
       "    <tr>\n",
       "      <th>2004-01-18</th>\n",
       "      <td>399</td>\n",
       "      <td>PM2.5</td>\n",
       "    </tr>\n",
       "    <tr>\n",
       "      <th>2004-01-25</th>\n",
       "      <td>622</td>\n",
       "      <td>NO2</td>\n",
       "    </tr>\n",
       "    <tr>\n",
       "      <th>2004-02-01</th>\n",
       "      <td>552</td>\n",
       "      <td>PM2.5</td>\n",
       "    </tr>\n",
       "    <tr>\n",
       "      <th>...</th>\n",
       "      <td>...</td>\n",
       "      <td>...</td>\n",
       "    </tr>\n",
       "    <tr>\n",
       "      <th>2019-11-17</th>\n",
       "      <td>1466</td>\n",
       "      <td>Ozone</td>\n",
       "    </tr>\n",
       "    <tr>\n",
       "      <th>2019-11-24</th>\n",
       "      <td>638</td>\n",
       "      <td>Ozone</td>\n",
       "    </tr>\n",
       "    <tr>\n",
       "      <th>2019-12-01</th>\n",
       "      <td>1722</td>\n",
       "      <td>PM2.5</td>\n",
       "    </tr>\n",
       "    <tr>\n",
       "      <th>2019-12-08</th>\n",
       "      <td>2121</td>\n",
       "      <td>PM2.5</td>\n",
       "    </tr>\n",
       "    <tr>\n",
       "      <th>2019-12-15</th>\n",
       "      <td>1638</td>\n",
       "      <td>PM2.5</td>\n",
       "    </tr>\n",
       "  </tbody>\n",
       "</table>\n",
       "<p>768 rows × 2 columns</p>\n",
       "</div>"
      ],
      "text/plain": [
       "            cases top_pollutant\n",
       "weekstart                      \n",
       "2004-01-04    599         PM2.5\n",
       "2004-01-11    640         PM2.5\n",
       "2004-01-18    399         PM2.5\n",
       "2004-01-25    622           NO2\n",
       "2004-02-01    552         PM2.5\n",
       "...           ...           ...\n",
       "2019-11-17   1466         Ozone\n",
       "2019-11-24    638         Ozone\n",
       "2019-12-01   1722         PM2.5\n",
       "2019-12-08   2121         PM2.5\n",
       "2019-12-15   1638         PM2.5\n",
       "\n",
       "[768 rows x 2 columns]"
      ]
     },
     "execution_count": 50,
     "metadata": {},
     "output_type": "execute_result"
    }
   ],
   "source": [
    "df.set_index('weekstart')[['cases','top_pollutant']]"
   ]
  },
  {
   "cell_type": "code",
   "execution_count": 54,
   "metadata": {},
   "outputs": [
    {
     "data": {
      "application/vnd.plotly.v1+json": {
       "config": {
        "plotlyServerURL": "https://plot.ly"
       },
       "data": [
        {
         "hovertemplate": "color=PM2.5<br>weekstart=%{x}<br>cases=%{y}<extra></extra>",
         "legendgroup": "PM2.5",
         "line": {
          "color": "#636efa",
          "dash": "solid"
         },
         "marker": {
          "symbol": "circle"
         },
         "mode": "lines",
         "name": "PM2.5",
         "orientation": "v",
         "showlegend": true,
         "type": "scatter",
         "x": [
          "2004-01-04T00:00:00",
          "2004-01-11T00:00:00",
          "2004-01-18T00:00:00",
          "2004-02-01T00:00:00",
          "2004-02-08T00:00:00",
          "2004-02-15T00:00:00",
          "2004-02-22T00:00:00",
          "2004-02-29T00:00:00",
          "2004-03-07T00:00:00",
          "2004-03-14T00:00:00",
          "2004-03-21T00:00:00",
          "2004-03-28T00:00:00",
          "2004-04-04T00:00:00",
          "2004-05-09T00:00:00",
          "2004-06-06T00:00:00",
          "2004-06-13T00:00:00",
          "2004-07-11T00:00:00",
          "2004-07-18T00:00:00",
          "2004-08-08T00:00:00",
          "2004-08-15T00:00:00",
          "2004-08-22T00:00:00",
          "2004-08-29T00:00:00",
          "2004-09-12T00:00:00",
          "2004-10-31T00:00:00",
          "2004-11-07T00:00:00",
          "2004-11-14T00:00:00",
          "2004-11-21T00:00:00",
          "2004-11-28T00:00:00",
          "2004-12-05T00:00:00",
          "2004-12-12T00:00:00",
          "2004-12-19T00:00:00",
          "2004-12-26T00:00:00",
          "2005-01-02T00:00:00",
          "2005-01-09T00:00:00",
          "2005-01-16T00:00:00",
          "2005-01-23T00:00:00",
          "2005-01-30T00:00:00",
          "2005-02-06T00:00:00",
          "2005-02-13T00:00:00",
          "2005-02-20T00:00:00",
          "2005-02-27T00:00:00",
          "2005-03-06T00:00:00",
          "2005-03-13T00:00:00",
          "2005-03-27T00:00:00",
          "2005-05-01T00:00:00",
          "2005-05-22T00:00:00",
          "2005-07-10T00:00:00",
          "2005-08-07T00:00:00",
          "2005-08-14T00:00:00",
          "2005-09-11T00:00:00",
          "2005-09-18T00:00:00",
          "2005-09-25T00:00:00",
          "2005-11-20T00:00:00",
          "2005-11-27T00:00:00",
          "2005-12-04T00:00:00",
          "2005-12-11T00:00:00",
          "2005-12-18T00:00:00",
          "2005-12-25T00:00:00",
          "2006-01-01T00:00:00",
          "2006-01-08T00:00:00",
          "2006-01-15T00:00:00",
          "2006-01-22T00:00:00",
          "2006-01-29T00:00:00",
          "2006-02-12T00:00:00",
          "2006-02-26T00:00:00",
          "2006-03-05T00:00:00",
          "2006-03-12T00:00:00",
          "2006-03-19T00:00:00",
          "2006-03-26T00:00:00",
          "2007-02-11T00:00:00",
          "2007-11-04T00:00:00",
          "2007-11-11T00:00:00",
          "2007-11-18T00:00:00",
          "2007-11-25T00:00:00",
          "2007-12-02T00:00:00",
          "2007-12-09T00:00:00",
          "2007-12-16T00:00:00",
          "2007-12-23T00:00:00",
          "2007-12-30T00:00:00",
          "2008-01-06T00:00:00",
          "2008-01-13T00:00:00",
          "2008-01-20T00:00:00",
          "2008-01-27T00:00:00",
          "2008-02-03T00:00:00",
          "2008-02-10T00:00:00",
          "2008-02-17T00:00:00",
          "2008-02-24T00:00:00",
          "2008-03-02T00:00:00",
          "2008-03-09T00:00:00",
          "2008-03-16T00:00:00",
          "2008-03-23T00:00:00",
          "2008-03-30T00:00:00",
          "2008-04-06T00:00:00",
          "2008-07-20T00:00:00",
          "2008-09-07T00:00:00",
          "2008-09-21T00:00:00",
          "2008-09-28T00:00:00",
          "2008-10-05T00:00:00",
          "2008-10-12T00:00:00",
          "2008-10-19T00:00:00",
          "2008-10-26T00:00:00",
          "2008-11-02T00:00:00",
          "2008-11-09T00:00:00",
          "2008-11-16T00:00:00",
          "2008-11-23T00:00:00",
          "2008-11-30T00:00:00",
          "2008-12-07T00:00:00",
          "2008-12-14T00:00:00",
          "2008-12-21T00:00:00",
          "2009-01-04T00:00:00",
          "2009-01-11T00:00:00",
          "2009-01-18T00:00:00",
          "2009-01-25T00:00:00",
          "2009-02-08T00:00:00",
          "2009-02-15T00:00:00",
          "2009-02-22T00:00:00",
          "2009-03-01T00:00:00",
          "2009-03-08T00:00:00",
          "2009-03-15T00:00:00",
          "2009-03-22T00:00:00",
          "2011-01-02T00:00:00",
          "2011-01-09T00:00:00",
          "2011-01-16T00:00:00",
          "2011-01-23T00:00:00",
          "2011-01-30T00:00:00",
          "2011-02-06T00:00:00",
          "2011-02-20T00:00:00",
          "2011-02-27T00:00:00",
          "2011-03-06T00:00:00",
          "2011-03-13T00:00:00",
          "2011-04-03T00:00:00",
          "2011-06-19T00:00:00",
          "2011-07-03T00:00:00",
          "2011-07-31T00:00:00",
          "2011-08-14T00:00:00",
          "2011-08-21T00:00:00",
          "2011-09-25T00:00:00",
          "2011-10-02T00:00:00",
          "2011-10-09T00:00:00",
          "2011-10-16T00:00:00",
          "2011-10-23T00:00:00",
          "2011-10-30T00:00:00",
          "2011-11-06T00:00:00",
          "2011-11-13T00:00:00",
          "2011-11-20T00:00:00",
          "2011-12-04T00:00:00",
          "2011-12-11T00:00:00",
          "2011-12-18T00:00:00",
          "2012-01-01T00:00:00",
          "2012-01-08T00:00:00",
          "2012-01-15T00:00:00",
          "2012-01-22T00:00:00",
          "2012-01-29T00:00:00",
          "2012-02-05T00:00:00",
          "2012-02-12T00:00:00",
          "2012-02-19T00:00:00",
          "2012-02-26T00:00:00",
          "2012-03-11T00:00:00",
          "2012-03-18T00:00:00",
          "2012-09-30T00:00:00",
          "2012-10-14T00:00:00",
          "2012-10-21T00:00:00",
          "2012-11-04T00:00:00",
          "2012-11-11T00:00:00",
          "2012-11-18T00:00:00",
          "2012-11-25T00:00:00",
          "2012-12-02T00:00:00",
          "2012-12-09T00:00:00",
          "2012-12-23T00:00:00",
          "2012-12-30T00:00:00",
          "2013-01-27T00:00:00",
          "2013-02-03T00:00:00",
          "2013-02-10T00:00:00",
          "2013-02-24T00:00:00",
          "2013-03-10T00:00:00",
          "2013-06-30T00:00:00",
          "2013-07-28T00:00:00",
          "2013-08-04T00:00:00",
          "2013-09-08T00:00:00",
          "2013-09-29T00:00:00",
          "2013-10-06T00:00:00",
          "2013-10-13T00:00:00",
          "2013-10-27T00:00:00",
          "2013-11-03T00:00:00",
          "2013-11-10T00:00:00",
          "2013-11-24T00:00:00",
          "2013-12-01T00:00:00",
          "2013-12-08T00:00:00",
          "2013-12-15T00:00:00",
          "2013-12-22T00:00:00",
          "2014-01-12T00:00:00",
          "2014-01-19T00:00:00",
          "2014-01-26T00:00:00",
          "2014-02-02T00:00:00",
          "2014-02-09T00:00:00",
          "2014-02-23T00:00:00",
          "2014-03-02T00:00:00",
          "2014-03-09T00:00:00",
          "2014-03-16T00:00:00",
          "2014-03-23T00:00:00",
          "2014-06-22T00:00:00",
          "2014-07-13T00:00:00",
          "2014-07-27T00:00:00",
          "2014-08-03T00:00:00",
          "2014-08-17T00:00:00",
          "2014-08-24T00:00:00",
          "2014-08-31T00:00:00",
          "2014-09-14T00:00:00",
          "2014-09-21T00:00:00",
          "2014-09-28T00:00:00",
          "2014-10-05T00:00:00",
          "2014-10-12T00:00:00",
          "2014-10-19T00:00:00",
          "2014-10-26T00:00:00",
          "2014-11-02T00:00:00",
          "2014-11-09T00:00:00",
          "2014-11-16T00:00:00",
          "2014-11-23T00:00:00",
          "2014-11-30T00:00:00",
          "2014-12-07T00:00:00",
          "2014-12-21T00:00:00",
          "2015-01-11T00:00:00",
          "2015-01-18T00:00:00",
          "2015-01-25T00:00:00",
          "2015-02-01T00:00:00",
          "2015-02-22T00:00:00",
          "2015-03-01T00:00:00",
          "2015-03-08T00:00:00",
          "2015-04-05T00:00:00",
          "2015-04-12T00:00:00",
          "2015-06-07T00:00:00",
          "2015-07-05T00:00:00",
          "2015-08-23T00:00:00",
          "2015-08-30T00:00:00",
          "2015-09-20T00:00:00",
          "2015-10-04T00:00:00",
          "2015-10-11T00:00:00",
          "2015-10-18T00:00:00",
          "2015-10-25T00:00:00",
          "2015-11-01T00:00:00",
          "2015-11-08T00:00:00",
          "2015-11-22T00:00:00",
          "2015-11-29T00:00:00",
          "2015-12-06T00:00:00",
          "2015-12-20T00:00:00",
          "2016-01-03T00:00:00",
          "2016-01-10T00:00:00",
          "2016-01-17T00:00:00",
          "2016-01-24T00:00:00",
          "2016-01-31T00:00:00",
          "2016-03-06T00:00:00",
          "2016-08-28T00:00:00",
          "2016-09-04T00:00:00",
          "2016-09-18T00:00:00",
          "2016-10-02T00:00:00",
          "2016-10-09T00:00:00",
          "2016-10-16T00:00:00",
          "2016-10-23T00:00:00",
          "2016-10-30T00:00:00",
          "2016-11-06T00:00:00",
          "2016-11-13T00:00:00",
          "2016-11-20T00:00:00",
          "2016-11-27T00:00:00",
          "2016-12-04T00:00:00",
          "2016-12-11T00:00:00",
          "2016-12-18T00:00:00",
          "2017-01-01T00:00:00",
          "2017-01-08T00:00:00",
          "2017-01-15T00:00:00",
          "2017-01-22T00:00:00",
          "2017-02-05T00:00:00",
          "2017-02-19T00:00:00",
          "2017-08-27T00:00:00",
          "2017-09-03T00:00:00",
          "2017-10-29T00:00:00",
          "2017-11-05T00:00:00",
          "2017-11-12T00:00:00",
          "2017-11-19T00:00:00",
          "2017-11-26T00:00:00",
          "2017-12-03T00:00:00",
          "2017-12-10T00:00:00",
          "2017-12-17T00:00:00",
          "2018-07-22T00:00:00",
          "2018-08-05T00:00:00",
          "2018-08-12T00:00:00",
          "2018-08-19T00:00:00",
          "2018-10-07T00:00:00",
          "2018-10-28T00:00:00",
          "2018-11-04T00:00:00",
          "2018-11-11T00:00:00",
          "2018-11-18T00:00:00",
          "2018-11-25T00:00:00",
          "2018-12-09T00:00:00",
          "2018-12-30T00:00:00",
          "2019-01-13T00:00:00",
          "2019-02-17T00:00:00",
          "2019-03-17T00:00:00",
          "2019-09-01T00:00:00",
          "2019-09-08T00:00:00",
          "2019-09-22T00:00:00",
          "2019-12-01T00:00:00",
          "2019-12-08T00:00:00",
          "2019-12-15T00:00:00"
         ],
         "xaxis": "x",
         "y": [
          599,
          640,
          399,
          552,
          685,
          283,
          734,
          406,
          768,
          474,
          842,
          480,
          287,
          379,
          242,
          15,
          0,
          0,
          0,
          0,
          0,
          0,
          81,
          217,
          309,
          296,
          150,
          263,
          308,
          284,
          55,
          5,
          98,
          290,
          326,
          474,
          929,
          1087,
          481,
          863,
          746,
          678,
          534,
          250,
          167,
          89,
          0,
          0,
          0,
          154,
          257,
          144,
          434,
          1018,
          496,
          1288,
          419,
          2,
          1103,
          1584,
          1324,
          1324,
          2102,
          1350,
          1764,
          2061,
          1972,
          1685,
          1004,
          2205,
          1105,
          1637,
          574,
          1571,
          1943,
          1674,
          1582,
          18,
          110,
          1040,
          1581,
          1612,
          1358,
          2576,
          2109,
          2276,
          2396,
          2404,
          3090,
          2419,
          2138,
          1500,
          128,
          24,
          465,
          669,
          1139,
          1129,
          1070,
          1246,
          1391,
          1365,
          1685,
          1308,
          1040,
          1678,
          1949,
          821,
          36,
          1121,
          2023,
          1605,
          2135,
          1539,
          2922,
          2976,
          3074,
          2531,
          1734,
          2455,
          1674,
          2199,
          1828,
          2437,
          1925,
          2559,
          1735,
          2008,
          2028,
          2133,
          30,
          200,
          1,
          2,
          10,
          2,
          1316,
          1170,
          940,
          1283,
          1365,
          1490,
          1261,
          1292,
          952,
          1610,
          1753,
          67,
          1351,
          867,
          2822,
          1569,
          1845,
          1982,
          2125,
          1112,
          2549,
          1743,
          2217,
          1275,
          100,
          1038,
          1164,
          1394,
          1398,
          1348,
          1330,
          2704,
          107,
          355,
          2288,
          1280,
          3015,
          1480,
          1483,
          5,
          2,
          1,
          442,
          686,
          1206,
          1486,
          1323,
          950,
          1764,
          553,
          1277,
          1521,
          1034,
          53,
          1540,
          1391,
          1818,
          1480,
          1303,
          958,
          1246,
          1312,
          1482,
          1491,
          5,
          7,
          8,
          4,
          0,
          6,
          322,
          1504,
          1219,
          1077,
          1184,
          1131,
          1139,
          1162,
          1328,
          1489,
          1175,
          552,
          1471,
          2173,
          220,
          1873,
          1547,
          1617,
          1356,
          1656,
          1963,
          1891,
          41,
          787,
          33,
          1,
          17,
          52,
          1200,
          1091,
          1134,
          1101,
          1224,
          1615,
          1249,
          583,
          1176,
          1401,
          33,
          1306,
          1364,
          1611,
          1340,
          1519,
          1864,
          38,
          186,
          1042,
          1077,
          1598,
          1114,
          1452,
          1181,
          1230,
          1131,
          555,
          1586,
          1419,
          1111,
          599,
          1209,
          1473,
          1331,
          1813,
          2487,
          2483,
          219,
          401,
          1399,
          1285,
          1324,
          557,
          1239,
          1352,
          1624,
          988,
          21,
          11,
          1,
          71,
          952,
          1070,
          986,
          984,
          495,
          930,
          1260,
          48,
          917,
          809,
          1994,
          573,
          1083,
          1014,
          1722,
          2121,
          1638
         ],
         "yaxis": "y"
        },
        {
         "hovertemplate": "color=NO2<br>weekstart=%{x}<br>cases=%{y}<extra></extra>",
         "legendgroup": "NO2",
         "line": {
          "color": "#EF553B",
          "dash": "solid"
         },
         "marker": {
          "symbol": "circle"
         },
         "mode": "lines",
         "name": "NO2",
         "orientation": "v",
         "showlegend": true,
         "type": "scatter",
         "x": [
          "2004-01-25T00:00:00",
          "2005-03-20T00:00:00",
          "2006-02-05T00:00:00",
          "2006-10-01T00:00:00",
          "2006-10-08T00:00:00",
          "2006-10-15T00:00:00",
          "2006-10-22T00:00:00",
          "2006-10-29T00:00:00",
          "2006-11-05T00:00:00",
          "2006-11-12T00:00:00",
          "2006-11-19T00:00:00",
          "2006-11-26T00:00:00",
          "2006-12-03T00:00:00",
          "2006-12-10T00:00:00",
          "2006-12-17T00:00:00",
          "2006-12-24T00:00:00",
          "2006-12-31T00:00:00",
          "2007-01-07T00:00:00",
          "2007-01-14T00:00:00",
          "2007-01-21T00:00:00",
          "2007-01-28T00:00:00",
          "2007-02-18T00:00:00",
          "2007-02-25T00:00:00",
          "2007-03-04T00:00:00",
          "2007-03-11T00:00:00",
          "2007-03-18T00:00:00",
          "2007-03-25T00:00:00"
         ],
         "xaxis": "x",
         "y": [
          622,
          480,
          1544,
          731,
          1584,
          1115,
          1152,
          1176,
          0,
          1347,
          688,
          393,
          2620,
          1079,
          1408,
          1577,
          493,
          1526,
          1704,
          1342,
          3032,
          1712,
          2043,
          2479,
          1747,
          1643,
          1522
         ],
         "yaxis": "y"
        },
        {
         "hovertemplate": "color=Ozone<br>weekstart=%{x}<br>cases=%{y}<extra></extra>",
         "legendgroup": "Ozone",
         "line": {
          "color": "#00cc96",
          "dash": "solid"
         },
         "marker": {
          "symbol": "circle"
         },
         "mode": "lines",
         "name": "Ozone",
         "orientation": "v",
         "showlegend": true,
         "type": "scatter",
         "x": [
          "2004-04-11T00:00:00",
          "2004-04-18T00:00:00",
          "2004-04-25T00:00:00",
          "2004-05-02T00:00:00",
          "2004-05-16T00:00:00",
          "2004-05-23T00:00:00",
          "2004-05-30T00:00:00",
          "2004-06-20T00:00:00",
          "2004-06-27T00:00:00",
          "2004-07-04T00:00:00",
          "2004-07-25T00:00:00",
          "2004-08-01T00:00:00",
          "2004-09-05T00:00:00",
          "2004-09-19T00:00:00",
          "2004-09-26T00:00:00",
          "2005-04-03T00:00:00",
          "2005-04-10T00:00:00",
          "2005-04-17T00:00:00",
          "2005-04-24T00:00:00",
          "2005-05-08T00:00:00",
          "2005-05-15T00:00:00",
          "2005-05-29T00:00:00",
          "2005-06-05T00:00:00",
          "2005-06-12T00:00:00",
          "2005-06-19T00:00:00",
          "2005-06-26T00:00:00",
          "2005-07-03T00:00:00",
          "2005-07-17T00:00:00",
          "2005-07-24T00:00:00",
          "2005-07-31T00:00:00",
          "2005-08-21T00:00:00",
          "2005-08-28T00:00:00",
          "2005-09-04T00:00:00",
          "2006-04-02T00:00:00",
          "2006-04-09T00:00:00",
          "2006-04-16T00:00:00",
          "2006-04-23T00:00:00",
          "2006-04-30T00:00:00",
          "2006-05-07T00:00:00",
          "2006-05-14T00:00:00",
          "2006-05-21T00:00:00",
          "2006-05-28T00:00:00",
          "2006-06-04T00:00:00",
          "2006-06-11T00:00:00",
          "2006-06-18T00:00:00",
          "2006-06-25T00:00:00",
          "2006-07-02T00:00:00",
          "2006-07-09T00:00:00",
          "2006-07-16T00:00:00",
          "2006-07-23T00:00:00",
          "2006-07-30T00:00:00",
          "2006-08-06T00:00:00",
          "2006-08-13T00:00:00",
          "2006-08-20T00:00:00",
          "2006-08-27T00:00:00",
          "2006-09-03T00:00:00",
          "2006-09-10T00:00:00",
          "2006-09-17T00:00:00",
          "2006-09-24T00:00:00",
          "2007-04-01T00:00:00",
          "2007-04-08T00:00:00",
          "2007-04-15T00:00:00",
          "2007-04-22T00:00:00",
          "2007-04-29T00:00:00",
          "2007-05-06T00:00:00",
          "2007-05-13T00:00:00",
          "2007-05-20T00:00:00",
          "2007-05-27T00:00:00",
          "2007-06-03T00:00:00",
          "2007-06-10T00:00:00",
          "2007-06-17T00:00:00",
          "2007-06-24T00:00:00",
          "2007-07-01T00:00:00",
          "2007-07-08T00:00:00",
          "2007-07-15T00:00:00",
          "2007-07-22T00:00:00",
          "2007-07-29T00:00:00",
          "2007-08-05T00:00:00",
          "2007-08-12T00:00:00",
          "2007-08-19T00:00:00",
          "2007-08-26T00:00:00",
          "2007-09-02T00:00:00",
          "2007-09-09T00:00:00",
          "2007-09-16T00:00:00",
          "2007-09-23T00:00:00",
          "2008-04-13T00:00:00",
          "2008-04-20T00:00:00",
          "2008-04-27T00:00:00",
          "2008-05-04T00:00:00",
          "2008-05-11T00:00:00",
          "2008-05-18T00:00:00",
          "2008-05-25T00:00:00",
          "2008-06-01T00:00:00",
          "2008-06-08T00:00:00",
          "2008-06-15T00:00:00",
          "2008-06-22T00:00:00",
          "2008-06-29T00:00:00",
          "2008-07-06T00:00:00",
          "2008-07-13T00:00:00",
          "2008-07-27T00:00:00",
          "2008-08-03T00:00:00",
          "2008-08-10T00:00:00",
          "2008-08-17T00:00:00",
          "2008-08-24T00:00:00",
          "2008-08-31T00:00:00",
          "2008-09-14T00:00:00",
          "2009-03-29T00:00:00",
          "2009-04-05T00:00:00",
          "2009-04-12T00:00:00",
          "2009-04-19T00:00:00",
          "2009-12-13T00:00:00",
          "2009-12-20T00:00:00",
          "2009-12-27T00:00:00",
          "2010-01-03T00:00:00",
          "2010-01-10T00:00:00",
          "2010-01-17T00:00:00",
          "2010-01-24T00:00:00",
          "2010-01-31T00:00:00",
          "2010-02-07T00:00:00",
          "2010-02-14T00:00:00",
          "2010-02-21T00:00:00",
          "2010-02-28T00:00:00",
          "2010-03-07T00:00:00",
          "2010-03-14T00:00:00",
          "2010-03-21T00:00:00",
          "2010-03-28T00:00:00",
          "2010-04-04T00:00:00",
          "2010-04-11T00:00:00",
          "2010-04-18T00:00:00",
          "2010-04-25T00:00:00",
          "2010-05-02T00:00:00",
          "2010-05-09T00:00:00",
          "2010-05-16T00:00:00",
          "2010-05-23T00:00:00",
          "2010-05-30T00:00:00",
          "2010-06-06T00:00:00",
          "2010-06-13T00:00:00",
          "2010-06-20T00:00:00",
          "2010-06-27T00:00:00",
          "2010-07-04T00:00:00",
          "2010-07-11T00:00:00",
          "2010-07-18T00:00:00",
          "2010-07-25T00:00:00",
          "2010-08-01T00:00:00",
          "2010-08-08T00:00:00",
          "2010-08-15T00:00:00",
          "2010-08-22T00:00:00",
          "2010-08-29T00:00:00",
          "2010-09-05T00:00:00",
          "2010-09-12T00:00:00",
          "2010-09-19T00:00:00",
          "2010-09-26T00:00:00",
          "2010-10-03T00:00:00",
          "2010-10-10T00:00:00",
          "2010-10-17T00:00:00",
          "2010-10-24T00:00:00",
          "2010-10-31T00:00:00",
          "2010-11-07T00:00:00",
          "2010-11-14T00:00:00",
          "2010-11-21T00:00:00",
          "2010-11-28T00:00:00",
          "2010-12-05T00:00:00",
          "2010-12-12T00:00:00",
          "2010-12-19T00:00:00",
          "2010-12-26T00:00:00",
          "2011-02-13T00:00:00",
          "2011-03-20T00:00:00",
          "2011-03-27T00:00:00",
          "2011-04-10T00:00:00",
          "2011-04-17T00:00:00",
          "2011-04-24T00:00:00",
          "2011-05-01T00:00:00",
          "2011-05-08T00:00:00",
          "2011-05-15T00:00:00",
          "2011-05-22T00:00:00",
          "2011-05-29T00:00:00",
          "2011-06-05T00:00:00",
          "2011-06-12T00:00:00",
          "2011-06-26T00:00:00",
          "2011-07-10T00:00:00",
          "2011-07-17T00:00:00",
          "2011-07-24T00:00:00",
          "2011-08-07T00:00:00",
          "2011-08-28T00:00:00",
          "2011-09-04T00:00:00",
          "2011-09-11T00:00:00",
          "2011-09-18T00:00:00",
          "2011-11-27T00:00:00",
          "2011-12-25T00:00:00",
          "2012-03-04T00:00:00",
          "2012-03-25T00:00:00",
          "2012-04-01T00:00:00",
          "2012-04-08T00:00:00",
          "2012-04-15T00:00:00",
          "2012-04-22T00:00:00",
          "2012-04-29T00:00:00",
          "2012-05-06T00:00:00",
          "2012-05-13T00:00:00",
          "2012-05-20T00:00:00",
          "2012-05-27T00:00:00",
          "2012-06-03T00:00:00",
          "2012-06-10T00:00:00",
          "2012-06-17T00:00:00",
          "2012-06-24T00:00:00",
          "2012-07-01T00:00:00",
          "2012-07-08T00:00:00",
          "2012-07-15T00:00:00",
          "2012-07-22T00:00:00",
          "2012-07-29T00:00:00",
          "2012-08-05T00:00:00",
          "2012-08-12T00:00:00",
          "2012-08-19T00:00:00",
          "2012-08-26T00:00:00",
          "2012-09-02T00:00:00",
          "2012-09-09T00:00:00",
          "2012-09-16T00:00:00",
          "2012-09-23T00:00:00",
          "2012-10-07T00:00:00",
          "2012-10-28T00:00:00",
          "2013-02-17T00:00:00",
          "2013-03-03T00:00:00",
          "2013-03-17T00:00:00",
          "2013-03-24T00:00:00",
          "2013-03-31T00:00:00",
          "2013-04-07T00:00:00",
          "2013-04-14T00:00:00",
          "2013-04-21T00:00:00",
          "2013-04-28T00:00:00",
          "2013-05-05T00:00:00",
          "2013-05-12T00:00:00",
          "2013-05-19T00:00:00",
          "2013-05-26T00:00:00",
          "2013-06-02T00:00:00",
          "2013-06-09T00:00:00",
          "2013-06-16T00:00:00",
          "2013-06-23T00:00:00",
          "2013-07-07T00:00:00",
          "2013-07-14T00:00:00",
          "2013-07-21T00:00:00",
          "2013-08-11T00:00:00",
          "2013-08-18T00:00:00",
          "2013-08-25T00:00:00",
          "2013-09-01T00:00:00",
          "2013-09-15T00:00:00",
          "2013-09-22T00:00:00",
          "2013-10-20T00:00:00",
          "2013-11-17T00:00:00",
          "2013-12-29T00:00:00",
          "2014-02-16T00:00:00",
          "2014-03-30T00:00:00",
          "2014-04-06T00:00:00",
          "2014-04-13T00:00:00",
          "2014-04-20T00:00:00",
          "2014-04-27T00:00:00",
          "2014-05-04T00:00:00",
          "2014-05-11T00:00:00",
          "2014-05-18T00:00:00",
          "2014-05-25T00:00:00",
          "2014-06-01T00:00:00",
          "2014-06-08T00:00:00",
          "2014-06-15T00:00:00",
          "2014-06-29T00:00:00",
          "2014-07-06T00:00:00",
          "2014-07-20T00:00:00",
          "2014-08-10T00:00:00",
          "2014-09-07T00:00:00",
          "2015-01-04T00:00:00",
          "2015-02-08T00:00:00",
          "2015-02-15T00:00:00",
          "2015-03-15T00:00:00",
          "2015-03-22T00:00:00",
          "2015-03-29T00:00:00",
          "2015-04-19T00:00:00",
          "2015-04-26T00:00:00",
          "2015-05-03T00:00:00",
          "2015-05-10T00:00:00",
          "2015-05-17T00:00:00",
          "2015-05-24T00:00:00",
          "2015-05-31T00:00:00",
          "2015-06-14T00:00:00",
          "2015-06-21T00:00:00",
          "2015-06-28T00:00:00",
          "2015-07-12T00:00:00",
          "2015-07-19T00:00:00",
          "2015-07-26T00:00:00",
          "2015-08-02T00:00:00",
          "2015-08-09T00:00:00",
          "2015-08-16T00:00:00",
          "2015-09-06T00:00:00",
          "2015-09-13T00:00:00",
          "2015-09-27T00:00:00",
          "2015-11-15T00:00:00",
          "2015-12-13T00:00:00",
          "2015-12-27T00:00:00",
          "2016-02-07T00:00:00",
          "2016-02-14T00:00:00",
          "2016-02-21T00:00:00",
          "2016-02-28T00:00:00",
          "2016-03-13T00:00:00",
          "2016-03-20T00:00:00",
          "2016-03-27T00:00:00",
          "2016-04-03T00:00:00",
          "2016-04-10T00:00:00",
          "2016-04-17T00:00:00",
          "2016-04-24T00:00:00",
          "2016-05-01T00:00:00",
          "2016-05-08T00:00:00",
          "2016-05-15T00:00:00",
          "2016-05-22T00:00:00",
          "2016-05-29T00:00:00",
          "2016-06-05T00:00:00",
          "2016-06-12T00:00:00",
          "2016-06-19T00:00:00",
          "2016-06-26T00:00:00",
          "2016-07-03T00:00:00",
          "2016-07-10T00:00:00",
          "2016-07-17T00:00:00",
          "2016-07-24T00:00:00",
          "2016-07-31T00:00:00",
          "2016-08-07T00:00:00",
          "2016-08-14T00:00:00",
          "2016-08-21T00:00:00",
          "2016-09-11T00:00:00",
          "2016-09-25T00:00:00",
          "2016-12-25T00:00:00",
          "2017-01-29T00:00:00",
          "2017-02-12T00:00:00",
          "2017-02-26T00:00:00",
          "2017-03-05T00:00:00",
          "2017-03-12T00:00:00",
          "2017-03-19T00:00:00",
          "2017-03-26T00:00:00",
          "2017-04-02T00:00:00",
          "2017-04-09T00:00:00",
          "2017-04-16T00:00:00",
          "2017-04-23T00:00:00",
          "2017-04-30T00:00:00",
          "2017-05-07T00:00:00",
          "2017-05-14T00:00:00",
          "2017-05-21T00:00:00",
          "2017-05-28T00:00:00",
          "2017-06-04T00:00:00",
          "2017-06-11T00:00:00",
          "2017-06-18T00:00:00",
          "2017-06-25T00:00:00",
          "2017-07-02T00:00:00",
          "2017-07-09T00:00:00",
          "2017-07-16T00:00:00",
          "2017-07-23T00:00:00",
          "2017-07-30T00:00:00",
          "2017-08-06T00:00:00",
          "2017-08-13T00:00:00",
          "2017-08-20T00:00:00",
          "2017-09-10T00:00:00",
          "2017-09-17T00:00:00",
          "2017-09-24T00:00:00",
          "2017-10-01T00:00:00",
          "2017-10-08T00:00:00",
          "2017-10-15T00:00:00",
          "2017-10-22T00:00:00",
          "2018-02-25T00:00:00",
          "2018-03-04T00:00:00",
          "2018-03-11T00:00:00",
          "2018-03-18T00:00:00",
          "2018-03-25T00:00:00",
          "2018-04-01T00:00:00",
          "2018-04-08T00:00:00",
          "2018-04-15T00:00:00",
          "2018-04-22T00:00:00",
          "2018-04-29T00:00:00",
          "2018-05-06T00:00:00",
          "2018-05-13T00:00:00",
          "2018-05-20T00:00:00",
          "2018-05-27T00:00:00",
          "2018-06-03T00:00:00",
          "2018-06-10T00:00:00",
          "2018-06-17T00:00:00",
          "2018-06-24T00:00:00",
          "2018-07-01T00:00:00",
          "2018-07-08T00:00:00",
          "2018-07-15T00:00:00",
          "2018-07-29T00:00:00",
          "2018-08-26T00:00:00",
          "2018-09-02T00:00:00",
          "2018-09-09T00:00:00",
          "2018-09-16T00:00:00",
          "2018-09-23T00:00:00",
          "2018-09-30T00:00:00",
          "2018-10-14T00:00:00",
          "2018-10-21T00:00:00",
          "2018-12-02T00:00:00",
          "2018-12-16T00:00:00",
          "2018-12-23T00:00:00",
          "2019-01-06T00:00:00",
          "2019-01-20T00:00:00",
          "2019-01-27T00:00:00",
          "2019-02-24T00:00:00",
          "2019-03-03T00:00:00",
          "2019-03-10T00:00:00",
          "2019-03-24T00:00:00",
          "2019-03-31T00:00:00",
          "2019-04-07T00:00:00",
          "2019-04-14T00:00:00",
          "2019-04-21T00:00:00",
          "2019-04-28T00:00:00",
          "2019-05-05T00:00:00",
          "2019-05-12T00:00:00",
          "2019-05-19T00:00:00",
          "2019-05-26T00:00:00",
          "2019-06-02T00:00:00",
          "2019-06-09T00:00:00",
          "2019-06-16T00:00:00",
          "2019-06-23T00:00:00",
          "2019-06-30T00:00:00",
          "2019-07-07T00:00:00",
          "2019-07-14T00:00:00",
          "2019-07-21T00:00:00",
          "2019-07-28T00:00:00",
          "2019-08-04T00:00:00",
          "2019-08-11T00:00:00",
          "2019-08-18T00:00:00",
          "2019-08-25T00:00:00",
          "2019-09-15T00:00:00",
          "2019-09-29T00:00:00",
          "2019-10-06T00:00:00",
          "2019-10-13T00:00:00",
          "2019-10-20T00:00:00",
          "2019-10-27T00:00:00",
          "2019-11-03T00:00:00",
          "2019-11-10T00:00:00",
          "2019-11-17T00:00:00",
          "2019-11-24T00:00:00"
         ],
         "xaxis": "x",
         "y": [
          10,
          299,
          93,
          686,
          291,
          418,
          207,
          1,
          0,
          0,
          0,
          0,
          4,
          565,
          205,
          2,
          108,
          124,
          149,
          203,
          121,
          79,
          34,
          24,
          2,
          0,
          1,
          0,
          1,
          0,
          1,
          23,
          49,
          1125,
          623,
          638,
          661,
          694,
          799,
          998,
          671,
          189,
          198,
          86,
          2,
          7,
          13,
          0,
          0,
          1,
          4,
          0,
          0,
          0,
          0,
          35,
          566,
          700,
          1347,
          112,
          828,
          753,
          1069,
          897,
          1050,
          1035,
          791,
          1190,
          374,
          201,
          15,
          6,
          6,
          6,
          7,
          4,
          0,
          8,
          9,
          4,
          8,
          106,
          400,
          681,
          1616,
          710,
          974,
          1061,
          1009,
          1038,
          781,
          583,
          1386,
          73,
          26,
          22,
          0,
          1,
          4,
          4,
          7,
          2,
          6,
          9,
          92,
          647,
          1514,
          29,
          1510,
          1319,
          1726,
          401,
          9,
          1133,
          1493,
          1601,
          1733,
          2087,
          2629,
          1757,
          1990,
          1551,
          1510,
          1658,
          1326,
          1141,
          51,
          553,
          1029,
          1323,
          761,
          1357,
          1202,
          747,
          853,
          407,
          226,
          9,
          2,
          5,
          0,
          3,
          9,
          0,
          5,
          18,
          11,
          13,
          198,
          592,
          851,
          1088,
          789,
          999,
          1496,
          1097,
          1487,
          1359,
          1402,
          1015,
          1485,
          1819,
          1678,
          190,
          11,
          1981,
          2263,
          1743,
          631,
          1650,
          1715,
          1392,
          1558,
          1019,
          981,
          617,
          313,
          135,
          0,
          0,
          0,
          0,
          3,
          10,
          23,
          624,
          1244,
          1492,
          6,
          1842,
          1380,
          12,
          1658,
          1429,
          1599,
          1787,
          1241,
          184,
          237,
          659,
          1092,
          555,
          12,
          5,
          0,
          2,
          8,
          2,
          0,
          1,
          0,
          10,
          17,
          121,
          531,
          1050,
          1195,
          1140,
          1454,
          1574,
          2612,
          2197,
          1650,
          6,
          346,
          1492,
          2071,
          964,
          1295,
          900,
          200,
          235,
          619,
          45,
          12,
          9,
          0,
          6,
          7,
          9,
          9,
          19,
          122,
          620,
          216,
          1527,
          1319,
          39,
          1622,
          1046,
          59,
          761,
          1020,
          1318,
          1029,
          807,
          645,
          403,
          325,
          46,
          8,
          3,
          3,
          8,
          1,
          1088,
          2243,
          1619,
          1225,
          1414,
          1562,
          1163,
          1118,
          944,
          955,
          912,
          717,
          466,
          366,
          6,
          2,
          5,
          4,
          6,
          3,
          3,
          1,
          4,
          332,
          898,
          1097,
          1227,
          1198,
          6,
          1622,
          1510,
          1611,
          1560,
          1613,
          1856,
          1174,
          44,
          923,
          919,
          1093,
          981,
          848,
          860,
          709,
          444,
          298,
          87,
          14,
          7,
          7,
          8,
          6,
          0,
          34,
          32,
          31,
          26,
          714,
          1092,
          8,
          2296,
          2975,
          2217,
          2149,
          2162,
          1942,
          1376,
          40,
          878,
          912,
          1011,
          956,
          979,
          1020,
          652,
          461,
          258,
          97,
          6,
          5,
          1,
          3,
          4,
          0,
          3,
          7,
          4,
          51,
          813,
          1035,
          737,
          767,
          877,
          952,
          1029,
          1551,
          1514,
          2176,
          1476,
          1049,
          16,
          913,
          854,
          829,
          857,
          932,
          745,
          573,
          388,
          206,
          12,
          15,
          30,
          2,
          1,
          21,
          20,
          265,
          541,
          861,
          863,
          883,
          943,
          987,
          1110,
          1148,
          1189,
          62,
          1039,
          819,
          34,
          1254,
          1393,
          1654,
          1339,
          37,
          902,
          979,
          920,
          1109,
          1011,
          951,
          672,
          352,
          199,
          50,
          5,
          8,
          2,
          1,
          3,
          7,
          4,
          11,
          10,
          63,
          268,
          976,
          1011,
          1239,
          1119,
          994,
          1111,
          1458,
          1671,
          1466,
          638
         ],
         "yaxis": "y"
        },
        {
         "hovertemplate": "color=CO<br>weekstart=%{x}<br>cases=%{y}<extra></extra>",
         "legendgroup": "CO",
         "line": {
          "color": "#ab63fa",
          "dash": "solid"
         },
         "marker": {
          "symbol": "circle"
         },
         "mode": "lines",
         "name": "CO",
         "orientation": "v",
         "showlegend": true,
         "type": "scatter",
         "x": [
          "2007-02-04T00:00:00",
          "2007-09-30T00:00:00",
          "2007-10-07T00:00:00",
          "2007-10-14T00:00:00",
          "2007-10-21T00:00:00",
          "2007-10-28T00:00:00"
         ],
         "xaxis": "x",
         "y": [
          1056,
          774,
          869,
          797,
          1341,
          1786
         ],
         "yaxis": "y"
        }
       ],
       "layout": {
        "legend": {
         "title": {
          "text": "color"
         },
         "tracegroupgap": 0
        },
        "margin": {
         "t": 60
        },
        "template": {
         "data": {
          "bar": [
           {
            "error_x": {
             "color": "#2a3f5f"
            },
            "error_y": {
             "color": "#2a3f5f"
            },
            "marker": {
             "line": {
              "color": "#E5ECF6",
              "width": 0.5
             },
             "pattern": {
              "fillmode": "overlay",
              "size": 10,
              "solidity": 0.2
             }
            },
            "type": "bar"
           }
          ],
          "barpolar": [
           {
            "marker": {
             "line": {
              "color": "#E5ECF6",
              "width": 0.5
             },
             "pattern": {
              "fillmode": "overlay",
              "size": 10,
              "solidity": 0.2
             }
            },
            "type": "barpolar"
           }
          ],
          "carpet": [
           {
            "aaxis": {
             "endlinecolor": "#2a3f5f",
             "gridcolor": "white",
             "linecolor": "white",
             "minorgridcolor": "white",
             "startlinecolor": "#2a3f5f"
            },
            "baxis": {
             "endlinecolor": "#2a3f5f",
             "gridcolor": "white",
             "linecolor": "white",
             "minorgridcolor": "white",
             "startlinecolor": "#2a3f5f"
            },
            "type": "carpet"
           }
          ],
          "choropleth": [
           {
            "colorbar": {
             "outlinewidth": 0,
             "ticks": ""
            },
            "type": "choropleth"
           }
          ],
          "contour": [
           {
            "colorbar": {
             "outlinewidth": 0,
             "ticks": ""
            },
            "colorscale": [
             [
              0,
              "#0d0887"
             ],
             [
              0.1111111111111111,
              "#46039f"
             ],
             [
              0.2222222222222222,
              "#7201a8"
             ],
             [
              0.3333333333333333,
              "#9c179e"
             ],
             [
              0.4444444444444444,
              "#bd3786"
             ],
             [
              0.5555555555555556,
              "#d8576b"
             ],
             [
              0.6666666666666666,
              "#ed7953"
             ],
             [
              0.7777777777777778,
              "#fb9f3a"
             ],
             [
              0.8888888888888888,
              "#fdca26"
             ],
             [
              1,
              "#f0f921"
             ]
            ],
            "type": "contour"
           }
          ],
          "contourcarpet": [
           {
            "colorbar": {
             "outlinewidth": 0,
             "ticks": ""
            },
            "type": "contourcarpet"
           }
          ],
          "heatmap": [
           {
            "colorbar": {
             "outlinewidth": 0,
             "ticks": ""
            },
            "colorscale": [
             [
              0,
              "#0d0887"
             ],
             [
              0.1111111111111111,
              "#46039f"
             ],
             [
              0.2222222222222222,
              "#7201a8"
             ],
             [
              0.3333333333333333,
              "#9c179e"
             ],
             [
              0.4444444444444444,
              "#bd3786"
             ],
             [
              0.5555555555555556,
              "#d8576b"
             ],
             [
              0.6666666666666666,
              "#ed7953"
             ],
             [
              0.7777777777777778,
              "#fb9f3a"
             ],
             [
              0.8888888888888888,
              "#fdca26"
             ],
             [
              1,
              "#f0f921"
             ]
            ],
            "type": "heatmap"
           }
          ],
          "heatmapgl": [
           {
            "colorbar": {
             "outlinewidth": 0,
             "ticks": ""
            },
            "colorscale": [
             [
              0,
              "#0d0887"
             ],
             [
              0.1111111111111111,
              "#46039f"
             ],
             [
              0.2222222222222222,
              "#7201a8"
             ],
             [
              0.3333333333333333,
              "#9c179e"
             ],
             [
              0.4444444444444444,
              "#bd3786"
             ],
             [
              0.5555555555555556,
              "#d8576b"
             ],
             [
              0.6666666666666666,
              "#ed7953"
             ],
             [
              0.7777777777777778,
              "#fb9f3a"
             ],
             [
              0.8888888888888888,
              "#fdca26"
             ],
             [
              1,
              "#f0f921"
             ]
            ],
            "type": "heatmapgl"
           }
          ],
          "histogram": [
           {
            "marker": {
             "pattern": {
              "fillmode": "overlay",
              "size": 10,
              "solidity": 0.2
             }
            },
            "type": "histogram"
           }
          ],
          "histogram2d": [
           {
            "colorbar": {
             "outlinewidth": 0,
             "ticks": ""
            },
            "colorscale": [
             [
              0,
              "#0d0887"
             ],
             [
              0.1111111111111111,
              "#46039f"
             ],
             [
              0.2222222222222222,
              "#7201a8"
             ],
             [
              0.3333333333333333,
              "#9c179e"
             ],
             [
              0.4444444444444444,
              "#bd3786"
             ],
             [
              0.5555555555555556,
              "#d8576b"
             ],
             [
              0.6666666666666666,
              "#ed7953"
             ],
             [
              0.7777777777777778,
              "#fb9f3a"
             ],
             [
              0.8888888888888888,
              "#fdca26"
             ],
             [
              1,
              "#f0f921"
             ]
            ],
            "type": "histogram2d"
           }
          ],
          "histogram2dcontour": [
           {
            "colorbar": {
             "outlinewidth": 0,
             "ticks": ""
            },
            "colorscale": [
             [
              0,
              "#0d0887"
             ],
             [
              0.1111111111111111,
              "#46039f"
             ],
             [
              0.2222222222222222,
              "#7201a8"
             ],
             [
              0.3333333333333333,
              "#9c179e"
             ],
             [
              0.4444444444444444,
              "#bd3786"
             ],
             [
              0.5555555555555556,
              "#d8576b"
             ],
             [
              0.6666666666666666,
              "#ed7953"
             ],
             [
              0.7777777777777778,
              "#fb9f3a"
             ],
             [
              0.8888888888888888,
              "#fdca26"
             ],
             [
              1,
              "#f0f921"
             ]
            ],
            "type": "histogram2dcontour"
           }
          ],
          "mesh3d": [
           {
            "colorbar": {
             "outlinewidth": 0,
             "ticks": ""
            },
            "type": "mesh3d"
           }
          ],
          "parcoords": [
           {
            "line": {
             "colorbar": {
              "outlinewidth": 0,
              "ticks": ""
             }
            },
            "type": "parcoords"
           }
          ],
          "pie": [
           {
            "automargin": true,
            "type": "pie"
           }
          ],
          "scatter": [
           {
            "marker": {
             "colorbar": {
              "outlinewidth": 0,
              "ticks": ""
             }
            },
            "type": "scatter"
           }
          ],
          "scatter3d": [
           {
            "line": {
             "colorbar": {
              "outlinewidth": 0,
              "ticks": ""
             }
            },
            "marker": {
             "colorbar": {
              "outlinewidth": 0,
              "ticks": ""
             }
            },
            "type": "scatter3d"
           }
          ],
          "scattercarpet": [
           {
            "marker": {
             "colorbar": {
              "outlinewidth": 0,
              "ticks": ""
             }
            },
            "type": "scattercarpet"
           }
          ],
          "scattergeo": [
           {
            "marker": {
             "colorbar": {
              "outlinewidth": 0,
              "ticks": ""
             }
            },
            "type": "scattergeo"
           }
          ],
          "scattergl": [
           {
            "marker": {
             "colorbar": {
              "outlinewidth": 0,
              "ticks": ""
             }
            },
            "type": "scattergl"
           }
          ],
          "scattermapbox": [
           {
            "marker": {
             "colorbar": {
              "outlinewidth": 0,
              "ticks": ""
             }
            },
            "type": "scattermapbox"
           }
          ],
          "scatterpolar": [
           {
            "marker": {
             "colorbar": {
              "outlinewidth": 0,
              "ticks": ""
             }
            },
            "type": "scatterpolar"
           }
          ],
          "scatterpolargl": [
           {
            "marker": {
             "colorbar": {
              "outlinewidth": 0,
              "ticks": ""
             }
            },
            "type": "scatterpolargl"
           }
          ],
          "scatterternary": [
           {
            "marker": {
             "colorbar": {
              "outlinewidth": 0,
              "ticks": ""
             }
            },
            "type": "scatterternary"
           }
          ],
          "surface": [
           {
            "colorbar": {
             "outlinewidth": 0,
             "ticks": ""
            },
            "colorscale": [
             [
              0,
              "#0d0887"
             ],
             [
              0.1111111111111111,
              "#46039f"
             ],
             [
              0.2222222222222222,
              "#7201a8"
             ],
             [
              0.3333333333333333,
              "#9c179e"
             ],
             [
              0.4444444444444444,
              "#bd3786"
             ],
             [
              0.5555555555555556,
              "#d8576b"
             ],
             [
              0.6666666666666666,
              "#ed7953"
             ],
             [
              0.7777777777777778,
              "#fb9f3a"
             ],
             [
              0.8888888888888888,
              "#fdca26"
             ],
             [
              1,
              "#f0f921"
             ]
            ],
            "type": "surface"
           }
          ],
          "table": [
           {
            "cells": {
             "fill": {
              "color": "#EBF0F8"
             },
             "line": {
              "color": "white"
             }
            },
            "header": {
             "fill": {
              "color": "#C8D4E3"
             },
             "line": {
              "color": "white"
             }
            },
            "type": "table"
           }
          ]
         },
         "layout": {
          "annotationdefaults": {
           "arrowcolor": "#2a3f5f",
           "arrowhead": 0,
           "arrowwidth": 1
          },
          "autotypenumbers": "strict",
          "coloraxis": {
           "colorbar": {
            "outlinewidth": 0,
            "ticks": ""
           }
          },
          "colorscale": {
           "diverging": [
            [
             0,
             "#8e0152"
            ],
            [
             0.1,
             "#c51b7d"
            ],
            [
             0.2,
             "#de77ae"
            ],
            [
             0.3,
             "#f1b6da"
            ],
            [
             0.4,
             "#fde0ef"
            ],
            [
             0.5,
             "#f7f7f7"
            ],
            [
             0.6,
             "#e6f5d0"
            ],
            [
             0.7,
             "#b8e186"
            ],
            [
             0.8,
             "#7fbc41"
            ],
            [
             0.9,
             "#4d9221"
            ],
            [
             1,
             "#276419"
            ]
           ],
           "sequential": [
            [
             0,
             "#0d0887"
            ],
            [
             0.1111111111111111,
             "#46039f"
            ],
            [
             0.2222222222222222,
             "#7201a8"
            ],
            [
             0.3333333333333333,
             "#9c179e"
            ],
            [
             0.4444444444444444,
             "#bd3786"
            ],
            [
             0.5555555555555556,
             "#d8576b"
            ],
            [
             0.6666666666666666,
             "#ed7953"
            ],
            [
             0.7777777777777778,
             "#fb9f3a"
            ],
            [
             0.8888888888888888,
             "#fdca26"
            ],
            [
             1,
             "#f0f921"
            ]
           ],
           "sequentialminus": [
            [
             0,
             "#0d0887"
            ],
            [
             0.1111111111111111,
             "#46039f"
            ],
            [
             0.2222222222222222,
             "#7201a8"
            ],
            [
             0.3333333333333333,
             "#9c179e"
            ],
            [
             0.4444444444444444,
             "#bd3786"
            ],
            [
             0.5555555555555556,
             "#d8576b"
            ],
            [
             0.6666666666666666,
             "#ed7953"
            ],
            [
             0.7777777777777778,
             "#fb9f3a"
            ],
            [
             0.8888888888888888,
             "#fdca26"
            ],
            [
             1,
             "#f0f921"
            ]
           ]
          },
          "colorway": [
           "#636efa",
           "#EF553B",
           "#00cc96",
           "#ab63fa",
           "#FFA15A",
           "#19d3f3",
           "#FF6692",
           "#B6E880",
           "#FF97FF",
           "#FECB52"
          ],
          "font": {
           "color": "#2a3f5f"
          },
          "geo": {
           "bgcolor": "white",
           "lakecolor": "white",
           "landcolor": "#E5ECF6",
           "showlakes": true,
           "showland": true,
           "subunitcolor": "white"
          },
          "hoverlabel": {
           "align": "left"
          },
          "hovermode": "closest",
          "mapbox": {
           "style": "light"
          },
          "paper_bgcolor": "white",
          "plot_bgcolor": "#E5ECF6",
          "polar": {
           "angularaxis": {
            "gridcolor": "white",
            "linecolor": "white",
            "ticks": ""
           },
           "bgcolor": "#E5ECF6",
           "radialaxis": {
            "gridcolor": "white",
            "linecolor": "white",
            "ticks": ""
           }
          },
          "scene": {
           "xaxis": {
            "backgroundcolor": "#E5ECF6",
            "gridcolor": "white",
            "gridwidth": 2,
            "linecolor": "white",
            "showbackground": true,
            "ticks": "",
            "zerolinecolor": "white"
           },
           "yaxis": {
            "backgroundcolor": "#E5ECF6",
            "gridcolor": "white",
            "gridwidth": 2,
            "linecolor": "white",
            "showbackground": true,
            "ticks": "",
            "zerolinecolor": "white"
           },
           "zaxis": {
            "backgroundcolor": "#E5ECF6",
            "gridcolor": "white",
            "gridwidth": 2,
            "linecolor": "white",
            "showbackground": true,
            "ticks": "",
            "zerolinecolor": "white"
           }
          },
          "shapedefaults": {
           "line": {
            "color": "#2a3f5f"
           }
          },
          "ternary": {
           "aaxis": {
            "gridcolor": "white",
            "linecolor": "white",
            "ticks": ""
           },
           "baxis": {
            "gridcolor": "white",
            "linecolor": "white",
            "ticks": ""
           },
           "bgcolor": "#E5ECF6",
           "caxis": {
            "gridcolor": "white",
            "linecolor": "white",
            "ticks": ""
           }
          },
          "title": {
           "x": 0.05
          },
          "xaxis": {
           "automargin": true,
           "gridcolor": "white",
           "linecolor": "white",
           "ticks": "",
           "title": {
            "standoff": 15
           },
           "zerolinecolor": "white",
           "zerolinewidth": 2
          },
          "yaxis": {
           "automargin": true,
           "gridcolor": "white",
           "linecolor": "white",
           "ticks": "",
           "title": {
            "standoff": 15
           },
           "zerolinecolor": "white",
           "zerolinewidth": 2
          }
         }
        },
        "xaxis": {
         "anchor": "y",
         "domain": [
          0,
          1
         ],
         "title": {
          "text": "weekstart"
         }
        },
        "yaxis": {
         "anchor": "x",
         "domain": [
          0,
          1
         ],
         "title": {
          "text": "cases"
         }
        }
       }
      }
     },
     "metadata": {},
     "output_type": "display_data"
    }
   ],
   "source": [
    "px.line(df.drop_duplicates(), x='weekstart', y='cases', color=df.set_index('weekstart').drop_duplicates()['top_pollutant'])"
   ]
  },
  {
   "cell_type": "code",
   "execution_count": 63,
   "metadata": {},
   "outputs": [
    {
     "data": {
      "application/vnd.plotly.v1+json": {
       "config": {
        "plotlyServerURL": "https://plot.ly"
       },
       "data": [
        {
         "line": {
          "color": "rgba(0,0,200,0.7)"
         },
         "mode": "lines",
         "type": "scatter",
         "x": [
          "2004-01-04T00:00:00",
          "2004-01-11T00:00:00",
          "2004-01-18T00:00:00",
          "2004-01-25T00:00:00",
          "2004-02-01T00:00:00",
          "2004-02-08T00:00:00",
          "2004-02-15T00:00:00",
          "2004-02-22T00:00:00",
          "2004-02-29T00:00:00",
          "2004-03-07T00:00:00",
          "2004-03-14T00:00:00",
          "2004-03-21T00:00:00",
          "2004-03-28T00:00:00",
          "2004-04-04T00:00:00",
          "2004-04-11T00:00:00",
          "2004-04-18T00:00:00",
          "2004-04-25T00:00:00",
          "2004-05-02T00:00:00",
          "2004-05-09T00:00:00",
          "2004-05-16T00:00:00",
          "2004-05-23T00:00:00",
          "2004-05-30T00:00:00",
          "2004-06-06T00:00:00",
          "2004-06-13T00:00:00",
          "2004-06-20T00:00:00",
          "2004-06-27T00:00:00",
          "2004-07-04T00:00:00",
          "2004-07-11T00:00:00",
          "2004-07-18T00:00:00",
          "2004-07-25T00:00:00",
          "2004-08-01T00:00:00",
          "2004-08-08T00:00:00",
          "2004-08-15T00:00:00",
          "2004-08-22T00:00:00",
          "2004-08-29T00:00:00",
          "2004-09-05T00:00:00",
          "2004-09-12T00:00:00",
          "2004-09-19T00:00:00",
          "2004-09-26T00:00:00",
          "2004-10-31T00:00:00",
          "2004-11-07T00:00:00",
          "2004-11-14T00:00:00",
          "2004-11-21T00:00:00",
          "2004-11-28T00:00:00",
          "2004-12-05T00:00:00",
          "2004-12-12T00:00:00",
          "2004-12-19T00:00:00",
          "2004-12-26T00:00:00",
          "2005-01-02T00:00:00",
          "2005-01-09T00:00:00",
          "2005-01-16T00:00:00",
          "2005-01-23T00:00:00",
          "2005-01-30T00:00:00",
          "2005-02-06T00:00:00",
          "2005-02-13T00:00:00",
          "2005-02-20T00:00:00",
          "2005-02-27T00:00:00",
          "2005-03-06T00:00:00",
          "2005-03-13T00:00:00",
          "2005-03-20T00:00:00",
          "2005-03-27T00:00:00",
          "2005-04-03T00:00:00",
          "2005-04-10T00:00:00",
          "2005-04-17T00:00:00",
          "2005-04-24T00:00:00",
          "2005-05-01T00:00:00",
          "2005-05-08T00:00:00",
          "2005-05-15T00:00:00",
          "2005-05-22T00:00:00",
          "2005-05-29T00:00:00",
          "2005-06-05T00:00:00",
          "2005-06-12T00:00:00",
          "2005-06-19T00:00:00",
          "2005-06-26T00:00:00",
          "2005-07-03T00:00:00",
          "2005-07-10T00:00:00",
          "2005-07-17T00:00:00",
          "2005-07-24T00:00:00",
          "2005-07-31T00:00:00",
          "2005-08-07T00:00:00",
          "2005-08-14T00:00:00",
          "2005-08-21T00:00:00",
          "2005-08-28T00:00:00",
          "2005-09-04T00:00:00",
          "2005-09-11T00:00:00",
          "2005-09-18T00:00:00",
          "2005-09-25T00:00:00",
          "2005-11-20T00:00:00",
          "2005-11-27T00:00:00",
          "2005-12-04T00:00:00",
          "2005-12-11T00:00:00",
          "2005-12-18T00:00:00",
          "2005-12-25T00:00:00",
          "2006-01-01T00:00:00",
          "2006-01-08T00:00:00",
          "2006-01-15T00:00:00",
          "2006-01-22T00:00:00",
          "2006-01-29T00:00:00",
          "2006-02-05T00:00:00",
          "2006-02-12T00:00:00",
          "2006-02-26T00:00:00",
          "2006-03-05T00:00:00",
          "2006-03-12T00:00:00",
          "2006-03-19T00:00:00",
          "2006-03-26T00:00:00",
          "2006-04-02T00:00:00",
          "2006-04-09T00:00:00",
          "2006-04-16T00:00:00",
          "2006-04-23T00:00:00",
          "2006-04-30T00:00:00",
          "2006-05-07T00:00:00",
          "2006-05-14T00:00:00",
          "2006-05-21T00:00:00",
          "2006-05-28T00:00:00",
          "2006-06-04T00:00:00",
          "2006-06-11T00:00:00",
          "2006-06-18T00:00:00",
          "2006-06-25T00:00:00",
          "2006-07-02T00:00:00",
          "2006-07-09T00:00:00",
          "2006-07-16T00:00:00",
          "2006-07-23T00:00:00",
          "2006-07-30T00:00:00",
          "2006-08-06T00:00:00",
          "2006-08-13T00:00:00",
          "2006-08-20T00:00:00",
          "2006-08-27T00:00:00",
          "2006-09-03T00:00:00",
          "2006-09-10T00:00:00",
          "2006-09-17T00:00:00",
          "2006-09-24T00:00:00",
          "2006-10-01T00:00:00",
          "2006-10-08T00:00:00",
          "2006-10-15T00:00:00",
          "2006-10-22T00:00:00",
          "2006-10-29T00:00:00",
          "2006-11-05T00:00:00",
          "2006-11-12T00:00:00",
          "2006-11-19T00:00:00",
          "2006-11-26T00:00:00",
          "2006-12-03T00:00:00",
          "2006-12-10T00:00:00",
          "2006-12-17T00:00:00",
          "2006-12-24T00:00:00",
          "2006-12-31T00:00:00",
          "2007-01-07T00:00:00",
          "2007-01-14T00:00:00",
          "2007-01-21T00:00:00",
          "2007-01-28T00:00:00",
          "2007-02-04T00:00:00",
          "2007-02-11T00:00:00",
          "2007-02-18T00:00:00",
          "2007-02-25T00:00:00",
          "2007-03-04T00:00:00",
          "2007-03-11T00:00:00",
          "2007-03-18T00:00:00",
          "2007-03-25T00:00:00",
          "2007-04-01T00:00:00",
          "2007-04-08T00:00:00",
          "2007-04-15T00:00:00",
          "2007-04-22T00:00:00",
          "2007-04-29T00:00:00",
          "2007-05-06T00:00:00",
          "2007-05-13T00:00:00",
          "2007-05-20T00:00:00",
          "2007-05-27T00:00:00",
          "2007-06-03T00:00:00",
          "2007-06-10T00:00:00",
          "2007-06-17T00:00:00",
          "2007-06-24T00:00:00",
          "2007-07-01T00:00:00",
          "2007-07-08T00:00:00",
          "2007-07-15T00:00:00",
          "2007-07-22T00:00:00",
          "2007-07-29T00:00:00",
          "2007-08-05T00:00:00",
          "2007-08-12T00:00:00",
          "2007-08-19T00:00:00",
          "2007-08-26T00:00:00",
          "2007-09-02T00:00:00",
          "2007-09-09T00:00:00",
          "2007-09-16T00:00:00",
          "2007-09-23T00:00:00",
          "2007-09-30T00:00:00",
          "2007-10-07T00:00:00",
          "2007-10-14T00:00:00",
          "2007-10-21T00:00:00",
          "2007-10-28T00:00:00",
          "2007-11-04T00:00:00",
          "2007-11-11T00:00:00",
          "2007-11-18T00:00:00",
          "2007-11-25T00:00:00",
          "2007-12-02T00:00:00",
          "2007-12-09T00:00:00",
          "2007-12-16T00:00:00",
          "2007-12-23T00:00:00",
          "2007-12-30T00:00:00",
          "2008-01-06T00:00:00",
          "2008-01-13T00:00:00",
          "2008-01-20T00:00:00",
          "2008-01-27T00:00:00",
          "2008-02-03T00:00:00",
          "2008-02-10T00:00:00",
          "2008-02-17T00:00:00",
          "2008-02-24T00:00:00",
          "2008-03-02T00:00:00",
          "2008-03-09T00:00:00",
          "2008-03-16T00:00:00",
          "2008-03-23T00:00:00",
          "2008-03-30T00:00:00",
          "2008-04-06T00:00:00",
          "2008-04-13T00:00:00",
          "2008-04-20T00:00:00",
          "2008-04-27T00:00:00",
          "2008-05-04T00:00:00",
          "2008-05-11T00:00:00",
          "2008-05-18T00:00:00",
          "2008-05-25T00:00:00",
          "2008-06-01T00:00:00",
          "2008-06-08T00:00:00",
          "2008-06-15T00:00:00",
          "2008-06-22T00:00:00",
          "2008-06-29T00:00:00",
          "2008-07-06T00:00:00",
          "2008-07-13T00:00:00",
          "2008-07-20T00:00:00",
          "2008-07-27T00:00:00",
          "2008-08-03T00:00:00",
          "2008-08-10T00:00:00",
          "2008-08-17T00:00:00",
          "2008-08-24T00:00:00",
          "2008-08-31T00:00:00",
          "2008-09-07T00:00:00",
          "2008-09-14T00:00:00",
          "2008-09-21T00:00:00",
          "2008-09-28T00:00:00",
          "2008-10-05T00:00:00",
          "2008-10-12T00:00:00",
          "2008-10-19T00:00:00",
          "2008-10-26T00:00:00",
          "2008-11-02T00:00:00",
          "2008-11-09T00:00:00",
          "2008-11-16T00:00:00",
          "2008-11-23T00:00:00",
          "2008-11-30T00:00:00",
          "2008-12-07T00:00:00",
          "2008-12-14T00:00:00",
          "2008-12-21T00:00:00",
          "2009-01-04T00:00:00",
          "2009-01-11T00:00:00",
          "2009-01-18T00:00:00",
          "2009-01-25T00:00:00",
          "2009-02-08T00:00:00",
          "2009-02-15T00:00:00",
          "2009-02-22T00:00:00",
          "2009-03-01T00:00:00",
          "2009-03-08T00:00:00",
          "2009-03-15T00:00:00",
          "2009-03-22T00:00:00",
          "2009-03-29T00:00:00",
          "2009-04-05T00:00:00",
          "2009-04-12T00:00:00",
          "2009-04-19T00:00:00",
          "2009-12-13T00:00:00",
          "2009-12-20T00:00:00",
          "2009-12-27T00:00:00",
          "2010-01-03T00:00:00",
          "2010-01-10T00:00:00",
          "2010-01-17T00:00:00",
          "2010-01-24T00:00:00",
          "2010-01-31T00:00:00",
          "2010-02-07T00:00:00",
          "2010-02-14T00:00:00",
          "2010-02-21T00:00:00",
          "2010-02-28T00:00:00",
          "2010-03-07T00:00:00",
          "2010-03-14T00:00:00",
          "2010-03-21T00:00:00",
          "2010-03-28T00:00:00",
          "2010-04-04T00:00:00",
          "2010-04-11T00:00:00",
          "2010-04-18T00:00:00",
          "2010-04-25T00:00:00",
          "2010-05-02T00:00:00",
          "2010-05-09T00:00:00",
          "2010-05-16T00:00:00",
          "2010-05-23T00:00:00",
          "2010-05-30T00:00:00",
          "2010-06-06T00:00:00",
          "2010-06-13T00:00:00",
          "2010-06-20T00:00:00",
          "2010-06-27T00:00:00",
          "2010-07-04T00:00:00",
          "2010-07-11T00:00:00",
          "2010-07-18T00:00:00",
          "2010-07-25T00:00:00",
          "2010-08-01T00:00:00",
          "2010-08-08T00:00:00",
          "2010-08-15T00:00:00",
          "2010-08-22T00:00:00",
          "2010-08-29T00:00:00",
          "2010-09-05T00:00:00",
          "2010-09-12T00:00:00",
          "2010-09-19T00:00:00",
          "2010-09-26T00:00:00",
          "2010-10-03T00:00:00",
          "2010-10-10T00:00:00",
          "2010-10-17T00:00:00",
          "2010-10-24T00:00:00",
          "2010-10-31T00:00:00",
          "2010-11-07T00:00:00",
          "2010-11-14T00:00:00",
          "2010-11-21T00:00:00",
          "2010-11-28T00:00:00",
          "2010-12-05T00:00:00",
          "2010-12-12T00:00:00",
          "2010-12-19T00:00:00",
          "2010-12-26T00:00:00",
          "2011-01-02T00:00:00",
          "2011-01-09T00:00:00",
          "2011-01-16T00:00:00",
          "2011-01-23T00:00:00",
          "2011-01-30T00:00:00",
          "2011-02-06T00:00:00",
          "2011-02-13T00:00:00",
          "2011-02-20T00:00:00",
          "2011-02-27T00:00:00",
          "2011-03-06T00:00:00",
          "2011-03-13T00:00:00",
          "2011-03-20T00:00:00",
          "2011-03-27T00:00:00",
          "2011-04-03T00:00:00",
          "2011-04-10T00:00:00",
          "2011-04-17T00:00:00",
          "2011-04-24T00:00:00",
          "2011-05-01T00:00:00",
          "2011-05-08T00:00:00",
          "2011-05-15T00:00:00",
          "2011-05-22T00:00:00",
          "2011-05-29T00:00:00",
          "2011-06-05T00:00:00",
          "2011-06-12T00:00:00",
          "2011-06-19T00:00:00",
          "2011-06-26T00:00:00",
          "2011-07-03T00:00:00",
          "2011-07-10T00:00:00",
          "2011-07-17T00:00:00",
          "2011-07-24T00:00:00",
          "2011-07-31T00:00:00",
          "2011-08-07T00:00:00",
          "2011-08-14T00:00:00",
          "2011-08-21T00:00:00",
          "2011-08-28T00:00:00",
          "2011-09-04T00:00:00",
          "2011-09-11T00:00:00",
          "2011-09-18T00:00:00",
          "2011-09-25T00:00:00",
          "2011-10-02T00:00:00",
          "2011-10-09T00:00:00",
          "2011-10-16T00:00:00",
          "2011-10-23T00:00:00",
          "2011-10-30T00:00:00",
          "2011-11-06T00:00:00",
          "2011-11-13T00:00:00",
          "2011-11-20T00:00:00",
          "2011-11-27T00:00:00",
          "2011-12-04T00:00:00",
          "2011-12-11T00:00:00",
          "2011-12-18T00:00:00",
          "2011-12-25T00:00:00",
          "2012-01-01T00:00:00",
          "2012-01-08T00:00:00",
          "2012-01-15T00:00:00",
          "2012-01-22T00:00:00",
          "2012-01-29T00:00:00",
          "2012-02-05T00:00:00",
          "2012-02-12T00:00:00",
          "2012-02-19T00:00:00",
          "2012-02-26T00:00:00",
          "2012-03-04T00:00:00",
          "2012-03-11T00:00:00",
          "2012-03-18T00:00:00",
          "2012-03-25T00:00:00",
          "2012-04-01T00:00:00",
          "2012-04-08T00:00:00",
          "2012-04-15T00:00:00",
          "2012-04-22T00:00:00",
          "2012-04-29T00:00:00",
          "2012-05-06T00:00:00",
          "2012-05-13T00:00:00",
          "2012-05-20T00:00:00",
          "2012-05-27T00:00:00",
          "2012-06-03T00:00:00",
          "2012-06-10T00:00:00",
          "2012-06-17T00:00:00",
          "2012-06-24T00:00:00",
          "2012-07-01T00:00:00",
          "2012-07-08T00:00:00",
          "2012-07-15T00:00:00",
          "2012-07-22T00:00:00",
          "2012-07-29T00:00:00",
          "2012-08-05T00:00:00",
          "2012-08-12T00:00:00",
          "2012-08-19T00:00:00",
          "2012-08-26T00:00:00",
          "2012-09-02T00:00:00",
          "2012-09-09T00:00:00",
          "2012-09-16T00:00:00",
          "2012-09-23T00:00:00",
          "2012-09-30T00:00:00",
          "2012-10-07T00:00:00",
          "2012-10-14T00:00:00",
          "2012-10-21T00:00:00",
          "2012-10-28T00:00:00",
          "2012-11-04T00:00:00",
          "2012-11-11T00:00:00",
          "2012-11-18T00:00:00",
          "2012-11-25T00:00:00",
          "2012-12-02T00:00:00",
          "2012-12-09T00:00:00",
          "2012-12-23T00:00:00",
          "2012-12-30T00:00:00",
          "2013-01-27T00:00:00",
          "2013-02-03T00:00:00",
          "2013-02-10T00:00:00",
          "2013-02-17T00:00:00",
          "2013-02-24T00:00:00",
          "2013-03-03T00:00:00",
          "2013-03-10T00:00:00",
          "2013-03-17T00:00:00",
          "2013-03-24T00:00:00",
          "2013-03-31T00:00:00",
          "2013-04-07T00:00:00",
          "2013-04-14T00:00:00",
          "2013-04-21T00:00:00",
          "2013-04-28T00:00:00",
          "2013-05-05T00:00:00",
          "2013-05-12T00:00:00",
          "2013-05-19T00:00:00",
          "2013-05-26T00:00:00",
          "2013-06-02T00:00:00",
          "2013-06-09T00:00:00",
          "2013-06-16T00:00:00",
          "2013-06-23T00:00:00",
          "2013-06-30T00:00:00",
          "2013-07-07T00:00:00",
          "2013-07-14T00:00:00",
          "2013-07-21T00:00:00",
          "2013-07-28T00:00:00",
          "2013-08-04T00:00:00",
          "2013-08-11T00:00:00",
          "2013-08-18T00:00:00",
          "2013-08-25T00:00:00",
          "2013-09-01T00:00:00",
          "2013-09-08T00:00:00",
          "2013-09-15T00:00:00",
          "2013-09-22T00:00:00",
          "2013-09-29T00:00:00",
          "2013-10-06T00:00:00",
          "2013-10-13T00:00:00",
          "2013-10-20T00:00:00",
          "2013-10-27T00:00:00",
          "2013-11-03T00:00:00",
          "2013-11-10T00:00:00",
          "2013-11-17T00:00:00",
          "2013-11-24T00:00:00",
          "2013-12-01T00:00:00",
          "2013-12-08T00:00:00",
          "2013-12-15T00:00:00",
          "2013-12-22T00:00:00",
          "2013-12-29T00:00:00",
          "2014-01-12T00:00:00",
          "2014-01-19T00:00:00",
          "2014-01-26T00:00:00",
          "2014-02-02T00:00:00",
          "2014-02-09T00:00:00",
          "2014-02-16T00:00:00",
          "2014-02-23T00:00:00",
          "2014-03-02T00:00:00",
          "2014-03-09T00:00:00",
          "2014-03-16T00:00:00",
          "2014-03-23T00:00:00",
          "2014-03-30T00:00:00",
          "2014-04-06T00:00:00",
          "2014-04-13T00:00:00",
          "2014-04-20T00:00:00",
          "2014-04-27T00:00:00",
          "2014-05-04T00:00:00",
          "2014-05-11T00:00:00",
          "2014-05-18T00:00:00",
          "2014-05-25T00:00:00",
          "2014-06-01T00:00:00",
          "2014-06-08T00:00:00",
          "2014-06-15T00:00:00",
          "2014-06-22T00:00:00",
          "2014-06-29T00:00:00",
          "2014-07-06T00:00:00",
          "2014-07-13T00:00:00",
          "2014-07-20T00:00:00",
          "2014-07-27T00:00:00",
          "2014-08-03T00:00:00",
          "2014-08-10T00:00:00",
          "2014-08-17T00:00:00",
          "2014-08-24T00:00:00",
          "2014-08-31T00:00:00",
          "2014-09-07T00:00:00",
          "2014-09-14T00:00:00",
          "2014-09-21T00:00:00",
          "2014-09-28T00:00:00",
          "2014-10-05T00:00:00",
          "2014-10-12T00:00:00",
          "2014-10-19T00:00:00",
          "2014-10-26T00:00:00",
          "2014-11-02T00:00:00",
          "2014-11-09T00:00:00",
          "2014-11-16T00:00:00",
          "2014-11-23T00:00:00",
          "2014-11-30T00:00:00",
          "2014-12-07T00:00:00",
          "2014-12-21T00:00:00",
          "2015-01-04T00:00:00",
          "2015-01-11T00:00:00",
          "2015-01-18T00:00:00",
          "2015-01-25T00:00:00",
          "2015-02-01T00:00:00",
          "2015-02-08T00:00:00",
          "2015-02-15T00:00:00",
          "2015-02-22T00:00:00",
          "2015-03-01T00:00:00",
          "2015-03-08T00:00:00",
          "2015-03-15T00:00:00",
          "2015-03-22T00:00:00",
          "2015-03-29T00:00:00",
          "2015-04-05T00:00:00",
          "2015-04-12T00:00:00",
          "2015-04-19T00:00:00",
          "2015-04-26T00:00:00",
          "2015-05-03T00:00:00",
          "2015-05-10T00:00:00",
          "2015-05-17T00:00:00",
          "2015-05-24T00:00:00",
          "2015-05-31T00:00:00",
          "2015-06-07T00:00:00",
          "2015-06-14T00:00:00",
          "2015-06-21T00:00:00",
          "2015-06-28T00:00:00",
          "2015-07-05T00:00:00",
          "2015-07-12T00:00:00",
          "2015-07-19T00:00:00",
          "2015-07-26T00:00:00",
          "2015-08-02T00:00:00",
          "2015-08-09T00:00:00",
          "2015-08-16T00:00:00",
          "2015-08-23T00:00:00",
          "2015-08-30T00:00:00",
          "2015-09-06T00:00:00",
          "2015-09-13T00:00:00",
          "2015-09-20T00:00:00",
          "2015-09-27T00:00:00",
          "2015-10-04T00:00:00",
          "2015-10-11T00:00:00",
          "2015-10-18T00:00:00",
          "2015-10-25T00:00:00",
          "2015-11-01T00:00:00",
          "2015-11-08T00:00:00",
          "2015-11-15T00:00:00",
          "2015-11-22T00:00:00",
          "2015-11-29T00:00:00",
          "2015-12-06T00:00:00",
          "2015-12-13T00:00:00",
          "2015-12-20T00:00:00",
          "2015-12-27T00:00:00",
          "2016-01-03T00:00:00",
          "2016-01-10T00:00:00",
          "2016-01-17T00:00:00",
          "2016-01-24T00:00:00",
          "2016-01-31T00:00:00",
          "2016-02-07T00:00:00",
          "2016-02-14T00:00:00",
          "2016-02-21T00:00:00",
          "2016-02-28T00:00:00",
          "2016-03-06T00:00:00",
          "2016-03-13T00:00:00",
          "2016-03-20T00:00:00",
          "2016-03-27T00:00:00",
          "2016-04-03T00:00:00",
          "2016-04-10T00:00:00",
          "2016-04-17T00:00:00",
          "2016-04-24T00:00:00",
          "2016-05-01T00:00:00",
          "2016-05-08T00:00:00",
          "2016-05-15T00:00:00",
          "2016-05-22T00:00:00",
          "2016-05-29T00:00:00",
          "2016-06-05T00:00:00",
          "2016-06-12T00:00:00",
          "2016-06-19T00:00:00",
          "2016-06-26T00:00:00",
          "2016-07-03T00:00:00",
          "2016-07-10T00:00:00",
          "2016-07-17T00:00:00",
          "2016-07-24T00:00:00",
          "2016-07-31T00:00:00",
          "2016-08-07T00:00:00",
          "2016-08-14T00:00:00",
          "2016-08-21T00:00:00",
          "2016-08-28T00:00:00",
          "2016-09-04T00:00:00",
          "2016-09-11T00:00:00",
          "2016-09-18T00:00:00",
          "2016-09-25T00:00:00",
          "2016-10-02T00:00:00",
          "2016-10-09T00:00:00",
          "2016-10-16T00:00:00",
          "2016-10-23T00:00:00",
          "2016-10-30T00:00:00",
          "2016-11-06T00:00:00",
          "2016-11-13T00:00:00",
          "2016-11-20T00:00:00",
          "2016-11-27T00:00:00",
          "2016-12-04T00:00:00",
          "2016-12-11T00:00:00",
          "2016-12-18T00:00:00",
          "2016-12-25T00:00:00",
          "2017-01-01T00:00:00",
          "2017-01-08T00:00:00",
          "2017-01-15T00:00:00",
          "2017-01-22T00:00:00",
          "2017-01-29T00:00:00",
          "2017-02-05T00:00:00",
          "2017-02-12T00:00:00",
          "2017-02-19T00:00:00",
          "2017-02-26T00:00:00",
          "2017-03-05T00:00:00",
          "2017-03-12T00:00:00",
          "2017-03-19T00:00:00",
          "2017-03-26T00:00:00",
          "2017-04-02T00:00:00",
          "2017-04-09T00:00:00",
          "2017-04-16T00:00:00",
          "2017-04-23T00:00:00",
          "2017-04-30T00:00:00",
          "2017-05-07T00:00:00",
          "2017-05-14T00:00:00",
          "2017-05-21T00:00:00",
          "2017-05-28T00:00:00",
          "2017-06-04T00:00:00",
          "2017-06-11T00:00:00",
          "2017-06-18T00:00:00",
          "2017-06-25T00:00:00",
          "2017-07-02T00:00:00",
          "2017-07-09T00:00:00",
          "2017-07-16T00:00:00",
          "2017-07-23T00:00:00",
          "2017-07-30T00:00:00",
          "2017-08-06T00:00:00",
          "2017-08-13T00:00:00",
          "2017-08-20T00:00:00",
          "2017-08-27T00:00:00",
          "2017-09-03T00:00:00",
          "2017-09-10T00:00:00",
          "2017-09-17T00:00:00",
          "2017-09-24T00:00:00",
          "2017-10-01T00:00:00",
          "2017-10-08T00:00:00",
          "2017-10-15T00:00:00",
          "2017-10-22T00:00:00",
          "2017-10-29T00:00:00",
          "2017-11-05T00:00:00",
          "2017-11-12T00:00:00",
          "2017-11-19T00:00:00",
          "2017-11-26T00:00:00",
          "2017-12-03T00:00:00",
          "2017-12-10T00:00:00",
          "2017-12-17T00:00:00",
          "2018-02-25T00:00:00",
          "2018-03-04T00:00:00",
          "2018-03-11T00:00:00",
          "2018-03-18T00:00:00",
          "2018-03-25T00:00:00",
          "2018-04-01T00:00:00",
          "2018-04-08T00:00:00",
          "2018-04-15T00:00:00",
          "2018-04-22T00:00:00",
          "2018-04-29T00:00:00",
          "2018-05-06T00:00:00",
          "2018-05-13T00:00:00",
          "2018-05-20T00:00:00",
          "2018-05-27T00:00:00",
          "2018-06-03T00:00:00",
          "2018-06-10T00:00:00",
          "2018-06-17T00:00:00",
          "2018-06-24T00:00:00",
          "2018-07-01T00:00:00",
          "2018-07-08T00:00:00",
          "2018-07-15T00:00:00",
          "2018-07-22T00:00:00",
          "2018-07-29T00:00:00",
          "2018-08-05T00:00:00",
          "2018-08-12T00:00:00",
          "2018-08-19T00:00:00",
          "2018-08-26T00:00:00",
          "2018-09-02T00:00:00",
          "2018-09-09T00:00:00",
          "2018-09-16T00:00:00",
          "2018-09-23T00:00:00",
          "2018-09-30T00:00:00",
          "2018-10-07T00:00:00",
          "2018-10-14T00:00:00",
          "2018-10-21T00:00:00",
          "2018-10-28T00:00:00",
          "2018-11-04T00:00:00",
          "2018-11-11T00:00:00",
          "2018-11-18T00:00:00",
          "2018-11-25T00:00:00",
          "2018-12-02T00:00:00",
          "2018-12-09T00:00:00",
          "2018-12-16T00:00:00",
          "2018-12-23T00:00:00",
          "2018-12-30T00:00:00",
          "2019-01-06T00:00:00",
          "2019-01-13T00:00:00",
          "2019-01-20T00:00:00",
          "2019-01-27T00:00:00",
          "2019-02-17T00:00:00",
          "2019-02-24T00:00:00",
          "2019-03-03T00:00:00",
          "2019-03-10T00:00:00",
          "2019-03-17T00:00:00",
          "2019-03-24T00:00:00",
          "2019-03-31T00:00:00",
          "2019-04-07T00:00:00",
          "2019-04-14T00:00:00",
          "2019-04-21T00:00:00",
          "2019-04-28T00:00:00",
          "2019-05-05T00:00:00",
          "2019-05-12T00:00:00",
          "2019-05-19T00:00:00",
          "2019-05-26T00:00:00",
          "2019-06-02T00:00:00",
          "2019-06-09T00:00:00",
          "2019-06-16T00:00:00",
          "2019-06-23T00:00:00",
          "2019-06-30T00:00:00",
          "2019-07-07T00:00:00",
          "2019-07-14T00:00:00",
          "2019-07-21T00:00:00",
          "2019-07-28T00:00:00",
          "2019-08-04T00:00:00",
          "2019-08-11T00:00:00",
          "2019-08-18T00:00:00",
          "2019-08-25T00:00:00",
          "2019-09-01T00:00:00",
          "2019-09-08T00:00:00",
          "2019-09-15T00:00:00",
          "2019-09-22T00:00:00",
          "2019-09-29T00:00:00",
          "2019-10-06T00:00:00",
          "2019-10-13T00:00:00",
          "2019-10-20T00:00:00",
          "2019-10-27T00:00:00",
          "2019-11-03T00:00:00",
          "2019-11-10T00:00:00",
          "2019-11-17T00:00:00",
          "2019-11-24T00:00:00",
          "2019-12-01T00:00:00",
          "2019-12-08T00:00:00",
          "2019-12-15T00:00:00"
         ],
         "y": [
          599,
          640,
          399,
          622,
          552,
          685,
          283,
          734,
          406,
          768,
          474,
          842,
          480,
          287,
          10,
          299,
          93,
          686,
          379,
          291,
          418,
          207,
          242,
          15,
          1,
          0,
          0,
          0,
          0,
          0,
          0,
          0,
          0,
          0,
          0,
          4,
          81,
          565,
          205,
          217,
          309,
          296,
          150,
          263,
          308,
          284,
          55,
          5,
          98,
          290,
          326,
          474,
          929,
          1087,
          481,
          863,
          746,
          678,
          534,
          480,
          250,
          2,
          108,
          124,
          149,
          167,
          203,
          121,
          89,
          79,
          34,
          24,
          2,
          0,
          1,
          0,
          0,
          1,
          0,
          0,
          0,
          1,
          23,
          49,
          154,
          257,
          144,
          434,
          1018,
          496,
          1288,
          419,
          2,
          1103,
          1584,
          1324,
          1324,
          2102,
          1544,
          1350,
          1764,
          2061,
          1972,
          1685,
          1004,
          1125,
          623,
          638,
          661,
          694,
          799,
          998,
          671,
          189,
          198,
          86,
          2,
          7,
          13,
          0,
          0,
          1,
          4,
          0,
          0,
          0,
          0,
          35,
          566,
          700,
          1347,
          731,
          1584,
          1115,
          1152,
          1176,
          0,
          1347,
          688,
          393,
          2620,
          1079,
          1408,
          1577,
          493,
          1526,
          1704,
          1342,
          3032,
          1056,
          2205,
          1712,
          2043,
          2479,
          1747,
          1643,
          1522,
          112,
          828,
          753,
          1069,
          897,
          1050,
          1035,
          791,
          1190,
          374,
          201,
          15,
          6,
          6,
          6,
          7,
          4,
          0,
          8,
          9,
          4,
          8,
          106,
          400,
          681,
          1616,
          774,
          869,
          797,
          1341,
          1786,
          1105,
          1637,
          574,
          1571,
          1943,
          1674,
          1582,
          18,
          110,
          1040,
          1581,
          1612,
          1358,
          2576,
          2109,
          2276,
          2396,
          2404,
          3090,
          2419,
          2138,
          1500,
          128,
          710,
          974,
          1061,
          1009,
          1038,
          781,
          583,
          1386,
          73,
          26,
          22,
          0,
          1,
          4,
          24,
          4,
          7,
          2,
          6,
          9,
          92,
          465,
          647,
          669,
          1139,
          1129,
          1070,
          1246,
          1391,
          1365,
          1685,
          1308,
          1040,
          1678,
          1949,
          821,
          36,
          1121,
          2023,
          1605,
          2135,
          1539,
          2922,
          2976,
          3074,
          2531,
          1734,
          2455,
          1514,
          29,
          1510,
          1319,
          1726,
          401,
          9,
          1133,
          1493,
          1601,
          1733,
          2087,
          2629,
          1757,
          1990,
          1551,
          1510,
          1658,
          1326,
          1141,
          51,
          553,
          1029,
          1323,
          761,
          1357,
          1202,
          747,
          853,
          407,
          226,
          9,
          2,
          5,
          0,
          3,
          9,
          0,
          5,
          18,
          11,
          13,
          198,
          592,
          851,
          1088,
          789,
          999,
          1496,
          1097,
          1487,
          1359,
          1402,
          1015,
          1485,
          1819,
          1678,
          190,
          11,
          1674,
          2199,
          1828,
          2437,
          1925,
          2559,
          1981,
          1735,
          2008,
          2028,
          2133,
          2263,
          1743,
          30,
          631,
          1650,
          1715,
          1392,
          1558,
          1019,
          981,
          617,
          313,
          135,
          200,
          0,
          1,
          0,
          0,
          0,
          2,
          3,
          10,
          2,
          10,
          23,
          624,
          1244,
          1316,
          1170,
          940,
          1283,
          1365,
          1490,
          1261,
          1292,
          952,
          1492,
          1610,
          1753,
          67,
          6,
          1351,
          867,
          2822,
          1569,
          1845,
          1982,
          2125,
          1112,
          2549,
          1842,
          1743,
          2217,
          1380,
          12,
          1658,
          1429,
          1599,
          1787,
          1241,
          184,
          237,
          659,
          1092,
          555,
          12,
          5,
          0,
          2,
          8,
          2,
          0,
          1,
          0,
          10,
          17,
          121,
          531,
          1050,
          1195,
          1275,
          1140,
          100,
          1038,
          1454,
          1164,
          1394,
          1398,
          1348,
          1330,
          2704,
          107,
          355,
          2288,
          1280,
          3015,
          1574,
          1480,
          2612,
          1483,
          2197,
          1650,
          6,
          346,
          1492,
          2071,
          964,
          1295,
          900,
          200,
          235,
          619,
          45,
          12,
          9,
          5,
          0,
          6,
          7,
          2,
          1,
          9,
          9,
          19,
          122,
          442,
          620,
          216,
          686,
          1206,
          1486,
          1527,
          1323,
          950,
          1764,
          1319,
          553,
          1277,
          1521,
          1034,
          53,
          39,
          1540,
          1391,
          1818,
          1480,
          1303,
          1622,
          958,
          1246,
          1312,
          1482,
          1491,
          1046,
          59,
          761,
          1020,
          1318,
          1029,
          807,
          645,
          403,
          325,
          46,
          8,
          5,
          3,
          3,
          7,
          8,
          8,
          4,
          1,
          0,
          6,
          322,
          1088,
          1504,
          1219,
          1077,
          1184,
          1131,
          1139,
          1162,
          1328,
          1489,
          1175,
          552,
          1471,
          2173,
          220,
          2243,
          1873,
          1547,
          1617,
          1356,
          1619,
          1225,
          1656,
          1963,
          1891,
          1414,
          1562,
          1163,
          41,
          787,
          1118,
          944,
          955,
          912,
          717,
          466,
          366,
          33,
          6,
          2,
          5,
          1,
          4,
          6,
          3,
          3,
          1,
          4,
          17,
          52,
          332,
          898,
          1200,
          1097,
          1091,
          1134,
          1101,
          1224,
          1615,
          1249,
          1227,
          583,
          1176,
          1401,
          1198,
          33,
          6,
          1306,
          1364,
          1611,
          1340,
          1519,
          1622,
          1510,
          1611,
          1560,
          1864,
          1613,
          1856,
          1174,
          44,
          923,
          919,
          1093,
          981,
          848,
          860,
          709,
          444,
          298,
          87,
          14,
          7,
          7,
          8,
          6,
          0,
          34,
          32,
          31,
          26,
          38,
          186,
          714,
          1042,
          1092,
          1077,
          1598,
          1114,
          1452,
          1181,
          1230,
          1131,
          555,
          1586,
          1419,
          1111,
          599,
          8,
          1209,
          1473,
          1331,
          1813,
          2296,
          2487,
          2975,
          2483,
          2217,
          2149,
          2162,
          1942,
          1376,
          40,
          878,
          912,
          1011,
          956,
          979,
          1020,
          652,
          461,
          258,
          97,
          6,
          5,
          1,
          3,
          4,
          0,
          3,
          7,
          4,
          51,
          219,
          401,
          813,
          1035,
          737,
          767,
          877,
          952,
          1029,
          1399,
          1285,
          1324,
          557,
          1239,
          1352,
          1624,
          988,
          1551,
          1514,
          2176,
          1476,
          1049,
          16,
          913,
          854,
          829,
          857,
          932,
          745,
          573,
          388,
          206,
          12,
          15,
          30,
          2,
          1,
          21,
          21,
          20,
          11,
          1,
          71,
          265,
          541,
          861,
          863,
          883,
          943,
          952,
          987,
          1110,
          1070,
          986,
          984,
          495,
          930,
          1148,
          1260,
          1189,
          62,
          48,
          1039,
          917,
          819,
          34,
          809,
          1254,
          1393,
          1654,
          1994,
          1339,
          37,
          902,
          979,
          920,
          1109,
          1011,
          951,
          672,
          352,
          199,
          50,
          5,
          8,
          2,
          1,
          3,
          7,
          4,
          11,
          10,
          63,
          268,
          573,
          1083,
          976,
          1014,
          1011,
          1239,
          1119,
          994,
          1111,
          1458,
          1671,
          1466,
          638,
          1722,
          2121,
          1638
         ]
        },
        {
         "hovertemplate": "top_pollutant=PM2.5<br>weekstart=%{x}<br>cases=%{y}<extra></extra>",
         "legendgroup": "PM2.5",
         "marker": {
          "color": "#636efa",
          "symbol": "circle"
         },
         "mode": "markers",
         "name": "PM2.5",
         "orientation": "v",
         "showlegend": true,
         "type": "scatter",
         "x": [
          "2004-01-04T00:00:00",
          "2004-01-11T00:00:00",
          "2004-01-18T00:00:00",
          "2004-02-01T00:00:00",
          "2004-02-08T00:00:00",
          "2004-02-15T00:00:00",
          "2004-02-22T00:00:00",
          "2004-02-29T00:00:00",
          "2004-03-07T00:00:00",
          "2004-03-14T00:00:00",
          "2004-03-21T00:00:00",
          "2004-03-28T00:00:00",
          "2004-04-04T00:00:00",
          "2004-05-09T00:00:00",
          "2004-06-06T00:00:00",
          "2004-06-13T00:00:00",
          "2004-07-11T00:00:00",
          "2004-07-18T00:00:00",
          "2004-08-08T00:00:00",
          "2004-08-15T00:00:00",
          "2004-08-22T00:00:00",
          "2004-08-29T00:00:00",
          "2004-09-12T00:00:00",
          "2004-10-31T00:00:00",
          "2004-11-07T00:00:00",
          "2004-11-14T00:00:00",
          "2004-11-21T00:00:00",
          "2004-11-28T00:00:00",
          "2004-12-05T00:00:00",
          "2004-12-12T00:00:00",
          "2004-12-19T00:00:00",
          "2004-12-26T00:00:00",
          "2005-01-02T00:00:00",
          "2005-01-09T00:00:00",
          "2005-01-16T00:00:00",
          "2005-01-23T00:00:00",
          "2005-01-30T00:00:00",
          "2005-02-06T00:00:00",
          "2005-02-13T00:00:00",
          "2005-02-20T00:00:00",
          "2005-02-27T00:00:00",
          "2005-03-06T00:00:00",
          "2005-03-13T00:00:00",
          "2005-03-27T00:00:00",
          "2005-05-01T00:00:00",
          "2005-05-22T00:00:00",
          "2005-07-10T00:00:00",
          "2005-08-07T00:00:00",
          "2005-08-14T00:00:00",
          "2005-09-11T00:00:00",
          "2005-09-18T00:00:00",
          "2005-09-25T00:00:00",
          "2005-11-20T00:00:00",
          "2005-11-27T00:00:00",
          "2005-12-04T00:00:00",
          "2005-12-11T00:00:00",
          "2005-12-18T00:00:00",
          "2005-12-25T00:00:00",
          "2006-01-01T00:00:00",
          "2006-01-08T00:00:00",
          "2006-01-15T00:00:00",
          "2006-01-22T00:00:00",
          "2006-01-29T00:00:00",
          "2006-02-12T00:00:00",
          "2006-02-26T00:00:00",
          "2006-03-05T00:00:00",
          "2006-03-12T00:00:00",
          "2006-03-19T00:00:00",
          "2006-03-26T00:00:00",
          "2007-02-11T00:00:00",
          "2007-11-04T00:00:00",
          "2007-11-11T00:00:00",
          "2007-11-18T00:00:00",
          "2007-11-25T00:00:00",
          "2007-12-02T00:00:00",
          "2007-12-09T00:00:00",
          "2007-12-16T00:00:00",
          "2007-12-23T00:00:00",
          "2007-12-30T00:00:00",
          "2008-01-06T00:00:00",
          "2008-01-13T00:00:00",
          "2008-01-20T00:00:00",
          "2008-01-27T00:00:00",
          "2008-02-03T00:00:00",
          "2008-02-10T00:00:00",
          "2008-02-17T00:00:00",
          "2008-02-24T00:00:00",
          "2008-03-02T00:00:00",
          "2008-03-09T00:00:00",
          "2008-03-16T00:00:00",
          "2008-03-23T00:00:00",
          "2008-03-30T00:00:00",
          "2008-04-06T00:00:00",
          "2008-07-20T00:00:00",
          "2008-09-07T00:00:00",
          "2008-09-21T00:00:00",
          "2008-09-28T00:00:00",
          "2008-10-05T00:00:00",
          "2008-10-12T00:00:00",
          "2008-10-19T00:00:00",
          "2008-10-26T00:00:00",
          "2008-11-02T00:00:00",
          "2008-11-09T00:00:00",
          "2008-11-16T00:00:00",
          "2008-11-23T00:00:00",
          "2008-11-30T00:00:00",
          "2008-12-07T00:00:00",
          "2008-12-14T00:00:00",
          "2008-12-21T00:00:00",
          "2009-01-04T00:00:00",
          "2009-01-11T00:00:00",
          "2009-01-18T00:00:00",
          "2009-01-25T00:00:00",
          "2009-02-08T00:00:00",
          "2009-02-15T00:00:00",
          "2009-02-22T00:00:00",
          "2009-03-01T00:00:00",
          "2009-03-08T00:00:00",
          "2009-03-15T00:00:00",
          "2009-03-22T00:00:00",
          "2011-01-02T00:00:00",
          "2011-01-09T00:00:00",
          "2011-01-16T00:00:00",
          "2011-01-23T00:00:00",
          "2011-01-30T00:00:00",
          "2011-02-06T00:00:00",
          "2011-02-20T00:00:00",
          "2011-02-27T00:00:00",
          "2011-03-06T00:00:00",
          "2011-03-13T00:00:00",
          "2011-04-03T00:00:00",
          "2011-06-19T00:00:00",
          "2011-07-03T00:00:00",
          "2011-07-31T00:00:00",
          "2011-08-14T00:00:00",
          "2011-08-21T00:00:00",
          "2011-09-25T00:00:00",
          "2011-10-02T00:00:00",
          "2011-10-09T00:00:00",
          "2011-10-16T00:00:00",
          "2011-10-23T00:00:00",
          "2011-10-30T00:00:00",
          "2011-11-06T00:00:00",
          "2011-11-13T00:00:00",
          "2011-11-20T00:00:00",
          "2011-12-04T00:00:00",
          "2011-12-11T00:00:00",
          "2011-12-18T00:00:00",
          "2012-01-01T00:00:00",
          "2012-01-08T00:00:00",
          "2012-01-15T00:00:00",
          "2012-01-22T00:00:00",
          "2012-01-29T00:00:00",
          "2012-02-05T00:00:00",
          "2012-02-12T00:00:00",
          "2012-02-19T00:00:00",
          "2012-02-26T00:00:00",
          "2012-03-11T00:00:00",
          "2012-03-18T00:00:00",
          "2012-09-30T00:00:00",
          "2012-10-14T00:00:00",
          "2012-10-21T00:00:00",
          "2012-11-04T00:00:00",
          "2012-11-11T00:00:00",
          "2012-11-18T00:00:00",
          "2012-11-25T00:00:00",
          "2012-12-02T00:00:00",
          "2012-12-09T00:00:00",
          "2012-12-23T00:00:00",
          "2012-12-30T00:00:00",
          "2013-01-27T00:00:00",
          "2013-02-03T00:00:00",
          "2013-02-10T00:00:00",
          "2013-02-24T00:00:00",
          "2013-03-10T00:00:00",
          "2013-06-30T00:00:00",
          "2013-07-28T00:00:00",
          "2013-08-04T00:00:00",
          "2013-09-08T00:00:00",
          "2013-09-29T00:00:00",
          "2013-10-06T00:00:00",
          "2013-10-13T00:00:00",
          "2013-10-27T00:00:00",
          "2013-11-03T00:00:00",
          "2013-11-10T00:00:00",
          "2013-11-24T00:00:00",
          "2013-12-01T00:00:00",
          "2013-12-08T00:00:00",
          "2013-12-15T00:00:00",
          "2013-12-22T00:00:00",
          "2014-01-12T00:00:00",
          "2014-01-19T00:00:00",
          "2014-01-26T00:00:00",
          "2014-02-02T00:00:00",
          "2014-02-09T00:00:00",
          "2014-02-23T00:00:00",
          "2014-03-02T00:00:00",
          "2014-03-09T00:00:00",
          "2014-03-16T00:00:00",
          "2014-03-23T00:00:00",
          "2014-06-22T00:00:00",
          "2014-07-13T00:00:00",
          "2014-07-27T00:00:00",
          "2014-08-03T00:00:00",
          "2014-08-17T00:00:00",
          "2014-08-24T00:00:00",
          "2014-08-31T00:00:00",
          "2014-09-14T00:00:00",
          "2014-09-21T00:00:00",
          "2014-09-28T00:00:00",
          "2014-10-05T00:00:00",
          "2014-10-12T00:00:00",
          "2014-10-19T00:00:00",
          "2014-10-26T00:00:00",
          "2014-11-02T00:00:00",
          "2014-11-09T00:00:00",
          "2014-11-16T00:00:00",
          "2014-11-23T00:00:00",
          "2014-11-30T00:00:00",
          "2014-12-07T00:00:00",
          "2014-12-21T00:00:00",
          "2015-01-11T00:00:00",
          "2015-01-18T00:00:00",
          "2015-01-25T00:00:00",
          "2015-02-01T00:00:00",
          "2015-02-22T00:00:00",
          "2015-03-01T00:00:00",
          "2015-03-08T00:00:00",
          "2015-04-05T00:00:00",
          "2015-04-12T00:00:00",
          "2015-06-07T00:00:00",
          "2015-07-05T00:00:00",
          "2015-08-23T00:00:00",
          "2015-08-30T00:00:00",
          "2015-09-20T00:00:00",
          "2015-10-04T00:00:00",
          "2015-10-11T00:00:00",
          "2015-10-18T00:00:00",
          "2015-10-25T00:00:00",
          "2015-11-01T00:00:00",
          "2015-11-08T00:00:00",
          "2015-11-22T00:00:00",
          "2015-11-29T00:00:00",
          "2015-12-06T00:00:00",
          "2015-12-20T00:00:00",
          "2016-01-03T00:00:00",
          "2016-01-10T00:00:00",
          "2016-01-17T00:00:00",
          "2016-01-24T00:00:00",
          "2016-01-31T00:00:00",
          "2016-03-06T00:00:00",
          "2016-08-28T00:00:00",
          "2016-09-04T00:00:00",
          "2016-09-18T00:00:00",
          "2016-10-02T00:00:00",
          "2016-10-09T00:00:00",
          "2016-10-16T00:00:00",
          "2016-10-23T00:00:00",
          "2016-10-30T00:00:00",
          "2016-11-06T00:00:00",
          "2016-11-13T00:00:00",
          "2016-11-20T00:00:00",
          "2016-11-27T00:00:00",
          "2016-12-04T00:00:00",
          "2016-12-11T00:00:00",
          "2016-12-18T00:00:00",
          "2017-01-01T00:00:00",
          "2017-01-08T00:00:00",
          "2017-01-15T00:00:00",
          "2017-01-22T00:00:00",
          "2017-02-05T00:00:00",
          "2017-02-19T00:00:00",
          "2017-08-27T00:00:00",
          "2017-09-03T00:00:00",
          "2017-10-29T00:00:00",
          "2017-11-05T00:00:00",
          "2017-11-12T00:00:00",
          "2017-11-19T00:00:00",
          "2017-11-26T00:00:00",
          "2017-12-03T00:00:00",
          "2017-12-10T00:00:00",
          "2017-12-17T00:00:00",
          "2018-07-22T00:00:00",
          "2018-08-05T00:00:00",
          "2018-08-12T00:00:00",
          "2018-08-19T00:00:00",
          "2018-10-07T00:00:00",
          "2018-10-28T00:00:00",
          "2018-11-04T00:00:00",
          "2018-11-11T00:00:00",
          "2018-11-18T00:00:00",
          "2018-11-25T00:00:00",
          "2018-12-09T00:00:00",
          "2018-12-30T00:00:00",
          "2019-01-13T00:00:00",
          "2019-02-17T00:00:00",
          "2019-03-17T00:00:00",
          "2019-09-01T00:00:00",
          "2019-09-08T00:00:00",
          "2019-09-22T00:00:00",
          "2019-12-01T00:00:00",
          "2019-12-08T00:00:00",
          "2019-12-15T00:00:00"
         ],
         "xaxis": "x",
         "y": [
          599,
          640,
          399,
          552,
          685,
          283,
          734,
          406,
          768,
          474,
          842,
          480,
          287,
          379,
          242,
          15,
          0,
          0,
          0,
          0,
          0,
          0,
          81,
          217,
          309,
          296,
          150,
          263,
          308,
          284,
          55,
          5,
          98,
          290,
          326,
          474,
          929,
          1087,
          481,
          863,
          746,
          678,
          534,
          250,
          167,
          89,
          0,
          0,
          0,
          154,
          257,
          144,
          434,
          1018,
          496,
          1288,
          419,
          2,
          1103,
          1584,
          1324,
          1324,
          2102,
          1350,
          1764,
          2061,
          1972,
          1685,
          1004,
          2205,
          1105,
          1637,
          574,
          1571,
          1943,
          1674,
          1582,
          18,
          110,
          1040,
          1581,
          1612,
          1358,
          2576,
          2109,
          2276,
          2396,
          2404,
          3090,
          2419,
          2138,
          1500,
          128,
          24,
          465,
          669,
          1139,
          1129,
          1070,
          1246,
          1391,
          1365,
          1685,
          1308,
          1040,
          1678,
          1949,
          821,
          36,
          1121,
          2023,
          1605,
          2135,
          1539,
          2922,
          2976,
          3074,
          2531,
          1734,
          2455,
          1674,
          2199,
          1828,
          2437,
          1925,
          2559,
          1735,
          2008,
          2028,
          2133,
          30,
          200,
          1,
          2,
          10,
          2,
          1316,
          1170,
          940,
          1283,
          1365,
          1490,
          1261,
          1292,
          952,
          1610,
          1753,
          67,
          1351,
          867,
          2822,
          1569,
          1845,
          1982,
          2125,
          1112,
          2549,
          1743,
          2217,
          1275,
          100,
          1038,
          1164,
          1394,
          1398,
          1348,
          1330,
          2704,
          107,
          355,
          2288,
          1280,
          3015,
          1480,
          1483,
          5,
          2,
          1,
          442,
          686,
          1206,
          1486,
          1323,
          950,
          1764,
          553,
          1277,
          1521,
          1034,
          53,
          1540,
          1391,
          1818,
          1480,
          1303,
          958,
          1246,
          1312,
          1482,
          1491,
          5,
          7,
          8,
          4,
          0,
          6,
          322,
          1504,
          1219,
          1077,
          1184,
          1131,
          1139,
          1162,
          1328,
          1489,
          1175,
          552,
          1471,
          2173,
          220,
          1873,
          1547,
          1617,
          1356,
          1656,
          1963,
          1891,
          41,
          787,
          33,
          1,
          17,
          52,
          1200,
          1091,
          1134,
          1101,
          1224,
          1615,
          1249,
          583,
          1176,
          1401,
          33,
          1306,
          1364,
          1611,
          1340,
          1519,
          1864,
          38,
          186,
          1042,
          1077,
          1598,
          1114,
          1452,
          1181,
          1230,
          1131,
          555,
          1586,
          1419,
          1111,
          599,
          1209,
          1473,
          1331,
          1813,
          2487,
          2483,
          219,
          401,
          1399,
          1285,
          1324,
          557,
          1239,
          1352,
          1624,
          988,
          21,
          11,
          1,
          71,
          952,
          1070,
          986,
          984,
          495,
          930,
          1260,
          48,
          917,
          809,
          1994,
          573,
          1083,
          1014,
          1722,
          2121,
          1638
         ],
         "yaxis": "y"
        },
        {
         "hovertemplate": "top_pollutant=NO2<br>weekstart=%{x}<br>cases=%{y}<extra></extra>",
         "legendgroup": "NO2",
         "marker": {
          "color": "#EF553B",
          "symbol": "circle"
         },
         "mode": "markers",
         "name": "NO2",
         "orientation": "v",
         "showlegend": true,
         "type": "scatter",
         "x": [
          "2004-01-25T00:00:00",
          "2005-03-20T00:00:00",
          "2006-02-05T00:00:00",
          "2006-10-01T00:00:00",
          "2006-10-08T00:00:00",
          "2006-10-15T00:00:00",
          "2006-10-22T00:00:00",
          "2006-10-29T00:00:00",
          "2006-11-05T00:00:00",
          "2006-11-12T00:00:00",
          "2006-11-19T00:00:00",
          "2006-11-26T00:00:00",
          "2006-12-03T00:00:00",
          "2006-12-10T00:00:00",
          "2006-12-17T00:00:00",
          "2006-12-24T00:00:00",
          "2006-12-31T00:00:00",
          "2007-01-07T00:00:00",
          "2007-01-14T00:00:00",
          "2007-01-21T00:00:00",
          "2007-01-28T00:00:00",
          "2007-02-18T00:00:00",
          "2007-02-25T00:00:00",
          "2007-03-04T00:00:00",
          "2007-03-11T00:00:00",
          "2007-03-18T00:00:00",
          "2007-03-25T00:00:00"
         ],
         "xaxis": "x",
         "y": [
          622,
          480,
          1544,
          731,
          1584,
          1115,
          1152,
          1176,
          0,
          1347,
          688,
          393,
          2620,
          1079,
          1408,
          1577,
          493,
          1526,
          1704,
          1342,
          3032,
          1712,
          2043,
          2479,
          1747,
          1643,
          1522
         ],
         "yaxis": "y"
        },
        {
         "hovertemplate": "top_pollutant=Ozone<br>weekstart=%{x}<br>cases=%{y}<extra></extra>",
         "legendgroup": "Ozone",
         "marker": {
          "color": "#00cc96",
          "symbol": "circle"
         },
         "mode": "markers",
         "name": "Ozone",
         "orientation": "v",
         "showlegend": true,
         "type": "scatter",
         "x": [
          "2004-04-11T00:00:00",
          "2004-04-18T00:00:00",
          "2004-04-25T00:00:00",
          "2004-05-02T00:00:00",
          "2004-05-16T00:00:00",
          "2004-05-23T00:00:00",
          "2004-05-30T00:00:00",
          "2004-06-20T00:00:00",
          "2004-06-27T00:00:00",
          "2004-07-04T00:00:00",
          "2004-07-25T00:00:00",
          "2004-08-01T00:00:00",
          "2004-09-05T00:00:00",
          "2004-09-19T00:00:00",
          "2004-09-26T00:00:00",
          "2005-04-03T00:00:00",
          "2005-04-10T00:00:00",
          "2005-04-17T00:00:00",
          "2005-04-24T00:00:00",
          "2005-05-08T00:00:00",
          "2005-05-15T00:00:00",
          "2005-05-29T00:00:00",
          "2005-06-05T00:00:00",
          "2005-06-12T00:00:00",
          "2005-06-19T00:00:00",
          "2005-06-26T00:00:00",
          "2005-07-03T00:00:00",
          "2005-07-17T00:00:00",
          "2005-07-24T00:00:00",
          "2005-07-31T00:00:00",
          "2005-08-21T00:00:00",
          "2005-08-28T00:00:00",
          "2005-09-04T00:00:00",
          "2006-04-02T00:00:00",
          "2006-04-09T00:00:00",
          "2006-04-16T00:00:00",
          "2006-04-23T00:00:00",
          "2006-04-30T00:00:00",
          "2006-05-07T00:00:00",
          "2006-05-14T00:00:00",
          "2006-05-21T00:00:00",
          "2006-05-28T00:00:00",
          "2006-06-04T00:00:00",
          "2006-06-11T00:00:00",
          "2006-06-18T00:00:00",
          "2006-06-25T00:00:00",
          "2006-07-02T00:00:00",
          "2006-07-09T00:00:00",
          "2006-07-16T00:00:00",
          "2006-07-23T00:00:00",
          "2006-07-30T00:00:00",
          "2006-08-06T00:00:00",
          "2006-08-13T00:00:00",
          "2006-08-20T00:00:00",
          "2006-08-27T00:00:00",
          "2006-09-03T00:00:00",
          "2006-09-10T00:00:00",
          "2006-09-17T00:00:00",
          "2006-09-24T00:00:00",
          "2007-04-01T00:00:00",
          "2007-04-08T00:00:00",
          "2007-04-15T00:00:00",
          "2007-04-22T00:00:00",
          "2007-04-29T00:00:00",
          "2007-05-06T00:00:00",
          "2007-05-13T00:00:00",
          "2007-05-20T00:00:00",
          "2007-05-27T00:00:00",
          "2007-06-03T00:00:00",
          "2007-06-10T00:00:00",
          "2007-06-17T00:00:00",
          "2007-06-24T00:00:00",
          "2007-07-01T00:00:00",
          "2007-07-08T00:00:00",
          "2007-07-15T00:00:00",
          "2007-07-22T00:00:00",
          "2007-07-29T00:00:00",
          "2007-08-05T00:00:00",
          "2007-08-12T00:00:00",
          "2007-08-19T00:00:00",
          "2007-08-26T00:00:00",
          "2007-09-02T00:00:00",
          "2007-09-09T00:00:00",
          "2007-09-16T00:00:00",
          "2007-09-23T00:00:00",
          "2008-04-13T00:00:00",
          "2008-04-20T00:00:00",
          "2008-04-27T00:00:00",
          "2008-05-04T00:00:00",
          "2008-05-11T00:00:00",
          "2008-05-18T00:00:00",
          "2008-05-25T00:00:00",
          "2008-06-01T00:00:00",
          "2008-06-08T00:00:00",
          "2008-06-15T00:00:00",
          "2008-06-22T00:00:00",
          "2008-06-29T00:00:00",
          "2008-07-06T00:00:00",
          "2008-07-13T00:00:00",
          "2008-07-27T00:00:00",
          "2008-08-03T00:00:00",
          "2008-08-10T00:00:00",
          "2008-08-17T00:00:00",
          "2008-08-24T00:00:00",
          "2008-08-31T00:00:00",
          "2008-09-14T00:00:00",
          "2009-03-29T00:00:00",
          "2009-04-05T00:00:00",
          "2009-04-12T00:00:00",
          "2009-04-19T00:00:00",
          "2009-12-13T00:00:00",
          "2009-12-20T00:00:00",
          "2009-12-27T00:00:00",
          "2010-01-03T00:00:00",
          "2010-01-10T00:00:00",
          "2010-01-17T00:00:00",
          "2010-01-24T00:00:00",
          "2010-01-31T00:00:00",
          "2010-02-07T00:00:00",
          "2010-02-14T00:00:00",
          "2010-02-21T00:00:00",
          "2010-02-28T00:00:00",
          "2010-03-07T00:00:00",
          "2010-03-14T00:00:00",
          "2010-03-21T00:00:00",
          "2010-03-28T00:00:00",
          "2010-04-04T00:00:00",
          "2010-04-11T00:00:00",
          "2010-04-18T00:00:00",
          "2010-04-25T00:00:00",
          "2010-05-02T00:00:00",
          "2010-05-09T00:00:00",
          "2010-05-16T00:00:00",
          "2010-05-23T00:00:00",
          "2010-05-30T00:00:00",
          "2010-06-06T00:00:00",
          "2010-06-13T00:00:00",
          "2010-06-20T00:00:00",
          "2010-06-27T00:00:00",
          "2010-07-04T00:00:00",
          "2010-07-11T00:00:00",
          "2010-07-18T00:00:00",
          "2010-07-25T00:00:00",
          "2010-08-01T00:00:00",
          "2010-08-08T00:00:00",
          "2010-08-15T00:00:00",
          "2010-08-22T00:00:00",
          "2010-08-29T00:00:00",
          "2010-09-05T00:00:00",
          "2010-09-12T00:00:00",
          "2010-09-19T00:00:00",
          "2010-09-26T00:00:00",
          "2010-10-03T00:00:00",
          "2010-10-10T00:00:00",
          "2010-10-17T00:00:00",
          "2010-10-24T00:00:00",
          "2010-10-31T00:00:00",
          "2010-11-07T00:00:00",
          "2010-11-14T00:00:00",
          "2010-11-21T00:00:00",
          "2010-11-28T00:00:00",
          "2010-12-05T00:00:00",
          "2010-12-12T00:00:00",
          "2010-12-19T00:00:00",
          "2010-12-26T00:00:00",
          "2011-02-13T00:00:00",
          "2011-03-20T00:00:00",
          "2011-03-27T00:00:00",
          "2011-04-10T00:00:00",
          "2011-04-17T00:00:00",
          "2011-04-24T00:00:00",
          "2011-05-01T00:00:00",
          "2011-05-08T00:00:00",
          "2011-05-15T00:00:00",
          "2011-05-22T00:00:00",
          "2011-05-29T00:00:00",
          "2011-06-05T00:00:00",
          "2011-06-12T00:00:00",
          "2011-06-26T00:00:00",
          "2011-07-10T00:00:00",
          "2011-07-17T00:00:00",
          "2011-07-24T00:00:00",
          "2011-08-07T00:00:00",
          "2011-08-28T00:00:00",
          "2011-09-04T00:00:00",
          "2011-09-11T00:00:00",
          "2011-09-18T00:00:00",
          "2011-11-27T00:00:00",
          "2011-12-25T00:00:00",
          "2012-03-04T00:00:00",
          "2012-03-25T00:00:00",
          "2012-04-01T00:00:00",
          "2012-04-08T00:00:00",
          "2012-04-15T00:00:00",
          "2012-04-22T00:00:00",
          "2012-04-29T00:00:00",
          "2012-05-06T00:00:00",
          "2012-05-13T00:00:00",
          "2012-05-20T00:00:00",
          "2012-05-27T00:00:00",
          "2012-06-03T00:00:00",
          "2012-06-10T00:00:00",
          "2012-06-17T00:00:00",
          "2012-06-24T00:00:00",
          "2012-07-01T00:00:00",
          "2012-07-08T00:00:00",
          "2012-07-15T00:00:00",
          "2012-07-22T00:00:00",
          "2012-07-29T00:00:00",
          "2012-08-05T00:00:00",
          "2012-08-12T00:00:00",
          "2012-08-19T00:00:00",
          "2012-08-26T00:00:00",
          "2012-09-02T00:00:00",
          "2012-09-09T00:00:00",
          "2012-09-16T00:00:00",
          "2012-09-23T00:00:00",
          "2012-10-07T00:00:00",
          "2012-10-28T00:00:00",
          "2013-02-17T00:00:00",
          "2013-03-03T00:00:00",
          "2013-03-17T00:00:00",
          "2013-03-24T00:00:00",
          "2013-03-31T00:00:00",
          "2013-04-07T00:00:00",
          "2013-04-14T00:00:00",
          "2013-04-21T00:00:00",
          "2013-04-28T00:00:00",
          "2013-05-05T00:00:00",
          "2013-05-12T00:00:00",
          "2013-05-19T00:00:00",
          "2013-05-26T00:00:00",
          "2013-06-02T00:00:00",
          "2013-06-09T00:00:00",
          "2013-06-16T00:00:00",
          "2013-06-23T00:00:00",
          "2013-07-07T00:00:00",
          "2013-07-14T00:00:00",
          "2013-07-21T00:00:00",
          "2013-08-11T00:00:00",
          "2013-08-18T00:00:00",
          "2013-08-25T00:00:00",
          "2013-09-01T00:00:00",
          "2013-09-15T00:00:00",
          "2013-09-22T00:00:00",
          "2013-10-20T00:00:00",
          "2013-11-17T00:00:00",
          "2013-12-29T00:00:00",
          "2014-02-16T00:00:00",
          "2014-03-30T00:00:00",
          "2014-04-06T00:00:00",
          "2014-04-13T00:00:00",
          "2014-04-20T00:00:00",
          "2014-04-27T00:00:00",
          "2014-05-04T00:00:00",
          "2014-05-11T00:00:00",
          "2014-05-18T00:00:00",
          "2014-05-25T00:00:00",
          "2014-06-01T00:00:00",
          "2014-06-08T00:00:00",
          "2014-06-15T00:00:00",
          "2014-06-29T00:00:00",
          "2014-07-06T00:00:00",
          "2014-07-20T00:00:00",
          "2014-08-10T00:00:00",
          "2014-09-07T00:00:00",
          "2015-01-04T00:00:00",
          "2015-02-08T00:00:00",
          "2015-02-15T00:00:00",
          "2015-03-15T00:00:00",
          "2015-03-22T00:00:00",
          "2015-03-29T00:00:00",
          "2015-04-19T00:00:00",
          "2015-04-26T00:00:00",
          "2015-05-03T00:00:00",
          "2015-05-10T00:00:00",
          "2015-05-17T00:00:00",
          "2015-05-24T00:00:00",
          "2015-05-31T00:00:00",
          "2015-06-14T00:00:00",
          "2015-06-21T00:00:00",
          "2015-06-28T00:00:00",
          "2015-07-12T00:00:00",
          "2015-07-19T00:00:00",
          "2015-07-26T00:00:00",
          "2015-08-02T00:00:00",
          "2015-08-09T00:00:00",
          "2015-08-16T00:00:00",
          "2015-09-06T00:00:00",
          "2015-09-13T00:00:00",
          "2015-09-27T00:00:00",
          "2015-11-15T00:00:00",
          "2015-12-13T00:00:00",
          "2015-12-27T00:00:00",
          "2016-02-07T00:00:00",
          "2016-02-14T00:00:00",
          "2016-02-21T00:00:00",
          "2016-02-28T00:00:00",
          "2016-03-13T00:00:00",
          "2016-03-20T00:00:00",
          "2016-03-27T00:00:00",
          "2016-04-03T00:00:00",
          "2016-04-10T00:00:00",
          "2016-04-17T00:00:00",
          "2016-04-24T00:00:00",
          "2016-05-01T00:00:00",
          "2016-05-08T00:00:00",
          "2016-05-15T00:00:00",
          "2016-05-22T00:00:00",
          "2016-05-29T00:00:00",
          "2016-06-05T00:00:00",
          "2016-06-12T00:00:00",
          "2016-06-19T00:00:00",
          "2016-06-26T00:00:00",
          "2016-07-03T00:00:00",
          "2016-07-10T00:00:00",
          "2016-07-17T00:00:00",
          "2016-07-24T00:00:00",
          "2016-07-31T00:00:00",
          "2016-08-07T00:00:00",
          "2016-08-14T00:00:00",
          "2016-08-21T00:00:00",
          "2016-09-11T00:00:00",
          "2016-09-25T00:00:00",
          "2016-12-25T00:00:00",
          "2017-01-29T00:00:00",
          "2017-02-12T00:00:00",
          "2017-02-26T00:00:00",
          "2017-03-05T00:00:00",
          "2017-03-12T00:00:00",
          "2017-03-19T00:00:00",
          "2017-03-26T00:00:00",
          "2017-04-02T00:00:00",
          "2017-04-09T00:00:00",
          "2017-04-16T00:00:00",
          "2017-04-23T00:00:00",
          "2017-04-30T00:00:00",
          "2017-05-07T00:00:00",
          "2017-05-14T00:00:00",
          "2017-05-21T00:00:00",
          "2017-05-28T00:00:00",
          "2017-06-04T00:00:00",
          "2017-06-11T00:00:00",
          "2017-06-18T00:00:00",
          "2017-06-25T00:00:00",
          "2017-07-02T00:00:00",
          "2017-07-09T00:00:00",
          "2017-07-16T00:00:00",
          "2017-07-23T00:00:00",
          "2017-07-30T00:00:00",
          "2017-08-06T00:00:00",
          "2017-08-13T00:00:00",
          "2017-08-20T00:00:00",
          "2017-09-10T00:00:00",
          "2017-09-17T00:00:00",
          "2017-09-24T00:00:00",
          "2017-10-01T00:00:00",
          "2017-10-08T00:00:00",
          "2017-10-15T00:00:00",
          "2017-10-22T00:00:00",
          "2018-02-25T00:00:00",
          "2018-03-04T00:00:00",
          "2018-03-11T00:00:00",
          "2018-03-18T00:00:00",
          "2018-03-25T00:00:00",
          "2018-04-01T00:00:00",
          "2018-04-08T00:00:00",
          "2018-04-15T00:00:00",
          "2018-04-22T00:00:00",
          "2018-04-29T00:00:00",
          "2018-05-06T00:00:00",
          "2018-05-13T00:00:00",
          "2018-05-20T00:00:00",
          "2018-05-27T00:00:00",
          "2018-06-03T00:00:00",
          "2018-06-10T00:00:00",
          "2018-06-17T00:00:00",
          "2018-06-24T00:00:00",
          "2018-07-01T00:00:00",
          "2018-07-08T00:00:00",
          "2018-07-15T00:00:00",
          "2018-07-29T00:00:00",
          "2018-08-26T00:00:00",
          "2018-09-02T00:00:00",
          "2018-09-09T00:00:00",
          "2018-09-16T00:00:00",
          "2018-09-23T00:00:00",
          "2018-09-30T00:00:00",
          "2018-10-14T00:00:00",
          "2018-10-21T00:00:00",
          "2018-12-02T00:00:00",
          "2018-12-16T00:00:00",
          "2018-12-23T00:00:00",
          "2019-01-06T00:00:00",
          "2019-01-20T00:00:00",
          "2019-01-27T00:00:00",
          "2019-02-24T00:00:00",
          "2019-03-03T00:00:00",
          "2019-03-10T00:00:00",
          "2019-03-24T00:00:00",
          "2019-03-31T00:00:00",
          "2019-04-07T00:00:00",
          "2019-04-14T00:00:00",
          "2019-04-21T00:00:00",
          "2019-04-28T00:00:00",
          "2019-05-05T00:00:00",
          "2019-05-12T00:00:00",
          "2019-05-19T00:00:00",
          "2019-05-26T00:00:00",
          "2019-06-02T00:00:00",
          "2019-06-09T00:00:00",
          "2019-06-16T00:00:00",
          "2019-06-23T00:00:00",
          "2019-06-30T00:00:00",
          "2019-07-07T00:00:00",
          "2019-07-14T00:00:00",
          "2019-07-21T00:00:00",
          "2019-07-28T00:00:00",
          "2019-08-04T00:00:00",
          "2019-08-11T00:00:00",
          "2019-08-18T00:00:00",
          "2019-08-25T00:00:00",
          "2019-09-15T00:00:00",
          "2019-09-29T00:00:00",
          "2019-10-06T00:00:00",
          "2019-10-13T00:00:00",
          "2019-10-20T00:00:00",
          "2019-10-27T00:00:00",
          "2019-11-03T00:00:00",
          "2019-11-10T00:00:00",
          "2019-11-17T00:00:00",
          "2019-11-24T00:00:00"
         ],
         "xaxis": "x",
         "y": [
          10,
          299,
          93,
          686,
          291,
          418,
          207,
          1,
          0,
          0,
          0,
          0,
          4,
          565,
          205,
          2,
          108,
          124,
          149,
          203,
          121,
          79,
          34,
          24,
          2,
          0,
          1,
          0,
          1,
          0,
          1,
          23,
          49,
          1125,
          623,
          638,
          661,
          694,
          799,
          998,
          671,
          189,
          198,
          86,
          2,
          7,
          13,
          0,
          0,
          1,
          4,
          0,
          0,
          0,
          0,
          35,
          566,
          700,
          1347,
          112,
          828,
          753,
          1069,
          897,
          1050,
          1035,
          791,
          1190,
          374,
          201,
          15,
          6,
          6,
          6,
          7,
          4,
          0,
          8,
          9,
          4,
          8,
          106,
          400,
          681,
          1616,
          710,
          974,
          1061,
          1009,
          1038,
          781,
          583,
          1386,
          73,
          26,
          22,
          0,
          1,
          4,
          4,
          7,
          2,
          6,
          9,
          92,
          647,
          1514,
          29,
          1510,
          1319,
          1726,
          401,
          9,
          1133,
          1493,
          1601,
          1733,
          2087,
          2629,
          1757,
          1990,
          1551,
          1510,
          1658,
          1326,
          1141,
          51,
          553,
          1029,
          1323,
          761,
          1357,
          1202,
          747,
          853,
          407,
          226,
          9,
          2,
          5,
          0,
          3,
          9,
          0,
          5,
          18,
          11,
          13,
          198,
          592,
          851,
          1088,
          789,
          999,
          1496,
          1097,
          1487,
          1359,
          1402,
          1015,
          1485,
          1819,
          1678,
          190,
          11,
          1981,
          2263,
          1743,
          631,
          1650,
          1715,
          1392,
          1558,
          1019,
          981,
          617,
          313,
          135,
          0,
          0,
          0,
          0,
          3,
          10,
          23,
          624,
          1244,
          1492,
          6,
          1842,
          1380,
          12,
          1658,
          1429,
          1599,
          1787,
          1241,
          184,
          237,
          659,
          1092,
          555,
          12,
          5,
          0,
          2,
          8,
          2,
          0,
          1,
          0,
          10,
          17,
          121,
          531,
          1050,
          1195,
          1140,
          1454,
          1574,
          2612,
          2197,
          1650,
          6,
          346,
          1492,
          2071,
          964,
          1295,
          900,
          200,
          235,
          619,
          45,
          12,
          9,
          0,
          6,
          7,
          9,
          9,
          19,
          122,
          620,
          216,
          1527,
          1319,
          39,
          1622,
          1046,
          59,
          761,
          1020,
          1318,
          1029,
          807,
          645,
          403,
          325,
          46,
          8,
          3,
          3,
          8,
          1,
          1088,
          2243,
          1619,
          1225,
          1414,
          1562,
          1163,
          1118,
          944,
          955,
          912,
          717,
          466,
          366,
          6,
          2,
          5,
          4,
          6,
          3,
          3,
          1,
          4,
          332,
          898,
          1097,
          1227,
          1198,
          6,
          1622,
          1510,
          1611,
          1560,
          1613,
          1856,
          1174,
          44,
          923,
          919,
          1093,
          981,
          848,
          860,
          709,
          444,
          298,
          87,
          14,
          7,
          7,
          8,
          6,
          0,
          34,
          32,
          31,
          26,
          714,
          1092,
          8,
          2296,
          2975,
          2217,
          2149,
          2162,
          1942,
          1376,
          40,
          878,
          912,
          1011,
          956,
          979,
          1020,
          652,
          461,
          258,
          97,
          6,
          5,
          1,
          3,
          4,
          0,
          3,
          7,
          4,
          51,
          813,
          1035,
          737,
          767,
          877,
          952,
          1029,
          1551,
          1514,
          2176,
          1476,
          1049,
          16,
          913,
          854,
          829,
          857,
          932,
          745,
          573,
          388,
          206,
          12,
          15,
          30,
          2,
          1,
          21,
          20,
          265,
          541,
          861,
          863,
          883,
          943,
          987,
          1110,
          1148,
          1189,
          62,
          1039,
          819,
          34,
          1254,
          1393,
          1654,
          1339,
          37,
          902,
          979,
          920,
          1109,
          1011,
          951,
          672,
          352,
          199,
          50,
          5,
          8,
          2,
          1,
          3,
          7,
          4,
          11,
          10,
          63,
          268,
          976,
          1011,
          1239,
          1119,
          994,
          1111,
          1458,
          1671,
          1466,
          638
         ],
         "yaxis": "y"
        },
        {
         "hovertemplate": "top_pollutant=CO<br>weekstart=%{x}<br>cases=%{y}<extra></extra>",
         "legendgroup": "CO",
         "marker": {
          "color": "#ab63fa",
          "symbol": "circle"
         },
         "mode": "markers",
         "name": "CO",
         "orientation": "v",
         "showlegend": true,
         "type": "scatter",
         "x": [
          "2007-02-04T00:00:00",
          "2007-09-30T00:00:00",
          "2007-10-07T00:00:00",
          "2007-10-14T00:00:00",
          "2007-10-21T00:00:00",
          "2007-10-28T00:00:00"
         ],
         "xaxis": "x",
         "y": [
          1056,
          774,
          869,
          797,
          1341,
          1786
         ],
         "yaxis": "y"
        }
       ],
       "layout": {
        "template": {
         "data": {
          "bar": [
           {
            "error_x": {
             "color": "#2a3f5f"
            },
            "error_y": {
             "color": "#2a3f5f"
            },
            "marker": {
             "line": {
              "color": "#E5ECF6",
              "width": 0.5
             },
             "pattern": {
              "fillmode": "overlay",
              "size": 10,
              "solidity": 0.2
             }
            },
            "type": "bar"
           }
          ],
          "barpolar": [
           {
            "marker": {
             "line": {
              "color": "#E5ECF6",
              "width": 0.5
             },
             "pattern": {
              "fillmode": "overlay",
              "size": 10,
              "solidity": 0.2
             }
            },
            "type": "barpolar"
           }
          ],
          "carpet": [
           {
            "aaxis": {
             "endlinecolor": "#2a3f5f",
             "gridcolor": "white",
             "linecolor": "white",
             "minorgridcolor": "white",
             "startlinecolor": "#2a3f5f"
            },
            "baxis": {
             "endlinecolor": "#2a3f5f",
             "gridcolor": "white",
             "linecolor": "white",
             "minorgridcolor": "white",
             "startlinecolor": "#2a3f5f"
            },
            "type": "carpet"
           }
          ],
          "choropleth": [
           {
            "colorbar": {
             "outlinewidth": 0,
             "ticks": ""
            },
            "type": "choropleth"
           }
          ],
          "contour": [
           {
            "colorbar": {
             "outlinewidth": 0,
             "ticks": ""
            },
            "colorscale": [
             [
              0,
              "#0d0887"
             ],
             [
              0.1111111111111111,
              "#46039f"
             ],
             [
              0.2222222222222222,
              "#7201a8"
             ],
             [
              0.3333333333333333,
              "#9c179e"
             ],
             [
              0.4444444444444444,
              "#bd3786"
             ],
             [
              0.5555555555555556,
              "#d8576b"
             ],
             [
              0.6666666666666666,
              "#ed7953"
             ],
             [
              0.7777777777777778,
              "#fb9f3a"
             ],
             [
              0.8888888888888888,
              "#fdca26"
             ],
             [
              1,
              "#f0f921"
             ]
            ],
            "type": "contour"
           }
          ],
          "contourcarpet": [
           {
            "colorbar": {
             "outlinewidth": 0,
             "ticks": ""
            },
            "type": "contourcarpet"
           }
          ],
          "heatmap": [
           {
            "colorbar": {
             "outlinewidth": 0,
             "ticks": ""
            },
            "colorscale": [
             [
              0,
              "#0d0887"
             ],
             [
              0.1111111111111111,
              "#46039f"
             ],
             [
              0.2222222222222222,
              "#7201a8"
             ],
             [
              0.3333333333333333,
              "#9c179e"
             ],
             [
              0.4444444444444444,
              "#bd3786"
             ],
             [
              0.5555555555555556,
              "#d8576b"
             ],
             [
              0.6666666666666666,
              "#ed7953"
             ],
             [
              0.7777777777777778,
              "#fb9f3a"
             ],
             [
              0.8888888888888888,
              "#fdca26"
             ],
             [
              1,
              "#f0f921"
             ]
            ],
            "type": "heatmap"
           }
          ],
          "heatmapgl": [
           {
            "colorbar": {
             "outlinewidth": 0,
             "ticks": ""
            },
            "colorscale": [
             [
              0,
              "#0d0887"
             ],
             [
              0.1111111111111111,
              "#46039f"
             ],
             [
              0.2222222222222222,
              "#7201a8"
             ],
             [
              0.3333333333333333,
              "#9c179e"
             ],
             [
              0.4444444444444444,
              "#bd3786"
             ],
             [
              0.5555555555555556,
              "#d8576b"
             ],
             [
              0.6666666666666666,
              "#ed7953"
             ],
             [
              0.7777777777777778,
              "#fb9f3a"
             ],
             [
              0.8888888888888888,
              "#fdca26"
             ],
             [
              1,
              "#f0f921"
             ]
            ],
            "type": "heatmapgl"
           }
          ],
          "histogram": [
           {
            "marker": {
             "pattern": {
              "fillmode": "overlay",
              "size": 10,
              "solidity": 0.2
             }
            },
            "type": "histogram"
           }
          ],
          "histogram2d": [
           {
            "colorbar": {
             "outlinewidth": 0,
             "ticks": ""
            },
            "colorscale": [
             [
              0,
              "#0d0887"
             ],
             [
              0.1111111111111111,
              "#46039f"
             ],
             [
              0.2222222222222222,
              "#7201a8"
             ],
             [
              0.3333333333333333,
              "#9c179e"
             ],
             [
              0.4444444444444444,
              "#bd3786"
             ],
             [
              0.5555555555555556,
              "#d8576b"
             ],
             [
              0.6666666666666666,
              "#ed7953"
             ],
             [
              0.7777777777777778,
              "#fb9f3a"
             ],
             [
              0.8888888888888888,
              "#fdca26"
             ],
             [
              1,
              "#f0f921"
             ]
            ],
            "type": "histogram2d"
           }
          ],
          "histogram2dcontour": [
           {
            "colorbar": {
             "outlinewidth": 0,
             "ticks": ""
            },
            "colorscale": [
             [
              0,
              "#0d0887"
             ],
             [
              0.1111111111111111,
              "#46039f"
             ],
             [
              0.2222222222222222,
              "#7201a8"
             ],
             [
              0.3333333333333333,
              "#9c179e"
             ],
             [
              0.4444444444444444,
              "#bd3786"
             ],
             [
              0.5555555555555556,
              "#d8576b"
             ],
             [
              0.6666666666666666,
              "#ed7953"
             ],
             [
              0.7777777777777778,
              "#fb9f3a"
             ],
             [
              0.8888888888888888,
              "#fdca26"
             ],
             [
              1,
              "#f0f921"
             ]
            ],
            "type": "histogram2dcontour"
           }
          ],
          "mesh3d": [
           {
            "colorbar": {
             "outlinewidth": 0,
             "ticks": ""
            },
            "type": "mesh3d"
           }
          ],
          "parcoords": [
           {
            "line": {
             "colorbar": {
              "outlinewidth": 0,
              "ticks": ""
             }
            },
            "type": "parcoords"
           }
          ],
          "pie": [
           {
            "automargin": true,
            "type": "pie"
           }
          ],
          "scatter": [
           {
            "marker": {
             "colorbar": {
              "outlinewidth": 0,
              "ticks": ""
             }
            },
            "type": "scatter"
           }
          ],
          "scatter3d": [
           {
            "line": {
             "colorbar": {
              "outlinewidth": 0,
              "ticks": ""
             }
            },
            "marker": {
             "colorbar": {
              "outlinewidth": 0,
              "ticks": ""
             }
            },
            "type": "scatter3d"
           }
          ],
          "scattercarpet": [
           {
            "marker": {
             "colorbar": {
              "outlinewidth": 0,
              "ticks": ""
             }
            },
            "type": "scattercarpet"
           }
          ],
          "scattergeo": [
           {
            "marker": {
             "colorbar": {
              "outlinewidth": 0,
              "ticks": ""
             }
            },
            "type": "scattergeo"
           }
          ],
          "scattergl": [
           {
            "marker": {
             "colorbar": {
              "outlinewidth": 0,
              "ticks": ""
             }
            },
            "type": "scattergl"
           }
          ],
          "scattermapbox": [
           {
            "marker": {
             "colorbar": {
              "outlinewidth": 0,
              "ticks": ""
             }
            },
            "type": "scattermapbox"
           }
          ],
          "scatterpolar": [
           {
            "marker": {
             "colorbar": {
              "outlinewidth": 0,
              "ticks": ""
             }
            },
            "type": "scatterpolar"
           }
          ],
          "scatterpolargl": [
           {
            "marker": {
             "colorbar": {
              "outlinewidth": 0,
              "ticks": ""
             }
            },
            "type": "scatterpolargl"
           }
          ],
          "scatterternary": [
           {
            "marker": {
             "colorbar": {
              "outlinewidth": 0,
              "ticks": ""
             }
            },
            "type": "scatterternary"
           }
          ],
          "surface": [
           {
            "colorbar": {
             "outlinewidth": 0,
             "ticks": ""
            },
            "colorscale": [
             [
              0,
              "#0d0887"
             ],
             [
              0.1111111111111111,
              "#46039f"
             ],
             [
              0.2222222222222222,
              "#7201a8"
             ],
             [
              0.3333333333333333,
              "#9c179e"
             ],
             [
              0.4444444444444444,
              "#bd3786"
             ],
             [
              0.5555555555555556,
              "#d8576b"
             ],
             [
              0.6666666666666666,
              "#ed7953"
             ],
             [
              0.7777777777777778,
              "#fb9f3a"
             ],
             [
              0.8888888888888888,
              "#fdca26"
             ],
             [
              1,
              "#f0f921"
             ]
            ],
            "type": "surface"
           }
          ],
          "table": [
           {
            "cells": {
             "fill": {
              "color": "#EBF0F8"
             },
             "line": {
              "color": "white"
             }
            },
            "header": {
             "fill": {
              "color": "#C8D4E3"
             },
             "line": {
              "color": "white"
             }
            },
            "type": "table"
           }
          ]
         },
         "layout": {
          "annotationdefaults": {
           "arrowcolor": "#2a3f5f",
           "arrowhead": 0,
           "arrowwidth": 1
          },
          "autotypenumbers": "strict",
          "coloraxis": {
           "colorbar": {
            "outlinewidth": 0,
            "ticks": ""
           }
          },
          "colorscale": {
           "diverging": [
            [
             0,
             "#8e0152"
            ],
            [
             0.1,
             "#c51b7d"
            ],
            [
             0.2,
             "#de77ae"
            ],
            [
             0.3,
             "#f1b6da"
            ],
            [
             0.4,
             "#fde0ef"
            ],
            [
             0.5,
             "#f7f7f7"
            ],
            [
             0.6,
             "#e6f5d0"
            ],
            [
             0.7,
             "#b8e186"
            ],
            [
             0.8,
             "#7fbc41"
            ],
            [
             0.9,
             "#4d9221"
            ],
            [
             1,
             "#276419"
            ]
           ],
           "sequential": [
            [
             0,
             "#0d0887"
            ],
            [
             0.1111111111111111,
             "#46039f"
            ],
            [
             0.2222222222222222,
             "#7201a8"
            ],
            [
             0.3333333333333333,
             "#9c179e"
            ],
            [
             0.4444444444444444,
             "#bd3786"
            ],
            [
             0.5555555555555556,
             "#d8576b"
            ],
            [
             0.6666666666666666,
             "#ed7953"
            ],
            [
             0.7777777777777778,
             "#fb9f3a"
            ],
            [
             0.8888888888888888,
             "#fdca26"
            ],
            [
             1,
             "#f0f921"
            ]
           ],
           "sequentialminus": [
            [
             0,
             "#0d0887"
            ],
            [
             0.1111111111111111,
             "#46039f"
            ],
            [
             0.2222222222222222,
             "#7201a8"
            ],
            [
             0.3333333333333333,
             "#9c179e"
            ],
            [
             0.4444444444444444,
             "#bd3786"
            ],
            [
             0.5555555555555556,
             "#d8576b"
            ],
            [
             0.6666666666666666,
             "#ed7953"
            ],
            [
             0.7777777777777778,
             "#fb9f3a"
            ],
            [
             0.8888888888888888,
             "#fdca26"
            ],
            [
             1,
             "#f0f921"
            ]
           ]
          },
          "colorway": [
           "#636efa",
           "#EF553B",
           "#00cc96",
           "#ab63fa",
           "#FFA15A",
           "#19d3f3",
           "#FF6692",
           "#B6E880",
           "#FF97FF",
           "#FECB52"
          ],
          "font": {
           "color": "#2a3f5f"
          },
          "geo": {
           "bgcolor": "white",
           "lakecolor": "white",
           "landcolor": "#E5ECF6",
           "showlakes": true,
           "showland": true,
           "subunitcolor": "white"
          },
          "hoverlabel": {
           "align": "left"
          },
          "hovermode": "closest",
          "mapbox": {
           "style": "light"
          },
          "paper_bgcolor": "white",
          "plot_bgcolor": "#E5ECF6",
          "polar": {
           "angularaxis": {
            "gridcolor": "white",
            "linecolor": "white",
            "ticks": ""
           },
           "bgcolor": "#E5ECF6",
           "radialaxis": {
            "gridcolor": "white",
            "linecolor": "white",
            "ticks": ""
           }
          },
          "scene": {
           "xaxis": {
            "backgroundcolor": "#E5ECF6",
            "gridcolor": "white",
            "gridwidth": 2,
            "linecolor": "white",
            "showbackground": true,
            "ticks": "",
            "zerolinecolor": "white"
           },
           "yaxis": {
            "backgroundcolor": "#E5ECF6",
            "gridcolor": "white",
            "gridwidth": 2,
            "linecolor": "white",
            "showbackground": true,
            "ticks": "",
            "zerolinecolor": "white"
           },
           "zaxis": {
            "backgroundcolor": "#E5ECF6",
            "gridcolor": "white",
            "gridwidth": 2,
            "linecolor": "white",
            "showbackground": true,
            "ticks": "",
            "zerolinecolor": "white"
           }
          },
          "shapedefaults": {
           "line": {
            "color": "#2a3f5f"
           }
          },
          "ternary": {
           "aaxis": {
            "gridcolor": "white",
            "linecolor": "white",
            "ticks": ""
           },
           "baxis": {
            "gridcolor": "white",
            "linecolor": "white",
            "ticks": ""
           },
           "bgcolor": "#E5ECF6",
           "caxis": {
            "gridcolor": "white",
            "linecolor": "white",
            "ticks": ""
           }
          },
          "title": {
           "x": 0.05
          },
          "xaxis": {
           "automargin": true,
           "gridcolor": "white",
           "linecolor": "white",
           "ticks": "",
           "title": {
            "standoff": 15
           },
           "zerolinecolor": "white",
           "zerolinewidth": 2
          },
          "yaxis": {
           "automargin": true,
           "gridcolor": "white",
           "linecolor": "white",
           "ticks": "",
           "title": {
            "standoff": 15
           },
           "zerolinecolor": "white",
           "zerolinewidth": 2
          }
         }
        }
       }
      }
     },
     "metadata": {},
     "output_type": "display_data"
    }
   ],
   "source": [
    "fig=go.Figure((go.Scatter(x=df['weekstart'], y=df['cases'], mode='lines',line=dict(color='rgba(0,0,200,0.7)'))))\n",
    "fig.add_traces(px.scatter(data_frame=df, x='weekstart', y='cases', color='top_pollutant').data)\n",
    "fig.show()"
   ]
  },
  {
   "cell_type": "code",
   "execution_count": 64,
   "metadata": {},
   "outputs": [
    {
     "data": {
      "application/vnd.plotly.v1+json": {
       "config": {
        "plotlyServerURL": "https://plot.ly"
       },
       "data": [
        {
         "hovertemplate": "top_pollutant=PM2.5<br>weekstart=%{x}<br>cases=%{y}<extra></extra>",
         "legendgroup": "PM2.5",
         "marker": {
          "color": "#636efa",
          "symbol": "circle"
         },
         "mode": "markers",
         "name": "PM2.5",
         "orientation": "v",
         "showlegend": true,
         "type": "scatter",
         "x": [
          "2004-01-04T00:00:00",
          "2004-01-11T00:00:00",
          "2004-01-18T00:00:00",
          "2004-02-01T00:00:00",
          "2004-02-08T00:00:00",
          "2004-02-15T00:00:00",
          "2004-02-22T00:00:00",
          "2004-02-29T00:00:00",
          "2004-03-07T00:00:00",
          "2004-03-14T00:00:00",
          "2004-03-21T00:00:00",
          "2004-03-28T00:00:00",
          "2004-04-04T00:00:00",
          "2004-05-09T00:00:00",
          "2004-06-06T00:00:00",
          "2004-06-13T00:00:00",
          "2004-07-11T00:00:00",
          "2004-07-18T00:00:00",
          "2004-08-08T00:00:00",
          "2004-08-15T00:00:00",
          "2004-08-22T00:00:00",
          "2004-08-29T00:00:00",
          "2004-09-12T00:00:00",
          "2004-10-31T00:00:00",
          "2004-11-07T00:00:00",
          "2004-11-14T00:00:00",
          "2004-11-21T00:00:00",
          "2004-11-28T00:00:00",
          "2004-12-05T00:00:00",
          "2004-12-12T00:00:00",
          "2004-12-19T00:00:00",
          "2004-12-26T00:00:00",
          "2005-01-02T00:00:00",
          "2005-01-09T00:00:00",
          "2005-01-16T00:00:00",
          "2005-01-23T00:00:00",
          "2005-01-30T00:00:00",
          "2005-02-06T00:00:00",
          "2005-02-13T00:00:00",
          "2005-02-20T00:00:00",
          "2005-02-27T00:00:00",
          "2005-03-06T00:00:00",
          "2005-03-13T00:00:00",
          "2005-03-27T00:00:00",
          "2005-05-01T00:00:00",
          "2005-05-22T00:00:00",
          "2005-07-10T00:00:00",
          "2005-08-07T00:00:00",
          "2005-08-14T00:00:00",
          "2005-09-11T00:00:00",
          "2005-09-18T00:00:00",
          "2005-09-25T00:00:00",
          "2005-11-20T00:00:00",
          "2005-11-27T00:00:00",
          "2005-12-04T00:00:00",
          "2005-12-11T00:00:00",
          "2005-12-18T00:00:00",
          "2005-12-25T00:00:00",
          "2006-01-01T00:00:00",
          "2006-01-08T00:00:00",
          "2006-01-15T00:00:00",
          "2006-01-22T00:00:00",
          "2006-01-29T00:00:00",
          "2006-02-12T00:00:00",
          "2006-02-26T00:00:00",
          "2006-03-05T00:00:00",
          "2006-03-12T00:00:00",
          "2006-03-19T00:00:00",
          "2006-03-26T00:00:00",
          "2007-02-11T00:00:00",
          "2007-11-04T00:00:00",
          "2007-11-11T00:00:00",
          "2007-11-18T00:00:00",
          "2007-11-25T00:00:00",
          "2007-12-02T00:00:00",
          "2007-12-09T00:00:00",
          "2007-12-16T00:00:00",
          "2007-12-23T00:00:00",
          "2007-12-30T00:00:00",
          "2008-01-06T00:00:00",
          "2008-01-13T00:00:00",
          "2008-01-20T00:00:00",
          "2008-01-27T00:00:00",
          "2008-02-03T00:00:00",
          "2008-02-10T00:00:00",
          "2008-02-17T00:00:00",
          "2008-02-24T00:00:00",
          "2008-03-02T00:00:00",
          "2008-03-09T00:00:00",
          "2008-03-16T00:00:00",
          "2008-03-23T00:00:00",
          "2008-03-30T00:00:00",
          "2008-04-06T00:00:00",
          "2008-07-20T00:00:00",
          "2008-09-07T00:00:00",
          "2008-09-21T00:00:00",
          "2008-09-28T00:00:00",
          "2008-10-05T00:00:00",
          "2008-10-12T00:00:00",
          "2008-10-19T00:00:00",
          "2008-10-26T00:00:00",
          "2008-11-02T00:00:00",
          "2008-11-09T00:00:00",
          "2008-11-16T00:00:00",
          "2008-11-23T00:00:00",
          "2008-11-30T00:00:00",
          "2008-12-07T00:00:00",
          "2008-12-14T00:00:00",
          "2008-12-21T00:00:00",
          "2009-01-04T00:00:00",
          "2009-01-11T00:00:00",
          "2009-01-18T00:00:00",
          "2009-01-25T00:00:00",
          "2009-02-08T00:00:00",
          "2009-02-15T00:00:00",
          "2009-02-22T00:00:00",
          "2009-03-01T00:00:00",
          "2009-03-08T00:00:00",
          "2009-03-15T00:00:00",
          "2009-03-22T00:00:00",
          "2011-01-02T00:00:00",
          "2011-01-09T00:00:00",
          "2011-01-16T00:00:00",
          "2011-01-23T00:00:00",
          "2011-01-30T00:00:00",
          "2011-02-06T00:00:00",
          "2011-02-20T00:00:00",
          "2011-02-27T00:00:00",
          "2011-03-06T00:00:00",
          "2011-03-13T00:00:00",
          "2011-04-03T00:00:00",
          "2011-06-19T00:00:00",
          "2011-07-03T00:00:00",
          "2011-07-31T00:00:00",
          "2011-08-14T00:00:00",
          "2011-08-21T00:00:00",
          "2011-09-25T00:00:00",
          "2011-10-02T00:00:00",
          "2011-10-09T00:00:00",
          "2011-10-16T00:00:00",
          "2011-10-23T00:00:00",
          "2011-10-30T00:00:00",
          "2011-11-06T00:00:00",
          "2011-11-13T00:00:00",
          "2011-11-20T00:00:00",
          "2011-12-04T00:00:00",
          "2011-12-11T00:00:00",
          "2011-12-18T00:00:00",
          "2012-01-01T00:00:00",
          "2012-01-08T00:00:00",
          "2012-01-15T00:00:00",
          "2012-01-22T00:00:00",
          "2012-01-29T00:00:00",
          "2012-02-05T00:00:00",
          "2012-02-12T00:00:00",
          "2012-02-19T00:00:00",
          "2012-02-26T00:00:00",
          "2012-03-11T00:00:00",
          "2012-03-18T00:00:00",
          "2012-09-30T00:00:00",
          "2012-10-14T00:00:00",
          "2012-10-21T00:00:00",
          "2012-11-04T00:00:00",
          "2012-11-11T00:00:00",
          "2012-11-18T00:00:00",
          "2012-11-25T00:00:00",
          "2012-12-02T00:00:00",
          "2012-12-09T00:00:00",
          "2012-12-23T00:00:00",
          "2012-12-30T00:00:00",
          "2013-01-27T00:00:00",
          "2013-02-03T00:00:00",
          "2013-02-10T00:00:00",
          "2013-02-24T00:00:00",
          "2013-03-10T00:00:00",
          "2013-06-30T00:00:00",
          "2013-07-28T00:00:00",
          "2013-08-04T00:00:00",
          "2013-09-08T00:00:00",
          "2013-09-29T00:00:00",
          "2013-10-06T00:00:00",
          "2013-10-13T00:00:00",
          "2013-10-27T00:00:00",
          "2013-11-03T00:00:00",
          "2013-11-10T00:00:00",
          "2013-11-24T00:00:00",
          "2013-12-01T00:00:00",
          "2013-12-08T00:00:00",
          "2013-12-15T00:00:00",
          "2013-12-22T00:00:00",
          "2014-01-12T00:00:00",
          "2014-01-19T00:00:00",
          "2014-01-26T00:00:00",
          "2014-02-02T00:00:00",
          "2014-02-09T00:00:00",
          "2014-02-23T00:00:00",
          "2014-03-02T00:00:00",
          "2014-03-09T00:00:00",
          "2014-03-16T00:00:00",
          "2014-03-23T00:00:00",
          "2014-06-22T00:00:00",
          "2014-07-13T00:00:00",
          "2014-07-27T00:00:00",
          "2014-08-03T00:00:00",
          "2014-08-17T00:00:00",
          "2014-08-24T00:00:00",
          "2014-08-31T00:00:00",
          "2014-09-14T00:00:00",
          "2014-09-21T00:00:00",
          "2014-09-28T00:00:00",
          "2014-10-05T00:00:00",
          "2014-10-12T00:00:00",
          "2014-10-19T00:00:00",
          "2014-10-26T00:00:00",
          "2014-11-02T00:00:00",
          "2014-11-09T00:00:00",
          "2014-11-16T00:00:00",
          "2014-11-23T00:00:00",
          "2014-11-30T00:00:00",
          "2014-12-07T00:00:00",
          "2014-12-21T00:00:00",
          "2015-01-11T00:00:00",
          "2015-01-18T00:00:00",
          "2015-01-25T00:00:00",
          "2015-02-01T00:00:00",
          "2015-02-22T00:00:00",
          "2015-03-01T00:00:00",
          "2015-03-08T00:00:00",
          "2015-04-05T00:00:00",
          "2015-04-12T00:00:00",
          "2015-06-07T00:00:00",
          "2015-07-05T00:00:00",
          "2015-08-23T00:00:00",
          "2015-08-30T00:00:00",
          "2015-09-20T00:00:00",
          "2015-10-04T00:00:00",
          "2015-10-11T00:00:00",
          "2015-10-18T00:00:00",
          "2015-10-25T00:00:00",
          "2015-11-01T00:00:00",
          "2015-11-08T00:00:00",
          "2015-11-22T00:00:00",
          "2015-11-29T00:00:00",
          "2015-12-06T00:00:00",
          "2015-12-20T00:00:00",
          "2016-01-03T00:00:00",
          "2016-01-10T00:00:00",
          "2016-01-17T00:00:00",
          "2016-01-24T00:00:00",
          "2016-01-31T00:00:00",
          "2016-03-06T00:00:00",
          "2016-08-28T00:00:00",
          "2016-09-04T00:00:00",
          "2016-09-18T00:00:00",
          "2016-10-02T00:00:00",
          "2016-10-09T00:00:00",
          "2016-10-16T00:00:00",
          "2016-10-23T00:00:00",
          "2016-10-30T00:00:00",
          "2016-11-06T00:00:00",
          "2016-11-13T00:00:00",
          "2016-11-20T00:00:00",
          "2016-11-27T00:00:00",
          "2016-12-04T00:00:00",
          "2016-12-11T00:00:00",
          "2016-12-18T00:00:00",
          "2017-01-01T00:00:00",
          "2017-01-08T00:00:00",
          "2017-01-15T00:00:00",
          "2017-01-22T00:00:00",
          "2017-02-05T00:00:00",
          "2017-02-19T00:00:00",
          "2017-08-27T00:00:00",
          "2017-09-03T00:00:00",
          "2017-10-29T00:00:00",
          "2017-11-05T00:00:00",
          "2017-11-12T00:00:00",
          "2017-11-19T00:00:00",
          "2017-11-26T00:00:00",
          "2017-12-03T00:00:00",
          "2017-12-10T00:00:00",
          "2017-12-17T00:00:00",
          "2018-07-22T00:00:00",
          "2018-08-05T00:00:00",
          "2018-08-12T00:00:00",
          "2018-08-19T00:00:00",
          "2018-10-07T00:00:00",
          "2018-10-28T00:00:00",
          "2018-11-04T00:00:00",
          "2018-11-11T00:00:00",
          "2018-11-18T00:00:00",
          "2018-11-25T00:00:00",
          "2018-12-09T00:00:00",
          "2018-12-30T00:00:00",
          "2019-01-13T00:00:00",
          "2019-02-17T00:00:00",
          "2019-03-17T00:00:00",
          "2019-09-01T00:00:00",
          "2019-09-08T00:00:00",
          "2019-09-22T00:00:00",
          "2019-12-01T00:00:00",
          "2019-12-08T00:00:00",
          "2019-12-15T00:00:00"
         ],
         "xaxis": "x",
         "y": [
          599,
          640,
          399,
          552,
          685,
          283,
          734,
          406,
          768,
          474,
          842,
          480,
          287,
          379,
          242,
          15,
          0,
          0,
          0,
          0,
          0,
          0,
          81,
          217,
          309,
          296,
          150,
          263,
          308,
          284,
          55,
          5,
          98,
          290,
          326,
          474,
          929,
          1087,
          481,
          863,
          746,
          678,
          534,
          250,
          167,
          89,
          0,
          0,
          0,
          154,
          257,
          144,
          434,
          1018,
          496,
          1288,
          419,
          2,
          1103,
          1584,
          1324,
          1324,
          2102,
          1350,
          1764,
          2061,
          1972,
          1685,
          1004,
          2205,
          1105,
          1637,
          574,
          1571,
          1943,
          1674,
          1582,
          18,
          110,
          1040,
          1581,
          1612,
          1358,
          2576,
          2109,
          2276,
          2396,
          2404,
          3090,
          2419,
          2138,
          1500,
          128,
          24,
          465,
          669,
          1139,
          1129,
          1070,
          1246,
          1391,
          1365,
          1685,
          1308,
          1040,
          1678,
          1949,
          821,
          36,
          1121,
          2023,
          1605,
          2135,
          1539,
          2922,
          2976,
          3074,
          2531,
          1734,
          2455,
          1674,
          2199,
          1828,
          2437,
          1925,
          2559,
          1735,
          2008,
          2028,
          2133,
          30,
          200,
          1,
          2,
          10,
          2,
          1316,
          1170,
          940,
          1283,
          1365,
          1490,
          1261,
          1292,
          952,
          1610,
          1753,
          67,
          1351,
          867,
          2822,
          1569,
          1845,
          1982,
          2125,
          1112,
          2549,
          1743,
          2217,
          1275,
          100,
          1038,
          1164,
          1394,
          1398,
          1348,
          1330,
          2704,
          107,
          355,
          2288,
          1280,
          3015,
          1480,
          1483,
          5,
          2,
          1,
          442,
          686,
          1206,
          1486,
          1323,
          950,
          1764,
          553,
          1277,
          1521,
          1034,
          53,
          1540,
          1391,
          1818,
          1480,
          1303,
          958,
          1246,
          1312,
          1482,
          1491,
          5,
          7,
          8,
          4,
          0,
          6,
          322,
          1504,
          1219,
          1077,
          1184,
          1131,
          1139,
          1162,
          1328,
          1489,
          1175,
          552,
          1471,
          2173,
          220,
          1873,
          1547,
          1617,
          1356,
          1656,
          1963,
          1891,
          41,
          787,
          33,
          1,
          17,
          52,
          1200,
          1091,
          1134,
          1101,
          1224,
          1615,
          1249,
          583,
          1176,
          1401,
          33,
          1306,
          1364,
          1611,
          1340,
          1519,
          1864,
          38,
          186,
          1042,
          1077,
          1598,
          1114,
          1452,
          1181,
          1230,
          1131,
          555,
          1586,
          1419,
          1111,
          599,
          1209,
          1473,
          1331,
          1813,
          2487,
          2483,
          219,
          401,
          1399,
          1285,
          1324,
          557,
          1239,
          1352,
          1624,
          988,
          21,
          11,
          1,
          71,
          952,
          1070,
          986,
          984,
          495,
          930,
          1260,
          48,
          917,
          809,
          1994,
          573,
          1083,
          1014,
          1722,
          2121,
          1638
         ],
         "yaxis": "y"
        },
        {
         "hovertemplate": "top_pollutant=NO2<br>weekstart=%{x}<br>cases=%{y}<extra></extra>",
         "legendgroup": "NO2",
         "marker": {
          "color": "#EF553B",
          "symbol": "circle"
         },
         "mode": "markers",
         "name": "NO2",
         "orientation": "v",
         "showlegend": true,
         "type": "scatter",
         "x": [
          "2004-01-25T00:00:00",
          "2005-03-20T00:00:00",
          "2006-02-05T00:00:00",
          "2006-10-01T00:00:00",
          "2006-10-08T00:00:00",
          "2006-10-15T00:00:00",
          "2006-10-22T00:00:00",
          "2006-10-29T00:00:00",
          "2006-11-05T00:00:00",
          "2006-11-12T00:00:00",
          "2006-11-19T00:00:00",
          "2006-11-26T00:00:00",
          "2006-12-03T00:00:00",
          "2006-12-10T00:00:00",
          "2006-12-17T00:00:00",
          "2006-12-24T00:00:00",
          "2006-12-31T00:00:00",
          "2007-01-07T00:00:00",
          "2007-01-14T00:00:00",
          "2007-01-21T00:00:00",
          "2007-01-28T00:00:00",
          "2007-02-18T00:00:00",
          "2007-02-25T00:00:00",
          "2007-03-04T00:00:00",
          "2007-03-11T00:00:00",
          "2007-03-18T00:00:00",
          "2007-03-25T00:00:00"
         ],
         "xaxis": "x",
         "y": [
          622,
          480,
          1544,
          731,
          1584,
          1115,
          1152,
          1176,
          0,
          1347,
          688,
          393,
          2620,
          1079,
          1408,
          1577,
          493,
          1526,
          1704,
          1342,
          3032,
          1712,
          2043,
          2479,
          1747,
          1643,
          1522
         ],
         "yaxis": "y"
        },
        {
         "hovertemplate": "top_pollutant=Ozone<br>weekstart=%{x}<br>cases=%{y}<extra></extra>",
         "legendgroup": "Ozone",
         "marker": {
          "color": "#00cc96",
          "symbol": "circle"
         },
         "mode": "markers",
         "name": "Ozone",
         "orientation": "v",
         "showlegend": true,
         "type": "scatter",
         "x": [
          "2004-04-11T00:00:00",
          "2004-04-18T00:00:00",
          "2004-04-25T00:00:00",
          "2004-05-02T00:00:00",
          "2004-05-16T00:00:00",
          "2004-05-23T00:00:00",
          "2004-05-30T00:00:00",
          "2004-06-20T00:00:00",
          "2004-06-27T00:00:00",
          "2004-07-04T00:00:00",
          "2004-07-25T00:00:00",
          "2004-08-01T00:00:00",
          "2004-09-05T00:00:00",
          "2004-09-19T00:00:00",
          "2004-09-26T00:00:00",
          "2005-04-03T00:00:00",
          "2005-04-10T00:00:00",
          "2005-04-17T00:00:00",
          "2005-04-24T00:00:00",
          "2005-05-08T00:00:00",
          "2005-05-15T00:00:00",
          "2005-05-29T00:00:00",
          "2005-06-05T00:00:00",
          "2005-06-12T00:00:00",
          "2005-06-19T00:00:00",
          "2005-06-26T00:00:00",
          "2005-07-03T00:00:00",
          "2005-07-17T00:00:00",
          "2005-07-24T00:00:00",
          "2005-07-31T00:00:00",
          "2005-08-21T00:00:00",
          "2005-08-28T00:00:00",
          "2005-09-04T00:00:00",
          "2006-04-02T00:00:00",
          "2006-04-09T00:00:00",
          "2006-04-16T00:00:00",
          "2006-04-23T00:00:00",
          "2006-04-30T00:00:00",
          "2006-05-07T00:00:00",
          "2006-05-14T00:00:00",
          "2006-05-21T00:00:00",
          "2006-05-28T00:00:00",
          "2006-06-04T00:00:00",
          "2006-06-11T00:00:00",
          "2006-06-18T00:00:00",
          "2006-06-25T00:00:00",
          "2006-07-02T00:00:00",
          "2006-07-09T00:00:00",
          "2006-07-16T00:00:00",
          "2006-07-23T00:00:00",
          "2006-07-30T00:00:00",
          "2006-08-06T00:00:00",
          "2006-08-13T00:00:00",
          "2006-08-20T00:00:00",
          "2006-08-27T00:00:00",
          "2006-09-03T00:00:00",
          "2006-09-10T00:00:00",
          "2006-09-17T00:00:00",
          "2006-09-24T00:00:00",
          "2007-04-01T00:00:00",
          "2007-04-08T00:00:00",
          "2007-04-15T00:00:00",
          "2007-04-22T00:00:00",
          "2007-04-29T00:00:00",
          "2007-05-06T00:00:00",
          "2007-05-13T00:00:00",
          "2007-05-20T00:00:00",
          "2007-05-27T00:00:00",
          "2007-06-03T00:00:00",
          "2007-06-10T00:00:00",
          "2007-06-17T00:00:00",
          "2007-06-24T00:00:00",
          "2007-07-01T00:00:00",
          "2007-07-08T00:00:00",
          "2007-07-15T00:00:00",
          "2007-07-22T00:00:00",
          "2007-07-29T00:00:00",
          "2007-08-05T00:00:00",
          "2007-08-12T00:00:00",
          "2007-08-19T00:00:00",
          "2007-08-26T00:00:00",
          "2007-09-02T00:00:00",
          "2007-09-09T00:00:00",
          "2007-09-16T00:00:00",
          "2007-09-23T00:00:00",
          "2008-04-13T00:00:00",
          "2008-04-20T00:00:00",
          "2008-04-27T00:00:00",
          "2008-05-04T00:00:00",
          "2008-05-11T00:00:00",
          "2008-05-18T00:00:00",
          "2008-05-25T00:00:00",
          "2008-06-01T00:00:00",
          "2008-06-08T00:00:00",
          "2008-06-15T00:00:00",
          "2008-06-22T00:00:00",
          "2008-06-29T00:00:00",
          "2008-07-06T00:00:00",
          "2008-07-13T00:00:00",
          "2008-07-27T00:00:00",
          "2008-08-03T00:00:00",
          "2008-08-10T00:00:00",
          "2008-08-17T00:00:00",
          "2008-08-24T00:00:00",
          "2008-08-31T00:00:00",
          "2008-09-14T00:00:00",
          "2009-03-29T00:00:00",
          "2009-04-05T00:00:00",
          "2009-04-12T00:00:00",
          "2009-04-19T00:00:00",
          "2009-12-13T00:00:00",
          "2009-12-20T00:00:00",
          "2009-12-27T00:00:00",
          "2010-01-03T00:00:00",
          "2010-01-10T00:00:00",
          "2010-01-17T00:00:00",
          "2010-01-24T00:00:00",
          "2010-01-31T00:00:00",
          "2010-02-07T00:00:00",
          "2010-02-14T00:00:00",
          "2010-02-21T00:00:00",
          "2010-02-28T00:00:00",
          "2010-03-07T00:00:00",
          "2010-03-14T00:00:00",
          "2010-03-21T00:00:00",
          "2010-03-28T00:00:00",
          "2010-04-04T00:00:00",
          "2010-04-11T00:00:00",
          "2010-04-18T00:00:00",
          "2010-04-25T00:00:00",
          "2010-05-02T00:00:00",
          "2010-05-09T00:00:00",
          "2010-05-16T00:00:00",
          "2010-05-23T00:00:00",
          "2010-05-30T00:00:00",
          "2010-06-06T00:00:00",
          "2010-06-13T00:00:00",
          "2010-06-20T00:00:00",
          "2010-06-27T00:00:00",
          "2010-07-04T00:00:00",
          "2010-07-11T00:00:00",
          "2010-07-18T00:00:00",
          "2010-07-25T00:00:00",
          "2010-08-01T00:00:00",
          "2010-08-08T00:00:00",
          "2010-08-15T00:00:00",
          "2010-08-22T00:00:00",
          "2010-08-29T00:00:00",
          "2010-09-05T00:00:00",
          "2010-09-12T00:00:00",
          "2010-09-19T00:00:00",
          "2010-09-26T00:00:00",
          "2010-10-03T00:00:00",
          "2010-10-10T00:00:00",
          "2010-10-17T00:00:00",
          "2010-10-24T00:00:00",
          "2010-10-31T00:00:00",
          "2010-11-07T00:00:00",
          "2010-11-14T00:00:00",
          "2010-11-21T00:00:00",
          "2010-11-28T00:00:00",
          "2010-12-05T00:00:00",
          "2010-12-12T00:00:00",
          "2010-12-19T00:00:00",
          "2010-12-26T00:00:00",
          "2011-02-13T00:00:00",
          "2011-03-20T00:00:00",
          "2011-03-27T00:00:00",
          "2011-04-10T00:00:00",
          "2011-04-17T00:00:00",
          "2011-04-24T00:00:00",
          "2011-05-01T00:00:00",
          "2011-05-08T00:00:00",
          "2011-05-15T00:00:00",
          "2011-05-22T00:00:00",
          "2011-05-29T00:00:00",
          "2011-06-05T00:00:00",
          "2011-06-12T00:00:00",
          "2011-06-26T00:00:00",
          "2011-07-10T00:00:00",
          "2011-07-17T00:00:00",
          "2011-07-24T00:00:00",
          "2011-08-07T00:00:00",
          "2011-08-28T00:00:00",
          "2011-09-04T00:00:00",
          "2011-09-11T00:00:00",
          "2011-09-18T00:00:00",
          "2011-11-27T00:00:00",
          "2011-12-25T00:00:00",
          "2012-03-04T00:00:00",
          "2012-03-25T00:00:00",
          "2012-04-01T00:00:00",
          "2012-04-08T00:00:00",
          "2012-04-15T00:00:00",
          "2012-04-22T00:00:00",
          "2012-04-29T00:00:00",
          "2012-05-06T00:00:00",
          "2012-05-13T00:00:00",
          "2012-05-20T00:00:00",
          "2012-05-27T00:00:00",
          "2012-06-03T00:00:00",
          "2012-06-10T00:00:00",
          "2012-06-17T00:00:00",
          "2012-06-24T00:00:00",
          "2012-07-01T00:00:00",
          "2012-07-08T00:00:00",
          "2012-07-15T00:00:00",
          "2012-07-22T00:00:00",
          "2012-07-29T00:00:00",
          "2012-08-05T00:00:00",
          "2012-08-12T00:00:00",
          "2012-08-19T00:00:00",
          "2012-08-26T00:00:00",
          "2012-09-02T00:00:00",
          "2012-09-09T00:00:00",
          "2012-09-16T00:00:00",
          "2012-09-23T00:00:00",
          "2012-10-07T00:00:00",
          "2012-10-28T00:00:00",
          "2013-02-17T00:00:00",
          "2013-03-03T00:00:00",
          "2013-03-17T00:00:00",
          "2013-03-24T00:00:00",
          "2013-03-31T00:00:00",
          "2013-04-07T00:00:00",
          "2013-04-14T00:00:00",
          "2013-04-21T00:00:00",
          "2013-04-28T00:00:00",
          "2013-05-05T00:00:00",
          "2013-05-12T00:00:00",
          "2013-05-19T00:00:00",
          "2013-05-26T00:00:00",
          "2013-06-02T00:00:00",
          "2013-06-09T00:00:00",
          "2013-06-16T00:00:00",
          "2013-06-23T00:00:00",
          "2013-07-07T00:00:00",
          "2013-07-14T00:00:00",
          "2013-07-21T00:00:00",
          "2013-08-11T00:00:00",
          "2013-08-18T00:00:00",
          "2013-08-25T00:00:00",
          "2013-09-01T00:00:00",
          "2013-09-15T00:00:00",
          "2013-09-22T00:00:00",
          "2013-10-20T00:00:00",
          "2013-11-17T00:00:00",
          "2013-12-29T00:00:00",
          "2014-02-16T00:00:00",
          "2014-03-30T00:00:00",
          "2014-04-06T00:00:00",
          "2014-04-13T00:00:00",
          "2014-04-20T00:00:00",
          "2014-04-27T00:00:00",
          "2014-05-04T00:00:00",
          "2014-05-11T00:00:00",
          "2014-05-18T00:00:00",
          "2014-05-25T00:00:00",
          "2014-06-01T00:00:00",
          "2014-06-08T00:00:00",
          "2014-06-15T00:00:00",
          "2014-06-29T00:00:00",
          "2014-07-06T00:00:00",
          "2014-07-20T00:00:00",
          "2014-08-10T00:00:00",
          "2014-09-07T00:00:00",
          "2015-01-04T00:00:00",
          "2015-02-08T00:00:00",
          "2015-02-15T00:00:00",
          "2015-03-15T00:00:00",
          "2015-03-22T00:00:00",
          "2015-03-29T00:00:00",
          "2015-04-19T00:00:00",
          "2015-04-26T00:00:00",
          "2015-05-03T00:00:00",
          "2015-05-10T00:00:00",
          "2015-05-17T00:00:00",
          "2015-05-24T00:00:00",
          "2015-05-31T00:00:00",
          "2015-06-14T00:00:00",
          "2015-06-21T00:00:00",
          "2015-06-28T00:00:00",
          "2015-07-12T00:00:00",
          "2015-07-19T00:00:00",
          "2015-07-26T00:00:00",
          "2015-08-02T00:00:00",
          "2015-08-09T00:00:00",
          "2015-08-16T00:00:00",
          "2015-09-06T00:00:00",
          "2015-09-13T00:00:00",
          "2015-09-27T00:00:00",
          "2015-11-15T00:00:00",
          "2015-12-13T00:00:00",
          "2015-12-27T00:00:00",
          "2016-02-07T00:00:00",
          "2016-02-14T00:00:00",
          "2016-02-21T00:00:00",
          "2016-02-28T00:00:00",
          "2016-03-13T00:00:00",
          "2016-03-20T00:00:00",
          "2016-03-27T00:00:00",
          "2016-04-03T00:00:00",
          "2016-04-10T00:00:00",
          "2016-04-17T00:00:00",
          "2016-04-24T00:00:00",
          "2016-05-01T00:00:00",
          "2016-05-08T00:00:00",
          "2016-05-15T00:00:00",
          "2016-05-22T00:00:00",
          "2016-05-29T00:00:00",
          "2016-06-05T00:00:00",
          "2016-06-12T00:00:00",
          "2016-06-19T00:00:00",
          "2016-06-26T00:00:00",
          "2016-07-03T00:00:00",
          "2016-07-10T00:00:00",
          "2016-07-17T00:00:00",
          "2016-07-24T00:00:00",
          "2016-07-31T00:00:00",
          "2016-08-07T00:00:00",
          "2016-08-14T00:00:00",
          "2016-08-21T00:00:00",
          "2016-09-11T00:00:00",
          "2016-09-25T00:00:00",
          "2016-12-25T00:00:00",
          "2017-01-29T00:00:00",
          "2017-02-12T00:00:00",
          "2017-02-26T00:00:00",
          "2017-03-05T00:00:00",
          "2017-03-12T00:00:00",
          "2017-03-19T00:00:00",
          "2017-03-26T00:00:00",
          "2017-04-02T00:00:00",
          "2017-04-09T00:00:00",
          "2017-04-16T00:00:00",
          "2017-04-23T00:00:00",
          "2017-04-30T00:00:00",
          "2017-05-07T00:00:00",
          "2017-05-14T00:00:00",
          "2017-05-21T00:00:00",
          "2017-05-28T00:00:00",
          "2017-06-04T00:00:00",
          "2017-06-11T00:00:00",
          "2017-06-18T00:00:00",
          "2017-06-25T00:00:00",
          "2017-07-02T00:00:00",
          "2017-07-09T00:00:00",
          "2017-07-16T00:00:00",
          "2017-07-23T00:00:00",
          "2017-07-30T00:00:00",
          "2017-08-06T00:00:00",
          "2017-08-13T00:00:00",
          "2017-08-20T00:00:00",
          "2017-09-10T00:00:00",
          "2017-09-17T00:00:00",
          "2017-09-24T00:00:00",
          "2017-10-01T00:00:00",
          "2017-10-08T00:00:00",
          "2017-10-15T00:00:00",
          "2017-10-22T00:00:00",
          "2018-02-25T00:00:00",
          "2018-03-04T00:00:00",
          "2018-03-11T00:00:00",
          "2018-03-18T00:00:00",
          "2018-03-25T00:00:00",
          "2018-04-01T00:00:00",
          "2018-04-08T00:00:00",
          "2018-04-15T00:00:00",
          "2018-04-22T00:00:00",
          "2018-04-29T00:00:00",
          "2018-05-06T00:00:00",
          "2018-05-13T00:00:00",
          "2018-05-20T00:00:00",
          "2018-05-27T00:00:00",
          "2018-06-03T00:00:00",
          "2018-06-10T00:00:00",
          "2018-06-17T00:00:00",
          "2018-06-24T00:00:00",
          "2018-07-01T00:00:00",
          "2018-07-08T00:00:00",
          "2018-07-15T00:00:00",
          "2018-07-29T00:00:00",
          "2018-08-26T00:00:00",
          "2018-09-02T00:00:00",
          "2018-09-09T00:00:00",
          "2018-09-16T00:00:00",
          "2018-09-23T00:00:00",
          "2018-09-30T00:00:00",
          "2018-10-14T00:00:00",
          "2018-10-21T00:00:00",
          "2018-12-02T00:00:00",
          "2018-12-16T00:00:00",
          "2018-12-23T00:00:00",
          "2019-01-06T00:00:00",
          "2019-01-20T00:00:00",
          "2019-01-27T00:00:00",
          "2019-02-24T00:00:00",
          "2019-03-03T00:00:00",
          "2019-03-10T00:00:00",
          "2019-03-24T00:00:00",
          "2019-03-31T00:00:00",
          "2019-04-07T00:00:00",
          "2019-04-14T00:00:00",
          "2019-04-21T00:00:00",
          "2019-04-28T00:00:00",
          "2019-05-05T00:00:00",
          "2019-05-12T00:00:00",
          "2019-05-19T00:00:00",
          "2019-05-26T00:00:00",
          "2019-06-02T00:00:00",
          "2019-06-09T00:00:00",
          "2019-06-16T00:00:00",
          "2019-06-23T00:00:00",
          "2019-06-30T00:00:00",
          "2019-07-07T00:00:00",
          "2019-07-14T00:00:00",
          "2019-07-21T00:00:00",
          "2019-07-28T00:00:00",
          "2019-08-04T00:00:00",
          "2019-08-11T00:00:00",
          "2019-08-18T00:00:00",
          "2019-08-25T00:00:00",
          "2019-09-15T00:00:00",
          "2019-09-29T00:00:00",
          "2019-10-06T00:00:00",
          "2019-10-13T00:00:00",
          "2019-10-20T00:00:00",
          "2019-10-27T00:00:00",
          "2019-11-03T00:00:00",
          "2019-11-10T00:00:00",
          "2019-11-17T00:00:00",
          "2019-11-24T00:00:00"
         ],
         "xaxis": "x",
         "y": [
          10,
          299,
          93,
          686,
          291,
          418,
          207,
          1,
          0,
          0,
          0,
          0,
          4,
          565,
          205,
          2,
          108,
          124,
          149,
          203,
          121,
          79,
          34,
          24,
          2,
          0,
          1,
          0,
          1,
          0,
          1,
          23,
          49,
          1125,
          623,
          638,
          661,
          694,
          799,
          998,
          671,
          189,
          198,
          86,
          2,
          7,
          13,
          0,
          0,
          1,
          4,
          0,
          0,
          0,
          0,
          35,
          566,
          700,
          1347,
          112,
          828,
          753,
          1069,
          897,
          1050,
          1035,
          791,
          1190,
          374,
          201,
          15,
          6,
          6,
          6,
          7,
          4,
          0,
          8,
          9,
          4,
          8,
          106,
          400,
          681,
          1616,
          710,
          974,
          1061,
          1009,
          1038,
          781,
          583,
          1386,
          73,
          26,
          22,
          0,
          1,
          4,
          4,
          7,
          2,
          6,
          9,
          92,
          647,
          1514,
          29,
          1510,
          1319,
          1726,
          401,
          9,
          1133,
          1493,
          1601,
          1733,
          2087,
          2629,
          1757,
          1990,
          1551,
          1510,
          1658,
          1326,
          1141,
          51,
          553,
          1029,
          1323,
          761,
          1357,
          1202,
          747,
          853,
          407,
          226,
          9,
          2,
          5,
          0,
          3,
          9,
          0,
          5,
          18,
          11,
          13,
          198,
          592,
          851,
          1088,
          789,
          999,
          1496,
          1097,
          1487,
          1359,
          1402,
          1015,
          1485,
          1819,
          1678,
          190,
          11,
          1981,
          2263,
          1743,
          631,
          1650,
          1715,
          1392,
          1558,
          1019,
          981,
          617,
          313,
          135,
          0,
          0,
          0,
          0,
          3,
          10,
          23,
          624,
          1244,
          1492,
          6,
          1842,
          1380,
          12,
          1658,
          1429,
          1599,
          1787,
          1241,
          184,
          237,
          659,
          1092,
          555,
          12,
          5,
          0,
          2,
          8,
          2,
          0,
          1,
          0,
          10,
          17,
          121,
          531,
          1050,
          1195,
          1140,
          1454,
          1574,
          2612,
          2197,
          1650,
          6,
          346,
          1492,
          2071,
          964,
          1295,
          900,
          200,
          235,
          619,
          45,
          12,
          9,
          0,
          6,
          7,
          9,
          9,
          19,
          122,
          620,
          216,
          1527,
          1319,
          39,
          1622,
          1046,
          59,
          761,
          1020,
          1318,
          1029,
          807,
          645,
          403,
          325,
          46,
          8,
          3,
          3,
          8,
          1,
          1088,
          2243,
          1619,
          1225,
          1414,
          1562,
          1163,
          1118,
          944,
          955,
          912,
          717,
          466,
          366,
          6,
          2,
          5,
          4,
          6,
          3,
          3,
          1,
          4,
          332,
          898,
          1097,
          1227,
          1198,
          6,
          1622,
          1510,
          1611,
          1560,
          1613,
          1856,
          1174,
          44,
          923,
          919,
          1093,
          981,
          848,
          860,
          709,
          444,
          298,
          87,
          14,
          7,
          7,
          8,
          6,
          0,
          34,
          32,
          31,
          26,
          714,
          1092,
          8,
          2296,
          2975,
          2217,
          2149,
          2162,
          1942,
          1376,
          40,
          878,
          912,
          1011,
          956,
          979,
          1020,
          652,
          461,
          258,
          97,
          6,
          5,
          1,
          3,
          4,
          0,
          3,
          7,
          4,
          51,
          813,
          1035,
          737,
          767,
          877,
          952,
          1029,
          1551,
          1514,
          2176,
          1476,
          1049,
          16,
          913,
          854,
          829,
          857,
          932,
          745,
          573,
          388,
          206,
          12,
          15,
          30,
          2,
          1,
          21,
          20,
          265,
          541,
          861,
          863,
          883,
          943,
          987,
          1110,
          1148,
          1189,
          62,
          1039,
          819,
          34,
          1254,
          1393,
          1654,
          1339,
          37,
          902,
          979,
          920,
          1109,
          1011,
          951,
          672,
          352,
          199,
          50,
          5,
          8,
          2,
          1,
          3,
          7,
          4,
          11,
          10,
          63,
          268,
          976,
          1011,
          1239,
          1119,
          994,
          1111,
          1458,
          1671,
          1466,
          638
         ],
         "yaxis": "y"
        },
        {
         "hovertemplate": "top_pollutant=CO<br>weekstart=%{x}<br>cases=%{y}<extra></extra>",
         "legendgroup": "CO",
         "marker": {
          "color": "#ab63fa",
          "symbol": "circle"
         },
         "mode": "markers",
         "name": "CO",
         "orientation": "v",
         "showlegend": true,
         "type": "scatter",
         "x": [
          "2007-02-04T00:00:00",
          "2007-09-30T00:00:00",
          "2007-10-07T00:00:00",
          "2007-10-14T00:00:00",
          "2007-10-21T00:00:00",
          "2007-10-28T00:00:00"
         ],
         "xaxis": "x",
         "y": [
          1056,
          774,
          869,
          797,
          1341,
          1786
         ],
         "yaxis": "y"
        }
       ],
       "layout": {
        "legend": {
         "title": {
          "text": "top_pollutant"
         },
         "tracegroupgap": 0
        },
        "margin": {
         "t": 60
        },
        "template": {
         "data": {
          "bar": [
           {
            "error_x": {
             "color": "#2a3f5f"
            },
            "error_y": {
             "color": "#2a3f5f"
            },
            "marker": {
             "line": {
              "color": "#E5ECF6",
              "width": 0.5
             },
             "pattern": {
              "fillmode": "overlay",
              "size": 10,
              "solidity": 0.2
             }
            },
            "type": "bar"
           }
          ],
          "barpolar": [
           {
            "marker": {
             "line": {
              "color": "#E5ECF6",
              "width": 0.5
             },
             "pattern": {
              "fillmode": "overlay",
              "size": 10,
              "solidity": 0.2
             }
            },
            "type": "barpolar"
           }
          ],
          "carpet": [
           {
            "aaxis": {
             "endlinecolor": "#2a3f5f",
             "gridcolor": "white",
             "linecolor": "white",
             "minorgridcolor": "white",
             "startlinecolor": "#2a3f5f"
            },
            "baxis": {
             "endlinecolor": "#2a3f5f",
             "gridcolor": "white",
             "linecolor": "white",
             "minorgridcolor": "white",
             "startlinecolor": "#2a3f5f"
            },
            "type": "carpet"
           }
          ],
          "choropleth": [
           {
            "colorbar": {
             "outlinewidth": 0,
             "ticks": ""
            },
            "type": "choropleth"
           }
          ],
          "contour": [
           {
            "colorbar": {
             "outlinewidth": 0,
             "ticks": ""
            },
            "colorscale": [
             [
              0,
              "#0d0887"
             ],
             [
              0.1111111111111111,
              "#46039f"
             ],
             [
              0.2222222222222222,
              "#7201a8"
             ],
             [
              0.3333333333333333,
              "#9c179e"
             ],
             [
              0.4444444444444444,
              "#bd3786"
             ],
             [
              0.5555555555555556,
              "#d8576b"
             ],
             [
              0.6666666666666666,
              "#ed7953"
             ],
             [
              0.7777777777777778,
              "#fb9f3a"
             ],
             [
              0.8888888888888888,
              "#fdca26"
             ],
             [
              1,
              "#f0f921"
             ]
            ],
            "type": "contour"
           }
          ],
          "contourcarpet": [
           {
            "colorbar": {
             "outlinewidth": 0,
             "ticks": ""
            },
            "type": "contourcarpet"
           }
          ],
          "heatmap": [
           {
            "colorbar": {
             "outlinewidth": 0,
             "ticks": ""
            },
            "colorscale": [
             [
              0,
              "#0d0887"
             ],
             [
              0.1111111111111111,
              "#46039f"
             ],
             [
              0.2222222222222222,
              "#7201a8"
             ],
             [
              0.3333333333333333,
              "#9c179e"
             ],
             [
              0.4444444444444444,
              "#bd3786"
             ],
             [
              0.5555555555555556,
              "#d8576b"
             ],
             [
              0.6666666666666666,
              "#ed7953"
             ],
             [
              0.7777777777777778,
              "#fb9f3a"
             ],
             [
              0.8888888888888888,
              "#fdca26"
             ],
             [
              1,
              "#f0f921"
             ]
            ],
            "type": "heatmap"
           }
          ],
          "heatmapgl": [
           {
            "colorbar": {
             "outlinewidth": 0,
             "ticks": ""
            },
            "colorscale": [
             [
              0,
              "#0d0887"
             ],
             [
              0.1111111111111111,
              "#46039f"
             ],
             [
              0.2222222222222222,
              "#7201a8"
             ],
             [
              0.3333333333333333,
              "#9c179e"
             ],
             [
              0.4444444444444444,
              "#bd3786"
             ],
             [
              0.5555555555555556,
              "#d8576b"
             ],
             [
              0.6666666666666666,
              "#ed7953"
             ],
             [
              0.7777777777777778,
              "#fb9f3a"
             ],
             [
              0.8888888888888888,
              "#fdca26"
             ],
             [
              1,
              "#f0f921"
             ]
            ],
            "type": "heatmapgl"
           }
          ],
          "histogram": [
           {
            "marker": {
             "pattern": {
              "fillmode": "overlay",
              "size": 10,
              "solidity": 0.2
             }
            },
            "type": "histogram"
           }
          ],
          "histogram2d": [
           {
            "colorbar": {
             "outlinewidth": 0,
             "ticks": ""
            },
            "colorscale": [
             [
              0,
              "#0d0887"
             ],
             [
              0.1111111111111111,
              "#46039f"
             ],
             [
              0.2222222222222222,
              "#7201a8"
             ],
             [
              0.3333333333333333,
              "#9c179e"
             ],
             [
              0.4444444444444444,
              "#bd3786"
             ],
             [
              0.5555555555555556,
              "#d8576b"
             ],
             [
              0.6666666666666666,
              "#ed7953"
             ],
             [
              0.7777777777777778,
              "#fb9f3a"
             ],
             [
              0.8888888888888888,
              "#fdca26"
             ],
             [
              1,
              "#f0f921"
             ]
            ],
            "type": "histogram2d"
           }
          ],
          "histogram2dcontour": [
           {
            "colorbar": {
             "outlinewidth": 0,
             "ticks": ""
            },
            "colorscale": [
             [
              0,
              "#0d0887"
             ],
             [
              0.1111111111111111,
              "#46039f"
             ],
             [
              0.2222222222222222,
              "#7201a8"
             ],
             [
              0.3333333333333333,
              "#9c179e"
             ],
             [
              0.4444444444444444,
              "#bd3786"
             ],
             [
              0.5555555555555556,
              "#d8576b"
             ],
             [
              0.6666666666666666,
              "#ed7953"
             ],
             [
              0.7777777777777778,
              "#fb9f3a"
             ],
             [
              0.8888888888888888,
              "#fdca26"
             ],
             [
              1,
              "#f0f921"
             ]
            ],
            "type": "histogram2dcontour"
           }
          ],
          "mesh3d": [
           {
            "colorbar": {
             "outlinewidth": 0,
             "ticks": ""
            },
            "type": "mesh3d"
           }
          ],
          "parcoords": [
           {
            "line": {
             "colorbar": {
              "outlinewidth": 0,
              "ticks": ""
             }
            },
            "type": "parcoords"
           }
          ],
          "pie": [
           {
            "automargin": true,
            "type": "pie"
           }
          ],
          "scatter": [
           {
            "marker": {
             "colorbar": {
              "outlinewidth": 0,
              "ticks": ""
             }
            },
            "type": "scatter"
           }
          ],
          "scatter3d": [
           {
            "line": {
             "colorbar": {
              "outlinewidth": 0,
              "ticks": ""
             }
            },
            "marker": {
             "colorbar": {
              "outlinewidth": 0,
              "ticks": ""
             }
            },
            "type": "scatter3d"
           }
          ],
          "scattercarpet": [
           {
            "marker": {
             "colorbar": {
              "outlinewidth": 0,
              "ticks": ""
             }
            },
            "type": "scattercarpet"
           }
          ],
          "scattergeo": [
           {
            "marker": {
             "colorbar": {
              "outlinewidth": 0,
              "ticks": ""
             }
            },
            "type": "scattergeo"
           }
          ],
          "scattergl": [
           {
            "marker": {
             "colorbar": {
              "outlinewidth": 0,
              "ticks": ""
             }
            },
            "type": "scattergl"
           }
          ],
          "scattermapbox": [
           {
            "marker": {
             "colorbar": {
              "outlinewidth": 0,
              "ticks": ""
             }
            },
            "type": "scattermapbox"
           }
          ],
          "scatterpolar": [
           {
            "marker": {
             "colorbar": {
              "outlinewidth": 0,
              "ticks": ""
             }
            },
            "type": "scatterpolar"
           }
          ],
          "scatterpolargl": [
           {
            "marker": {
             "colorbar": {
              "outlinewidth": 0,
              "ticks": ""
             }
            },
            "type": "scatterpolargl"
           }
          ],
          "scatterternary": [
           {
            "marker": {
             "colorbar": {
              "outlinewidth": 0,
              "ticks": ""
             }
            },
            "type": "scatterternary"
           }
          ],
          "surface": [
           {
            "colorbar": {
             "outlinewidth": 0,
             "ticks": ""
            },
            "colorscale": [
             [
              0,
              "#0d0887"
             ],
             [
              0.1111111111111111,
              "#46039f"
             ],
             [
              0.2222222222222222,
              "#7201a8"
             ],
             [
              0.3333333333333333,
              "#9c179e"
             ],
             [
              0.4444444444444444,
              "#bd3786"
             ],
             [
              0.5555555555555556,
              "#d8576b"
             ],
             [
              0.6666666666666666,
              "#ed7953"
             ],
             [
              0.7777777777777778,
              "#fb9f3a"
             ],
             [
              0.8888888888888888,
              "#fdca26"
             ],
             [
              1,
              "#f0f921"
             ]
            ],
            "type": "surface"
           }
          ],
          "table": [
           {
            "cells": {
             "fill": {
              "color": "#EBF0F8"
             },
             "line": {
              "color": "white"
             }
            },
            "header": {
             "fill": {
              "color": "#C8D4E3"
             },
             "line": {
              "color": "white"
             }
            },
            "type": "table"
           }
          ]
         },
         "layout": {
          "annotationdefaults": {
           "arrowcolor": "#2a3f5f",
           "arrowhead": 0,
           "arrowwidth": 1
          },
          "autotypenumbers": "strict",
          "coloraxis": {
           "colorbar": {
            "outlinewidth": 0,
            "ticks": ""
           }
          },
          "colorscale": {
           "diverging": [
            [
             0,
             "#8e0152"
            ],
            [
             0.1,
             "#c51b7d"
            ],
            [
             0.2,
             "#de77ae"
            ],
            [
             0.3,
             "#f1b6da"
            ],
            [
             0.4,
             "#fde0ef"
            ],
            [
             0.5,
             "#f7f7f7"
            ],
            [
             0.6,
             "#e6f5d0"
            ],
            [
             0.7,
             "#b8e186"
            ],
            [
             0.8,
             "#7fbc41"
            ],
            [
             0.9,
             "#4d9221"
            ],
            [
             1,
             "#276419"
            ]
           ],
           "sequential": [
            [
             0,
             "#0d0887"
            ],
            [
             0.1111111111111111,
             "#46039f"
            ],
            [
             0.2222222222222222,
             "#7201a8"
            ],
            [
             0.3333333333333333,
             "#9c179e"
            ],
            [
             0.4444444444444444,
             "#bd3786"
            ],
            [
             0.5555555555555556,
             "#d8576b"
            ],
            [
             0.6666666666666666,
             "#ed7953"
            ],
            [
             0.7777777777777778,
             "#fb9f3a"
            ],
            [
             0.8888888888888888,
             "#fdca26"
            ],
            [
             1,
             "#f0f921"
            ]
           ],
           "sequentialminus": [
            [
             0,
             "#0d0887"
            ],
            [
             0.1111111111111111,
             "#46039f"
            ],
            [
             0.2222222222222222,
             "#7201a8"
            ],
            [
             0.3333333333333333,
             "#9c179e"
            ],
            [
             0.4444444444444444,
             "#bd3786"
            ],
            [
             0.5555555555555556,
             "#d8576b"
            ],
            [
             0.6666666666666666,
             "#ed7953"
            ],
            [
             0.7777777777777778,
             "#fb9f3a"
            ],
            [
             0.8888888888888888,
             "#fdca26"
            ],
            [
             1,
             "#f0f921"
            ]
           ]
          },
          "colorway": [
           "#636efa",
           "#EF553B",
           "#00cc96",
           "#ab63fa",
           "#FFA15A",
           "#19d3f3",
           "#FF6692",
           "#B6E880",
           "#FF97FF",
           "#FECB52"
          ],
          "font": {
           "color": "#2a3f5f"
          },
          "geo": {
           "bgcolor": "white",
           "lakecolor": "white",
           "landcolor": "#E5ECF6",
           "showlakes": true,
           "showland": true,
           "subunitcolor": "white"
          },
          "hoverlabel": {
           "align": "left"
          },
          "hovermode": "closest",
          "mapbox": {
           "style": "light"
          },
          "paper_bgcolor": "white",
          "plot_bgcolor": "#E5ECF6",
          "polar": {
           "angularaxis": {
            "gridcolor": "white",
            "linecolor": "white",
            "ticks": ""
           },
           "bgcolor": "#E5ECF6",
           "radialaxis": {
            "gridcolor": "white",
            "linecolor": "white",
            "ticks": ""
           }
          },
          "scene": {
           "xaxis": {
            "backgroundcolor": "#E5ECF6",
            "gridcolor": "white",
            "gridwidth": 2,
            "linecolor": "white",
            "showbackground": true,
            "ticks": "",
            "zerolinecolor": "white"
           },
           "yaxis": {
            "backgroundcolor": "#E5ECF6",
            "gridcolor": "white",
            "gridwidth": 2,
            "linecolor": "white",
            "showbackground": true,
            "ticks": "",
            "zerolinecolor": "white"
           },
           "zaxis": {
            "backgroundcolor": "#E5ECF6",
            "gridcolor": "white",
            "gridwidth": 2,
            "linecolor": "white",
            "showbackground": true,
            "ticks": "",
            "zerolinecolor": "white"
           }
          },
          "shapedefaults": {
           "line": {
            "color": "#2a3f5f"
           }
          },
          "ternary": {
           "aaxis": {
            "gridcolor": "white",
            "linecolor": "white",
            "ticks": ""
           },
           "baxis": {
            "gridcolor": "white",
            "linecolor": "white",
            "ticks": ""
           },
           "bgcolor": "#E5ECF6",
           "caxis": {
            "gridcolor": "white",
            "linecolor": "white",
            "ticks": ""
           }
          },
          "title": {
           "x": 0.05
          },
          "xaxis": {
           "automargin": true,
           "gridcolor": "white",
           "linecolor": "white",
           "ticks": "",
           "title": {
            "standoff": 15
           },
           "zerolinecolor": "white",
           "zerolinewidth": 2
          },
          "yaxis": {
           "automargin": true,
           "gridcolor": "white",
           "linecolor": "white",
           "ticks": "",
           "title": {
            "standoff": 15
           },
           "zerolinecolor": "white",
           "zerolinewidth": 2
          }
         }
        },
        "xaxis": {
         "anchor": "y",
         "domain": [
          0,
          1
         ],
         "title": {
          "text": "weekstart"
         }
        },
        "yaxis": {
         "anchor": "x",
         "domain": [
          0,
          1
         ],
         "title": {
          "text": "cases"
         }
        }
       }
      }
     },
     "metadata": {},
     "output_type": "display_data"
    }
   ],
   "source": [
    "px.scatter(data_frame=df, x='weekstart', y='cases', color='top_pollutant')"
   ]
  },
  {
   "cell_type": "code",
   "execution_count": 65,
   "metadata": {},
   "outputs": [
    {
     "data": {
      "text/html": [
       "<div>\n",
       "<style scoped>\n",
       "    .dataframe tbody tr th:only-of-type {\n",
       "        vertical-align: middle;\n",
       "    }\n",
       "\n",
       "    .dataframe tbody tr th {\n",
       "        vertical-align: top;\n",
       "    }\n",
       "\n",
       "    .dataframe thead th {\n",
       "        text-align: right;\n",
       "    }\n",
       "</style>\n",
       "<table border=\"1\" class=\"dataframe\">\n",
       "  <thead>\n",
       "    <tr style=\"text-align: right;\">\n",
       "      <th></th>\n",
       "      <th>epiweek</th>\n",
       "      <th>weekstart</th>\n",
       "      <th>cases</th>\n",
       "      <th>edvisits</th>\n",
       "      <th>wind</th>\n",
       "      <th>precip</th>\n",
       "      <th>snow</th>\n",
       "      <th>temp</th>\n",
       "      <th>aqi</th>\n",
       "      <th>co</th>\n",
       "      <th>...</th>\n",
       "      <th>month_4</th>\n",
       "      <th>month_5</th>\n",
       "      <th>month_6</th>\n",
       "      <th>month_7</th>\n",
       "      <th>month_8</th>\n",
       "      <th>month_9</th>\n",
       "      <th>month_10</th>\n",
       "      <th>month_11</th>\n",
       "      <th>month_12</th>\n",
       "      <th>top_pollutant</th>\n",
       "    </tr>\n",
       "  </thead>\n",
       "  <tbody>\n",
       "    <tr>\n",
       "      <th>0</th>\n",
       "      <td>200401</td>\n",
       "      <td>2004-01-04</td>\n",
       "      <td>599</td>\n",
       "      <td>53.0</td>\n",
       "      <td>11.0</td>\n",
       "      <td>0.11</td>\n",
       "      <td>1.80</td>\n",
       "      <td>17.0</td>\n",
       "      <td>41.0</td>\n",
       "      <td>6.0</td>\n",
       "      <td>...</td>\n",
       "      <td>0</td>\n",
       "      <td>0</td>\n",
       "      <td>0</td>\n",
       "      <td>0</td>\n",
       "      <td>0</td>\n",
       "      <td>0</td>\n",
       "      <td>0</td>\n",
       "      <td>0</td>\n",
       "      <td>0</td>\n",
       "      <td>PM2.5</td>\n",
       "    </tr>\n",
       "    <tr>\n",
       "      <th>1</th>\n",
       "      <td>200402</td>\n",
       "      <td>2004-01-11</td>\n",
       "      <td>640</td>\n",
       "      <td>53.0</td>\n",
       "      <td>12.0</td>\n",
       "      <td>0.07</td>\n",
       "      <td>0.72</td>\n",
       "      <td>23.0</td>\n",
       "      <td>56.0</td>\n",
       "      <td>5.0</td>\n",
       "      <td>...</td>\n",
       "      <td>0</td>\n",
       "      <td>0</td>\n",
       "      <td>0</td>\n",
       "      <td>0</td>\n",
       "      <td>0</td>\n",
       "      <td>0</td>\n",
       "      <td>0</td>\n",
       "      <td>0</td>\n",
       "      <td>0</td>\n",
       "      <td>PM2.5</td>\n",
       "    </tr>\n",
       "    <tr>\n",
       "      <th>2</th>\n",
       "      <td>200403</td>\n",
       "      <td>2004-01-18</td>\n",
       "      <td>399</td>\n",
       "      <td>53.0</td>\n",
       "      <td>11.0</td>\n",
       "      <td>0.04</td>\n",
       "      <td>0.50</td>\n",
       "      <td>15.0</td>\n",
       "      <td>41.0</td>\n",
       "      <td>6.0</td>\n",
       "      <td>...</td>\n",
       "      <td>0</td>\n",
       "      <td>0</td>\n",
       "      <td>0</td>\n",
       "      <td>0</td>\n",
       "      <td>0</td>\n",
       "      <td>0</td>\n",
       "      <td>0</td>\n",
       "      <td>0</td>\n",
       "      <td>0</td>\n",
       "      <td>PM2.5</td>\n",
       "    </tr>\n",
       "    <tr>\n",
       "      <th>3</th>\n",
       "      <td>200404</td>\n",
       "      <td>2004-01-25</td>\n",
       "      <td>622</td>\n",
       "      <td>53.0</td>\n",
       "      <td>12.0</td>\n",
       "      <td>0.10</td>\n",
       "      <td>1.23</td>\n",
       "      <td>13.0</td>\n",
       "      <td>37.0</td>\n",
       "      <td>6.0</td>\n",
       "      <td>...</td>\n",
       "      <td>0</td>\n",
       "      <td>0</td>\n",
       "      <td>0</td>\n",
       "      <td>0</td>\n",
       "      <td>0</td>\n",
       "      <td>0</td>\n",
       "      <td>0</td>\n",
       "      <td>0</td>\n",
       "      <td>0</td>\n",
       "      <td>NO2</td>\n",
       "    </tr>\n",
       "    <tr>\n",
       "      <th>4</th>\n",
       "      <td>200405</td>\n",
       "      <td>2004-02-01</td>\n",
       "      <td>552</td>\n",
       "      <td>53.0</td>\n",
       "      <td>11.0</td>\n",
       "      <td>0.07</td>\n",
       "      <td>0.69</td>\n",
       "      <td>21.0</td>\n",
       "      <td>62.0</td>\n",
       "      <td>10.0</td>\n",
       "      <td>...</td>\n",
       "      <td>0</td>\n",
       "      <td>0</td>\n",
       "      <td>0</td>\n",
       "      <td>0</td>\n",
       "      <td>0</td>\n",
       "      <td>0</td>\n",
       "      <td>0</td>\n",
       "      <td>0</td>\n",
       "      <td>0</td>\n",
       "      <td>PM2.5</td>\n",
       "    </tr>\n",
       "  </tbody>\n",
       "</table>\n",
       "<p>5 rows × 31 columns</p>\n",
       "</div>"
      ],
      "text/plain": [
       "  epiweek  weekstart  cases  edvisits  wind  precip  snow  temp   aqi    co  \\\n",
       "0  200401 2004-01-04    599      53.0  11.0    0.11  1.80  17.0  41.0   6.0   \n",
       "1  200402 2004-01-11    640      53.0  12.0    0.07  0.72  23.0  56.0   5.0   \n",
       "2  200403 2004-01-18    399      53.0  11.0    0.04  0.50  15.0  41.0   6.0   \n",
       "3  200404 2004-01-25    622      53.0  12.0    0.10  1.23  13.0  37.0   6.0   \n",
       "4  200405 2004-02-01    552      53.0  11.0    0.07  0.69  21.0  62.0  10.0   \n",
       "\n",
       "   ...  month_4  month_5  month_6  month_7  month_8  month_9  month_10  \\\n",
       "0  ...        0        0        0        0        0        0         0   \n",
       "1  ...        0        0        0        0        0        0         0   \n",
       "2  ...        0        0        0        0        0        0         0   \n",
       "3  ...        0        0        0        0        0        0         0   \n",
       "4  ...        0        0        0        0        0        0         0   \n",
       "\n",
       "   month_11  month_12  top_pollutant  \n",
       "0         0         0          PM2.5  \n",
       "1         0         0          PM2.5  \n",
       "2         0         0          PM2.5  \n",
       "3         0         0            NO2  \n",
       "4         0         0          PM2.5  \n",
       "\n",
       "[5 rows x 31 columns]"
      ]
     },
     "execution_count": 65,
     "metadata": {},
     "output_type": "execute_result"
    }
   ],
   "source": [
    "df.head()"
   ]
  },
  {
   "cell_type": "code",
   "execution_count": 70,
   "metadata": {},
   "outputs": [
    {
     "data": {
      "text/html": [
       "<div>\n",
       "<style scoped>\n",
       "    .dataframe tbody tr th:only-of-type {\n",
       "        vertical-align: middle;\n",
       "    }\n",
       "\n",
       "    .dataframe tbody tr th {\n",
       "        vertical-align: top;\n",
       "    }\n",
       "\n",
       "    .dataframe thead th {\n",
       "        text-align: right;\n",
       "    }\n",
       "</style>\n",
       "<table border=\"1\" class=\"dataframe\">\n",
       "  <thead>\n",
       "    <tr style=\"text-align: right;\">\n",
       "      <th></th>\n",
       "      <th>top_pollutant</th>\n",
       "    </tr>\n",
       "  </thead>\n",
       "  <tbody>\n",
       "    <tr>\n",
       "      <th>PM2.5</th>\n",
       "      <td>42</td>\n",
       "    </tr>\n",
       "    <tr>\n",
       "      <th>Ozone</th>\n",
       "      <td>15</td>\n",
       "    </tr>\n",
       "    <tr>\n",
       "      <th>NO2</th>\n",
       "      <td>5</td>\n",
       "    </tr>\n",
       "  </tbody>\n",
       "</table>\n",
       "</div>"
      ],
      "text/plain": [
       "       top_pollutant\n",
       "PM2.5             42\n",
       "Ozone             15\n",
       "NO2                5"
      ]
     },
     "execution_count": 70,
     "metadata": {},
     "output_type": "execute_result"
    }
   ],
   "source": [
    "pd.DataFrame(df.loc[df['month_12']==1,]['top_pollutant'].value_counts())"
   ]
  },
  {
   "cell_type": "code",
   "execution_count": 74,
   "metadata": {},
   "outputs": [],
   "source": [
    "df['month'] = df['weekstart'].apply(lambda x: x.month)"
   ]
  },
  {
   "cell_type": "code",
   "execution_count": 75,
   "metadata": {},
   "outputs": [
    {
     "data": {
      "text/plain": [
       "0       1\n",
       "1       1\n",
       "2       1\n",
       "3       1\n",
       "4       2\n",
       "       ..\n",
       "763    11\n",
       "764    11\n",
       "765    12\n",
       "766    12\n",
       "767    12\n",
       "Name: month, Length: 768, dtype: int64"
      ]
     },
     "execution_count": 75,
     "metadata": {},
     "output_type": "execute_result"
    }
   ],
   "source": [
    "df['month']"
   ]
  },
  {
   "cell_type": "code",
   "execution_count": null,
   "metadata": {},
   "outputs": [],
   "source": [
    "df.pivot_table()"
   ]
  },
  {
   "cell_type": "code",
   "execution_count": 91,
   "metadata": {},
   "outputs": [],
   "source": [
    "top_pollutant_freqs = pd.DataFrame(df.groupby('month')['top_pollutant'].value_counts()).rename(columns = {'top_pollutant':'count'}).reset_index().pivot(columns = \"top_pollutant\", index='month',values='count')"
   ]
  },
  {
   "cell_type": "code",
   "execution_count": 93,
   "metadata": {},
   "outputs": [],
   "source": [
    "top_pollutant_freqs.to_csv('top pollutants .csv')"
   ]
  },
  {
   "cell_type": "code",
   "execution_count": 94,
   "metadata": {},
   "outputs": [
    {
     "data": {
      "text/html": [
       "<div>\n",
       "<style scoped>\n",
       "    .dataframe tbody tr th:only-of-type {\n",
       "        vertical-align: middle;\n",
       "    }\n",
       "\n",
       "    .dataframe tbody tr th {\n",
       "        vertical-align: top;\n",
       "    }\n",
       "\n",
       "    .dataframe thead th {\n",
       "        text-align: right;\n",
       "    }\n",
       "</style>\n",
       "<table border=\"1\" class=\"dataframe\">\n",
       "  <thead>\n",
       "    <tr style=\"text-align: right;\">\n",
       "      <th>top_pollutant</th>\n",
       "      <th>CO</th>\n",
       "      <th>NO2</th>\n",
       "      <th>Ozone</th>\n",
       "      <th>PM2.5</th>\n",
       "    </tr>\n",
       "    <tr>\n",
       "      <th>month</th>\n",
       "      <th></th>\n",
       "      <th></th>\n",
       "      <th></th>\n",
       "      <th></th>\n",
       "    </tr>\n",
       "  </thead>\n",
       "  <tbody>\n",
       "    <tr>\n",
       "      <th>1</th>\n",
       "      <td>NaN</td>\n",
       "      <td>5.0</td>\n",
       "      <td>10.0</td>\n",
       "      <td>48.0</td>\n",
       "    </tr>\n",
       "    <tr>\n",
       "      <th>2</th>\n",
       "      <td>1.0</td>\n",
       "      <td>3.0</td>\n",
       "      <td>17.0</td>\n",
       "      <td>37.0</td>\n",
       "    </tr>\n",
       "    <tr>\n",
       "      <th>3</th>\n",
       "      <td>NaN</td>\n",
       "      <td>5.0</td>\n",
       "      <td>32.0</td>\n",
       "      <td>33.0</td>\n",
       "    </tr>\n",
       "    <tr>\n",
       "      <th>4</th>\n",
       "      <td>NaN</td>\n",
       "      <td>NaN</td>\n",
       "      <td>63.0</td>\n",
       "      <td>5.0</td>\n",
       "    </tr>\n",
       "    <tr>\n",
       "      <th>5</th>\n",
       "      <td>NaN</td>\n",
       "      <td>NaN</td>\n",
       "      <td>63.0</td>\n",
       "      <td>3.0</td>\n",
       "    </tr>\n",
       "    <tr>\n",
       "      <th>6</th>\n",
       "      <td>NaN</td>\n",
       "      <td>NaN</td>\n",
       "      <td>58.0</td>\n",
       "      <td>6.0</td>\n",
       "    </tr>\n",
       "    <tr>\n",
       "      <th>7</th>\n",
       "      <td>NaN</td>\n",
       "      <td>NaN</td>\n",
       "      <td>57.0</td>\n",
       "      <td>11.0</td>\n",
       "    </tr>\n",
       "    <tr>\n",
       "      <th>8</th>\n",
       "      <td>NaN</td>\n",
       "      <td>NaN</td>\n",
       "      <td>45.0</td>\n",
       "      <td>20.0</td>\n",
       "    </tr>\n",
       "    <tr>\n",
       "      <th>9</th>\n",
       "      <td>1.0</td>\n",
       "      <td>NaN</td>\n",
       "      <td>43.0</td>\n",
       "      <td>21.0</td>\n",
       "    </tr>\n",
       "    <tr>\n",
       "      <th>10</th>\n",
       "      <td>4.0</td>\n",
       "      <td>5.0</td>\n",
       "      <td>18.0</td>\n",
       "      <td>31.0</td>\n",
       "    </tr>\n",
       "    <tr>\n",
       "      <th>11</th>\n",
       "      <td>NaN</td>\n",
       "      <td>4.0</td>\n",
       "      <td>11.0</td>\n",
       "      <td>46.0</td>\n",
       "    </tr>\n",
       "    <tr>\n",
       "      <th>12</th>\n",
       "      <td>NaN</td>\n",
       "      <td>5.0</td>\n",
       "      <td>15.0</td>\n",
       "      <td>42.0</td>\n",
       "    </tr>\n",
       "  </tbody>\n",
       "</table>\n",
       "</div>"
      ],
      "text/plain": [
       "top_pollutant   CO  NO2  Ozone  PM2.5\n",
       "month                                \n",
       "1              NaN  5.0   10.0   48.0\n",
       "2              1.0  3.0   17.0   37.0\n",
       "3              NaN  5.0   32.0   33.0\n",
       "4              NaN  NaN   63.0    5.0\n",
       "5              NaN  NaN   63.0    3.0\n",
       "6              NaN  NaN   58.0    6.0\n",
       "7              NaN  NaN   57.0   11.0\n",
       "8              NaN  NaN   45.0   20.0\n",
       "9              1.0  NaN   43.0   21.0\n",
       "10             4.0  5.0   18.0   31.0\n",
       "11             NaN  4.0   11.0   46.0\n",
       "12             NaN  5.0   15.0   42.0"
      ]
     },
     "execution_count": 94,
     "metadata": {},
     "output_type": "execute_result"
    }
   ],
   "source": [
    "top_pollutant_freqs"
   ]
  },
  {
   "cell_type": "code",
   "execution_count": 95,
   "metadata": {},
   "outputs": [],
   "source": [
    "top_pollutant_freqs = top_pollutant_freqs.fillna(value=0)"
   ]
  },
  {
   "cell_type": "code",
   "execution_count": 96,
   "metadata": {},
   "outputs": [
    {
     "data": {
      "text/html": [
       "<div>\n",
       "<style scoped>\n",
       "    .dataframe tbody tr th:only-of-type {\n",
       "        vertical-align: middle;\n",
       "    }\n",
       "\n",
       "    .dataframe tbody tr th {\n",
       "        vertical-align: top;\n",
       "    }\n",
       "\n",
       "    .dataframe thead th {\n",
       "        text-align: right;\n",
       "    }\n",
       "</style>\n",
       "<table border=\"1\" class=\"dataframe\">\n",
       "  <thead>\n",
       "    <tr style=\"text-align: right;\">\n",
       "      <th>top_pollutant</th>\n",
       "      <th>CO</th>\n",
       "      <th>NO2</th>\n",
       "      <th>Ozone</th>\n",
       "      <th>PM2.5</th>\n",
       "    </tr>\n",
       "    <tr>\n",
       "      <th>month</th>\n",
       "      <th></th>\n",
       "      <th></th>\n",
       "      <th></th>\n",
       "      <th></th>\n",
       "    </tr>\n",
       "  </thead>\n",
       "  <tbody>\n",
       "    <tr>\n",
       "      <th>1</th>\n",
       "      <td>0.0</td>\n",
       "      <td>5.0</td>\n",
       "      <td>10.0</td>\n",
       "      <td>48.0</td>\n",
       "    </tr>\n",
       "    <tr>\n",
       "      <th>2</th>\n",
       "      <td>1.0</td>\n",
       "      <td>3.0</td>\n",
       "      <td>17.0</td>\n",
       "      <td>37.0</td>\n",
       "    </tr>\n",
       "    <tr>\n",
       "      <th>3</th>\n",
       "      <td>0.0</td>\n",
       "      <td>5.0</td>\n",
       "      <td>32.0</td>\n",
       "      <td>33.0</td>\n",
       "    </tr>\n",
       "    <tr>\n",
       "      <th>4</th>\n",
       "      <td>0.0</td>\n",
       "      <td>0.0</td>\n",
       "      <td>63.0</td>\n",
       "      <td>5.0</td>\n",
       "    </tr>\n",
       "    <tr>\n",
       "      <th>5</th>\n",
       "      <td>0.0</td>\n",
       "      <td>0.0</td>\n",
       "      <td>63.0</td>\n",
       "      <td>3.0</td>\n",
       "    </tr>\n",
       "    <tr>\n",
       "      <th>6</th>\n",
       "      <td>0.0</td>\n",
       "      <td>0.0</td>\n",
       "      <td>58.0</td>\n",
       "      <td>6.0</td>\n",
       "    </tr>\n",
       "    <tr>\n",
       "      <th>7</th>\n",
       "      <td>0.0</td>\n",
       "      <td>0.0</td>\n",
       "      <td>57.0</td>\n",
       "      <td>11.0</td>\n",
       "    </tr>\n",
       "    <tr>\n",
       "      <th>8</th>\n",
       "      <td>0.0</td>\n",
       "      <td>0.0</td>\n",
       "      <td>45.0</td>\n",
       "      <td>20.0</td>\n",
       "    </tr>\n",
       "    <tr>\n",
       "      <th>9</th>\n",
       "      <td>1.0</td>\n",
       "      <td>0.0</td>\n",
       "      <td>43.0</td>\n",
       "      <td>21.0</td>\n",
       "    </tr>\n",
       "    <tr>\n",
       "      <th>10</th>\n",
       "      <td>4.0</td>\n",
       "      <td>5.0</td>\n",
       "      <td>18.0</td>\n",
       "      <td>31.0</td>\n",
       "    </tr>\n",
       "    <tr>\n",
       "      <th>11</th>\n",
       "      <td>0.0</td>\n",
       "      <td>4.0</td>\n",
       "      <td>11.0</td>\n",
       "      <td>46.0</td>\n",
       "    </tr>\n",
       "    <tr>\n",
       "      <th>12</th>\n",
       "      <td>0.0</td>\n",
       "      <td>5.0</td>\n",
       "      <td>15.0</td>\n",
       "      <td>42.0</td>\n",
       "    </tr>\n",
       "  </tbody>\n",
       "</table>\n",
       "</div>"
      ],
      "text/plain": [
       "top_pollutant   CO  NO2  Ozone  PM2.5\n",
       "month                                \n",
       "1              0.0  5.0   10.0   48.0\n",
       "2              1.0  3.0   17.0   37.0\n",
       "3              0.0  5.0   32.0   33.0\n",
       "4              0.0  0.0   63.0    5.0\n",
       "5              0.0  0.0   63.0    3.0\n",
       "6              0.0  0.0   58.0    6.0\n",
       "7              0.0  0.0   57.0   11.0\n",
       "8              0.0  0.0   45.0   20.0\n",
       "9              1.0  0.0   43.0   21.0\n",
       "10             4.0  5.0   18.0   31.0\n",
       "11             0.0  4.0   11.0   46.0\n",
       "12             0.0  5.0   15.0   42.0"
      ]
     },
     "execution_count": 96,
     "metadata": {},
     "output_type": "execute_result"
    }
   ],
   "source": [
    "top_pollutant_freqs"
   ]
  },
  {
   "cell_type": "code",
   "execution_count": 97,
   "metadata": {},
   "outputs": [
    {
     "data": {
      "text/html": [
       "<div>\n",
       "<style scoped>\n",
       "    .dataframe tbody tr th:only-of-type {\n",
       "        vertical-align: middle;\n",
       "    }\n",
       "\n",
       "    .dataframe tbody tr th {\n",
       "        vertical-align: top;\n",
       "    }\n",
       "\n",
       "    .dataframe thead th {\n",
       "        text-align: right;\n",
       "    }\n",
       "</style>\n",
       "<table border=\"1\" class=\"dataframe\">\n",
       "  <thead>\n",
       "    <tr style=\"text-align: right;\">\n",
       "      <th></th>\n",
       "      <th>epiweek</th>\n",
       "      <th>weekstart</th>\n",
       "      <th>cases</th>\n",
       "      <th>edvisits</th>\n",
       "      <th>wind</th>\n",
       "      <th>precip</th>\n",
       "      <th>snow</th>\n",
       "      <th>temp</th>\n",
       "      <th>aqi</th>\n",
       "      <th>co</th>\n",
       "      <th>...</th>\n",
       "      <th>month_5</th>\n",
       "      <th>month_6</th>\n",
       "      <th>month_7</th>\n",
       "      <th>month_8</th>\n",
       "      <th>month_9</th>\n",
       "      <th>month_10</th>\n",
       "      <th>month_11</th>\n",
       "      <th>month_12</th>\n",
       "      <th>top_pollutant</th>\n",
       "      <th>month</th>\n",
       "    </tr>\n",
       "  </thead>\n",
       "  <tbody>\n",
       "    <tr>\n",
       "      <th>0</th>\n",
       "      <td>200401</td>\n",
       "      <td>2004-01-04</td>\n",
       "      <td>599</td>\n",
       "      <td>53.0</td>\n",
       "      <td>11.0</td>\n",
       "      <td>0.11</td>\n",
       "      <td>1.80</td>\n",
       "      <td>17.0</td>\n",
       "      <td>41.0</td>\n",
       "      <td>6.0</td>\n",
       "      <td>...</td>\n",
       "      <td>0</td>\n",
       "      <td>0</td>\n",
       "      <td>0</td>\n",
       "      <td>0</td>\n",
       "      <td>0</td>\n",
       "      <td>0</td>\n",
       "      <td>0</td>\n",
       "      <td>0</td>\n",
       "      <td>PM2.5</td>\n",
       "      <td>1</td>\n",
       "    </tr>\n",
       "    <tr>\n",
       "      <th>1</th>\n",
       "      <td>200402</td>\n",
       "      <td>2004-01-11</td>\n",
       "      <td>640</td>\n",
       "      <td>53.0</td>\n",
       "      <td>12.0</td>\n",
       "      <td>0.07</td>\n",
       "      <td>0.72</td>\n",
       "      <td>23.0</td>\n",
       "      <td>56.0</td>\n",
       "      <td>5.0</td>\n",
       "      <td>...</td>\n",
       "      <td>0</td>\n",
       "      <td>0</td>\n",
       "      <td>0</td>\n",
       "      <td>0</td>\n",
       "      <td>0</td>\n",
       "      <td>0</td>\n",
       "      <td>0</td>\n",
       "      <td>0</td>\n",
       "      <td>PM2.5</td>\n",
       "      <td>1</td>\n",
       "    </tr>\n",
       "    <tr>\n",
       "      <th>2</th>\n",
       "      <td>200403</td>\n",
       "      <td>2004-01-18</td>\n",
       "      <td>399</td>\n",
       "      <td>53.0</td>\n",
       "      <td>11.0</td>\n",
       "      <td>0.04</td>\n",
       "      <td>0.50</td>\n",
       "      <td>15.0</td>\n",
       "      <td>41.0</td>\n",
       "      <td>6.0</td>\n",
       "      <td>...</td>\n",
       "      <td>0</td>\n",
       "      <td>0</td>\n",
       "      <td>0</td>\n",
       "      <td>0</td>\n",
       "      <td>0</td>\n",
       "      <td>0</td>\n",
       "      <td>0</td>\n",
       "      <td>0</td>\n",
       "      <td>PM2.5</td>\n",
       "      <td>1</td>\n",
       "    </tr>\n",
       "    <tr>\n",
       "      <th>3</th>\n",
       "      <td>200404</td>\n",
       "      <td>2004-01-25</td>\n",
       "      <td>622</td>\n",
       "      <td>53.0</td>\n",
       "      <td>12.0</td>\n",
       "      <td>0.10</td>\n",
       "      <td>1.23</td>\n",
       "      <td>13.0</td>\n",
       "      <td>37.0</td>\n",
       "      <td>6.0</td>\n",
       "      <td>...</td>\n",
       "      <td>0</td>\n",
       "      <td>0</td>\n",
       "      <td>0</td>\n",
       "      <td>0</td>\n",
       "      <td>0</td>\n",
       "      <td>0</td>\n",
       "      <td>0</td>\n",
       "      <td>0</td>\n",
       "      <td>NO2</td>\n",
       "      <td>1</td>\n",
       "    </tr>\n",
       "    <tr>\n",
       "      <th>4</th>\n",
       "      <td>200405</td>\n",
       "      <td>2004-02-01</td>\n",
       "      <td>552</td>\n",
       "      <td>53.0</td>\n",
       "      <td>11.0</td>\n",
       "      <td>0.07</td>\n",
       "      <td>0.69</td>\n",
       "      <td>21.0</td>\n",
       "      <td>62.0</td>\n",
       "      <td>10.0</td>\n",
       "      <td>...</td>\n",
       "      <td>0</td>\n",
       "      <td>0</td>\n",
       "      <td>0</td>\n",
       "      <td>0</td>\n",
       "      <td>0</td>\n",
       "      <td>0</td>\n",
       "      <td>0</td>\n",
       "      <td>0</td>\n",
       "      <td>PM2.5</td>\n",
       "      <td>2</td>\n",
       "    </tr>\n",
       "    <tr>\n",
       "      <th>...</th>\n",
       "      <td>...</td>\n",
       "      <td>...</td>\n",
       "      <td>...</td>\n",
       "      <td>...</td>\n",
       "      <td>...</td>\n",
       "      <td>...</td>\n",
       "      <td>...</td>\n",
       "      <td>...</td>\n",
       "      <td>...</td>\n",
       "      <td>...</td>\n",
       "      <td>...</td>\n",
       "      <td>...</td>\n",
       "      <td>...</td>\n",
       "      <td>...</td>\n",
       "      <td>...</td>\n",
       "      <td>...</td>\n",
       "      <td>...</td>\n",
       "      <td>...</td>\n",
       "      <td>...</td>\n",
       "      <td>...</td>\n",
       "      <td>...</td>\n",
       "    </tr>\n",
       "    <tr>\n",
       "      <th>763</th>\n",
       "      <td>201947</td>\n",
       "      <td>2019-11-17</td>\n",
       "      <td>1466</td>\n",
       "      <td>172.0</td>\n",
       "      <td>8.0</td>\n",
       "      <td>0.06</td>\n",
       "      <td>0.00</td>\n",
       "      <td>36.0</td>\n",
       "      <td>34.0</td>\n",
       "      <td>6.0</td>\n",
       "      <td>...</td>\n",
       "      <td>0</td>\n",
       "      <td>0</td>\n",
       "      <td>0</td>\n",
       "      <td>0</td>\n",
       "      <td>0</td>\n",
       "      <td>0</td>\n",
       "      <td>1</td>\n",
       "      <td>0</td>\n",
       "      <td>Ozone</td>\n",
       "      <td>11</td>\n",
       "    </tr>\n",
       "    <tr>\n",
       "      <th>764</th>\n",
       "      <td>201948</td>\n",
       "      <td>2019-11-24</td>\n",
       "      <td>638</td>\n",
       "      <td>227.0</td>\n",
       "      <td>11.0</td>\n",
       "      <td>0.23</td>\n",
       "      <td>0.00</td>\n",
       "      <td>38.0</td>\n",
       "      <td>32.0</td>\n",
       "      <td>7.0</td>\n",
       "      <td>...</td>\n",
       "      <td>0</td>\n",
       "      <td>0</td>\n",
       "      <td>0</td>\n",
       "      <td>0</td>\n",
       "      <td>0</td>\n",
       "      <td>0</td>\n",
       "      <td>1</td>\n",
       "      <td>0</td>\n",
       "      <td>Ozone</td>\n",
       "      <td>11</td>\n",
       "    </tr>\n",
       "    <tr>\n",
       "      <th>765</th>\n",
       "      <td>201949</td>\n",
       "      <td>2019-12-01</td>\n",
       "      <td>1722</td>\n",
       "      <td>248.0</td>\n",
       "      <td>9.0</td>\n",
       "      <td>0.13</td>\n",
       "      <td>0.64</td>\n",
       "      <td>33.0</td>\n",
       "      <td>26.0</td>\n",
       "      <td>8.0</td>\n",
       "      <td>...</td>\n",
       "      <td>0</td>\n",
       "      <td>0</td>\n",
       "      <td>0</td>\n",
       "      <td>0</td>\n",
       "      <td>0</td>\n",
       "      <td>0</td>\n",
       "      <td>0</td>\n",
       "      <td>1</td>\n",
       "      <td>PM2.5</td>\n",
       "      <td>12</td>\n",
       "    </tr>\n",
       "    <tr>\n",
       "      <th>766</th>\n",
       "      <td>201950</td>\n",
       "      <td>2019-12-08</td>\n",
       "      <td>2121</td>\n",
       "      <td>274.0</td>\n",
       "      <td>11.0</td>\n",
       "      <td>0.09</td>\n",
       "      <td>0.32</td>\n",
       "      <td>32.0</td>\n",
       "      <td>35.0</td>\n",
       "      <td>9.0</td>\n",
       "      <td>...</td>\n",
       "      <td>0</td>\n",
       "      <td>0</td>\n",
       "      <td>0</td>\n",
       "      <td>0</td>\n",
       "      <td>0</td>\n",
       "      <td>0</td>\n",
       "      <td>0</td>\n",
       "      <td>1</td>\n",
       "      <td>PM2.5</td>\n",
       "      <td>12</td>\n",
       "    </tr>\n",
       "    <tr>\n",
       "      <th>767</th>\n",
       "      <td>201951</td>\n",
       "      <td>2019-12-15</td>\n",
       "      <td>1638</td>\n",
       "      <td>319.0</td>\n",
       "      <td>9.0</td>\n",
       "      <td>0.02</td>\n",
       "      <td>0.46</td>\n",
       "      <td>27.0</td>\n",
       "      <td>40.0</td>\n",
       "      <td>6.0</td>\n",
       "      <td>...</td>\n",
       "      <td>0</td>\n",
       "      <td>0</td>\n",
       "      <td>0</td>\n",
       "      <td>0</td>\n",
       "      <td>0</td>\n",
       "      <td>0</td>\n",
       "      <td>0</td>\n",
       "      <td>1</td>\n",
       "      <td>PM2.5</td>\n",
       "      <td>12</td>\n",
       "    </tr>\n",
       "  </tbody>\n",
       "</table>\n",
       "<p>768 rows × 32 columns</p>\n",
       "</div>"
      ],
      "text/plain": [
       "    epiweek  weekstart  cases  edvisits  wind  precip  snow  temp   aqi    co  \\\n",
       "0    200401 2004-01-04    599      53.0  11.0    0.11  1.80  17.0  41.0   6.0   \n",
       "1    200402 2004-01-11    640      53.0  12.0    0.07  0.72  23.0  56.0   5.0   \n",
       "2    200403 2004-01-18    399      53.0  11.0    0.04  0.50  15.0  41.0   6.0   \n",
       "3    200404 2004-01-25    622      53.0  12.0    0.10  1.23  13.0  37.0   6.0   \n",
       "4    200405 2004-02-01    552      53.0  11.0    0.07  0.69  21.0  62.0  10.0   \n",
       "..      ...        ...    ...       ...   ...     ...   ...   ...   ...   ...   \n",
       "763  201947 2019-11-17   1466     172.0   8.0    0.06  0.00  36.0  34.0   6.0   \n",
       "764  201948 2019-11-24    638     227.0  11.0    0.23  0.00  38.0  32.0   7.0   \n",
       "765  201949 2019-12-01   1722     248.0   9.0    0.13  0.64  33.0  26.0   8.0   \n",
       "766  201950 2019-12-08   2121     274.0  11.0    0.09  0.32  32.0  35.0   9.0   \n",
       "767  201951 2019-12-15   1638     319.0   9.0    0.02  0.46  27.0  40.0   6.0   \n",
       "\n",
       "     ...  month_5  month_6  month_7  month_8  month_9  month_10  month_11  \\\n",
       "0    ...        0        0        0        0        0         0         0   \n",
       "1    ...        0        0        0        0        0         0         0   \n",
       "2    ...        0        0        0        0        0         0         0   \n",
       "3    ...        0        0        0        0        0         0         0   \n",
       "4    ...        0        0        0        0        0         0         0   \n",
       "..   ...      ...      ...      ...      ...      ...       ...       ...   \n",
       "763  ...        0        0        0        0        0         0         1   \n",
       "764  ...        0        0        0        0        0         0         1   \n",
       "765  ...        0        0        0        0        0         0         0   \n",
       "766  ...        0        0        0        0        0         0         0   \n",
       "767  ...        0        0        0        0        0         0         0   \n",
       "\n",
       "     month_12  top_pollutant  month  \n",
       "0           0          PM2.5      1  \n",
       "1           0          PM2.5      1  \n",
       "2           0          PM2.5      1  \n",
       "3           0            NO2      1  \n",
       "4           0          PM2.5      2  \n",
       "..        ...            ...    ...  \n",
       "763         0          Ozone     11  \n",
       "764         0          Ozone     11  \n",
       "765         1          PM2.5     12  \n",
       "766         1          PM2.5     12  \n",
       "767         1          PM2.5     12  \n",
       "\n",
       "[768 rows x 32 columns]"
      ]
     },
     "execution_count": 97,
     "metadata": {},
     "output_type": "execute_result"
    }
   ],
   "source": [
    "df"
   ]
  },
  {
   "cell_type": "code",
   "execution_count": 106,
   "metadata": {},
   "outputs": [
    {
     "data": {
      "application/vnd.plotly.v1+json": {
       "config": {
        "plotlyServerURL": "https://plot.ly"
       },
       "data": [
        {
         "alignmentgroup": "True",
         "hovertemplate": "variable=cases<br>month=%{x}<br>value=%{y}<extra></extra>",
         "legendgroup": "cases",
         "marker": {
          "color": "#636efa",
          "pattern": {
           "shape": ""
          }
         },
         "name": "cases",
         "offsetgroup": "cases",
         "orientation": "v",
         "showlegend": true,
         "textposition": "auto",
         "type": "bar",
         "x": [
          1,
          2,
          3,
          4,
          5,
          6,
          7,
          8,
          9,
          10,
          11,
          12
         ],
         "xaxis": "x",
         "y": [
          1441.984126984127,
          1671.2068965517242,
          1596.4,
          775.6764705882352,
          713.4848484848485,
          126.4375,
          4.544117647058823,
          28.076923076923077,
          707.4,
          1141.1724137931035,
          1088.672131147541,
          922.2096774193549
         ],
         "yaxis": "y"
        }
       ],
       "layout": {
        "barmode": "relative",
        "legend": {
         "title": {
          "text": "variable"
         },
         "tracegroupgap": 0
        },
        "margin": {
         "t": 60
        },
        "template": {
         "data": {
          "bar": [
           {
            "error_x": {
             "color": "#2a3f5f"
            },
            "error_y": {
             "color": "#2a3f5f"
            },
            "marker": {
             "line": {
              "color": "#E5ECF6",
              "width": 0.5
             },
             "pattern": {
              "fillmode": "overlay",
              "size": 10,
              "solidity": 0.2
             }
            },
            "type": "bar"
           }
          ],
          "barpolar": [
           {
            "marker": {
             "line": {
              "color": "#E5ECF6",
              "width": 0.5
             },
             "pattern": {
              "fillmode": "overlay",
              "size": 10,
              "solidity": 0.2
             }
            },
            "type": "barpolar"
           }
          ],
          "carpet": [
           {
            "aaxis": {
             "endlinecolor": "#2a3f5f",
             "gridcolor": "white",
             "linecolor": "white",
             "minorgridcolor": "white",
             "startlinecolor": "#2a3f5f"
            },
            "baxis": {
             "endlinecolor": "#2a3f5f",
             "gridcolor": "white",
             "linecolor": "white",
             "minorgridcolor": "white",
             "startlinecolor": "#2a3f5f"
            },
            "type": "carpet"
           }
          ],
          "choropleth": [
           {
            "colorbar": {
             "outlinewidth": 0,
             "ticks": ""
            },
            "type": "choropleth"
           }
          ],
          "contour": [
           {
            "colorbar": {
             "outlinewidth": 0,
             "ticks": ""
            },
            "colorscale": [
             [
              0,
              "#0d0887"
             ],
             [
              0.1111111111111111,
              "#46039f"
             ],
             [
              0.2222222222222222,
              "#7201a8"
             ],
             [
              0.3333333333333333,
              "#9c179e"
             ],
             [
              0.4444444444444444,
              "#bd3786"
             ],
             [
              0.5555555555555556,
              "#d8576b"
             ],
             [
              0.6666666666666666,
              "#ed7953"
             ],
             [
              0.7777777777777778,
              "#fb9f3a"
             ],
             [
              0.8888888888888888,
              "#fdca26"
             ],
             [
              1,
              "#f0f921"
             ]
            ],
            "type": "contour"
           }
          ],
          "contourcarpet": [
           {
            "colorbar": {
             "outlinewidth": 0,
             "ticks": ""
            },
            "type": "contourcarpet"
           }
          ],
          "heatmap": [
           {
            "colorbar": {
             "outlinewidth": 0,
             "ticks": ""
            },
            "colorscale": [
             [
              0,
              "#0d0887"
             ],
             [
              0.1111111111111111,
              "#46039f"
             ],
             [
              0.2222222222222222,
              "#7201a8"
             ],
             [
              0.3333333333333333,
              "#9c179e"
             ],
             [
              0.4444444444444444,
              "#bd3786"
             ],
             [
              0.5555555555555556,
              "#d8576b"
             ],
             [
              0.6666666666666666,
              "#ed7953"
             ],
             [
              0.7777777777777778,
              "#fb9f3a"
             ],
             [
              0.8888888888888888,
              "#fdca26"
             ],
             [
              1,
              "#f0f921"
             ]
            ],
            "type": "heatmap"
           }
          ],
          "heatmapgl": [
           {
            "colorbar": {
             "outlinewidth": 0,
             "ticks": ""
            },
            "colorscale": [
             [
              0,
              "#0d0887"
             ],
             [
              0.1111111111111111,
              "#46039f"
             ],
             [
              0.2222222222222222,
              "#7201a8"
             ],
             [
              0.3333333333333333,
              "#9c179e"
             ],
             [
              0.4444444444444444,
              "#bd3786"
             ],
             [
              0.5555555555555556,
              "#d8576b"
             ],
             [
              0.6666666666666666,
              "#ed7953"
             ],
             [
              0.7777777777777778,
              "#fb9f3a"
             ],
             [
              0.8888888888888888,
              "#fdca26"
             ],
             [
              1,
              "#f0f921"
             ]
            ],
            "type": "heatmapgl"
           }
          ],
          "histogram": [
           {
            "marker": {
             "pattern": {
              "fillmode": "overlay",
              "size": 10,
              "solidity": 0.2
             }
            },
            "type": "histogram"
           }
          ],
          "histogram2d": [
           {
            "colorbar": {
             "outlinewidth": 0,
             "ticks": ""
            },
            "colorscale": [
             [
              0,
              "#0d0887"
             ],
             [
              0.1111111111111111,
              "#46039f"
             ],
             [
              0.2222222222222222,
              "#7201a8"
             ],
             [
              0.3333333333333333,
              "#9c179e"
             ],
             [
              0.4444444444444444,
              "#bd3786"
             ],
             [
              0.5555555555555556,
              "#d8576b"
             ],
             [
              0.6666666666666666,
              "#ed7953"
             ],
             [
              0.7777777777777778,
              "#fb9f3a"
             ],
             [
              0.8888888888888888,
              "#fdca26"
             ],
             [
              1,
              "#f0f921"
             ]
            ],
            "type": "histogram2d"
           }
          ],
          "histogram2dcontour": [
           {
            "colorbar": {
             "outlinewidth": 0,
             "ticks": ""
            },
            "colorscale": [
             [
              0,
              "#0d0887"
             ],
             [
              0.1111111111111111,
              "#46039f"
             ],
             [
              0.2222222222222222,
              "#7201a8"
             ],
             [
              0.3333333333333333,
              "#9c179e"
             ],
             [
              0.4444444444444444,
              "#bd3786"
             ],
             [
              0.5555555555555556,
              "#d8576b"
             ],
             [
              0.6666666666666666,
              "#ed7953"
             ],
             [
              0.7777777777777778,
              "#fb9f3a"
             ],
             [
              0.8888888888888888,
              "#fdca26"
             ],
             [
              1,
              "#f0f921"
             ]
            ],
            "type": "histogram2dcontour"
           }
          ],
          "mesh3d": [
           {
            "colorbar": {
             "outlinewidth": 0,
             "ticks": ""
            },
            "type": "mesh3d"
           }
          ],
          "parcoords": [
           {
            "line": {
             "colorbar": {
              "outlinewidth": 0,
              "ticks": ""
             }
            },
            "type": "parcoords"
           }
          ],
          "pie": [
           {
            "automargin": true,
            "type": "pie"
           }
          ],
          "scatter": [
           {
            "marker": {
             "colorbar": {
              "outlinewidth": 0,
              "ticks": ""
             }
            },
            "type": "scatter"
           }
          ],
          "scatter3d": [
           {
            "line": {
             "colorbar": {
              "outlinewidth": 0,
              "ticks": ""
             }
            },
            "marker": {
             "colorbar": {
              "outlinewidth": 0,
              "ticks": ""
             }
            },
            "type": "scatter3d"
           }
          ],
          "scattercarpet": [
           {
            "marker": {
             "colorbar": {
              "outlinewidth": 0,
              "ticks": ""
             }
            },
            "type": "scattercarpet"
           }
          ],
          "scattergeo": [
           {
            "marker": {
             "colorbar": {
              "outlinewidth": 0,
              "ticks": ""
             }
            },
            "type": "scattergeo"
           }
          ],
          "scattergl": [
           {
            "marker": {
             "colorbar": {
              "outlinewidth": 0,
              "ticks": ""
             }
            },
            "type": "scattergl"
           }
          ],
          "scattermapbox": [
           {
            "marker": {
             "colorbar": {
              "outlinewidth": 0,
              "ticks": ""
             }
            },
            "type": "scattermapbox"
           }
          ],
          "scatterpolar": [
           {
            "marker": {
             "colorbar": {
              "outlinewidth": 0,
              "ticks": ""
             }
            },
            "type": "scatterpolar"
           }
          ],
          "scatterpolargl": [
           {
            "marker": {
             "colorbar": {
              "outlinewidth": 0,
              "ticks": ""
             }
            },
            "type": "scatterpolargl"
           }
          ],
          "scatterternary": [
           {
            "marker": {
             "colorbar": {
              "outlinewidth": 0,
              "ticks": ""
             }
            },
            "type": "scatterternary"
           }
          ],
          "surface": [
           {
            "colorbar": {
             "outlinewidth": 0,
             "ticks": ""
            },
            "colorscale": [
             [
              0,
              "#0d0887"
             ],
             [
              0.1111111111111111,
              "#46039f"
             ],
             [
              0.2222222222222222,
              "#7201a8"
             ],
             [
              0.3333333333333333,
              "#9c179e"
             ],
             [
              0.4444444444444444,
              "#bd3786"
             ],
             [
              0.5555555555555556,
              "#d8576b"
             ],
             [
              0.6666666666666666,
              "#ed7953"
             ],
             [
              0.7777777777777778,
              "#fb9f3a"
             ],
             [
              0.8888888888888888,
              "#fdca26"
             ],
             [
              1,
              "#f0f921"
             ]
            ],
            "type": "surface"
           }
          ],
          "table": [
           {
            "cells": {
             "fill": {
              "color": "#EBF0F8"
             },
             "line": {
              "color": "white"
             }
            },
            "header": {
             "fill": {
              "color": "#C8D4E3"
             },
             "line": {
              "color": "white"
             }
            },
            "type": "table"
           }
          ]
         },
         "layout": {
          "annotationdefaults": {
           "arrowcolor": "#2a3f5f",
           "arrowhead": 0,
           "arrowwidth": 1
          },
          "autotypenumbers": "strict",
          "coloraxis": {
           "colorbar": {
            "outlinewidth": 0,
            "ticks": ""
           }
          },
          "colorscale": {
           "diverging": [
            [
             0,
             "#8e0152"
            ],
            [
             0.1,
             "#c51b7d"
            ],
            [
             0.2,
             "#de77ae"
            ],
            [
             0.3,
             "#f1b6da"
            ],
            [
             0.4,
             "#fde0ef"
            ],
            [
             0.5,
             "#f7f7f7"
            ],
            [
             0.6,
             "#e6f5d0"
            ],
            [
             0.7,
             "#b8e186"
            ],
            [
             0.8,
             "#7fbc41"
            ],
            [
             0.9,
             "#4d9221"
            ],
            [
             1,
             "#276419"
            ]
           ],
           "sequential": [
            [
             0,
             "#0d0887"
            ],
            [
             0.1111111111111111,
             "#46039f"
            ],
            [
             0.2222222222222222,
             "#7201a8"
            ],
            [
             0.3333333333333333,
             "#9c179e"
            ],
            [
             0.4444444444444444,
             "#bd3786"
            ],
            [
             0.5555555555555556,
             "#d8576b"
            ],
            [
             0.6666666666666666,
             "#ed7953"
            ],
            [
             0.7777777777777778,
             "#fb9f3a"
            ],
            [
             0.8888888888888888,
             "#fdca26"
            ],
            [
             1,
             "#f0f921"
            ]
           ],
           "sequentialminus": [
            [
             0,
             "#0d0887"
            ],
            [
             0.1111111111111111,
             "#46039f"
            ],
            [
             0.2222222222222222,
             "#7201a8"
            ],
            [
             0.3333333333333333,
             "#9c179e"
            ],
            [
             0.4444444444444444,
             "#bd3786"
            ],
            [
             0.5555555555555556,
             "#d8576b"
            ],
            [
             0.6666666666666666,
             "#ed7953"
            ],
            [
             0.7777777777777778,
             "#fb9f3a"
            ],
            [
             0.8888888888888888,
             "#fdca26"
            ],
            [
             1,
             "#f0f921"
            ]
           ]
          },
          "colorway": [
           "#636efa",
           "#EF553B",
           "#00cc96",
           "#ab63fa",
           "#FFA15A",
           "#19d3f3",
           "#FF6692",
           "#B6E880",
           "#FF97FF",
           "#FECB52"
          ],
          "font": {
           "color": "#2a3f5f"
          },
          "geo": {
           "bgcolor": "white",
           "lakecolor": "white",
           "landcolor": "#E5ECF6",
           "showlakes": true,
           "showland": true,
           "subunitcolor": "white"
          },
          "hoverlabel": {
           "align": "left"
          },
          "hovermode": "closest",
          "mapbox": {
           "style": "light"
          },
          "paper_bgcolor": "white",
          "plot_bgcolor": "#E5ECF6",
          "polar": {
           "angularaxis": {
            "gridcolor": "white",
            "linecolor": "white",
            "ticks": ""
           },
           "bgcolor": "#E5ECF6",
           "radialaxis": {
            "gridcolor": "white",
            "linecolor": "white",
            "ticks": ""
           }
          },
          "scene": {
           "xaxis": {
            "backgroundcolor": "#E5ECF6",
            "gridcolor": "white",
            "gridwidth": 2,
            "linecolor": "white",
            "showbackground": true,
            "ticks": "",
            "zerolinecolor": "white"
           },
           "yaxis": {
            "backgroundcolor": "#E5ECF6",
            "gridcolor": "white",
            "gridwidth": 2,
            "linecolor": "white",
            "showbackground": true,
            "ticks": "",
            "zerolinecolor": "white"
           },
           "zaxis": {
            "backgroundcolor": "#E5ECF6",
            "gridcolor": "white",
            "gridwidth": 2,
            "linecolor": "white",
            "showbackground": true,
            "ticks": "",
            "zerolinecolor": "white"
           }
          },
          "shapedefaults": {
           "line": {
            "color": "#2a3f5f"
           }
          },
          "ternary": {
           "aaxis": {
            "gridcolor": "white",
            "linecolor": "white",
            "ticks": ""
           },
           "baxis": {
            "gridcolor": "white",
            "linecolor": "white",
            "ticks": ""
           },
           "bgcolor": "#E5ECF6",
           "caxis": {
            "gridcolor": "white",
            "linecolor": "white",
            "ticks": ""
           }
          },
          "title": {
           "x": 0.05
          },
          "xaxis": {
           "automargin": true,
           "gridcolor": "white",
           "linecolor": "white",
           "ticks": "",
           "title": {
            "standoff": 15
           },
           "zerolinecolor": "white",
           "zerolinewidth": 2
          },
          "yaxis": {
           "automargin": true,
           "gridcolor": "white",
           "linecolor": "white",
           "ticks": "",
           "title": {
            "standoff": 15
           },
           "zerolinecolor": "white",
           "zerolinewidth": 2
          }
         }
        },
        "xaxis": {
         "anchor": "y",
         "domain": [
          0,
          1
         ],
         "title": {
          "text": "month"
         }
        },
        "yaxis": {
         "anchor": "x",
         "domain": [
          0,
          1
         ],
         "title": {
          "text": "value"
         }
        }
       }
      }
     },
     "metadata": {},
     "output_type": "display_data"
    }
   ],
   "source": [
    "px.bar(df.groupby('month')['cases'].mean())"
   ]
  },
  {
   "cell_type": "code",
   "execution_count": 107,
   "metadata": {},
   "outputs": [
    {
     "data": {
      "text/plain": [
       "Index(['epiweek', 'weekstart', 'cases', 'edvisits', 'wind', 'precip', 'snow',\n",
       "       'temp', 'aqi', 'co', 'Ozone', 'pm10', 'pm25', 'no2', 'flu', 'cough',\n",
       "       'cold', 'year', 'month_1', 'month_2', 'month_3', 'month_4', 'month_5',\n",
       "       'month_6', 'month_7', 'month_8', 'month_9', 'month_10', 'month_11',\n",
       "       'month_12', 'top_pollutant', 'month'],\n",
       "      dtype='object')"
      ]
     },
     "execution_count": 107,
     "metadata": {},
     "output_type": "execute_result"
    }
   ],
   "source": [
    "df.columns"
   ]
  },
  {
   "cell_type": "code",
   "execution_count": 110,
   "metadata": {},
   "outputs": [
    {
     "data": {
      "application/vnd.plotly.v1+json": {
       "config": {
        "plotlyServerURL": "https://plot.ly"
       },
       "data": [
        {
         "hovertemplate": "variable=cases<br>year=%{x}<br>value=%{y}<extra></extra>",
         "legendgroup": "cases",
         "line": {
          "color": "#636efa",
          "dash": "solid"
         },
         "marker": {
          "symbol": "circle"
         },
         "mode": "lines",
         "name": "cases",
         "orientation": "v",
         "showlegend": true,
         "type": "scatter",
         "x": [
          2004,
          2005,
          2006,
          2007,
          2008,
          2009,
          2010,
          2011,
          2012,
          2013,
          2014,
          2015,
          2016,
          2017,
          2018,
          2019
         ],
         "xaxis": "x",
         "y": [
          274.0416666666667,
          280.55555555555554,
          837.25,
          941.6923076923077,
          1021.1176470588235,
          1701.2777777777778,
          918.25,
          1051.3461538461538,
          992.6538461538462,
          856.5102040816327,
          844.6734693877551,
          848.7884615384615,
          854.8846153846154,
          977.6274509803922,
          663.5777777777778,
          805.2083333333334
         ],
         "yaxis": "y"
        }
       ],
       "layout": {
        "legend": {
         "title": {
          "text": "variable"
         },
         "tracegroupgap": 0
        },
        "margin": {
         "t": 60
        },
        "template": {
         "data": {
          "bar": [
           {
            "error_x": {
             "color": "#2a3f5f"
            },
            "error_y": {
             "color": "#2a3f5f"
            },
            "marker": {
             "line": {
              "color": "#E5ECF6",
              "width": 0.5
             },
             "pattern": {
              "fillmode": "overlay",
              "size": 10,
              "solidity": 0.2
             }
            },
            "type": "bar"
           }
          ],
          "barpolar": [
           {
            "marker": {
             "line": {
              "color": "#E5ECF6",
              "width": 0.5
             },
             "pattern": {
              "fillmode": "overlay",
              "size": 10,
              "solidity": 0.2
             }
            },
            "type": "barpolar"
           }
          ],
          "carpet": [
           {
            "aaxis": {
             "endlinecolor": "#2a3f5f",
             "gridcolor": "white",
             "linecolor": "white",
             "minorgridcolor": "white",
             "startlinecolor": "#2a3f5f"
            },
            "baxis": {
             "endlinecolor": "#2a3f5f",
             "gridcolor": "white",
             "linecolor": "white",
             "minorgridcolor": "white",
             "startlinecolor": "#2a3f5f"
            },
            "type": "carpet"
           }
          ],
          "choropleth": [
           {
            "colorbar": {
             "outlinewidth": 0,
             "ticks": ""
            },
            "type": "choropleth"
           }
          ],
          "contour": [
           {
            "colorbar": {
             "outlinewidth": 0,
             "ticks": ""
            },
            "colorscale": [
             [
              0,
              "#0d0887"
             ],
             [
              0.1111111111111111,
              "#46039f"
             ],
             [
              0.2222222222222222,
              "#7201a8"
             ],
             [
              0.3333333333333333,
              "#9c179e"
             ],
             [
              0.4444444444444444,
              "#bd3786"
             ],
             [
              0.5555555555555556,
              "#d8576b"
             ],
             [
              0.6666666666666666,
              "#ed7953"
             ],
             [
              0.7777777777777778,
              "#fb9f3a"
             ],
             [
              0.8888888888888888,
              "#fdca26"
             ],
             [
              1,
              "#f0f921"
             ]
            ],
            "type": "contour"
           }
          ],
          "contourcarpet": [
           {
            "colorbar": {
             "outlinewidth": 0,
             "ticks": ""
            },
            "type": "contourcarpet"
           }
          ],
          "heatmap": [
           {
            "colorbar": {
             "outlinewidth": 0,
             "ticks": ""
            },
            "colorscale": [
             [
              0,
              "#0d0887"
             ],
             [
              0.1111111111111111,
              "#46039f"
             ],
             [
              0.2222222222222222,
              "#7201a8"
             ],
             [
              0.3333333333333333,
              "#9c179e"
             ],
             [
              0.4444444444444444,
              "#bd3786"
             ],
             [
              0.5555555555555556,
              "#d8576b"
             ],
             [
              0.6666666666666666,
              "#ed7953"
             ],
             [
              0.7777777777777778,
              "#fb9f3a"
             ],
             [
              0.8888888888888888,
              "#fdca26"
             ],
             [
              1,
              "#f0f921"
             ]
            ],
            "type": "heatmap"
           }
          ],
          "heatmapgl": [
           {
            "colorbar": {
             "outlinewidth": 0,
             "ticks": ""
            },
            "colorscale": [
             [
              0,
              "#0d0887"
             ],
             [
              0.1111111111111111,
              "#46039f"
             ],
             [
              0.2222222222222222,
              "#7201a8"
             ],
             [
              0.3333333333333333,
              "#9c179e"
             ],
             [
              0.4444444444444444,
              "#bd3786"
             ],
             [
              0.5555555555555556,
              "#d8576b"
             ],
             [
              0.6666666666666666,
              "#ed7953"
             ],
             [
              0.7777777777777778,
              "#fb9f3a"
             ],
             [
              0.8888888888888888,
              "#fdca26"
             ],
             [
              1,
              "#f0f921"
             ]
            ],
            "type": "heatmapgl"
           }
          ],
          "histogram": [
           {
            "marker": {
             "pattern": {
              "fillmode": "overlay",
              "size": 10,
              "solidity": 0.2
             }
            },
            "type": "histogram"
           }
          ],
          "histogram2d": [
           {
            "colorbar": {
             "outlinewidth": 0,
             "ticks": ""
            },
            "colorscale": [
             [
              0,
              "#0d0887"
             ],
             [
              0.1111111111111111,
              "#46039f"
             ],
             [
              0.2222222222222222,
              "#7201a8"
             ],
             [
              0.3333333333333333,
              "#9c179e"
             ],
             [
              0.4444444444444444,
              "#bd3786"
             ],
             [
              0.5555555555555556,
              "#d8576b"
             ],
             [
              0.6666666666666666,
              "#ed7953"
             ],
             [
              0.7777777777777778,
              "#fb9f3a"
             ],
             [
              0.8888888888888888,
              "#fdca26"
             ],
             [
              1,
              "#f0f921"
             ]
            ],
            "type": "histogram2d"
           }
          ],
          "histogram2dcontour": [
           {
            "colorbar": {
             "outlinewidth": 0,
             "ticks": ""
            },
            "colorscale": [
             [
              0,
              "#0d0887"
             ],
             [
              0.1111111111111111,
              "#46039f"
             ],
             [
              0.2222222222222222,
              "#7201a8"
             ],
             [
              0.3333333333333333,
              "#9c179e"
             ],
             [
              0.4444444444444444,
              "#bd3786"
             ],
             [
              0.5555555555555556,
              "#d8576b"
             ],
             [
              0.6666666666666666,
              "#ed7953"
             ],
             [
              0.7777777777777778,
              "#fb9f3a"
             ],
             [
              0.8888888888888888,
              "#fdca26"
             ],
             [
              1,
              "#f0f921"
             ]
            ],
            "type": "histogram2dcontour"
           }
          ],
          "mesh3d": [
           {
            "colorbar": {
             "outlinewidth": 0,
             "ticks": ""
            },
            "type": "mesh3d"
           }
          ],
          "parcoords": [
           {
            "line": {
             "colorbar": {
              "outlinewidth": 0,
              "ticks": ""
             }
            },
            "type": "parcoords"
           }
          ],
          "pie": [
           {
            "automargin": true,
            "type": "pie"
           }
          ],
          "scatter": [
           {
            "marker": {
             "colorbar": {
              "outlinewidth": 0,
              "ticks": ""
             }
            },
            "type": "scatter"
           }
          ],
          "scatter3d": [
           {
            "line": {
             "colorbar": {
              "outlinewidth": 0,
              "ticks": ""
             }
            },
            "marker": {
             "colorbar": {
              "outlinewidth": 0,
              "ticks": ""
             }
            },
            "type": "scatter3d"
           }
          ],
          "scattercarpet": [
           {
            "marker": {
             "colorbar": {
              "outlinewidth": 0,
              "ticks": ""
             }
            },
            "type": "scattercarpet"
           }
          ],
          "scattergeo": [
           {
            "marker": {
             "colorbar": {
              "outlinewidth": 0,
              "ticks": ""
             }
            },
            "type": "scattergeo"
           }
          ],
          "scattergl": [
           {
            "marker": {
             "colorbar": {
              "outlinewidth": 0,
              "ticks": ""
             }
            },
            "type": "scattergl"
           }
          ],
          "scattermapbox": [
           {
            "marker": {
             "colorbar": {
              "outlinewidth": 0,
              "ticks": ""
             }
            },
            "type": "scattermapbox"
           }
          ],
          "scatterpolar": [
           {
            "marker": {
             "colorbar": {
              "outlinewidth": 0,
              "ticks": ""
             }
            },
            "type": "scatterpolar"
           }
          ],
          "scatterpolargl": [
           {
            "marker": {
             "colorbar": {
              "outlinewidth": 0,
              "ticks": ""
             }
            },
            "type": "scatterpolargl"
           }
          ],
          "scatterternary": [
           {
            "marker": {
             "colorbar": {
              "outlinewidth": 0,
              "ticks": ""
             }
            },
            "type": "scatterternary"
           }
          ],
          "surface": [
           {
            "colorbar": {
             "outlinewidth": 0,
             "ticks": ""
            },
            "colorscale": [
             [
              0,
              "#0d0887"
             ],
             [
              0.1111111111111111,
              "#46039f"
             ],
             [
              0.2222222222222222,
              "#7201a8"
             ],
             [
              0.3333333333333333,
              "#9c179e"
             ],
             [
              0.4444444444444444,
              "#bd3786"
             ],
             [
              0.5555555555555556,
              "#d8576b"
             ],
             [
              0.6666666666666666,
              "#ed7953"
             ],
             [
              0.7777777777777778,
              "#fb9f3a"
             ],
             [
              0.8888888888888888,
              "#fdca26"
             ],
             [
              1,
              "#f0f921"
             ]
            ],
            "type": "surface"
           }
          ],
          "table": [
           {
            "cells": {
             "fill": {
              "color": "#EBF0F8"
             },
             "line": {
              "color": "white"
             }
            },
            "header": {
             "fill": {
              "color": "#C8D4E3"
             },
             "line": {
              "color": "white"
             }
            },
            "type": "table"
           }
          ]
         },
         "layout": {
          "annotationdefaults": {
           "arrowcolor": "#2a3f5f",
           "arrowhead": 0,
           "arrowwidth": 1
          },
          "autotypenumbers": "strict",
          "coloraxis": {
           "colorbar": {
            "outlinewidth": 0,
            "ticks": ""
           }
          },
          "colorscale": {
           "diverging": [
            [
             0,
             "#8e0152"
            ],
            [
             0.1,
             "#c51b7d"
            ],
            [
             0.2,
             "#de77ae"
            ],
            [
             0.3,
             "#f1b6da"
            ],
            [
             0.4,
             "#fde0ef"
            ],
            [
             0.5,
             "#f7f7f7"
            ],
            [
             0.6,
             "#e6f5d0"
            ],
            [
             0.7,
             "#b8e186"
            ],
            [
             0.8,
             "#7fbc41"
            ],
            [
             0.9,
             "#4d9221"
            ],
            [
             1,
             "#276419"
            ]
           ],
           "sequential": [
            [
             0,
             "#0d0887"
            ],
            [
             0.1111111111111111,
             "#46039f"
            ],
            [
             0.2222222222222222,
             "#7201a8"
            ],
            [
             0.3333333333333333,
             "#9c179e"
            ],
            [
             0.4444444444444444,
             "#bd3786"
            ],
            [
             0.5555555555555556,
             "#d8576b"
            ],
            [
             0.6666666666666666,
             "#ed7953"
            ],
            [
             0.7777777777777778,
             "#fb9f3a"
            ],
            [
             0.8888888888888888,
             "#fdca26"
            ],
            [
             1,
             "#f0f921"
            ]
           ],
           "sequentialminus": [
            [
             0,
             "#0d0887"
            ],
            [
             0.1111111111111111,
             "#46039f"
            ],
            [
             0.2222222222222222,
             "#7201a8"
            ],
            [
             0.3333333333333333,
             "#9c179e"
            ],
            [
             0.4444444444444444,
             "#bd3786"
            ],
            [
             0.5555555555555556,
             "#d8576b"
            ],
            [
             0.6666666666666666,
             "#ed7953"
            ],
            [
             0.7777777777777778,
             "#fb9f3a"
            ],
            [
             0.8888888888888888,
             "#fdca26"
            ],
            [
             1,
             "#f0f921"
            ]
           ]
          },
          "colorway": [
           "#636efa",
           "#EF553B",
           "#00cc96",
           "#ab63fa",
           "#FFA15A",
           "#19d3f3",
           "#FF6692",
           "#B6E880",
           "#FF97FF",
           "#FECB52"
          ],
          "font": {
           "color": "#2a3f5f"
          },
          "geo": {
           "bgcolor": "white",
           "lakecolor": "white",
           "landcolor": "#E5ECF6",
           "showlakes": true,
           "showland": true,
           "subunitcolor": "white"
          },
          "hoverlabel": {
           "align": "left"
          },
          "hovermode": "closest",
          "mapbox": {
           "style": "light"
          },
          "paper_bgcolor": "white",
          "plot_bgcolor": "#E5ECF6",
          "polar": {
           "angularaxis": {
            "gridcolor": "white",
            "linecolor": "white",
            "ticks": ""
           },
           "bgcolor": "#E5ECF6",
           "radialaxis": {
            "gridcolor": "white",
            "linecolor": "white",
            "ticks": ""
           }
          },
          "scene": {
           "xaxis": {
            "backgroundcolor": "#E5ECF6",
            "gridcolor": "white",
            "gridwidth": 2,
            "linecolor": "white",
            "showbackground": true,
            "ticks": "",
            "zerolinecolor": "white"
           },
           "yaxis": {
            "backgroundcolor": "#E5ECF6",
            "gridcolor": "white",
            "gridwidth": 2,
            "linecolor": "white",
            "showbackground": true,
            "ticks": "",
            "zerolinecolor": "white"
           },
           "zaxis": {
            "backgroundcolor": "#E5ECF6",
            "gridcolor": "white",
            "gridwidth": 2,
            "linecolor": "white",
            "showbackground": true,
            "ticks": "",
            "zerolinecolor": "white"
           }
          },
          "shapedefaults": {
           "line": {
            "color": "#2a3f5f"
           }
          },
          "ternary": {
           "aaxis": {
            "gridcolor": "white",
            "linecolor": "white",
            "ticks": ""
           },
           "baxis": {
            "gridcolor": "white",
            "linecolor": "white",
            "ticks": ""
           },
           "bgcolor": "#E5ECF6",
           "caxis": {
            "gridcolor": "white",
            "linecolor": "white",
            "ticks": ""
           }
          },
          "title": {
           "x": 0.05
          },
          "xaxis": {
           "automargin": true,
           "gridcolor": "white",
           "linecolor": "white",
           "ticks": "",
           "title": {
            "standoff": 15
           },
           "zerolinecolor": "white",
           "zerolinewidth": 2
          },
          "yaxis": {
           "automargin": true,
           "gridcolor": "white",
           "linecolor": "white",
           "ticks": "",
           "title": {
            "standoff": 15
           },
           "zerolinecolor": "white",
           "zerolinewidth": 2
          }
         }
        },
        "xaxis": {
         "anchor": "y",
         "domain": [
          0,
          1
         ],
         "title": {
          "text": "year"
         }
        },
        "yaxis": {
         "anchor": "x",
         "domain": [
          0,
          1
         ],
         "title": {
          "text": "value"
         }
        }
       }
      }
     },
     "metadata": {},
     "output_type": "display_data"
    }
   ],
   "source": [
    "px.line(df.groupby('year')['cases'].mean(), )"
   ]
  },
  {
   "cell_type": "code",
   "execution_count": null,
   "metadata": {},
   "outputs": [],
   "source": []
  }
 ],
 "metadata": {
  "kernelspec": {
   "display_name": "Python 3",
   "language": "python",
   "name": "python3"
  },
  "language_info": {
   "codemirror_mode": {
    "name": "ipython",
    "version": 3
   },
   "file_extension": ".py",
   "mimetype": "text/x-python",
   "name": "python",
   "nbconvert_exporter": "python",
   "pygments_lexer": "ipython3",
   "version": "3.11.5"
  }
 },
 "nbformat": 4,
 "nbformat_minor": 2
}
