{
 "cells": [
  {
   "cell_type": "markdown",
   "metadata": {},
   "source": [
    "## Haven't gotten far here\n",
    "\n",
    "I reached out to Delphi to see if they'll share their twitter data. It seems easier to acceess than the official Twitter API"
   ]
  },
  {
   "cell_type": "code",
   "execution_count": 18,
   "metadata": {},
   "outputs": [],
   "source": [
    "import pandas as pd \n",
    "import tweepy\n",
    "import configparser\n",
    "cfg = configparser.ConfigParser()\n",
    "cfg.read(\"secrets.ini\")\n",
    "my_access_token=cfg.get(\"default\", \"twitter_access_token\")\n",
    "my_access_secret=cfg.get('default','twitter_access_token_secret')\n",
    "my_bearer_token=cfg.get('default','twitter_bearer_token',raw=True)"
   ]
  },
  {
   "cell_type": "code",
   "execution_count": 19,
   "metadata": {},
   "outputs": [],
   "source": [
    "client = tweepy.Client(bearer_token=my_bearer_token)"
   ]
  },
  {
   "cell_type": "code",
   "execution_count": null,
   "metadata": {},
   "outputs": [],
   "source": [
    "client.get_tweets()"
   ]
  }
 ],
 "metadata": {
  "kernelspec": {
   "display_name": "Python 3",
   "language": "python",
   "name": "python3"
  },
  "language_info": {
   "codemirror_mode": {
    "name": "ipython",
    "version": 3
   },
   "file_extension": ".py",
   "mimetype": "text/x-python",
   "name": "python",
   "nbconvert_exporter": "python",
   "pygments_lexer": "ipython3",
   "version": "3.11.5"
  }
 },
 "nbformat": 4,
 "nbformat_minor": 2
}
