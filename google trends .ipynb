{
 "cells": [
  {
   "cell_type": "code",
   "execution_count": 1,
   "metadata": {},
   "outputs": [],
   "source": [
    "import pandas as pd"
   ]
  },
  {
   "cell_type": "code",
   "execution_count": 2,
   "metadata": {},
   "outputs": [],
   "source": [
    "df = pd.read_csv(\"C:\\\\Users\\\\ljens\\\\Downloads\\\\multiTimeline (1).csv\")"
   ]
  },
  {
   "cell_type": "code",
   "execution_count": 3,
   "metadata": {},
   "outputs": [
    {
     "data": {
      "text/html": [
       "<div>\n",
       "<style scoped>\n",
       "    .dataframe tbody tr th:only-of-type {\n",
       "        vertical-align: middle;\n",
       "    }\n",
       "\n",
       "    .dataframe tbody tr th {\n",
       "        vertical-align: top;\n",
       "    }\n",
       "\n",
       "    .dataframe thead th {\n",
       "        text-align: right;\n",
       "    }\n",
       "</style>\n",
       "<table border=\"1\" class=\"dataframe\">\n",
       "  <thead>\n",
       "    <tr style=\"text-align: right;\">\n",
       "      <th></th>\n",
       "      <th>Category: Cold &amp; Flu</th>\n",
       "    </tr>\n",
       "  </thead>\n",
       "  <tbody>\n",
       "    <tr>\n",
       "      <th>Month</th>\n",
       "      <td>Geo: Grand Rapids-Kalamazoo-Battle Creek MI</td>\n",
       "    </tr>\n",
       "    <tr>\n",
       "      <th>2004-01</th>\n",
       "      <td>19</td>\n",
       "    </tr>\n",
       "    <tr>\n",
       "      <th>2004-02</th>\n",
       "      <td>15</td>\n",
       "    </tr>\n",
       "    <tr>\n",
       "      <th>2004-03</th>\n",
       "      <td>0</td>\n",
       "    </tr>\n",
       "    <tr>\n",
       "      <th>2004-04</th>\n",
       "      <td>0</td>\n",
       "    </tr>\n",
       "  </tbody>\n",
       "</table>\n",
       "</div>"
      ],
      "text/plain": [
       "                                Category: Cold & Flu\n",
       "Month    Geo: Grand Rapids-Kalamazoo-Battle Creek MI\n",
       "2004-01                                           19\n",
       "2004-02                                           15\n",
       "2004-03                                            0\n",
       "2004-04                                            0"
      ]
     },
     "execution_count": 3,
     "metadata": {},
     "output_type": "execute_result"
    }
   ],
   "source": [
    "df.head()"
   ]
  },
  {
   "cell_type": "code",
   "execution_count": 4,
   "metadata": {},
   "outputs": [],
   "source": [
    "df = df[1:]"
   ]
  },
  {
   "cell_type": "code",
   "execution_count": 5,
   "metadata": {},
   "outputs": [
    {
     "data": {
      "text/html": [
       "<div>\n",
       "<style scoped>\n",
       "    .dataframe tbody tr th:only-of-type {\n",
       "        vertical-align: middle;\n",
       "    }\n",
       "\n",
       "    .dataframe tbody tr th {\n",
       "        vertical-align: top;\n",
       "    }\n",
       "\n",
       "    .dataframe thead th {\n",
       "        text-align: right;\n",
       "    }\n",
       "</style>\n",
       "<table border=\"1\" class=\"dataframe\">\n",
       "  <thead>\n",
       "    <tr style=\"text-align: right;\">\n",
       "      <th></th>\n",
       "      <th>Category: Cold &amp; Flu</th>\n",
       "    </tr>\n",
       "  </thead>\n",
       "  <tbody>\n",
       "    <tr>\n",
       "      <th>2004-01</th>\n",
       "      <td>19</td>\n",
       "    </tr>\n",
       "    <tr>\n",
       "      <th>2004-02</th>\n",
       "      <td>15</td>\n",
       "    </tr>\n",
       "    <tr>\n",
       "      <th>2004-03</th>\n",
       "      <td>0</td>\n",
       "    </tr>\n",
       "    <tr>\n",
       "      <th>2004-04</th>\n",
       "      <td>0</td>\n",
       "    </tr>\n",
       "    <tr>\n",
       "      <th>2004-05</th>\n",
       "      <td>24</td>\n",
       "    </tr>\n",
       "  </tbody>\n",
       "</table>\n",
       "</div>"
      ],
      "text/plain": [
       "        Category: Cold & Flu\n",
       "2004-01                   19\n",
       "2004-02                   15\n",
       "2004-03                    0\n",
       "2004-04                    0\n",
       "2004-05                   24"
      ]
     },
     "execution_count": 5,
     "metadata": {},
     "output_type": "execute_result"
    }
   ],
   "source": [
    "df.head()"
   ]
  },
  {
   "cell_type": "code",
   "execution_count": 6,
   "metadata": {},
   "outputs": [
    {
     "data": {
      "text/plain": [
       "Index(['2004-01', '2004-02', '2004-03', '2004-04', '2004-05', '2004-06',\n",
       "       '2004-07', '2004-08', '2004-09', '2004-10',\n",
       "       ...\n",
       "       '2022-11', '2022-12', '2023-01', '2023-02', '2023-03', '2023-04',\n",
       "       '2023-05', '2023-06', '2023-07', '2023-08'],\n",
       "      dtype='object', length=236)"
      ]
     },
     "execution_count": 6,
     "metadata": {},
     "output_type": "execute_result"
    }
   ],
   "source": [
    "df.index"
   ]
  },
  {
   "cell_type": "code",
   "execution_count": 7,
   "metadata": {},
   "outputs": [],
   "source": [
    "from datetime import datetime"
   ]
  },
  {
   "cell_type": "code",
   "execution_count": 8,
   "metadata": {},
   "outputs": [
    {
     "data": {
      "text/plain": [
       "0     2004-01-01\n",
       "1     2004-02-01\n",
       "2     2004-03-01\n",
       "3     2004-04-01\n",
       "4     2004-05-01\n",
       "         ...    \n",
       "231   2023-04-01\n",
       "232   2023-05-01\n",
       "233   2023-06-01\n",
       "234   2023-07-01\n",
       "235   2023-08-01\n",
       "Name: index, Length: 236, dtype: datetime64[ns]"
      ]
     },
     "execution_count": 8,
     "metadata": {},
     "output_type": "execute_result"
    }
   ],
   "source": [
    "pd.to_datetime(df.reset_index()['index'])"
   ]
  },
  {
   "cell_type": "code",
   "execution_count": 9,
   "metadata": {},
   "outputs": [
    {
     "data": {
      "text/html": [
       "<div>\n",
       "<style scoped>\n",
       "    .dataframe tbody tr th:only-of-type {\n",
       "        vertical-align: middle;\n",
       "    }\n",
       "\n",
       "    .dataframe tbody tr th {\n",
       "        vertical-align: top;\n",
       "    }\n",
       "\n",
       "    .dataframe thead th {\n",
       "        text-align: right;\n",
       "    }\n",
       "</style>\n",
       "<table border=\"1\" class=\"dataframe\">\n",
       "  <thead>\n",
       "    <tr style=\"text-align: right;\">\n",
       "      <th></th>\n",
       "      <th>Category: Cold &amp; Flu</th>\n",
       "    </tr>\n",
       "  </thead>\n",
       "  <tbody>\n",
       "    <tr>\n",
       "      <th>2004-01</th>\n",
       "      <td>19</td>\n",
       "    </tr>\n",
       "    <tr>\n",
       "      <th>2004-02</th>\n",
       "      <td>15</td>\n",
       "    </tr>\n",
       "    <tr>\n",
       "      <th>2004-03</th>\n",
       "      <td>0</td>\n",
       "    </tr>\n",
       "    <tr>\n",
       "      <th>2004-04</th>\n",
       "      <td>0</td>\n",
       "    </tr>\n",
       "    <tr>\n",
       "      <th>2004-05</th>\n",
       "      <td>24</td>\n",
       "    </tr>\n",
       "    <tr>\n",
       "      <th>...</th>\n",
       "      <td>...</td>\n",
       "    </tr>\n",
       "    <tr>\n",
       "      <th>2023-04</th>\n",
       "      <td>26</td>\n",
       "    </tr>\n",
       "    <tr>\n",
       "      <th>2023-05</th>\n",
       "      <td>23</td>\n",
       "    </tr>\n",
       "    <tr>\n",
       "      <th>2023-06</th>\n",
       "      <td>20</td>\n",
       "    </tr>\n",
       "    <tr>\n",
       "      <th>2023-07</th>\n",
       "      <td>18</td>\n",
       "    </tr>\n",
       "    <tr>\n",
       "      <th>2023-08</th>\n",
       "      <td>17</td>\n",
       "    </tr>\n",
       "  </tbody>\n",
       "</table>\n",
       "<p>236 rows × 1 columns</p>\n",
       "</div>"
      ],
      "text/plain": [
       "        Category: Cold & Flu\n",
       "2004-01                   19\n",
       "2004-02                   15\n",
       "2004-03                    0\n",
       "2004-04                    0\n",
       "2004-05                   24\n",
       "...                      ...\n",
       "2023-04                   26\n",
       "2023-05                   23\n",
       "2023-06                   20\n",
       "2023-07                   18\n",
       "2023-08                   17\n",
       "\n",
       "[236 rows x 1 columns]"
      ]
     },
     "execution_count": 9,
     "metadata": {},
     "output_type": "execute_result"
    }
   ],
   "source": [
    "df"
   ]
  },
  {
   "cell_type": "code",
   "execution_count": 10,
   "metadata": {},
   "outputs": [
    {
     "data": {
      "text/plain": [
       "datetime.datetime(2018, 8, 26, 0, 0)"
      ]
     },
     "execution_count": 10,
     "metadata": {},
     "output_type": "execute_result"
    }
   ],
   "source": [
    "datetime.fromisoformat(\"2018-08-26\")"
   ]
  },
  {
   "cell_type": "code",
   "execution_count": 11,
   "metadata": {},
   "outputs": [],
   "source": [
    "df.reset_index(inplace=True)"
   ]
  },
  {
   "cell_type": "code",
   "execution_count": 12,
   "metadata": {},
   "outputs": [],
   "source": [
    "df.rename(columns={'index':'Time'}, inplace=True)"
   ]
  },
  {
   "cell_type": "code",
   "execution_count": 13,
   "metadata": {},
   "outputs": [],
   "source": [
    "df['dt_Time'] = pd.to_datetime(df['Time'])"
   ]
  },
  {
   "cell_type": "code",
   "execution_count": 14,
   "metadata": {},
   "outputs": [],
   "source": [
    "df.drop(columns=\"Time\",inplace=True)"
   ]
  },
  {
   "cell_type": "code",
   "execution_count": 15,
   "metadata": {},
   "outputs": [],
   "source": [
    "df.rename(columns={'dt_Time':'Time'}, inplace=True)"
   ]
  },
  {
   "cell_type": "code",
   "execution_count": 16,
   "metadata": {},
   "outputs": [
    {
     "data": {
      "text/html": [
       "<div>\n",
       "<style scoped>\n",
       "    .dataframe tbody tr th:only-of-type {\n",
       "        vertical-align: middle;\n",
       "    }\n",
       "\n",
       "    .dataframe tbody tr th {\n",
       "        vertical-align: top;\n",
       "    }\n",
       "\n",
       "    .dataframe thead th {\n",
       "        text-align: right;\n",
       "    }\n",
       "</style>\n",
       "<table border=\"1\" class=\"dataframe\">\n",
       "  <thead>\n",
       "    <tr style=\"text-align: right;\">\n",
       "      <th></th>\n",
       "      <th>Category: Cold &amp; Flu</th>\n",
       "      <th>Time</th>\n",
       "    </tr>\n",
       "  </thead>\n",
       "  <tbody>\n",
       "    <tr>\n",
       "      <th>0</th>\n",
       "      <td>19</td>\n",
       "      <td>2004-01-01</td>\n",
       "    </tr>\n",
       "    <tr>\n",
       "      <th>1</th>\n",
       "      <td>15</td>\n",
       "      <td>2004-02-01</td>\n",
       "    </tr>\n",
       "    <tr>\n",
       "      <th>2</th>\n",
       "      <td>0</td>\n",
       "      <td>2004-03-01</td>\n",
       "    </tr>\n",
       "    <tr>\n",
       "      <th>3</th>\n",
       "      <td>0</td>\n",
       "      <td>2004-04-01</td>\n",
       "    </tr>\n",
       "    <tr>\n",
       "      <th>4</th>\n",
       "      <td>24</td>\n",
       "      <td>2004-05-01</td>\n",
       "    </tr>\n",
       "    <tr>\n",
       "      <th>...</th>\n",
       "      <td>...</td>\n",
       "      <td>...</td>\n",
       "    </tr>\n",
       "    <tr>\n",
       "      <th>231</th>\n",
       "      <td>26</td>\n",
       "      <td>2023-04-01</td>\n",
       "    </tr>\n",
       "    <tr>\n",
       "      <th>232</th>\n",
       "      <td>23</td>\n",
       "      <td>2023-05-01</td>\n",
       "    </tr>\n",
       "    <tr>\n",
       "      <th>233</th>\n",
       "      <td>20</td>\n",
       "      <td>2023-06-01</td>\n",
       "    </tr>\n",
       "    <tr>\n",
       "      <th>234</th>\n",
       "      <td>18</td>\n",
       "      <td>2023-07-01</td>\n",
       "    </tr>\n",
       "    <tr>\n",
       "      <th>235</th>\n",
       "      <td>17</td>\n",
       "      <td>2023-08-01</td>\n",
       "    </tr>\n",
       "  </tbody>\n",
       "</table>\n",
       "<p>236 rows × 2 columns</p>\n",
       "</div>"
      ],
      "text/plain": [
       "    Category: Cold & Flu       Time\n",
       "0                     19 2004-01-01\n",
       "1                     15 2004-02-01\n",
       "2                      0 2004-03-01\n",
       "3                      0 2004-04-01\n",
       "4                     24 2004-05-01\n",
       "..                   ...        ...\n",
       "231                   26 2023-04-01\n",
       "232                   23 2023-05-01\n",
       "233                   20 2023-06-01\n",
       "234                   18 2023-07-01\n",
       "235                   17 2023-08-01\n",
       "\n",
       "[236 rows x 2 columns]"
      ]
     },
     "execution_count": 16,
     "metadata": {},
     "output_type": "execute_result"
    }
   ],
   "source": [
    "df"
   ]
  },
  {
   "cell_type": "code",
   "execution_count": 17,
   "metadata": {},
   "outputs": [],
   "source": [
    "df['Month'] = df['Time'].apply(lambda x: x.month)"
   ]
  },
  {
   "cell_type": "code",
   "execution_count": 18,
   "metadata": {},
   "outputs": [],
   "source": [
    "df['Year'] = df['Time'].apply(lambda x: x.year)"
   ]
  },
  {
   "cell_type": "code",
   "execution_count": 19,
   "metadata": {},
   "outputs": [],
   "source": [
    "df.rename(columns={'Category: Cold & Flu':'count'}, inplace=True)"
   ]
  },
  {
   "cell_type": "code",
   "execution_count": 20,
   "metadata": {},
   "outputs": [],
   "source": [
    "df['count'] = df['count'].astype('int')"
   ]
  },
  {
   "cell_type": "code",
   "execution_count": 21,
   "metadata": {},
   "outputs": [
    {
     "data": {
      "text/plain": [
       "Year  Month\n",
       "2004  1        19\n",
       "      2        15\n",
       "      3         0\n",
       "      4         0\n",
       "      5        24\n",
       "               ..\n",
       "2023  4        26\n",
       "      5        23\n",
       "      6        20\n",
       "      7        18\n",
       "      8        17\n",
       "Name: count, Length: 236, dtype: int32"
      ]
     },
     "execution_count": 21,
     "metadata": {},
     "output_type": "execute_result"
    }
   ],
   "source": [
    "df.groupby(['Year','Month'])['count'].sum()"
   ]
  },
  {
   "cell_type": "code",
   "execution_count": 22,
   "metadata": {},
   "outputs": [],
   "source": [
    "import sklearn"
   ]
  },
  {
   "cell_type": "code",
   "execution_count": 23,
   "metadata": {},
   "outputs": [],
   "source": [
    "df = pd.DataFrame(df.groupby(['Year','Month'])['count'].sum())"
   ]
  },
  {
   "cell_type": "code",
   "execution_count": 24,
   "metadata": {},
   "outputs": [
    {
     "data": {
      "text/html": [
       "<div>\n",
       "<style scoped>\n",
       "    .dataframe tbody tr th:only-of-type {\n",
       "        vertical-align: middle;\n",
       "    }\n",
       "\n",
       "    .dataframe tbody tr th {\n",
       "        vertical-align: top;\n",
       "    }\n",
       "\n",
       "    .dataframe thead th {\n",
       "        text-align: right;\n",
       "    }\n",
       "</style>\n",
       "<table border=\"1\" class=\"dataframe\">\n",
       "  <thead>\n",
       "    <tr style=\"text-align: right;\">\n",
       "      <th></th>\n",
       "      <th></th>\n",
       "      <th>count</th>\n",
       "    </tr>\n",
       "    <tr>\n",
       "      <th>Year</th>\n",
       "      <th>Month</th>\n",
       "      <th></th>\n",
       "    </tr>\n",
       "  </thead>\n",
       "  <tbody>\n",
       "    <tr>\n",
       "      <th rowspan=\"5\" valign=\"top\">2004</th>\n",
       "      <th>1</th>\n",
       "      <td>19</td>\n",
       "    </tr>\n",
       "    <tr>\n",
       "      <th>2</th>\n",
       "      <td>15</td>\n",
       "    </tr>\n",
       "    <tr>\n",
       "      <th>3</th>\n",
       "      <td>0</td>\n",
       "    </tr>\n",
       "    <tr>\n",
       "      <th>4</th>\n",
       "      <td>0</td>\n",
       "    </tr>\n",
       "    <tr>\n",
       "      <th>5</th>\n",
       "      <td>24</td>\n",
       "    </tr>\n",
       "    <tr>\n",
       "      <th>...</th>\n",
       "      <th>...</th>\n",
       "      <td>...</td>\n",
       "    </tr>\n",
       "    <tr>\n",
       "      <th rowspan=\"5\" valign=\"top\">2023</th>\n",
       "      <th>4</th>\n",
       "      <td>26</td>\n",
       "    </tr>\n",
       "    <tr>\n",
       "      <th>5</th>\n",
       "      <td>23</td>\n",
       "    </tr>\n",
       "    <tr>\n",
       "      <th>6</th>\n",
       "      <td>20</td>\n",
       "    </tr>\n",
       "    <tr>\n",
       "      <th>7</th>\n",
       "      <td>18</td>\n",
       "    </tr>\n",
       "    <tr>\n",
       "      <th>8</th>\n",
       "      <td>17</td>\n",
       "    </tr>\n",
       "  </tbody>\n",
       "</table>\n",
       "<p>236 rows × 1 columns</p>\n",
       "</div>"
      ],
      "text/plain": [
       "            count\n",
       "Year Month       \n",
       "2004 1         19\n",
       "     2         15\n",
       "     3          0\n",
       "     4          0\n",
       "     5         24\n",
       "...           ...\n",
       "2023 4         26\n",
       "     5         23\n",
       "     6         20\n",
       "     7         18\n",
       "     8         17\n",
       "\n",
       "[236 rows x 1 columns]"
      ]
     },
     "execution_count": 24,
     "metadata": {},
     "output_type": "execute_result"
    }
   ],
   "source": [
    "df"
   ]
  },
  {
   "cell_type": "code",
   "execution_count": 25,
   "metadata": {},
   "outputs": [],
   "source": [
    "from sklearn import preprocessing"
   ]
  },
  {
   "cell_type": "code",
   "execution_count": 26,
   "metadata": {},
   "outputs": [
    {
     "data": {
      "text/plain": [
       "array([0.19, 0.15, 0.  , 0.  , 0.24, 0.09, 0.  , 0.23, 0.24, 0.28, 0.18,\n",
       "       0.29, 0.17, 0.28, 0.24, 0.08, 0.  , 0.15, 0.  , 0.07, 0.22, 0.53,\n",
       "       0.41, 0.29, 0.21, 0.15, 0.27, 0.08, 0.27, 0.23, 0.07, 0.12, 0.19,\n",
       "       0.12, 0.17, 0.24, 0.43, 0.31, 0.22, 0.21, 0.16, 0.12, 0.11, 0.05,\n",
       "       0.08, 0.16, 0.15, 0.17, 0.29, 0.3 , 0.23, 0.12, 0.12, 0.05, 0.06,\n",
       "       0.08, 0.12, 0.09, 0.21, 0.13, 0.17, 0.19, 0.12, 0.27, 0.17, 0.05,\n",
       "       0.08, 0.1 , 0.23, 0.58, 0.36, 0.13, 0.12, 0.11, 0.12, 0.08, 0.03,\n",
       "       0.07, 0.05, 0.06, 0.09, 0.1 , 0.05, 0.1 , 0.24, 0.28, 0.22, 0.22,\n",
       "       0.14, 0.08, 0.07, 0.1 , 0.14, 0.17, 0.26, 0.15, 0.23, 0.19, 0.14,\n",
       "       0.15, 0.14, 0.1 , 0.09, 0.13, 0.15, 0.15, 0.15, 0.27, 0.38, 0.24,\n",
       "       0.21, 0.19, 0.12, 0.1 , 0.1 , 0.11, 0.14, 0.18, 0.18, 0.22, 0.3 ,\n",
       "       0.2 , 0.21, 0.17, 0.1 , 0.09, 0.1 , 0.12, 0.16, 0.22, 0.16, 0.28,\n",
       "       0.23, 0.17, 0.17, 0.15, 0.09, 0.11, 0.08, 0.09, 0.11, 0.15, 0.15,\n",
       "       0.17, 0.32, 0.32, 0.31, 0.22, 0.18, 0.14, 0.12, 0.16, 0.23, 0.22,\n",
       "       0.25, 0.27, 0.36, 0.49, 0.38, 0.19, 0.19, 0.16, 0.13, 0.12, 0.26,\n",
       "       0.24, 0.29, 0.4 , 0.83, 0.66, 0.34, 0.23, 0.17, 0.16, 0.15, 0.18,\n",
       "       0.22, 0.27, 0.31, 0.4 , 0.38, 0.33, 0.43, 0.31, 0.21, 0.19, 0.15,\n",
       "       0.17, 0.25, 0.3 , 0.3 , 0.48, 0.58, 0.61, 1.  , 0.46, 0.28, 0.18,\n",
       "       0.28, 0.23, 0.21, 0.28, 0.3 , 0.25, 0.18, 0.2 , 0.19, 0.25, 0.23,\n",
       "       0.22, 0.22, 0.25, 0.32, 0.32, 0.39, 0.47, 0.42, 0.29, 0.37, 0.34,\n",
       "       0.3 , 0.22, 0.21, 0.21, 0.28, 0.31, 0.36, 0.67, 0.36, 0.35, 0.31,\n",
       "       0.26, 0.23, 0.2 , 0.18, 0.17])"
      ]
     },
     "execution_count": 26,
     "metadata": {},
     "output_type": "execute_result"
    }
   ],
   "source": [
    "preprocessing.minmax_scale(df['count'])"
   ]
  },
  {
   "cell_type": "code",
   "execution_count": 27,
   "metadata": {},
   "outputs": [],
   "source": [
    "dataset = df.copy()"
   ]
  },
  {
   "cell_type": "code",
   "execution_count": 28,
   "metadata": {},
   "outputs": [],
   "source": [
    "df['scale'] = preprocessing.minmax_scale(df['count'])"
   ]
  },
  {
   "cell_type": "code",
   "execution_count": 29,
   "metadata": {},
   "outputs": [],
   "source": [
    "dd = pd.read_csv(\"C:\\\\Users\\\\ljens\\\\OneDrive\\\\Documents\\\\MSU MPH\\\\Practicum\\\\older dates\\\\data.csv\")"
   ]
  },
  {
   "cell_type": "code",
   "execution_count": 30,
   "metadata": {},
   "outputs": [
    {
     "data": {
      "text/html": [
       "<div>\n",
       "<style scoped>\n",
       "    .dataframe tbody tr th:only-of-type {\n",
       "        vertical-align: middle;\n",
       "    }\n",
       "\n",
       "    .dataframe tbody tr th {\n",
       "        vertical-align: top;\n",
       "    }\n",
       "\n",
       "    .dataframe thead th {\n",
       "        text-align: right;\n",
       "    }\n",
       "</style>\n",
       "<table border=\"1\" class=\"dataframe\">\n",
       "  <thead>\n",
       "    <tr style=\"text-align: right;\">\n",
       "      <th></th>\n",
       "      <th>Disease</th>\n",
       "      <th>Month</th>\n",
       "      <th>Disease Group</th>\n",
       "      <th>Time</th>\n",
       "      <th>Count</th>\n",
       "      <th>Year</th>\n",
       "      <th>YTD</th>\n",
       "      <th>Month Median</th>\n",
       "      <th>YTD Median</th>\n",
       "    </tr>\n",
       "  </thead>\n",
       "  <tbody>\n",
       "    <tr>\n",
       "      <th>0</th>\n",
       "      <td>Streptococcus pneumoniae, Inv</td>\n",
       "      <td>January</td>\n",
       "      <td>Meningitis</td>\n",
       "      <td>1/1/2019</td>\n",
       "      <td>5</td>\n",
       "      <td>2019</td>\n",
       "      <td>5</td>\n",
       "      <td>5.0</td>\n",
       "      <td>5.0</td>\n",
       "    </tr>\n",
       "    <tr>\n",
       "      <th>1</th>\n",
       "      <td>Hepatitis A</td>\n",
       "      <td>January</td>\n",
       "      <td>Viral Hepatitis</td>\n",
       "      <td>1/1/2019</td>\n",
       "      <td>2</td>\n",
       "      <td>2019</td>\n",
       "      <td>2</td>\n",
       "      <td>0.0</td>\n",
       "      <td>0.0</td>\n",
       "    </tr>\n",
       "    <tr>\n",
       "      <th>2</th>\n",
       "      <td>Novel Coronavirus COVID-19</td>\n",
       "      <td>January</td>\n",
       "      <td>COVID19/MIS</td>\n",
       "      <td>1/1/2019</td>\n",
       "      <td>0</td>\n",
       "      <td>2019</td>\n",
       "      <td>0</td>\n",
       "      <td>1213.0</td>\n",
       "      <td>1213.0</td>\n",
       "    </tr>\n",
       "    <tr>\n",
       "      <th>3</th>\n",
       "      <td>Giardiasis</td>\n",
       "      <td>January</td>\n",
       "      <td>Foodborne</td>\n",
       "      <td>1/1/2019</td>\n",
       "      <td>5</td>\n",
       "      <td>2019</td>\n",
       "      <td>5</td>\n",
       "      <td>2.0</td>\n",
       "      <td>2.0</td>\n",
       "    </tr>\n",
       "    <tr>\n",
       "      <th>4</th>\n",
       "      <td>Hepatitis C, Chronic</td>\n",
       "      <td>January</td>\n",
       "      <td>Viral Hepatitis</td>\n",
       "      <td>1/1/2019</td>\n",
       "      <td>16</td>\n",
       "      <td>2019</td>\n",
       "      <td>16</td>\n",
       "      <td>11.0</td>\n",
       "      <td>11.0</td>\n",
       "    </tr>\n",
       "  </tbody>\n",
       "</table>\n",
       "</div>"
      ],
      "text/plain": [
       "                         Disease    Month    Disease Group      Time  Count   \n",
       "0  Streptococcus pneumoniae, Inv  January       Meningitis  1/1/2019      5  \\\n",
       "1                    Hepatitis A  January  Viral Hepatitis  1/1/2019      2   \n",
       "2     Novel Coronavirus COVID-19  January      COVID19/MIS  1/1/2019      0   \n",
       "3                     Giardiasis  January        Foodborne  1/1/2019      5   \n",
       "4           Hepatitis C, Chronic  January  Viral Hepatitis  1/1/2019     16   \n",
       "\n",
       "   Year  YTD  Month Median  YTD Median  \n",
       "0  2019    5           5.0         5.0  \n",
       "1  2019    2           0.0         0.0  \n",
       "2  2019    0        1213.0      1213.0  \n",
       "3  2019    5           2.0         2.0  \n",
       "4  2019   16          11.0        11.0  "
      ]
     },
     "execution_count": 30,
     "metadata": {},
     "output_type": "execute_result"
    }
   ],
   "source": [
    "dd.head()"
   ]
  },
  {
   "cell_type": "code",
   "execution_count": 31,
   "metadata": {},
   "outputs": [
    {
     "data": {
      "text/plain": [
       "array(['Meningitis', 'Viral Hepatitis', 'COVID19/MIS', 'Foodborne',\n",
       "       'Other', 'VPD', 'Vectorborne', 'AIDS/HIV', 'Tuberculosis',\n",
       "       'InfluenzaInfluenzaInfluenzaInfluenza', 'STD'], dtype=object)"
      ]
     },
     "execution_count": 31,
     "metadata": {},
     "output_type": "execute_result"
    }
   ],
   "source": [
    "dd['Disease Group'].unique()"
   ]
  },
  {
   "cell_type": "code",
   "execution_count": 32,
   "metadata": {},
   "outputs": [],
   "source": [
    "flu = dd.loc[dd['Disease Group'] == 'InfluenzaInfluenzaInfluenzaInfluenza']"
   ]
  },
  {
   "cell_type": "code",
   "execution_count": 33,
   "metadata": {},
   "outputs": [],
   "source": [
    "flu = flu[['Time','Count','Year']]"
   ]
  },
  {
   "cell_type": "code",
   "execution_count": 34,
   "metadata": {},
   "outputs": [],
   "source": [
    "flu['Time'] = pd.to_datetime(flu['Time'])"
   ]
  },
  {
   "cell_type": "code",
   "execution_count": 35,
   "metadata": {},
   "outputs": [],
   "source": [
    "flu['Count'] = flu['Count'].astype('int')"
   ]
  },
  {
   "cell_type": "code",
   "execution_count": 36,
   "metadata": {},
   "outputs": [],
   "source": [
    "flu['Month'] = flu['Time'].apply(lambda x: x.month)"
   ]
  },
  {
   "cell_type": "code",
   "execution_count": 37,
   "metadata": {},
   "outputs": [
    {
     "data": {
      "text/html": [
       "<div>\n",
       "<style scoped>\n",
       "    .dataframe tbody tr th:only-of-type {\n",
       "        vertical-align: middle;\n",
       "    }\n",
       "\n",
       "    .dataframe tbody tr th {\n",
       "        vertical-align: top;\n",
       "    }\n",
       "\n",
       "    .dataframe thead th {\n",
       "        text-align: right;\n",
       "    }\n",
       "</style>\n",
       "<table border=\"1\" class=\"dataframe\">\n",
       "  <thead>\n",
       "    <tr style=\"text-align: right;\">\n",
       "      <th></th>\n",
       "      <th>Time</th>\n",
       "      <th>Count</th>\n",
       "      <th>Year</th>\n",
       "      <th>Month</th>\n",
       "    </tr>\n",
       "  </thead>\n",
       "  <tbody>\n",
       "    <tr>\n",
       "      <th>22</th>\n",
       "      <td>2019-01-01</td>\n",
       "      <td>2823</td>\n",
       "      <td>2019</td>\n",
       "      <td>1</td>\n",
       "    </tr>\n",
       "    <tr>\n",
       "      <th>55</th>\n",
       "      <td>2019-02-01</td>\n",
       "      <td>1825</td>\n",
       "      <td>2019</td>\n",
       "      <td>2</td>\n",
       "    </tr>\n",
       "    <tr>\n",
       "      <th>88</th>\n",
       "      <td>2019-03-01</td>\n",
       "      <td>7623</td>\n",
       "      <td>2019</td>\n",
       "      <td>3</td>\n",
       "    </tr>\n",
       "    <tr>\n",
       "      <th>121</th>\n",
       "      <td>2019-04-01</td>\n",
       "      <td>2839</td>\n",
       "      <td>2019</td>\n",
       "      <td>4</td>\n",
       "    </tr>\n",
       "    <tr>\n",
       "      <th>154</th>\n",
       "      <td>2019-05-01</td>\n",
       "      <td>4092</td>\n",
       "      <td>2019</td>\n",
       "      <td>5</td>\n",
       "    </tr>\n",
       "  </tbody>\n",
       "</table>\n",
       "</div>"
      ],
      "text/plain": [
       "          Time  Count  Year  Month\n",
       "22  2019-01-01   2823  2019      1\n",
       "55  2019-02-01   1825  2019      2\n",
       "88  2019-03-01   7623  2019      3\n",
       "121 2019-04-01   2839  2019      4\n",
       "154 2019-05-01   4092  2019      5"
      ]
     },
     "execution_count": 37,
     "metadata": {},
     "output_type": "execute_result"
    }
   ],
   "source": [
    "flu.head()"
   ]
  },
  {
   "cell_type": "code",
   "execution_count": 38,
   "metadata": {},
   "outputs": [],
   "source": [
    "df = df.reset_index()"
   ]
  },
  {
   "cell_type": "code",
   "execution_count": 39,
   "metadata": {},
   "outputs": [
    {
     "data": {
      "text/plain": [
       "0      2004-1-01\n",
       "1      2004-2-01\n",
       "2      2004-3-01\n",
       "3      2004-4-01\n",
       "4      2004-5-01\n",
       "         ...    \n",
       "231    2023-4-01\n",
       "232    2023-5-01\n",
       "233    2023-6-01\n",
       "234    2023-7-01\n",
       "235    2023-8-01\n",
       "Length: 236, dtype: object"
      ]
     },
     "execution_count": 39,
     "metadata": {},
     "output_type": "execute_result"
    }
   ],
   "source": [
    "df['Year'].astype('str') + '-' + df['Month'].astype('str') + '-01'"
   ]
  },
  {
   "cell_type": "code",
   "execution_count": 40,
   "metadata": {},
   "outputs": [
    {
     "data": {
      "text/plain": [
       "0     2004-01-01\n",
       "1     2004-02-01\n",
       "2     2004-03-01\n",
       "3     2004-04-01\n",
       "4     2004-05-01\n",
       "         ...    \n",
       "231   2023-04-01\n",
       "232   2023-05-01\n",
       "233   2023-06-01\n",
       "234   2023-07-01\n",
       "235   2023-08-01\n",
       "Length: 236, dtype: datetime64[ns]"
      ]
     },
     "execution_count": 40,
     "metadata": {},
     "output_type": "execute_result"
    }
   ],
   "source": [
    "pd.to_datetime(df['Year'].astype('str') + '-' + df['Month'].astype('str') + '-01')"
   ]
  },
  {
   "cell_type": "code",
   "execution_count": 41,
   "metadata": {},
   "outputs": [],
   "source": [
    "df['Time'] = pd.to_datetime(df['Year'].astype('str') + '-' + df['Month'].astype('str') + '-01')"
   ]
  },
  {
   "cell_type": "code",
   "execution_count": 42,
   "metadata": {},
   "outputs": [
    {
     "data": {
      "text/html": [
       "<div>\n",
       "<style scoped>\n",
       "    .dataframe tbody tr th:only-of-type {\n",
       "        vertical-align: middle;\n",
       "    }\n",
       "\n",
       "    .dataframe tbody tr th {\n",
       "        vertical-align: top;\n",
       "    }\n",
       "\n",
       "    .dataframe thead th {\n",
       "        text-align: right;\n",
       "    }\n",
       "</style>\n",
       "<table border=\"1\" class=\"dataframe\">\n",
       "  <thead>\n",
       "    <tr style=\"text-align: right;\">\n",
       "      <th></th>\n",
       "      <th>Year</th>\n",
       "      <th>Month</th>\n",
       "      <th>count</th>\n",
       "      <th>scale</th>\n",
       "      <th>Time</th>\n",
       "    </tr>\n",
       "  </thead>\n",
       "  <tbody>\n",
       "    <tr>\n",
       "      <th>0</th>\n",
       "      <td>2004</td>\n",
       "      <td>1</td>\n",
       "      <td>19</td>\n",
       "      <td>0.19</td>\n",
       "      <td>2004-01-01</td>\n",
       "    </tr>\n",
       "    <tr>\n",
       "      <th>1</th>\n",
       "      <td>2004</td>\n",
       "      <td>2</td>\n",
       "      <td>15</td>\n",
       "      <td>0.15</td>\n",
       "      <td>2004-02-01</td>\n",
       "    </tr>\n",
       "    <tr>\n",
       "      <th>2</th>\n",
       "      <td>2004</td>\n",
       "      <td>3</td>\n",
       "      <td>0</td>\n",
       "      <td>0.00</td>\n",
       "      <td>2004-03-01</td>\n",
       "    </tr>\n",
       "    <tr>\n",
       "      <th>3</th>\n",
       "      <td>2004</td>\n",
       "      <td>4</td>\n",
       "      <td>0</td>\n",
       "      <td>0.00</td>\n",
       "      <td>2004-04-01</td>\n",
       "    </tr>\n",
       "    <tr>\n",
       "      <th>4</th>\n",
       "      <td>2004</td>\n",
       "      <td>5</td>\n",
       "      <td>24</td>\n",
       "      <td>0.24</td>\n",
       "      <td>2004-05-01</td>\n",
       "    </tr>\n",
       "  </tbody>\n",
       "</table>\n",
       "</div>"
      ],
      "text/plain": [
       "   Year  Month  count  scale       Time\n",
       "0  2004      1     19   0.19 2004-01-01\n",
       "1  2004      2     15   0.15 2004-02-01\n",
       "2  2004      3      0   0.00 2004-03-01\n",
       "3  2004      4      0   0.00 2004-04-01\n",
       "4  2004      5     24   0.24 2004-05-01"
      ]
     },
     "execution_count": 42,
     "metadata": {},
     "output_type": "execute_result"
    }
   ],
   "source": [
    "df.head()"
   ]
  },
  {
   "cell_type": "code",
   "execution_count": 43,
   "metadata": {},
   "outputs": [
    {
     "data": {
      "text/html": [
       "<div>\n",
       "<style scoped>\n",
       "    .dataframe tbody tr th:only-of-type {\n",
       "        vertical-align: middle;\n",
       "    }\n",
       "\n",
       "    .dataframe tbody tr th {\n",
       "        vertical-align: top;\n",
       "    }\n",
       "\n",
       "    .dataframe thead th {\n",
       "        text-align: right;\n",
       "    }\n",
       "</style>\n",
       "<table border=\"1\" class=\"dataframe\">\n",
       "  <thead>\n",
       "    <tr style=\"text-align: right;\">\n",
       "      <th></th>\n",
       "      <th>Time</th>\n",
       "      <th>Count</th>\n",
       "      <th>Year</th>\n",
       "      <th>Month</th>\n",
       "    </tr>\n",
       "  </thead>\n",
       "  <tbody>\n",
       "    <tr>\n",
       "      <th>22</th>\n",
       "      <td>2019-01-01</td>\n",
       "      <td>2823</td>\n",
       "      <td>2019</td>\n",
       "      <td>1</td>\n",
       "    </tr>\n",
       "    <tr>\n",
       "      <th>55</th>\n",
       "      <td>2019-02-01</td>\n",
       "      <td>1825</td>\n",
       "      <td>2019</td>\n",
       "      <td>2</td>\n",
       "    </tr>\n",
       "    <tr>\n",
       "      <th>88</th>\n",
       "      <td>2019-03-01</td>\n",
       "      <td>7623</td>\n",
       "      <td>2019</td>\n",
       "      <td>3</td>\n",
       "    </tr>\n",
       "    <tr>\n",
       "      <th>121</th>\n",
       "      <td>2019-04-01</td>\n",
       "      <td>2839</td>\n",
       "      <td>2019</td>\n",
       "      <td>4</td>\n",
       "    </tr>\n",
       "    <tr>\n",
       "      <th>154</th>\n",
       "      <td>2019-05-01</td>\n",
       "      <td>4092</td>\n",
       "      <td>2019</td>\n",
       "      <td>5</td>\n",
       "    </tr>\n",
       "  </tbody>\n",
       "</table>\n",
       "</div>"
      ],
      "text/plain": [
       "          Time  Count  Year  Month\n",
       "22  2019-01-01   2823  2019      1\n",
       "55  2019-02-01   1825  2019      2\n",
       "88  2019-03-01   7623  2019      3\n",
       "121 2019-04-01   2839  2019      4\n",
       "154 2019-05-01   4092  2019      5"
      ]
     },
     "execution_count": 43,
     "metadata": {},
     "output_type": "execute_result"
    }
   ],
   "source": [
    "flu.head()"
   ]
  },
  {
   "cell_type": "code",
   "execution_count": 44,
   "metadata": {},
   "outputs": [],
   "source": [
    "flu['scale'] = preprocessing.minmax_scale(flu['Count'])"
   ]
  },
  {
   "cell_type": "code",
   "execution_count": 45,
   "metadata": {},
   "outputs": [
    {
     "data": {
      "text/html": [
       "<div>\n",
       "<style scoped>\n",
       "    .dataframe tbody tr th:only-of-type {\n",
       "        vertical-align: middle;\n",
       "    }\n",
       "\n",
       "    .dataframe tbody tr th {\n",
       "        vertical-align: top;\n",
       "    }\n",
       "\n",
       "    .dataframe thead th {\n",
       "        text-align: right;\n",
       "    }\n",
       "</style>\n",
       "<table border=\"1\" class=\"dataframe\">\n",
       "  <thead>\n",
       "    <tr style=\"text-align: right;\">\n",
       "      <th></th>\n",
       "      <th>Time</th>\n",
       "      <th>Count</th>\n",
       "      <th>Year</th>\n",
       "      <th>Month</th>\n",
       "      <th>scale</th>\n",
       "    </tr>\n",
       "  </thead>\n",
       "  <tbody>\n",
       "    <tr>\n",
       "      <th>22</th>\n",
       "      <td>2019-01-01</td>\n",
       "      <td>2823</td>\n",
       "      <td>2019</td>\n",
       "      <td>1</td>\n",
       "      <td>0.275173</td>\n",
       "    </tr>\n",
       "    <tr>\n",
       "      <th>55</th>\n",
       "      <td>2019-02-01</td>\n",
       "      <td>1825</td>\n",
       "      <td>2019</td>\n",
       "      <td>2</td>\n",
       "      <td>0.177893</td>\n",
       "    </tr>\n",
       "    <tr>\n",
       "      <th>88</th>\n",
       "      <td>2019-03-01</td>\n",
       "      <td>7623</td>\n",
       "      <td>2019</td>\n",
       "      <td>3</td>\n",
       "      <td>0.743055</td>\n",
       "    </tr>\n",
       "    <tr>\n",
       "      <th>121</th>\n",
       "      <td>2019-04-01</td>\n",
       "      <td>2839</td>\n",
       "      <td>2019</td>\n",
       "      <td>4</td>\n",
       "      <td>0.276733</td>\n",
       "    </tr>\n",
       "    <tr>\n",
       "      <th>154</th>\n",
       "      <td>2019-05-01</td>\n",
       "      <td>4092</td>\n",
       "      <td>2019</td>\n",
       "      <td>5</td>\n",
       "      <td>0.398869</td>\n",
       "    </tr>\n",
       "  </tbody>\n",
       "</table>\n",
       "</div>"
      ],
      "text/plain": [
       "          Time  Count  Year  Month     scale\n",
       "22  2019-01-01   2823  2019      1  0.275173\n",
       "55  2019-02-01   1825  2019      2  0.177893\n",
       "88  2019-03-01   7623  2019      3  0.743055\n",
       "121 2019-04-01   2839  2019      4  0.276733\n",
       "154 2019-05-01   4092  2019      5  0.398869"
      ]
     },
     "execution_count": 45,
     "metadata": {},
     "output_type": "execute_result"
    }
   ],
   "source": [
    "flu.head()"
   ]
  },
  {
   "cell_type": "code",
   "execution_count": 46,
   "metadata": {},
   "outputs": [],
   "source": [
    "import seaborn as sns"
   ]
  },
  {
   "cell_type": "code",
   "execution_count": 47,
   "metadata": {},
   "outputs": [
    {
     "data": {
      "text/plain": [
       "<Axes: xlabel='Time', ylabel='scale'>"
      ]
     },
     "execution_count": 47,
     "metadata": {},
     "output_type": "execute_result"
    },
    {
     "data": {
      "image/png": "[encoded data removed]",
      "text/plain": [
       "<Figure size 640x480 with 1 Axes>"
      ]
     },
     "metadata": {},
     "output_type": "display_data"
    }
   ],
   "source": [
    "sns.lineplot(x=flu['Time'],y=flu['scale'])"
   ]
  },
  {
   "cell_type": "code",
   "execution_count": 48,
   "metadata": {},
   "outputs": [
    {
     "data": {
      "text/plain": [
       "<Axes: xlabel='Time', ylabel='scale'>"
      ]
     },
     "execution_count": 48,
     "metadata": {},
     "output_type": "execute_result"
    },
    {
     "data": {
      "image/png": "[encoded data removed]",
      "text/plain": [
       "<Figure size 640x480 with 1 Axes>"
      ]
     },
     "metadata": {},
     "output_type": "display_data"
    }
   ],
   "source": [
    "sns.lineplot(x=df['Time'],y=df['scale'])"
   ]
  },
  {
   "cell_type": "code",
   "execution_count": 49,
   "metadata": {},
   "outputs": [
    {
     "data": {
      "text/plain": [
       "22     2019-01-01\n",
       "55     2019-02-01\n",
       "88     2019-03-01\n",
       "121    2019-04-01\n",
       "154    2019-05-01\n",
       "          ...    \n",
       "3256   2017-08-01\n",
       "3289   2017-09-01\n",
       "3322   2017-10-01\n",
       "3355   2017-11-01\n",
       "3388   2017-12-01\n",
       "Name: Time, Length: 103, dtype: datetime64[ns]"
      ]
     },
     "execution_count": 49,
     "metadata": {},
     "output_type": "execute_result"
    }
   ],
   "source": [
    "flu['Time']"
   ]
  },
  {
   "cell_type": "code",
   "execution_count": 50,
   "metadata": {},
   "outputs": [
    {
     "data": {
      "text/plain": [
       "0     2004-01-01\n",
       "1     2004-02-01\n",
       "2     2004-03-01\n",
       "3     2004-04-01\n",
       "4     2004-05-01\n",
       "         ...    \n",
       "231   2023-04-01\n",
       "232   2023-05-01\n",
       "233   2023-06-01\n",
       "234   2023-07-01\n",
       "235   2023-08-01\n",
       "Name: Time, Length: 236, dtype: datetime64[ns]"
      ]
     },
     "execution_count": 50,
     "metadata": {},
     "output_type": "execute_result"
    }
   ],
   "source": [
    "df['Time']"
   ]
  },
  {
   "cell_type": "code",
   "execution_count": 51,
   "metadata": {},
   "outputs": [
    {
     "data": {
      "text/plain": [
       "Timestamp('2016-01-01 00:00:00')"
      ]
     },
     "execution_count": 51,
     "metadata": {},
     "output_type": "execute_result"
    }
   ],
   "source": [
    "flu['Time'].min()"
   ]
  },
  {
   "cell_type": "code",
   "execution_count": 52,
   "metadata": {},
   "outputs": [],
   "source": [
    "df = df.loc[df['Time']>=flu['Time'].min()]"
   ]
  },
  {
   "cell_type": "code",
   "execution_count": 53,
   "metadata": {},
   "outputs": [
    {
     "data": {
      "text/plain": [
       "datetime.datetime(2020, 1, 1, 0, 0)"
      ]
     },
     "execution_count": 53,
     "metadata": {},
     "output_type": "execute_result"
    }
   ],
   "source": [
    "datetime(year=2020, month=1, day=1)"
   ]
  },
  {
   "cell_type": "code",
   "execution_count": 54,
   "metadata": {},
   "outputs": [
    {
     "data": {
      "text/plain": [
       "<Axes: xlabel='Time', ylabel='scale'>"
      ]
     },
     "execution_count": 54,
     "metadata": {},
     "output_type": "execute_result"
    },
    {
     "data": {
      "image/png": "[encoded data removed]",
      "text/plain": [
       "<Figure size 640x480 with 1 Axes>"
      ]
     },
     "metadata": {},
     "output_type": "display_data"
    }
   ],
   "source": [
    "sns.lineplot(x=df.loc[df['Time']<= datetime(year=2020, month=1, day=1)]['Time'],y=df.loc[df['Time']<= datetime(year=2020, month=1, day=1)]['scale'])"
   ]
  },
  {
   "cell_type": "code",
   "execution_count": 55,
   "metadata": {},
   "outputs": [
    {
     "data": {
      "text/plain": [
       "<Axes: xlabel='Time', ylabel='scale'>"
      ]
     },
     "execution_count": 55,
     "metadata": {},
     "output_type": "execute_result"
    },
    {
     "data": {
      "image/png": "[encoded data removed]",
      "text/plain": [
       "<Figure size 640x480 with 1 Axes>"
      ]
     },
     "metadata": {},
     "output_type": "display_data"
    }
   ],
   "source": [
    "sns.lineplot(x=flu.loc[flu['Time']<= datetime(year=2020, month=1, day=1)]['Time'],y=flu.loc[flu['Time']<= datetime(year=2020, month=1, day=1)]['scale'])"
   ]
  },
  {
   "cell_type": "code",
   "execution_count": 56,
   "metadata": {},
   "outputs": [],
   "source": [
    "import scipy"
   ]
  },
  {
   "cell_type": "code",
   "execution_count": 57,
   "metadata": {},
   "outputs": [],
   "source": [
    "import statsmodels.api as sm\n",
    "from statsmodels.formula.api import ols"
   ]
  },
  {
   "cell_type": "code",
   "execution_count": 59,
   "metadata": {},
   "outputs": [],
   "source": [
    "flu.rename(columns={'scale':'flu'},inplace=True)"
   ]
  },
  {
   "cell_type": "code",
   "execution_count": 62,
   "metadata": {},
   "outputs": [],
   "source": [
    "df.rename(columns={'scale':'google'},inplace=True)"
   ]
  },
  {
   "cell_type": "code",
   "execution_count": 66,
   "metadata": {},
   "outputs": [],
   "source": [
    "dff = pd.DataFrame()"
   ]
  },
  {
   "cell_type": "code",
   "execution_count": 65,
   "metadata": {},
   "outputs": [
    {
     "data": {
      "text/plain": [
       "Time\n",
       "2019-01-01    0.275173\n",
       "2019-02-01    0.177893\n",
       "2019-03-01    0.743055\n",
       "2019-04-01    0.276733\n",
       "2019-05-01    0.398869\n",
       "                ...   \n",
       "2017-08-01    0.006336\n",
       "2017-09-01    0.312409\n",
       "2017-10-01    0.353348\n",
       "2017-11-01    0.445170\n",
       "2017-12-01    0.510479\n",
       "Name: flu, Length: 103, dtype: float64"
      ]
     },
     "execution_count": 65,
     "metadata": {},
     "output_type": "execute_result"
    }
   ],
   "source": [
    "flu.set_index('Time')['flu']"
   ]
  },
  {
   "cell_type": "code",
   "execution_count": 67,
   "metadata": {},
   "outputs": [],
   "source": [
    "dff['flu'] = flu.set_index('Time')['flu'] "
   ]
  },
  {
   "cell_type": "code",
   "execution_count": 68,
   "metadata": {},
   "outputs": [],
   "source": [
    "dff['google'] = df.set_index('Time')['google']"
   ]
  },
  {
   "cell_type": "code",
   "execution_count": 69,
   "metadata": {},
   "outputs": [
    {
     "data": {
      "text/html": [
       "<div>\n",
       "<style scoped>\n",
       "    .dataframe tbody tr th:only-of-type {\n",
       "        vertical-align: middle;\n",
       "    }\n",
       "\n",
       "    .dataframe tbody tr th {\n",
       "        vertical-align: top;\n",
       "    }\n",
       "\n",
       "    .dataframe thead th {\n",
       "        text-align: right;\n",
       "    }\n",
       "</style>\n",
       "<table border=\"1\" class=\"dataframe\">\n",
       "  <thead>\n",
       "    <tr style=\"text-align: right;\">\n",
       "      <th></th>\n",
       "      <th>flu</th>\n",
       "      <th>google</th>\n",
       "    </tr>\n",
       "    <tr>\n",
       "      <th>Time</th>\n",
       "      <th></th>\n",
       "      <th></th>\n",
       "    </tr>\n",
       "  </thead>\n",
       "  <tbody>\n",
       "    <tr>\n",
       "      <th>2019-01-01</th>\n",
       "      <td>0.275173</td>\n",
       "      <td>0.38</td>\n",
       "    </tr>\n",
       "    <tr>\n",
       "      <th>2019-02-01</th>\n",
       "      <td>0.177893</td>\n",
       "      <td>0.33</td>\n",
       "    </tr>\n",
       "    <tr>\n",
       "      <th>2019-03-01</th>\n",
       "      <td>0.743055</td>\n",
       "      <td>0.43</td>\n",
       "    </tr>\n",
       "    <tr>\n",
       "      <th>2019-04-01</th>\n",
       "      <td>0.276733</td>\n",
       "      <td>0.31</td>\n",
       "    </tr>\n",
       "    <tr>\n",
       "      <th>2019-05-01</th>\n",
       "      <td>0.398869</td>\n",
       "      <td>0.21</td>\n",
       "    </tr>\n",
       "    <tr>\n",
       "      <th>...</th>\n",
       "      <td>...</td>\n",
       "      <td>...</td>\n",
       "    </tr>\n",
       "    <tr>\n",
       "      <th>2017-08-01</th>\n",
       "      <td>0.006336</td>\n",
       "      <td>0.12</td>\n",
       "    </tr>\n",
       "    <tr>\n",
       "      <th>2017-09-01</th>\n",
       "      <td>0.312409</td>\n",
       "      <td>0.26</td>\n",
       "    </tr>\n",
       "    <tr>\n",
       "      <th>2017-10-01</th>\n",
       "      <td>0.353348</td>\n",
       "      <td>0.24</td>\n",
       "    </tr>\n",
       "    <tr>\n",
       "      <th>2017-11-01</th>\n",
       "      <td>0.445170</td>\n",
       "      <td>0.29</td>\n",
       "    </tr>\n",
       "    <tr>\n",
       "      <th>2017-12-01</th>\n",
       "      <td>0.510479</td>\n",
       "      <td>0.40</td>\n",
       "    </tr>\n",
       "  </tbody>\n",
       "</table>\n",
       "<p>103 rows × 2 columns</p>\n",
       "</div>"
      ],
      "text/plain": [
       "                 flu  google\n",
       "Time                        \n",
       "2019-01-01  0.275173    0.38\n",
       "2019-02-01  0.177893    0.33\n",
       "2019-03-01  0.743055    0.43\n",
       "2019-04-01  0.276733    0.31\n",
       "2019-05-01  0.398869    0.21\n",
       "...              ...     ...\n",
       "2017-08-01  0.006336    0.12\n",
       "2017-09-01  0.312409    0.26\n",
       "2017-10-01  0.353348    0.24\n",
       "2017-11-01  0.445170    0.29\n",
       "2017-12-01  0.510479    0.40\n",
       "\n",
       "[103 rows x 2 columns]"
      ]
     },
     "execution_count": 69,
     "metadata": {},
     "output_type": "execute_result"
    }
   ],
   "source": [
    "dff"
   ]
  },
  {
   "cell_type": "code",
   "execution_count": 72,
   "metadata": {},
   "outputs": [],
   "source": [
    "F = dff.flu\n",
    "G = dff.google"
   ]
  },
  {
   "cell_type": "code",
   "execution_count": 73,
   "metadata": {},
   "outputs": [
    {
     "name": "stdout",
     "output_type": "stream",
     "text": [
      "                            OLS Regression Results                            \n",
      "==============================================================================\n",
      "Dep. Variable:                      F   R-squared:                       0.679\n",
      "Model:                            OLS   Adj. R-squared:                  0.473\n",
      "Method:                 Least Squares   F-statistic:                     3.285\n",
      "Date:                Tue, 22 Aug 2023   Prob (F-statistic):           1.30e-05\n",
      "Time:                        16:32:05   Log-Likelihood:                 44.399\n",
      "No. Observations:                 103   AIC:                            -6.797\n",
      "Df Residuals:                      62   BIC:                             101.2\n",
      "Df Model:                          40                                         \n",
      "Covariance Type:            nonrobust                                         \n",
      "===============================================================================================\n",
      "                                  coef    std err          t      P>|t|      [0.025      0.975]\n",
      "-----------------------------------------------------------------------------------------------\n",
      "Intercept                       0.0045      0.143      0.032      0.975      -0.282       0.291\n",
      "C(G)[T.0.13]                   -0.0038      0.248     -0.015      0.988      -0.500       0.492\n",
      "C(G)[T.0.14]                    0.0776      0.248      0.313      0.755      -0.419       0.574\n",
      "C(G)[T.0.15]                   -0.0012      0.185     -0.006      0.995      -0.371       0.369\n",
      "C(G)[T.0.16]                    0.0503      0.176      0.287      0.775      -0.301       0.401\n",
      "C(G)[T.0.17]                    0.2089      0.185      1.129      0.263      -0.161       0.579\n",
      "C(G)[T.0.18]                    0.0628      0.165      0.379      0.706      -0.268       0.394\n",
      "C(G)[T.0.19]                    0.1590      0.176      0.906      0.368      -0.192       0.510\n",
      "C(G)[T.0.2]                     0.0236      0.203      0.116      0.908      -0.382       0.429\n",
      "C(G)[T.0.21]                    0.0953      0.176      0.543      0.589      -0.256       0.446\n",
      "C(G)[T.0.22]                    0.2138      0.162      1.316      0.193      -0.111       0.539\n",
      "C(G)[T.0.23]                    0.1556      0.165      0.940      0.351      -0.175       0.486\n",
      "C(G)[T.0.24]                    0.3488      0.248      1.405      0.165      -0.147       0.845\n",
      "C(G)[T.0.25]                    0.1465      0.170      0.864      0.391      -0.192       0.485\n",
      "C(G)[T.0.26]                    0.2140      0.203      1.056      0.295      -0.191       0.619\n",
      "C(G)[T.0.27]                    0.4083      0.185      2.207      0.031       0.039       0.778\n",
      "C(G)[T.0.28]                    0.0961      0.176      0.547      0.586      -0.255       0.447\n",
      "C(G)[T.0.29]                    0.2224      0.203      1.098      0.277      -0.183       0.628\n",
      "C(G)[T.0.3]                     0.2581      0.176      1.471      0.146      -0.093       0.609\n",
      "C(G)[T.0.31]                    0.4047      0.165      2.446      0.017       0.074       0.736\n",
      "C(G)[T.0.32]                    0.2853      0.176      1.625      0.109      -0.066       0.636\n",
      "C(G)[T.0.33]                    0.1734      0.248      0.698      0.488      -0.323       0.670\n",
      "C(G)[T.0.34]                    0.5048      0.185      2.728      0.008       0.135       0.875\n",
      "C(G)[T.0.35000000000000003]     0.2247      0.248      0.905      0.369      -0.271       0.721\n",
      "C(G)[T.0.36]                    0.3699      0.185      2.000      0.050       0.000       0.740\n",
      "C(G)[T.0.37]                    0.0182      0.248      0.073      0.942      -0.478       0.514\n",
      "C(G)[T.0.38]                    0.6116      0.203      3.018      0.004       0.206       1.017\n",
      "C(G)[T.0.39]                   -0.0027      0.248     -0.011      0.991      -0.499       0.493\n",
      "C(G)[T.0.4]                     0.4037      0.185      2.182      0.033       0.034       0.773\n",
      "C(G)[T.0.42]                    0.0003      0.248      0.001      0.999      -0.496       0.497\n",
      "C(G)[T.0.43]                    0.7385      0.248      2.975      0.004       0.242       1.235\n",
      "C(G)[T.0.46]                   -0.0044      0.248     -0.018      0.986      -0.501       0.492\n",
      "C(G)[T.0.47000000000000003]     0.0102      0.248      0.041      0.967      -0.486       0.506\n",
      "C(G)[T.0.48]                    0.5359      0.248      2.159      0.035       0.040       1.032\n",
      "C(G)[T.0.49]                    0.9955      0.248      4.011      0.000       0.499       1.492\n",
      "C(G)[T.0.58]                    0.9074      0.248      3.656      0.001       0.411       1.404\n",
      "C(G)[T.0.61]                    0.6403      0.248      2.579      0.012       0.144       1.136\n",
      "C(G)[T.0.66]                    0.9750      0.203      4.811      0.000       0.570       1.380\n",
      "C(G)[T.0.67]                    0.4096      0.248      1.650      0.104      -0.087       0.906\n",
      "C(G)[T.0.8300000000000001]      0.7353      0.203      3.628      0.001       0.330       1.140\n",
      "C(G)[T.1.0]                     0.0318      0.248      0.128      0.898      -0.464       0.528\n",
      "==============================================================================\n",
      "Omnibus:                        1.040   Durbin-Watson:                   1.076\n",
      "Prob(Omnibus):                  0.595   Jarque-Bera (JB):                0.556\n",
      "Skew:                           0.038   Prob(JB):                        0.757\n",
      "Kurtosis:                       3.352   Cond. No.                         47.4\n",
      "==============================================================================\n",
      "\n",
      "Notes:\n",
      "[1] Standard Errors assume that the covariance matrix of the errors is correctly specified.\n"
     ]
    }
   ],
   "source": [
    "formula = \"F ~ C(G)\"\n",
    "lm = ols(formula, dff).fit()\n",
    "print(lm.summary())"
   ]
  },
  {
   "cell_type": "code",
   "execution_count": 75,
   "metadata": {},
   "outputs": [],
   "source": [
    "dff.to_csv('google_v_flu.csv')"
   ]
  },
  {
   "cell_type": "code",
   "execution_count": null,
   "metadata": {},
   "outputs": [],
   "source": []
  }
 ],
 "metadata": {
  "kernelspec": {
   "display_name": ".venv",
   "language": "python",
   "name": "python3"
  },
  "language_info": {
   "codemirror_mode": {
    "name": "ipython",
    "version": 3
   },
   "file_extension": ".py",
   "mimetype": "text/x-python",
   "name": "python",
   "nbconvert_exporter": "python",
   "pygments_lexer": "ipython3",
   "version": "3.11.4"
  },
  "orig_nbformat": 4
 },
 "nbformat": 4,
 "nbformat_minor": 2
}
